{
 "cells": [
  {
   "cell_type": "markdown",
   "metadata": {},
   "source": [
    "# Humana Healthcare Analytics Code"
   ]
  },
  {
   "cell_type": "code",
   "execution_count": 1,
   "metadata": {},
   "outputs": [],
   "source": [
    "#import packages\n",
    "# author- Akash Gandhi\n",
    "import pandas as pd\n",
    "import numpy as np\n",
    "import seaborn as sns\n",
    "import xgboost as xgb\n",
    "import matplotlib.pyplot as plt"
   ]
  },
  {
   "cell_type": "code",
   "execution_count": 2,
   "metadata": {},
   "outputs": [],
   "source": [
    "#load dataset\n",
    "df=pd.read_csv(r\"C:\\Users\\gandh\\Downloads\\Datasets\\humana\\TAMU_FINAL_DATASET_2018\\TAMU_FINAL_DATASET_2018.csv\")"
   ]
  },
  {
   "cell_type": "code",
   "execution_count": 3,
   "metadata": {},
   "outputs": [
    {
     "data": {
      "text/plain": [
       "(100000, 448)"
      ]
     },
     "execution_count": 3,
     "metadata": {},
     "output_type": "execute_result"
    }
   ],
   "source": [
    "df.shape"
   ]
  },
  {
   "cell_type": "code",
   "execution_count": 4,
   "metadata": {},
   "outputs": [
    {
     "name": "stdout",
     "output_type": "stream",
     "text": [
      "<class 'pandas.core.frame.DataFrame'>\n",
      "RangeIndex: 100000 entries, 0 to 99999\n",
      "Columns: 448 entries, ID to STATIN_ELIG\n",
      "dtypes: float64(20), int64(417), object(11)\n",
      "memory usage: 341.8+ MB\n"
     ]
    }
   ],
   "source": [
    "df.info()"
   ]
  },
  {
   "cell_type": "code",
   "execution_count": 5,
   "metadata": {},
   "outputs": [
    {
     "data": {
      "text/html": [
       "<div>\n",
       "<style scoped>\n",
       "    .dataframe tbody tr th:only-of-type {\n",
       "        vertical-align: middle;\n",
       "    }\n",
       "\n",
       "    .dataframe tbody tr th {\n",
       "        vertical-align: top;\n",
       "    }\n",
       "\n",
       "    .dataframe thead th {\n",
       "        text-align: right;\n",
       "    }\n",
       "</style>\n",
       "<table border=\"1\" class=\"dataframe\">\n",
       "  <thead>\n",
       "    <tr style=\"text-align: right;\">\n",
       "      <th></th>\n",
       "      <th>ID</th>\n",
       "      <th>AGE</th>\n",
       "      <th>SEX_CD</th>\n",
       "      <th>AMI_FLAG</th>\n",
       "      <th>ESRD_IND</th>\n",
       "      <th>HOSPICE_IND</th>\n",
       "      <th>ORIG_REAS_ENTITLE_CD</th>\n",
       "      <th>RECON_MA_RISK_SCORE_NBR</th>\n",
       "      <th>RECON_RX_RISK_SCORE_NBR</th>\n",
       "      <th>PCP_ASSIGNMENT</th>\n",
       "      <th>...</th>\n",
       "      <th>COL</th>\n",
       "      <th>COL_GAP</th>\n",
       "      <th>AMM</th>\n",
       "      <th>AMM_GAP</th>\n",
       "      <th>DIAB_PASS</th>\n",
       "      <th>ACE_PASS</th>\n",
       "      <th>STATIN_PASS</th>\n",
       "      <th>ACE_ELIG</th>\n",
       "      <th>DIAB_ELIG</th>\n",
       "      <th>STATIN_ELIG</th>\n",
       "    </tr>\n",
       "  </thead>\n",
       "  <tbody>\n",
       "    <tr>\n",
       "      <th>0</th>\n",
       "      <td>1</td>\n",
       "      <td>77</td>\n",
       "      <td>F</td>\n",
       "      <td>0</td>\n",
       "      <td>N</td>\n",
       "      <td>N</td>\n",
       "      <td>0.0</td>\n",
       "      <td>0.424</td>\n",
       "      <td>0.402</td>\n",
       "      <td>MEMBER SELECTED</td>\n",
       "      <td>...</td>\n",
       "      <td>0</td>\n",
       "      <td>0</td>\n",
       "      <td>0</td>\n",
       "      <td>0</td>\n",
       "      <td>0</td>\n",
       "      <td>0</td>\n",
       "      <td>0</td>\n",
       "      <td>0</td>\n",
       "      <td>0</td>\n",
       "      <td>0</td>\n",
       "    </tr>\n",
       "  </tbody>\n",
       "</table>\n",
       "<p>1 rows × 448 columns</p>\n",
       "</div>"
      ],
      "text/plain": [
       "   ID  AGE SEX_CD  AMI_FLAG ESRD_IND HOSPICE_IND  ORIG_REAS_ENTITLE_CD  \\\n",
       "0   1   77      F         0        N           N                   0.0   \n",
       "\n",
       "   RECON_MA_RISK_SCORE_NBR  RECON_RX_RISK_SCORE_NBR   PCP_ASSIGNMENT  \\\n",
       "0                    0.424                    0.402  MEMBER SELECTED   \n",
       "\n",
       "      ...      COL COL_GAP AMM AMM_GAP DIAB_PASS  ACE_PASS  STATIN_PASS  \\\n",
       "0     ...        0       0   0       0         0         0            0   \n",
       "\n",
       "   ACE_ELIG  DIAB_ELIG  STATIN_ELIG  \n",
       "0         0          0            0  \n",
       "\n",
       "[1 rows x 448 columns]"
      ]
     },
     "execution_count": 5,
     "metadata": {},
     "output_type": "execute_result"
    }
   ],
   "source": [
    "df.head(1)"
   ]
  },
  {
   "cell_type": "code",
   "execution_count": 6,
   "metadata": {},
   "outputs": [
    {
     "data": {
      "text/html": [
       "<div>\n",
       "<style scoped>\n",
       "    .dataframe tbody tr th:only-of-type {\n",
       "        vertical-align: middle;\n",
       "    }\n",
       "\n",
       "    .dataframe tbody tr th {\n",
       "        vertical-align: top;\n",
       "    }\n",
       "\n",
       "    .dataframe thead th {\n",
       "        text-align: right;\n",
       "    }\n",
       "</style>\n",
       "<table border=\"1\" class=\"dataframe\">\n",
       "  <thead>\n",
       "    <tr style=\"text-align: right;\">\n",
       "      <th></th>\n",
       "      <th>ID</th>\n",
       "      <th>AGE</th>\n",
       "      <th>AMI_FLAG</th>\n",
       "      <th>ORIG_REAS_ENTITLE_CD</th>\n",
       "      <th>RECON_MA_RISK_SCORE_NBR</th>\n",
       "      <th>RECON_RX_RISK_SCORE_NBR</th>\n",
       "      <th>CON_VISIT_04_Q01</th>\n",
       "      <th>CON_VISIT_04_Q02</th>\n",
       "      <th>CON_VISIT_04_Q03</th>\n",
       "      <th>CON_VISIT_04_Q04</th>\n",
       "      <th>...</th>\n",
       "      <th>COL</th>\n",
       "      <th>COL_GAP</th>\n",
       "      <th>AMM</th>\n",
       "      <th>AMM_GAP</th>\n",
       "      <th>DIAB_PASS</th>\n",
       "      <th>ACE_PASS</th>\n",
       "      <th>STATIN_PASS</th>\n",
       "      <th>ACE_ELIG</th>\n",
       "      <th>DIAB_ELIG</th>\n",
       "      <th>STATIN_ELIG</th>\n",
       "    </tr>\n",
       "  </thead>\n",
       "  <tbody>\n",
       "    <tr>\n",
       "      <th>count</th>\n",
       "      <td>100000.000000</td>\n",
       "      <td>100000.000000</td>\n",
       "      <td>100000.000000</td>\n",
       "      <td>99970.000000</td>\n",
       "      <td>100000.000000</td>\n",
       "      <td>100000.000000</td>\n",
       "      <td>100000.00000</td>\n",
       "      <td>100000.000000</td>\n",
       "      <td>100000.000000</td>\n",
       "      <td>100000.000000</td>\n",
       "      <td>...</td>\n",
       "      <td>100000.000000</td>\n",
       "      <td>100000.000000</td>\n",
       "      <td>100000.000000</td>\n",
       "      <td>100000.000000</td>\n",
       "      <td>100000.000000</td>\n",
       "      <td>100000.000000</td>\n",
       "      <td>100000.000000</td>\n",
       "      <td>100000.00000</td>\n",
       "      <td>100000.00000</td>\n",
       "      <td>100000.000000</td>\n",
       "    </tr>\n",
       "    <tr>\n",
       "      <th>mean</th>\n",
       "      <td>50000.500000</td>\n",
       "      <td>72.770440</td>\n",
       "      <td>0.027260</td>\n",
       "      <td>0.289367</td>\n",
       "      <td>1.138959</td>\n",
       "      <td>1.028531</td>\n",
       "      <td>0.44411</td>\n",
       "      <td>0.446700</td>\n",
       "      <td>0.448490</td>\n",
       "      <td>0.446560</td>\n",
       "      <td>...</td>\n",
       "      <td>0.520610</td>\n",
       "      <td>0.160920</td>\n",
       "      <td>0.027480</td>\n",
       "      <td>0.012910</td>\n",
       "      <td>0.131820</td>\n",
       "      <td>0.389160</td>\n",
       "      <td>0.369960</td>\n",
       "      <td>0.46998</td>\n",
       "      <td>0.16429</td>\n",
       "      <td>0.464400</td>\n",
       "    </tr>\n",
       "    <tr>\n",
       "      <th>std</th>\n",
       "      <td>28867.657797</td>\n",
       "      <td>9.715514</td>\n",
       "      <td>0.162841</td>\n",
       "      <td>0.455188</td>\n",
       "      <td>0.946879</td>\n",
       "      <td>0.758254</td>\n",
       "      <td>1.34770</td>\n",
       "      <td>1.315118</td>\n",
       "      <td>1.392324</td>\n",
       "      <td>1.379421</td>\n",
       "      <td>...</td>\n",
       "      <td>0.499578</td>\n",
       "      <td>0.367459</td>\n",
       "      <td>0.163478</td>\n",
       "      <td>0.112887</td>\n",
       "      <td>0.338297</td>\n",
       "      <td>0.487562</td>\n",
       "      <td>0.482796</td>\n",
       "      <td>0.49910</td>\n",
       "      <td>0.37054</td>\n",
       "      <td>0.498734</td>\n",
       "    </tr>\n",
       "    <tr>\n",
       "      <th>min</th>\n",
       "      <td>1.000000</td>\n",
       "      <td>40.000000</td>\n",
       "      <td>0.000000</td>\n",
       "      <td>0.000000</td>\n",
       "      <td>0.000000</td>\n",
       "      <td>0.000000</td>\n",
       "      <td>0.00000</td>\n",
       "      <td>0.000000</td>\n",
       "      <td>0.000000</td>\n",
       "      <td>0.000000</td>\n",
       "      <td>...</td>\n",
       "      <td>0.000000</td>\n",
       "      <td>0.000000</td>\n",
       "      <td>0.000000</td>\n",
       "      <td>0.000000</td>\n",
       "      <td>0.000000</td>\n",
       "      <td>0.000000</td>\n",
       "      <td>0.000000</td>\n",
       "      <td>0.00000</td>\n",
       "      <td>0.00000</td>\n",
       "      <td>0.000000</td>\n",
       "    </tr>\n",
       "    <tr>\n",
       "      <th>25%</th>\n",
       "      <td>25000.750000</td>\n",
       "      <td>68.000000</td>\n",
       "      <td>0.000000</td>\n",
       "      <td>0.000000</td>\n",
       "      <td>0.522000</td>\n",
       "      <td>0.570000</td>\n",
       "      <td>0.00000</td>\n",
       "      <td>0.000000</td>\n",
       "      <td>0.000000</td>\n",
       "      <td>0.000000</td>\n",
       "      <td>...</td>\n",
       "      <td>0.000000</td>\n",
       "      <td>0.000000</td>\n",
       "      <td>0.000000</td>\n",
       "      <td>0.000000</td>\n",
       "      <td>0.000000</td>\n",
       "      <td>0.000000</td>\n",
       "      <td>0.000000</td>\n",
       "      <td>0.00000</td>\n",
       "      <td>0.00000</td>\n",
       "      <td>0.000000</td>\n",
       "    </tr>\n",
       "    <tr>\n",
       "      <th>50%</th>\n",
       "      <td>50000.500000</td>\n",
       "      <td>73.000000</td>\n",
       "      <td>0.000000</td>\n",
       "      <td>0.000000</td>\n",
       "      <td>0.862000</td>\n",
       "      <td>0.891000</td>\n",
       "      <td>0.00000</td>\n",
       "      <td>0.000000</td>\n",
       "      <td>0.000000</td>\n",
       "      <td>0.000000</td>\n",
       "      <td>...</td>\n",
       "      <td>1.000000</td>\n",
       "      <td>0.000000</td>\n",
       "      <td>0.000000</td>\n",
       "      <td>0.000000</td>\n",
       "      <td>0.000000</td>\n",
       "      <td>0.000000</td>\n",
       "      <td>0.000000</td>\n",
       "      <td>0.00000</td>\n",
       "      <td>0.00000</td>\n",
       "      <td>0.000000</td>\n",
       "    </tr>\n",
       "    <tr>\n",
       "      <th>75%</th>\n",
       "      <td>75000.250000</td>\n",
       "      <td>79.000000</td>\n",
       "      <td>0.000000</td>\n",
       "      <td>1.000000</td>\n",
       "      <td>1.414000</td>\n",
       "      <td>1.306000</td>\n",
       "      <td>0.00000</td>\n",
       "      <td>0.000000</td>\n",
       "      <td>0.000000</td>\n",
       "      <td>0.000000</td>\n",
       "      <td>...</td>\n",
       "      <td>1.000000</td>\n",
       "      <td>0.000000</td>\n",
       "      <td>0.000000</td>\n",
       "      <td>0.000000</td>\n",
       "      <td>0.000000</td>\n",
       "      <td>1.000000</td>\n",
       "      <td>1.000000</td>\n",
       "      <td>1.00000</td>\n",
       "      <td>0.00000</td>\n",
       "      <td>1.000000</td>\n",
       "    </tr>\n",
       "    <tr>\n",
       "      <th>max</th>\n",
       "      <td>100000.000000</td>\n",
       "      <td>95.000000</td>\n",
       "      <td>1.000000</td>\n",
       "      <td>3.000000</td>\n",
       "      <td>15.120000</td>\n",
       "      <td>15.704000</td>\n",
       "      <td>88.00000</td>\n",
       "      <td>70.000000</td>\n",
       "      <td>52.000000</td>\n",
       "      <td>67.000000</td>\n",
       "      <td>...</td>\n",
       "      <td>1.000000</td>\n",
       "      <td>1.000000</td>\n",
       "      <td>1.000000</td>\n",
       "      <td>1.000000</td>\n",
       "      <td>1.000000</td>\n",
       "      <td>1.000000</td>\n",
       "      <td>1.000000</td>\n",
       "      <td>1.00000</td>\n",
       "      <td>1.00000</td>\n",
       "      <td>1.000000</td>\n",
       "    </tr>\n",
       "  </tbody>\n",
       "</table>\n",
       "<p>8 rows × 437 columns</p>\n",
       "</div>"
      ],
      "text/plain": [
       "                  ID            AGE       AMI_FLAG  ORIG_REAS_ENTITLE_CD  \\\n",
       "count  100000.000000  100000.000000  100000.000000          99970.000000   \n",
       "mean    50000.500000      72.770440       0.027260              0.289367   \n",
       "std     28867.657797       9.715514       0.162841              0.455188   \n",
       "min         1.000000      40.000000       0.000000              0.000000   \n",
       "25%     25000.750000      68.000000       0.000000              0.000000   \n",
       "50%     50000.500000      73.000000       0.000000              0.000000   \n",
       "75%     75000.250000      79.000000       0.000000              1.000000   \n",
       "max    100000.000000      95.000000       1.000000              3.000000   \n",
       "\n",
       "       RECON_MA_RISK_SCORE_NBR  RECON_RX_RISK_SCORE_NBR  CON_VISIT_04_Q01  \\\n",
       "count            100000.000000            100000.000000      100000.00000   \n",
       "mean                  1.138959                 1.028531           0.44411   \n",
       "std                   0.946879                 0.758254           1.34770   \n",
       "min                   0.000000                 0.000000           0.00000   \n",
       "25%                   0.522000                 0.570000           0.00000   \n",
       "50%                   0.862000                 0.891000           0.00000   \n",
       "75%                   1.414000                 1.306000           0.00000   \n",
       "max                  15.120000                15.704000          88.00000   \n",
       "\n",
       "       CON_VISIT_04_Q02  CON_VISIT_04_Q03  CON_VISIT_04_Q04      ...        \\\n",
       "count     100000.000000     100000.000000     100000.000000      ...         \n",
       "mean           0.446700          0.448490          0.446560      ...         \n",
       "std            1.315118          1.392324          1.379421      ...         \n",
       "min            0.000000          0.000000          0.000000      ...         \n",
       "25%            0.000000          0.000000          0.000000      ...         \n",
       "50%            0.000000          0.000000          0.000000      ...         \n",
       "75%            0.000000          0.000000          0.000000      ...         \n",
       "max           70.000000         52.000000         67.000000      ...         \n",
       "\n",
       "                 COL        COL_GAP            AMM        AMM_GAP  \\\n",
       "count  100000.000000  100000.000000  100000.000000  100000.000000   \n",
       "mean        0.520610       0.160920       0.027480       0.012910   \n",
       "std         0.499578       0.367459       0.163478       0.112887   \n",
       "min         0.000000       0.000000       0.000000       0.000000   \n",
       "25%         0.000000       0.000000       0.000000       0.000000   \n",
       "50%         1.000000       0.000000       0.000000       0.000000   \n",
       "75%         1.000000       0.000000       0.000000       0.000000   \n",
       "max         1.000000       1.000000       1.000000       1.000000   \n",
       "\n",
       "           DIAB_PASS       ACE_PASS    STATIN_PASS      ACE_ELIG  \\\n",
       "count  100000.000000  100000.000000  100000.000000  100000.00000   \n",
       "mean        0.131820       0.389160       0.369960       0.46998   \n",
       "std         0.338297       0.487562       0.482796       0.49910   \n",
       "min         0.000000       0.000000       0.000000       0.00000   \n",
       "25%         0.000000       0.000000       0.000000       0.00000   \n",
       "50%         0.000000       0.000000       0.000000       0.00000   \n",
       "75%         0.000000       1.000000       1.000000       1.00000   \n",
       "max         1.000000       1.000000       1.000000       1.00000   \n",
       "\n",
       "          DIAB_ELIG    STATIN_ELIG  \n",
       "count  100000.00000  100000.000000  \n",
       "mean        0.16429       0.464400  \n",
       "std         0.37054       0.498734  \n",
       "min         0.00000       0.000000  \n",
       "25%         0.00000       0.000000  \n",
       "50%         0.00000       0.000000  \n",
       "75%         0.00000       1.000000  \n",
       "max         1.00000       1.000000  \n",
       "\n",
       "[8 rows x 437 columns]"
      ]
     },
     "execution_count": 6,
     "metadata": {},
     "output_type": "execute_result"
    }
   ],
   "source": [
    "df.describe()"
   ]
  },
  {
   "cell_type": "code",
   "execution_count": 7,
   "metadata": {},
   "outputs": [],
   "source": [
    "#list of columns that contain null values\n",
    "l=df.columns[df.isna().any()].tolist()"
   ]
  },
  {
   "cell_type": "code",
   "execution_count": null,
   "metadata": {},
   "outputs": [],
   "source": []
  },
  {
   "cell_type": "code",
   "execution_count": null,
   "metadata": {},
   "outputs": [],
   "source": []
  },
  {
   "cell_type": "code",
   "execution_count": 8,
   "metadata": {},
   "outputs": [],
   "source": [
    "#Creating a dictionary to identify Column names as keys and number of null values in the column as the corresponding value\n",
    "d={}\n",
    "for i in l:\n",
    "    d[i]=len(df[df[i].isnull()])"
   ]
  },
  {
   "cell_type": "code",
   "execution_count": 9,
   "metadata": {},
   "outputs": [
    {
     "data": {
      "text/plain": [
       "{'SEX_CD': 30,\n",
       " 'ESRD_IND': 32,\n",
       " 'HOSPICE_IND': 32,\n",
       " 'ORIG_REAS_ENTITLE_CD': 30,\n",
       " 'PCP_ASSIGNMENT': 157,\n",
       " 'DUAL': 30,\n",
       " 'INSTITUTIONAL': 30,\n",
       " 'LIS': 30,\n",
       " 'MCO_HLVL_PLAN_CD': 33,\n",
       " 'MCO_PROD_TYPE_CD': 33,\n",
       " 'Diab_Type': 64693,\n",
       " 'Dwelling_Type': 12179,\n",
       " 'Education_level': 12179,\n",
       " 'Length_residence': 12179,\n",
       " 'Est_BMI_decile': 12179,\n",
       " 'Num_person_household': 12179,\n",
       " 'College': 12179,\n",
       " 'Online_purchaser': 12179,\n",
       " 'Online_User': 12179,\n",
       " 'Pct_above_poverty_line': 12179,\n",
       " 'Pct_below_poverty_line': 12179,\n",
       " 'Decile_struggle_Med_lang': 25215,\n",
       " 'Home_value': 12179,\n",
       " 'Est_Net_worth': 12179,\n",
       " 'Est_income': 12179,\n",
       " 'Index_Health_ins_engage': 12179,\n",
       " 'Index_Health_ins_influence': 12179,\n",
       " 'Population_density_centile_ST': 12179,\n",
       " 'Population_density_centile_US': 12179}"
      ]
     },
     "execution_count": 9,
     "metadata": {},
     "output_type": "execute_result"
    }
   ],
   "source": [
    "d"
   ]
  },
  {
   "cell_type": "code",
   "execution_count": 10,
   "metadata": {},
   "outputs": [
    {
     "data": {
      "text/plain": [
       "float64     20\n",
       "int64      417\n",
       "object      11\n",
       "dtype: int64"
      ]
     },
     "execution_count": 10,
     "metadata": {},
     "output_type": "execute_result"
    }
   ],
   "source": [
    "df.get_dtype_counts()"
   ]
  },
  {
   "cell_type": "code",
   "execution_count": 11,
   "metadata": {},
   "outputs": [
    {
     "data": {
      "text/plain": [
       "{'SEX_CD': 30,\n",
       " 'ESRD_IND': 32,\n",
       " 'HOSPICE_IND': 32,\n",
       " 'ORIG_REAS_ENTITLE_CD': 30,\n",
       " 'PCP_ASSIGNMENT': 157,\n",
       " 'DUAL': 30,\n",
       " 'INSTITUTIONAL': 30,\n",
       " 'LIS': 30,\n",
       " 'MCO_HLVL_PLAN_CD': 33,\n",
       " 'MCO_PROD_TYPE_CD': 33,\n",
       " 'Diab_Type': 64693,\n",
       " 'Dwelling_Type': 12179,\n",
       " 'Education_level': 12179,\n",
       " 'Length_residence': 12179,\n",
       " 'Est_BMI_decile': 12179,\n",
       " 'Num_person_household': 12179,\n",
       " 'College': 12179,\n",
       " 'Online_purchaser': 12179,\n",
       " 'Online_User': 12179,\n",
       " 'Pct_above_poverty_line': 12179,\n",
       " 'Pct_below_poverty_line': 12179,\n",
       " 'Decile_struggle_Med_lang': 25215,\n",
       " 'Home_value': 12179,\n",
       " 'Est_Net_worth': 12179,\n",
       " 'Est_income': 12179,\n",
       " 'Index_Health_ins_engage': 12179,\n",
       " 'Index_Health_ins_influence': 12179,\n",
       " 'Population_density_centile_ST': 12179,\n",
       " 'Population_density_centile_US': 12179}"
      ]
     },
     "execution_count": 11,
     "metadata": {},
     "output_type": "execute_result"
    }
   ],
   "source": [
    "d"
   ]
  },
  {
   "cell_type": "code",
   "execution_count": 12,
   "metadata": {},
   "outputs": [
    {
     "data": {
      "image/png": "[encoded data removed]",
      "text/plain": [
       "<Figure size 720x720 with 1 Axes>"
      ]
     },
     "metadata": {},
     "output_type": "display_data"
    }
   ],
   "source": [
    "#Histogram for various target categories\n",
    "df['AMI_FLAG'].hist(bins=10,figsize=(10,10))\n",
    "plt.xlabel(\"AMI_FLAG\",fontsize=15)\n",
    "plt.ylabel(\"Number of Members\",fontsize=15)\n",
    "plt.title(\"Distribution of Members across each category\",fontsize=20)\n",
    "plt.savefig(\"C:\\\\Users\\\\gandh\\\\Downloads\\\\Datasets\\\\humana\\\\graphs\\\\imbalanced.png\")"
   ]
  },
  {
   "cell_type": "code",
   "execution_count": 13,
   "metadata": {},
   "outputs": [
    {
     "data": {
      "text/plain": [
       "<matplotlib.axes._subplots.AxesSubplot at 0x28a51a6ccf8>"
      ]
     },
     "execution_count": 13,
     "metadata": {},
     "output_type": "execute_result"
    },
    {
     "data": {
      "image/png": "[encoded data removed]",
      "text/plain": [
       "<Figure size 432x288 with 1 Axes>"
      ]
     },
     "metadata": {},
     "output_type": "display_data"
    }
   ],
   "source": [
    "\n",
    "plt.subplot(1,2,1)"
   ]
  },
  {
   "cell_type": "code",
   "execution_count": 14,
   "metadata": {},
   "outputs": [
    {
     "data": {
      "image/png": "[encoded data removed]",
      "text/plain": [
       "<Figure size 432x288 with 1 Axes>"
      ]
     },
     "metadata": {},
     "output_type": "display_data"
    }
   ],
   "source": [
    "#Plot for Male and female count for humana members\n",
    "fig,ax=plt.subplots()\n",
    "df.groupby('SEX_CD').count()['ID'].plot(kind='bar',width=0.5,color=(\"Green\",\"blue\"))\n",
    "plt.xlabel(\"SEX\",fontsize=10)\n",
    "plt.ylabel(\"Number of Members\",fontsize=10)\n",
    "plt.xticks(rotation=0)\n",
    "ax.set_xticklabels([\"Female\",\"Male\"])\n",
    "plt.title(\"Number of Members for each gender\",fontsize=20)\n",
    "plt.savefig(\"C:\\\\Users\\\\gandh\\\\Downloads\\\\Datasets\\\\humana\\\\graphs\\\\gender.png\")\n",
    "#df.groupby(['SEX_CD','AMI_FLAG']).count()['ID'].plot.bar()"
   ]
  },
  {
   "cell_type": "code",
   "execution_count": 15,
   "metadata": {},
   "outputs": [
    {
     "data": {
      "text/plain": [
       "0.4744766801322071"
      ]
     },
     "execution_count": 15,
     "metadata": {},
     "output_type": "execute_result"
    }
   ],
   "source": [
    "#Ratio of females to Males who suffered heart attacks\n",
    "df[df['AMI_FLAG']==1].groupby('SEX_CD').count()['ID'][0]/(df[df['AMI_FLAG']==1].groupby('SEX_CD').count()['ID'][0]+df[df['AMI_FLAG']==1].groupby('SEX_CD').count()['ID'][1])"
   ]
  },
  {
   "cell_type": "code",
   "execution_count": 16,
   "metadata": {},
   "outputs": [
    {
     "data": {
      "image/png": "[encoded data removed]",
      "text/plain": [
       "<Figure size 720x360 with 1 Axes>"
      ]
     },
     "metadata": {},
     "output_type": "display_data"
    }
   ],
   "source": [
    "#plt.subplot(1,2,2)\n",
    "fig, ax = plt.subplots()\n",
    "df[df['AMI_FLAG']==1].groupby('SEX_CD').count()['ID'].plot(kind='bar',figsize=(10,5),color=(\"green\",\"blue\"),width=0.6,ax=ax,label='SEX_CD')\n",
    "plt.xlabel(\"SEX\",fontsize=15)\n",
    "plt.ylabel(\"Number of Members\",fontsize=15)\n",
    "plt.title(\"Members suffering from heart attacks\",fontsize=20)\n",
    "plt.xticks(rotation=0,color=(\"black\"),fontsize=15)\n",
    "plt.yticks(fontsize=15)\n",
    "#ax.legend([\"Female\",\"Male\"])\n",
    "ax.set_xticklabels([\"Female\",\"Male\"])\n",
    "#ax.legend([\"Male\"])\n",
    "plt.savefig(\"C:\\\\Users\\\\gandh\\\\Downloads\\\\Datasets\\\\humana\\\\graphs\\\\genderwithAMI.png\")"
   ]
  },
  {
   "cell_type": "code",
   "execution_count": 17,
   "metadata": {},
   "outputs": [
    {
     "data": {
      "image/png": "[encoded data removed]",
      "text/plain": [
       "<Figure size 1152x360 with 1 Axes>"
      ]
     },
     "metadata": {},
     "output_type": "display_data"
    }
   ],
   "source": [
    "fig,ax=plt.subplots()\n",
    "df.groupby('Education_level').count()['ID'].plot(kind='barh',figsize=(16,5))\n",
    "plt.ylabel(\"Education Level\",fontsize=15)\n",
    "plt.xlabel(\"Number of members\",fontsize=15)\n",
    "plt.title(\"Number of Members from different Educational backgrounds\",fontsize=20)\n",
    "plt.xticks(rotation=0)\n",
    "ax.set_yticklabels([\"Uncoded\",\"less than 9th grade\",\"less than 12th grade\",\"High school diploma\",\"Some College\",\"Assosciate Degree\",\"Bachelors degree\",\"Graduate Degree\",\"Professional School Degree\"])\n",
    "\n",
    "#plt.show()\n",
    "plt.savefig(\"C:\\\\Users\\\\gandh\\\\Downloads\\\\Datasets\\\\humana\\\\graphs\\\\Educational_background.png\")"
   ]
  },
  {
   "cell_type": "code",
   "execution_count": 18,
   "metadata": {},
   "outputs": [
    {
     "data": {
      "text/plain": [
       "4.0    38156\n",
       "3.0    36629\n",
       "6.0     6391\n",
       "5.0     6304\n",
       "2.0      236\n",
       "0.0       69\n",
       "7.0       23\n",
       "1.0       12\n",
       "8.0        1\n",
       "Name: Education_level, dtype: int64"
      ]
     },
     "execution_count": 18,
     "metadata": {},
     "output_type": "execute_result"
    }
   ],
   "source": [
    "df['Education_level'].value_counts()"
   ]
  },
  {
   "cell_type": "code",
   "execution_count": 19,
   "metadata": {},
   "outputs": [
    {
     "data": {
      "image/png": "[encoded data removed]",
      "text/plain": [
       "<Figure size 1152x360 with 1 Axes>"
      ]
     },
     "metadata": {},
     "output_type": "display_data"
    }
   ],
   "source": [
    "fig,ax=plt.subplots()\n",
    "df[df['AMI_FLAG']==1].groupby('Education_level').count()['ID'].plot(kind='barh',figsize=(16,5))\n",
    "plt.ylabel(\"Level of Education\",fontsize=15)\n",
    "plt.yticks(rotation=0)\n",
    "plt.xlabel(\"Number of Members\",fontsize=15)\n",
    "plt.title(\"Number of Members within every education level who suffered AMI\",fontsize=20)\n",
    "ax.set_yticklabels([\"Uncoded\",\"less than 9th grade\",\"less than 12th grade\",\"High school diploma\",\"Some College\",\"Assosciate Degree\",\"Bachelors degree\",\"Professional School Degree\"])\n",
    "#plt.show()\n",
    "plt.savefig(\"C:\\\\Users\\\\gandh\\\\Downloads\\\\Datasets\\\\humana\\\\graphs\\\\Educational_background_AMI.png\")"
   ]
  },
  {
   "cell_type": "code",
   "execution_count": 20,
   "metadata": {},
   "outputs": [
    {
     "data": {
      "text/plain": [
       "0    97274\n",
       "1     2726\n",
       "Name: AMI_FLAG, dtype: int64"
      ]
     },
     "execution_count": 20,
     "metadata": {},
     "output_type": "execute_result"
    }
   ],
   "source": [
    "df['AMI_FLAG'].value_counts()"
   ]
  },
  {
   "cell_type": "code",
   "execution_count": 21,
   "metadata": {},
   "outputs": [
    {
     "data": {
      "text/plain": [
       "<matplotlib.axes._subplots.AxesSubplot at 0x28a51b2b128>"
      ]
     },
     "execution_count": 21,
     "metadata": {},
     "output_type": "execute_result"
    },
    {
     "data": {
      "image/png": "[encoded data removed]",
      "text/plain": [
       "<Figure size 432x288 with 1 Axes>"
      ]
     },
     "metadata": {},
     "output_type": "display_data"
    }
   ],
   "source": [
    "pd.pivot_table(df,index=['Education_level','SEX_CD'],values='AMI_FLAG',aggfunc=np.sum).plot.bar(stacked=True)\n",
    "\n"
   ]
  },
  {
   "cell_type": "code",
   "execution_count": 22,
   "metadata": {},
   "outputs": [
    {
     "data": {
      "text/plain": [
       "<matplotlib.axes._subplots.AxesSubplot at 0x28a15ff3c18>"
      ]
     },
     "execution_count": 22,
     "metadata": {},
     "output_type": "execute_result"
    },
    {
     "data": {
      "image/png": "[encoded data removed]",
      "text/plain": [
       "<Figure size 432x288 with 1 Axes>"
      ]
     },
     "metadata": {},
     "output_type": "display_data"
    }
   ],
   "source": [
    "pd.pivot_table(df[df['AMI_FLAG']==1],index=['Education_level','SEX_CD'],values='AMI_FLAG',aggfunc=np.sum).plot.bar(stacked=True)\n"
   ]
  },
  {
   "cell_type": "code",
   "execution_count": 23,
   "metadata": {},
   "outputs": [
    {
     "data": {
      "image/png": "[encoded data removed]",
      "text/plain": [
       "<Figure size 1296x720 with 1 Axes>"
      ]
     },
     "metadata": {},
     "output_type": "display_data"
    }
   ],
   "source": [
    "fig,ax=plt.subplots()\n",
    "df[df['AMI_FLAG']==1].groupby(['SEX_CD','Education_level']).count()['AMI_FLAG'].plot(kind='barh',stacked=True,width=0.3,figsize=(18,10))\n",
    "plt.ylabel(\"Gender, Education\",fontsize=15)\n",
    "plt.xticks(rotation=0)\n",
    "plt.xlabel(\"Number of members\",fontsize=15)\n",
    "plt.yticks(rotation=0)\n",
    "plt.title(\"Number of patients in each education level within both genders with heart attacks\")\n",
    "ax.set_yticklabels(['Females,Uncoded','Females,Less than 12th grade','Females,High School Diploma','Females,Some College','Females,Assosciate Degree','Females,Bachelors degree','Females,Professional degree','Males,Less than 9th','Males,Less than 12th','Males,High School Diploma','Males,Some College','Males,Assosciate Degree','Males,bachelors degree'])\n",
    "plt.savefig('C:\\\\Users\\\\gandh\\\\Downloads\\\\Datasets\\\\humana\\\\graphs\\\\GENDER_EDUCATION_AMI.png')\n",
    "#plt.show()"
   ]
  },
  {
   "cell_type": "code",
   "execution_count": 24,
   "metadata": {},
   "outputs": [],
   "source": [
    "l=list(d.keys())"
   ]
  },
  {
   "cell_type": "code",
   "execution_count": 25,
   "metadata": {},
   "outputs": [
    {
     "data": {
      "text/plain": [
       "{'SEX_CD': 30,\n",
       " 'ESRD_IND': 32,\n",
       " 'HOSPICE_IND': 32,\n",
       " 'ORIG_REAS_ENTITLE_CD': 30,\n",
       " 'PCP_ASSIGNMENT': 157,\n",
       " 'DUAL': 30,\n",
       " 'INSTITUTIONAL': 30,\n",
       " 'LIS': 30,\n",
       " 'MCO_HLVL_PLAN_CD': 33,\n",
       " 'MCO_PROD_TYPE_CD': 33,\n",
       " 'Diab_Type': 64693,\n",
       " 'Dwelling_Type': 12179,\n",
       " 'Education_level': 12179,\n",
       " 'Length_residence': 12179,\n",
       " 'Est_BMI_decile': 12179,\n",
       " 'Num_person_household': 12179,\n",
       " 'College': 12179,\n",
       " 'Online_purchaser': 12179,\n",
       " 'Online_User': 12179,\n",
       " 'Pct_above_poverty_line': 12179,\n",
       " 'Pct_below_poverty_line': 12179,\n",
       " 'Decile_struggle_Med_lang': 25215,\n",
       " 'Home_value': 12179,\n",
       " 'Est_Net_worth': 12179,\n",
       " 'Est_income': 12179,\n",
       " 'Index_Health_ins_engage': 12179,\n",
       " 'Index_Health_ins_influence': 12179,\n",
       " 'Population_density_centile_ST': 12179,\n",
       " 'Population_density_centile_US': 12179}"
      ]
     },
     "execution_count": 25,
     "metadata": {},
     "output_type": "execute_result"
    }
   ],
   "source": [
    "d"
   ]
  },
  {
   "cell_type": "code",
   "execution_count": null,
   "metadata": {},
   "outputs": [],
   "source": []
  },
  {
   "cell_type": "code",
   "execution_count": 26,
   "metadata": {},
   "outputs": [
    {
     "data": {
      "text/plain": [
       "(100000, 448)"
      ]
     },
     "execution_count": 26,
     "metadata": {},
     "output_type": "execute_result"
    }
   ],
   "source": [
    "df.shape"
   ]
  },
  {
   "cell_type": "code",
   "execution_count": 27,
   "metadata": {},
   "outputs": [
    {
     "name": "stdout",
     "output_type": "stream",
     "text": [
      "<class 'pandas.core.frame.DataFrame'>\n",
      "RangeIndex: 100000 entries, 0 to 99999\n",
      "Columns: 448 entries, ID to STATIN_ELIG\n",
      "dtypes: float64(20), int64(417), object(11)\n",
      "memory usage: 341.8+ MB\n"
     ]
    }
   ],
   "source": [
    "df.info()"
   ]
  },
  {
   "cell_type": "code",
   "execution_count": 28,
   "metadata": {},
   "outputs": [
    {
     "data": {
      "text/html": [
       "<div>\n",
       "<style scoped>\n",
       "    .dataframe tbody tr th:only-of-type {\n",
       "        vertical-align: middle;\n",
       "    }\n",
       "\n",
       "    .dataframe tbody tr th {\n",
       "        vertical-align: top;\n",
       "    }\n",
       "\n",
       "    .dataframe thead th {\n",
       "        text-align: right;\n",
       "    }\n",
       "</style>\n",
       "<table border=\"1\" class=\"dataframe\">\n",
       "  <thead>\n",
       "    <tr style=\"text-align: right;\">\n",
       "      <th></th>\n",
       "      <th>ID</th>\n",
       "      <th>AGE</th>\n",
       "      <th>SEX_CD</th>\n",
       "      <th>AMI_FLAG</th>\n",
       "      <th>ESRD_IND</th>\n",
       "      <th>HOSPICE_IND</th>\n",
       "      <th>ORIG_REAS_ENTITLE_CD</th>\n",
       "      <th>RECON_MA_RISK_SCORE_NBR</th>\n",
       "      <th>RECON_RX_RISK_SCORE_NBR</th>\n",
       "      <th>PCP_ASSIGNMENT</th>\n",
       "      <th>...</th>\n",
       "      <th>COL</th>\n",
       "      <th>COL_GAP</th>\n",
       "      <th>AMM</th>\n",
       "      <th>AMM_GAP</th>\n",
       "      <th>DIAB_PASS</th>\n",
       "      <th>ACE_PASS</th>\n",
       "      <th>STATIN_PASS</th>\n",
       "      <th>ACE_ELIG</th>\n",
       "      <th>DIAB_ELIG</th>\n",
       "      <th>STATIN_ELIG</th>\n",
       "    </tr>\n",
       "  </thead>\n",
       "  <tbody>\n",
       "    <tr>\n",
       "      <th>0</th>\n",
       "      <td>1</td>\n",
       "      <td>77</td>\n",
       "      <td>F</td>\n",
       "      <td>0</td>\n",
       "      <td>N</td>\n",
       "      <td>N</td>\n",
       "      <td>0.0</td>\n",
       "      <td>0.424</td>\n",
       "      <td>0.402</td>\n",
       "      <td>MEMBER SELECTED</td>\n",
       "      <td>...</td>\n",
       "      <td>0</td>\n",
       "      <td>0</td>\n",
       "      <td>0</td>\n",
       "      <td>0</td>\n",
       "      <td>0</td>\n",
       "      <td>0</td>\n",
       "      <td>0</td>\n",
       "      <td>0</td>\n",
       "      <td>0</td>\n",
       "      <td>0</td>\n",
       "    </tr>\n",
       "    <tr>\n",
       "      <th>1</th>\n",
       "      <td>2</td>\n",
       "      <td>49</td>\n",
       "      <td>F</td>\n",
       "      <td>0</td>\n",
       "      <td>N</td>\n",
       "      <td>N</td>\n",
       "      <td>1.0</td>\n",
       "      <td>2.879</td>\n",
       "      <td>1.159</td>\n",
       "      <td>ATTRIBUTED</td>\n",
       "      <td>...</td>\n",
       "      <td>0</td>\n",
       "      <td>0</td>\n",
       "      <td>0</td>\n",
       "      <td>0</td>\n",
       "      <td>0</td>\n",
       "      <td>0</td>\n",
       "      <td>1</td>\n",
       "      <td>0</td>\n",
       "      <td>0</td>\n",
       "      <td>1</td>\n",
       "    </tr>\n",
       "    <tr>\n",
       "      <th>2</th>\n",
       "      <td>3</td>\n",
       "      <td>75</td>\n",
       "      <td>F</td>\n",
       "      <td>0</td>\n",
       "      <td>N</td>\n",
       "      <td>N</td>\n",
       "      <td>0.0</td>\n",
       "      <td>0.638</td>\n",
       "      <td>0.568</td>\n",
       "      <td>MEMBER SELECTED</td>\n",
       "      <td>...</td>\n",
       "      <td>1</td>\n",
       "      <td>0</td>\n",
       "      <td>0</td>\n",
       "      <td>0</td>\n",
       "      <td>0</td>\n",
       "      <td>1</td>\n",
       "      <td>1</td>\n",
       "      <td>1</td>\n",
       "      <td>0</td>\n",
       "      <td>1</td>\n",
       "    </tr>\n",
       "    <tr>\n",
       "      <th>3</th>\n",
       "      <td>4</td>\n",
       "      <td>68</td>\n",
       "      <td>M</td>\n",
       "      <td>0</td>\n",
       "      <td>N</td>\n",
       "      <td>N</td>\n",
       "      <td>0.0</td>\n",
       "      <td>0.584</td>\n",
       "      <td>0.886</td>\n",
       "      <td>MEMBER SELECTED</td>\n",
       "      <td>...</td>\n",
       "      <td>1</td>\n",
       "      <td>1</td>\n",
       "      <td>0</td>\n",
       "      <td>0</td>\n",
       "      <td>1</td>\n",
       "      <td>1</td>\n",
       "      <td>1</td>\n",
       "      <td>1</td>\n",
       "      <td>1</td>\n",
       "      <td>1</td>\n",
       "    </tr>\n",
       "    <tr>\n",
       "      <th>4</th>\n",
       "      <td>5</td>\n",
       "      <td>81</td>\n",
       "      <td>F</td>\n",
       "      <td>0</td>\n",
       "      <td>N</td>\n",
       "      <td>N</td>\n",
       "      <td>1.0</td>\n",
       "      <td>1.242</td>\n",
       "      <td>1.212</td>\n",
       "      <td>MEMBER SELECTED</td>\n",
       "      <td>...</td>\n",
       "      <td>0</td>\n",
       "      <td>0</td>\n",
       "      <td>0</td>\n",
       "      <td>0</td>\n",
       "      <td>0</td>\n",
       "      <td>0</td>\n",
       "      <td>0</td>\n",
       "      <td>0</td>\n",
       "      <td>0</td>\n",
       "      <td>0</td>\n",
       "    </tr>\n",
       "  </tbody>\n",
       "</table>\n",
       "<p>5 rows × 448 columns</p>\n",
       "</div>"
      ],
      "text/plain": [
       "   ID  AGE SEX_CD  AMI_FLAG ESRD_IND HOSPICE_IND  ORIG_REAS_ENTITLE_CD  \\\n",
       "0   1   77      F         0        N           N                   0.0   \n",
       "1   2   49      F         0        N           N                   1.0   \n",
       "2   3   75      F         0        N           N                   0.0   \n",
       "3   4   68      M         0        N           N                   0.0   \n",
       "4   5   81      F         0        N           N                   1.0   \n",
       "\n",
       "   RECON_MA_RISK_SCORE_NBR  RECON_RX_RISK_SCORE_NBR   PCP_ASSIGNMENT  \\\n",
       "0                    0.424                    0.402  MEMBER SELECTED   \n",
       "1                    2.879                    1.159       ATTRIBUTED   \n",
       "2                    0.638                    0.568  MEMBER SELECTED   \n",
       "3                    0.584                    0.886  MEMBER SELECTED   \n",
       "4                    1.242                    1.212  MEMBER SELECTED   \n",
       "\n",
       "      ...      COL COL_GAP AMM AMM_GAP DIAB_PASS  ACE_PASS  STATIN_PASS  \\\n",
       "0     ...        0       0   0       0         0         0            0   \n",
       "1     ...        0       0   0       0         0         0            1   \n",
       "2     ...        1       0   0       0         0         1            1   \n",
       "3     ...        1       1   0       0         1         1            1   \n",
       "4     ...        0       0   0       0         0         0            0   \n",
       "\n",
       "   ACE_ELIG  DIAB_ELIG  STATIN_ELIG  \n",
       "0         0          0            0  \n",
       "1         0          0            1  \n",
       "2         1          0            1  \n",
       "3         1          1            1  \n",
       "4         0          0            0  \n",
       "\n",
       "[5 rows x 448 columns]"
      ]
     },
     "execution_count": 28,
     "metadata": {},
     "output_type": "execute_result"
    }
   ],
   "source": [
    "df.head()"
   ]
  },
  {
   "cell_type": "code",
   "execution_count": 29,
   "metadata": {},
   "outputs": [],
   "source": [
    "#Identifying number of unique values in each columns\n",
    "k={}\n",
    "for i in df.columns:\n",
    "    k[i]=df[i].nunique()"
   ]
  },
  {
   "cell_type": "code",
   "execution_count": 30,
   "metadata": {},
   "outputs": [
    {
     "data": {
      "text/plain": [
       "RX_THER_01_YR2016\n",
       "0     81575\n",
       "1     12727\n",
       "2      3770\n",
       "3      1150\n",
       "4       410\n",
       "5       185\n",
       "6        79\n",
       "7        35\n",
       "8        25\n",
       "9        15\n",
       "10        9\n",
       "11        6\n",
       "12        4\n",
       "13        4\n",
       "14        1\n",
       "15        1\n",
       "16        2\n",
       "20        1\n",
       "22        1\n",
       "Name: ID, dtype: int64"
      ]
     },
     "execution_count": 30,
     "metadata": {},
     "output_type": "execute_result"
    }
   ],
   "source": [
    "df.groupby('RX_THER_01_YR2016').count()['ID']"
   ]
  },
  {
   "cell_type": "code",
   "execution_count": 31,
   "metadata": {},
   "outputs": [
    {
     "data": {
      "text/html": [
       "<div>\n",
       "<style scoped>\n",
       "    .dataframe tbody tr th:only-of-type {\n",
       "        vertical-align: middle;\n",
       "    }\n",
       "\n",
       "    .dataframe tbody tr th {\n",
       "        vertical-align: top;\n",
       "    }\n",
       "\n",
       "    .dataframe thead th {\n",
       "        text-align: right;\n",
       "    }\n",
       "</style>\n",
       "<table border=\"1\" class=\"dataframe\">\n",
       "  <thead>\n",
       "    <tr style=\"text-align: right;\">\n",
       "      <th></th>\n",
       "      <th>ID</th>\n",
       "      <th>AGE</th>\n",
       "      <th>SEX_CD</th>\n",
       "      <th>AMI_FLAG</th>\n",
       "      <th>ESRD_IND</th>\n",
       "      <th>HOSPICE_IND</th>\n",
       "      <th>RECON_MA_RISK_SCORE_NBR</th>\n",
       "      <th>RECON_RX_RISK_SCORE_NBR</th>\n",
       "      <th>PCP_ASSIGNMENT</th>\n",
       "      <th>DUAL</th>\n",
       "      <th>...</th>\n",
       "      <th>COL</th>\n",
       "      <th>COL_GAP</th>\n",
       "      <th>AMM</th>\n",
       "      <th>AMM_GAP</th>\n",
       "      <th>DIAB_PASS</th>\n",
       "      <th>ACE_PASS</th>\n",
       "      <th>STATIN_PASS</th>\n",
       "      <th>ACE_ELIG</th>\n",
       "      <th>DIAB_ELIG</th>\n",
       "      <th>STATIN_ELIG</th>\n",
       "    </tr>\n",
       "    <tr>\n",
       "      <th>ORIG_REAS_ENTITLE_CD</th>\n",
       "      <th></th>\n",
       "      <th></th>\n",
       "      <th></th>\n",
       "      <th></th>\n",
       "      <th></th>\n",
       "      <th></th>\n",
       "      <th></th>\n",
       "      <th></th>\n",
       "      <th></th>\n",
       "      <th></th>\n",
       "      <th></th>\n",
       "      <th></th>\n",
       "      <th></th>\n",
       "      <th></th>\n",
       "      <th></th>\n",
       "      <th></th>\n",
       "      <th></th>\n",
       "      <th></th>\n",
       "      <th></th>\n",
       "      <th></th>\n",
       "      <th></th>\n",
       "    </tr>\n",
       "  </thead>\n",
       "  <tbody>\n",
       "    <tr>\n",
       "      <th>0.0</th>\n",
       "      <td>71114</td>\n",
       "      <td>71114</td>\n",
       "      <td>71114</td>\n",
       "      <td>71114</td>\n",
       "      <td>71112</td>\n",
       "      <td>71112</td>\n",
       "      <td>71114</td>\n",
       "      <td>71114</td>\n",
       "      <td>71031</td>\n",
       "      <td>71114</td>\n",
       "      <td>...</td>\n",
       "      <td>71114</td>\n",
       "      <td>71114</td>\n",
       "      <td>71114</td>\n",
       "      <td>71114</td>\n",
       "      <td>71114</td>\n",
       "      <td>71114</td>\n",
       "      <td>71114</td>\n",
       "      <td>71114</td>\n",
       "      <td>71114</td>\n",
       "      <td>71114</td>\n",
       "    </tr>\n",
       "    <tr>\n",
       "      <th>1.0</th>\n",
       "      <td>28790</td>\n",
       "      <td>28790</td>\n",
       "      <td>28790</td>\n",
       "      <td>28790</td>\n",
       "      <td>28790</td>\n",
       "      <td>28790</td>\n",
       "      <td>28790</td>\n",
       "      <td>28790</td>\n",
       "      <td>28747</td>\n",
       "      <td>28790</td>\n",
       "      <td>...</td>\n",
       "      <td>28790</td>\n",
       "      <td>28790</td>\n",
       "      <td>28790</td>\n",
       "      <td>28790</td>\n",
       "      <td>28790</td>\n",
       "      <td>28790</td>\n",
       "      <td>28790</td>\n",
       "      <td>28790</td>\n",
       "      <td>28790</td>\n",
       "      <td>28790</td>\n",
       "    </tr>\n",
       "    <tr>\n",
       "      <th>2.0</th>\n",
       "      <td>60</td>\n",
       "      <td>60</td>\n",
       "      <td>60</td>\n",
       "      <td>60</td>\n",
       "      <td>60</td>\n",
       "      <td>60</td>\n",
       "      <td>60</td>\n",
       "      <td>60</td>\n",
       "      <td>59</td>\n",
       "      <td>60</td>\n",
       "      <td>...</td>\n",
       "      <td>60</td>\n",
       "      <td>60</td>\n",
       "      <td>60</td>\n",
       "      <td>60</td>\n",
       "      <td>60</td>\n",
       "      <td>60</td>\n",
       "      <td>60</td>\n",
       "      <td>60</td>\n",
       "      <td>60</td>\n",
       "      <td>60</td>\n",
       "    </tr>\n",
       "    <tr>\n",
       "      <th>3.0</th>\n",
       "      <td>6</td>\n",
       "      <td>6</td>\n",
       "      <td>6</td>\n",
       "      <td>6</td>\n",
       "      <td>6</td>\n",
       "      <td>6</td>\n",
       "      <td>6</td>\n",
       "      <td>6</td>\n",
       "      <td>6</td>\n",
       "      <td>6</td>\n",
       "      <td>...</td>\n",
       "      <td>6</td>\n",
       "      <td>6</td>\n",
       "      <td>6</td>\n",
       "      <td>6</td>\n",
       "      <td>6</td>\n",
       "      <td>6</td>\n",
       "      <td>6</td>\n",
       "      <td>6</td>\n",
       "      <td>6</td>\n",
       "      <td>6</td>\n",
       "    </tr>\n",
       "  </tbody>\n",
       "</table>\n",
       "<p>4 rows × 447 columns</p>\n",
       "</div>"
      ],
      "text/plain": [
       "                         ID    AGE  SEX_CD  AMI_FLAG  ESRD_IND  HOSPICE_IND  \\\n",
       "ORIG_REAS_ENTITLE_CD                                                          \n",
       "0.0                   71114  71114   71114     71114     71112        71112   \n",
       "1.0                   28790  28790   28790     28790     28790        28790   \n",
       "2.0                      60     60      60        60        60           60   \n",
       "3.0                       6      6       6         6         6            6   \n",
       "\n",
       "                      RECON_MA_RISK_SCORE_NBR  RECON_RX_RISK_SCORE_NBR  \\\n",
       "ORIG_REAS_ENTITLE_CD                                                     \n",
       "0.0                                     71114                    71114   \n",
       "1.0                                     28790                    28790   \n",
       "2.0                                        60                       60   \n",
       "3.0                                         6                        6   \n",
       "\n",
       "                      PCP_ASSIGNMENT   DUAL     ...         COL  COL_GAP  \\\n",
       "ORIG_REAS_ENTITLE_CD                            ...                        \n",
       "0.0                            71031  71114     ...       71114    71114   \n",
       "1.0                            28747  28790     ...       28790    28790   \n",
       "2.0                               59     60     ...          60       60   \n",
       "3.0                                6      6     ...           6        6   \n",
       "\n",
       "                        AMM  AMM_GAP  DIAB_PASS  ACE_PASS  STATIN_PASS  \\\n",
       "ORIG_REAS_ENTITLE_CD                                                     \n",
       "0.0                   71114    71114      71114     71114        71114   \n",
       "1.0                   28790    28790      28790     28790        28790   \n",
       "2.0                      60       60         60        60           60   \n",
       "3.0                       6        6          6         6            6   \n",
       "\n",
       "                      ACE_ELIG  DIAB_ELIG  STATIN_ELIG  \n",
       "ORIG_REAS_ENTITLE_CD                                    \n",
       "0.0                      71114      71114        71114  \n",
       "1.0                      28790      28790        28790  \n",
       "2.0                         60         60           60  \n",
       "3.0                          6          6            6  \n",
       "\n",
       "[4 rows x 447 columns]"
      ]
     },
     "execution_count": 31,
     "metadata": {},
     "output_type": "execute_result"
    }
   ],
   "source": [
    "df.groupby('ORIG_REAS_ENTITLE_CD').count()"
   ]
  },
  {
   "cell_type": "code",
   "execution_count": 32,
   "metadata": {},
   "outputs": [
    {
     "data": {
      "text/plain": [
       "Text(0.5,1,'Age dependency on heart attacks')"
      ]
     },
     "execution_count": 32,
     "metadata": {},
     "output_type": "execute_result"
    },
    {
     "data": {
      "image/png": "[encoded data removed]",
      "text/plain": [
       "<Figure size 1080x504 with 1 Axes>"
      ]
     },
     "metadata": {},
     "output_type": "display_data"
    }
   ],
   "source": [
    "#Age Vs Heart attacks relationships\n",
    "fig,ax=plt.subplots()\n",
    "df[df['AMI_FLAG']==1].groupby('AGE').count()['ID'].plot(figsize=(15,7))\n",
    "plt.xlabel(\"Age of Customer\",fontsize=15)\n",
    "plt.ylabel(\"Count of Customers facing heart attacks\",fontsize=15)\n",
    "plt.title(\"Age dependency on heart attacks\",fontsize=20)"
   ]
  },
  {
   "cell_type": "code",
   "execution_count": 33,
   "metadata": {},
   "outputs": [
    {
     "data": {
      "text/plain": [
       "(array([0, 1]), <a list of 2 Text xticklabel objects>)"
      ]
     },
     "execution_count": 33,
     "metadata": {},
     "output_type": "execute_result"
    },
    {
     "data": {
      "image/png": "[encoded data removed]",
      "text/plain": [
       "<Figure size 432x288 with 1 Axes>"
      ]
     },
     "metadata": {},
     "output_type": "display_data"
    }
   ],
   "source": [
    "df[df['AMI_FLAG']==1].groupby('DIABETES').count()['ID'].plot.bar()\n",
    "plt.ylabel(\"Count\")\n",
    "plt.title(\"Count of heart attacks for diabetic and non diabetic patients\")\n",
    "plt.xticks(rotation=0)"
   ]
  },
  {
   "cell_type": "code",
   "execution_count": 34,
   "metadata": {},
   "outputs": [
    {
     "data": {
      "text/plain": [
       "Text(0.5,1,'Members with AMI cases for different number of visits for Coronary Artery Disease')"
      ]
     },
     "execution_count": 34,
     "metadata": {},
     "output_type": "execute_result"
    },
    {
     "data": {
      "image/png": "[encoded data removed]",
      "text/plain": [
       "<Figure size 864x504 with 1 Axes>"
      ]
     },
     "metadata": {},
     "output_type": "display_data"
    }
   ],
   "source": [
    "fig,ax=plt.subplots()\n",
    "df[df['AMI_FLAG']==1].groupby(['CON_VISIT_33_Q04']).count()['ID'].plot(kind='bar',figsize=(12,7))\n",
    "#df[df['AMI_FLAG']==1].groupby(['CON_VISIT_01_Q02']).count()['ID'].plot(kind='bar')\n",
    "plt.xticks(rotation=0)\n",
    "plt.ylabel(\"Number of Members with AMI cases\",fontsize=15)\n",
    "plt.xlabel(\"Number of Visits or admissions for Coronary Artery Disease in Q4\",fontsize=15)\n",
    "plt.title(\"Members with AMI cases for different number of visits for Coronary Artery Disease\",fontsize=15)\n",
    "#plt.savefig('C:\\\\Users\\\\gandh\\\\Downloads\\\\Datasets\\\\humana\\\\graphs\\\\CON_VISIT_01_Q04.png')"
   ]
  },
  {
   "cell_type": "code",
   "execution_count": null,
   "metadata": {},
   "outputs": [],
   "source": []
  },
  {
   "cell_type": "code",
   "execution_count": 35,
   "metadata": {},
   "outputs": [
    {
     "data": {
      "text/plain": [
       "(array([0, 1, 2, 3]), <a list of 4 Text xticklabel objects>)"
      ]
     },
     "execution_count": 35,
     "metadata": {},
     "output_type": "execute_result"
    },
    {
     "data": {
      "image/png": "[encoded data removed]",
      "text/plain": [
       "<Figure size 432x288 with 1 Axes>"
      ]
     },
     "metadata": {},
     "output_type": "display_data"
    }
   ],
   "source": [
    "df.groupby(['HYPERTENSION','SEX_CD']).count()['ID'].plot.bar(width=0.2)\n",
    "plt.xticks(rotation=0)"
   ]
  },
  {
   "cell_type": "code",
   "execution_count": 36,
   "metadata": {},
   "outputs": [
    {
     "data": {
      "text/plain": [
       "Text(0,0.5,'Number of members')"
      ]
     },
     "execution_count": 36,
     "metadata": {},
     "output_type": "execute_result"
    },
    {
     "data": {
      "image/png": "[encoded data removed]",
      "text/plain": [
       "<Figure size 432x288 with 1 Axes>"
      ]
     },
     "metadata": {},
     "output_type": "display_data"
    }
   ],
   "source": [
    "df[df['AMI_FLAG']==1].groupby(['HYPERTENSION','SEX_CD']).count()['ID'].plot.bar(width=0.2)\n",
    "plt.xticks(rotation=0)\n",
    "plt.title(\"Heart attacks for members with and without hypertension\",fontsize=20)\n",
    "plt.xlabel(\"Hypertension & Sex_CD status for members\",fontsize=10)\n",
    "plt.ylabel(\"Number of members\",fontsize=10)"
   ]
  },
  {
   "cell_type": "code",
   "execution_count": 37,
   "metadata": {},
   "outputs": [],
   "source": [
    "t=df.groupby(['Education_level','SEX_CD']).count()['ID']"
   ]
  },
  {
   "cell_type": "code",
   "execution_count": 38,
   "metadata": {},
   "outputs": [
    {
     "data": {
      "text/plain": [
       "Text(0.5,0,'Education Levels')"
      ]
     },
     "execution_count": 38,
     "metadata": {},
     "output_type": "execute_result"
    },
    {
     "data": {
      "image/png": "[encoded data removed]",
      "text/plain": [
       "<Figure size 432x288 with 1 Axes>"
      ]
     },
     "metadata": {},
     "output_type": "display_data"
    }
   ],
   "source": [
    "N=len(df.groupby('Education_level'))\n",
    "men=[]\n",
    "women=[]\n",
    "for j in range(0,N):\n",
    "    women.append(t.loc[j][0])\n",
    "    try:\n",
    "        men.append(t.loc[j][1])\n",
    "        \n",
    "    except:\n",
    "        men.append(0)\n",
    "men_means = tuple(men)\n",
    "women_means = tuple(women)\n",
    "ind = np.arange(N)  # the x locations for the groups\n",
    "width = 0.35       # the width of the bars\n",
    "\n",
    "fig, ax = plt.subplots()\n",
    "rects1=ax.bar(ind,men_means,color='b',width=width)\n",
    "rects2=ax.bar(ind+width,women_means,color='m',width=width)\n",
    "#rects1 = ax.bar(ind, men_means, width, color='r')\n",
    "plt.xticks(ind)\n",
    "ax.set_ylabel('Scores',fontsize=10)\n",
    "ax.set_title('Count by Education Level and gender',fontsize=20)\n",
    "ax.set_xlabel(\"Education Levels\")"
   ]
  },
  {
   "cell_type": "code",
   "execution_count": 39,
   "metadata": {},
   "outputs": [
    {
     "data": {
      "text/plain": [
       "Index(['ID', 'AGE', 'SEX_CD', 'AMI_FLAG', 'ESRD_IND', 'HOSPICE_IND',\n",
       "       'ORIG_REAS_ENTITLE_CD', 'RECON_MA_RISK_SCORE_NBR',\n",
       "       'RECON_RX_RISK_SCORE_NBR', 'PCP_ASSIGNMENT', 'DUAL', 'INSTITUTIONAL',\n",
       "       'LIS', 'MCO_HLVL_PLAN_CD', 'MCO_PROD_TYPE_CD', 'CON_VISIT_04_Q01',\n",
       "       'CON_VISIT_04_Q02', 'CON_VISIT_04_Q03', 'CON_VISIT_04_Q04',\n",
       "       'CON_VISIT_21_Q01', 'CON_VISIT_21_Q02', 'CON_VISIT_21_Q03',\n",
       "       'CON_VISIT_03_Q02', 'CON_VISIT_03_Q04', 'CON_VISIT_05_Q02',\n",
       "       'CON_VISIT_05_Q04', 'CON_VISIT_09_Q02', 'CON_VISIT_10_Q02',\n",
       "       'CON_VISIT_18_Q02', 'CON_VISIT_19_Q04', 'CON_VISIT_23_Q02',\n",
       "       'CON_VISIT_24_Q02', 'CON_VISIT_30_Q01', 'CON_VISIT_30_Q02',\n",
       "       'CON_VISIT_30_Q04', 'CON_VISIT_32_Q02', 'CON_VISIT_33_Q04',\n",
       "       'CON_VISIT_06_Q01', 'CON_VISIT_06_Q02', 'CON_VISIT_06_Q03',\n",
       "       'CON_VISIT_10_Q01', 'CON_VISIT_19_Q03', 'CON_VISIT_33_Q02',\n",
       "       'CON_VISIT_08_Q02', 'CON_VISIT_10_Q03', 'CON_VISIT_10_Q04',\n",
       "       'CON_VISIT_24_Q04', 'CON_VISIT_08_Q01', 'CON_VISIT_08_Q03',\n",
       "       'CON_VISIT_08_Q04'],\n",
       "      dtype='object')"
      ]
     },
     "execution_count": 39,
     "metadata": {},
     "output_type": "execute_result"
    }
   ],
   "source": [
    "df.columns[0:50]"
   ]
  },
  {
   "cell_type": "code",
   "execution_count": 40,
   "metadata": {},
   "outputs": [
    {
     "data": {
      "text/plain": [
       "<matplotlib.axes._subplots.AxesSubplot at 0x28a16984828>"
      ]
     },
     "execution_count": 40,
     "metadata": {},
     "output_type": "execute_result"
    },
    {
     "data": {
      "image/png": "[encoded data removed]",
      "text/plain": [
       "<Figure size 432x288 with 1 Axes>"
      ]
     },
     "metadata": {},
     "output_type": "display_data"
    }
   ],
   "source": [
    "df.groupby('MCO_HLVL_PLAN_CD').count()['ID'].plot.bar()"
   ]
  },
  {
   "cell_type": "code",
   "execution_count": 41,
   "metadata": {},
   "outputs": [
    {
     "data": {
      "text/plain": [
       "<matplotlib.axes._subplots.AxesSubplot at 0x28a169eeac8>"
      ]
     },
     "execution_count": 41,
     "metadata": {},
     "output_type": "execute_result"
    },
    {
     "data": {
      "image/png": "[encoded data removed]",
      "text/plain": [
       "<Figure size 432x288 with 1 Axes>"
      ]
     },
     "metadata": {},
     "output_type": "display_data"
    }
   ],
   "source": [
    "df[df['AMI_FLAG']==1].groupby('MCO_HLVL_PLAN_CD').count()['ID'].plot.bar()"
   ]
  },
  {
   "cell_type": "code",
   "execution_count": 42,
   "metadata": {},
   "outputs": [
    {
     "data": {
      "text/plain": [
       "<matplotlib.axes._subplots.AxesSubplot at 0x28a16a21710>"
      ]
     },
     "execution_count": 42,
     "metadata": {},
     "output_type": "execute_result"
    },
    {
     "data": {
      "image/png": "[encoded data removed]",
      "text/plain": [
       "<Figure size 432x288 with 1 Axes>"
      ]
     },
     "metadata": {},
     "output_type": "display_data"
    }
   ],
   "source": [
    "df.groupby('MCO_PROD_TYPE_CD').count()['ID'].plot.bar()"
   ]
  },
  {
   "cell_type": "code",
   "execution_count": 43,
   "metadata": {},
   "outputs": [
    {
     "data": {
      "text/plain": [
       "<matplotlib.axes._subplots.AxesSubplot at 0x28a16aa40f0>"
      ]
     },
     "execution_count": 43,
     "metadata": {},
     "output_type": "execute_result"
    },
    {
     "data": {
      "image/png": "[encoded data removed]",
      "text/plain": [
       "<Figure size 432x288 with 1 Axes>"
      ]
     },
     "metadata": {},
     "output_type": "display_data"
    }
   ],
   "source": [
    "df[df['AMI_FLAG']==1].groupby(['MCO_PROD_TYPE_CD','SEX_CD']).count()['ID'].plot.bar()"
   ]
  },
  {
   "cell_type": "code",
   "execution_count": 44,
   "metadata": {},
   "outputs": [],
   "source": [
    "#df[df['AMI_FLAG']==1].count() #2726"
   ]
  },
  {
   "cell_type": "code",
   "execution_count": 45,
   "metadata": {},
   "outputs": [
    {
     "data": {
      "text/html": [
       "<div>\n",
       "<style scoped>\n",
       "    .dataframe tbody tr th:only-of-type {\n",
       "        vertical-align: middle;\n",
       "    }\n",
       "\n",
       "    .dataframe tbody tr th {\n",
       "        vertical-align: top;\n",
       "    }\n",
       "\n",
       "    .dataframe thead th {\n",
       "        text-align: right;\n",
       "    }\n",
       "</style>\n",
       "<table border=\"1\" class=\"dataframe\">\n",
       "  <thead>\n",
       "    <tr style=\"text-align: right;\">\n",
       "      <th></th>\n",
       "      <th>RECON_MA_RISK_SCORE_NBR</th>\n",
       "      <th>RECON_RX_RISK_SCORE_NBR</th>\n",
       "    </tr>\n",
       "  </thead>\n",
       "  <tbody>\n",
       "    <tr>\n",
       "      <th>RECON_MA_RISK_SCORE_NBR</th>\n",
       "      <td>1.00000</td>\n",
       "      <td>0.52947</td>\n",
       "    </tr>\n",
       "    <tr>\n",
       "      <th>RECON_RX_RISK_SCORE_NBR</th>\n",
       "      <td>0.52947</td>\n",
       "      <td>1.00000</td>\n",
       "    </tr>\n",
       "  </tbody>\n",
       "</table>\n",
       "</div>"
      ],
      "text/plain": [
       "                         RECON_MA_RISK_SCORE_NBR  RECON_RX_RISK_SCORE_NBR\n",
       "RECON_MA_RISK_SCORE_NBR                  1.00000                  0.52947\n",
       "RECON_RX_RISK_SCORE_NBR                  0.52947                  1.00000"
      ]
     },
     "execution_count": 45,
     "metadata": {},
     "output_type": "execute_result"
    }
   ],
   "source": [
    "df[['RECON_MA_RISK_SCORE_NBR','RECON_RX_RISK_SCORE_NBR']].corr()"
   ]
  },
  {
   "cell_type": "code",
   "execution_count": 46,
   "metadata": {},
   "outputs": [
    {
     "data": {
      "text/html": [
       "<div>\n",
       "<style scoped>\n",
       "    .dataframe tbody tr th:only-of-type {\n",
       "        vertical-align: middle;\n",
       "    }\n",
       "\n",
       "    .dataframe tbody tr th {\n",
       "        vertical-align: top;\n",
       "    }\n",
       "\n",
       "    .dataframe thead th {\n",
       "        text-align: right;\n",
       "    }\n",
       "</style>\n",
       "<table border=\"1\" class=\"dataframe\">\n",
       "  <thead>\n",
       "    <tr style=\"text-align: right;\">\n",
       "      <th></th>\n",
       "      <th>CON_VISIT_01_Q01</th>\n",
       "      <th>CON_VISIT_01_Q02</th>\n",
       "      <th>CON_VISIT_01_Q03</th>\n",
       "      <th>CON_VISIT_01_Q04</th>\n",
       "    </tr>\n",
       "  </thead>\n",
       "  <tbody>\n",
       "    <tr>\n",
       "      <th>CON_VISIT_01_Q01</th>\n",
       "      <td>1.000000</td>\n",
       "      <td>0.249303</td>\n",
       "      <td>0.126962</td>\n",
       "      <td>0.113894</td>\n",
       "    </tr>\n",
       "    <tr>\n",
       "      <th>CON_VISIT_01_Q02</th>\n",
       "      <td>0.249303</td>\n",
       "      <td>1.000000</td>\n",
       "      <td>0.320167</td>\n",
       "      <td>0.143733</td>\n",
       "    </tr>\n",
       "    <tr>\n",
       "      <th>CON_VISIT_01_Q03</th>\n",
       "      <td>0.126962</td>\n",
       "      <td>0.320167</td>\n",
       "      <td>1.000000</td>\n",
       "      <td>0.264533</td>\n",
       "    </tr>\n",
       "    <tr>\n",
       "      <th>CON_VISIT_01_Q04</th>\n",
       "      <td>0.113894</td>\n",
       "      <td>0.143733</td>\n",
       "      <td>0.264533</td>\n",
       "      <td>1.000000</td>\n",
       "    </tr>\n",
       "  </tbody>\n",
       "</table>\n",
       "</div>"
      ],
      "text/plain": [
       "                  CON_VISIT_01_Q01  CON_VISIT_01_Q02  CON_VISIT_01_Q03  \\\n",
       "CON_VISIT_01_Q01          1.000000          0.249303          0.126962   \n",
       "CON_VISIT_01_Q02          0.249303          1.000000          0.320167   \n",
       "CON_VISIT_01_Q03          0.126962          0.320167          1.000000   \n",
       "CON_VISIT_01_Q04          0.113894          0.143733          0.264533   \n",
       "\n",
       "                  CON_VISIT_01_Q04  \n",
       "CON_VISIT_01_Q01          0.113894  \n",
       "CON_VISIT_01_Q02          0.143733  \n",
       "CON_VISIT_01_Q03          0.264533  \n",
       "CON_VISIT_01_Q04          1.000000  "
      ]
     },
     "execution_count": 46,
     "metadata": {},
     "output_type": "execute_result"
    }
   ],
   "source": [
    "df[['CON_VISIT_01_Q01','CON_VISIT_01_Q02','CON_VISIT_01_Q03','CON_VISIT_01_Q04']].corr()"
   ]
  },
  {
   "cell_type": "code",
   "execution_count": 47,
   "metadata": {},
   "outputs": [
    {
     "data": {
      "text/plain": [
       "Index(['ID', 'AGE', 'SEX_CD', 'AMI_FLAG', 'ESRD_IND', 'HOSPICE_IND',\n",
       "       'ORIG_REAS_ENTITLE_CD', 'RECON_MA_RISK_SCORE_NBR',\n",
       "       'RECON_RX_RISK_SCORE_NBR', 'PCP_ASSIGNMENT',\n",
       "       ...\n",
       "       'COL', 'COL_GAP', 'AMM', 'AMM_GAP', 'DIAB_PASS', 'ACE_PASS',\n",
       "       'STATIN_PASS', 'ACE_ELIG', 'DIAB_ELIG', 'STATIN_ELIG'],\n",
       "      dtype='object', length=448)"
      ]
     },
     "execution_count": 47,
     "metadata": {},
     "output_type": "execute_result"
    }
   ],
   "source": [
    "df.columns"
   ]
  },
  {
   "cell_type": "code",
   "execution_count": null,
   "metadata": {},
   "outputs": [],
   "source": []
  },
  {
   "cell_type": "code",
   "execution_count": 48,
   "metadata": {},
   "outputs": [
    {
     "data": {
      "text/plain": [
       "<matplotlib.axes._subplots.AxesSubplot at 0x28a16b19780>"
      ]
     },
     "execution_count": 48,
     "metadata": {},
     "output_type": "execute_result"
    },
    {
     "data": {
      "image/png": "[encoded data removed]",
      "text/plain": [
       "<Figure size 432x288 with 1 Axes>"
      ]
     },
     "metadata": {},
     "output_type": "display_data"
    }
   ],
   "source": [
    "df['AMI_FLAG'].hist(bins=50)"
   ]
  },
  {
   "cell_type": "code",
   "execution_count": null,
   "metadata": {},
   "outputs": [],
   "source": []
  },
  {
   "cell_type": "code",
   "execution_count": 49,
   "metadata": {},
   "outputs": [
    {
     "data": {
      "text/html": [
       "<div>\n",
       "<style scoped>\n",
       "    .dataframe tbody tr th:only-of-type {\n",
       "        vertical-align: middle;\n",
       "    }\n",
       "\n",
       "    .dataframe tbody tr th {\n",
       "        vertical-align: top;\n",
       "    }\n",
       "\n",
       "    .dataframe thead th {\n",
       "        text-align: right;\n",
       "    }\n",
       "</style>\n",
       "<table border=\"1\" class=\"dataframe\">\n",
       "  <thead>\n",
       "    <tr style=\"text-align: right;\">\n",
       "      <th></th>\n",
       "      <th>SEX_CD</th>\n",
       "      <th>ESRD_IND</th>\n",
       "      <th>HOSPICE_IND</th>\n",
       "      <th>ORIG_REAS_ENTITLE_CD</th>\n",
       "      <th>PCP_ASSIGNMENT</th>\n",
       "      <th>DUAL</th>\n",
       "      <th>INSTITUTIONAL</th>\n",
       "      <th>LIS</th>\n",
       "      <th>MCO_HLVL_PLAN_CD</th>\n",
       "      <th>MCO_PROD_TYPE_CD</th>\n",
       "      <th>...</th>\n",
       "      <th>Pct_above_poverty_line</th>\n",
       "      <th>Pct_below_poverty_line</th>\n",
       "      <th>Decile_struggle_Med_lang</th>\n",
       "      <th>Home_value</th>\n",
       "      <th>Est_Net_worth</th>\n",
       "      <th>Est_income</th>\n",
       "      <th>Index_Health_ins_engage</th>\n",
       "      <th>Index_Health_ins_influence</th>\n",
       "      <th>Population_density_centile_ST</th>\n",
       "      <th>Population_density_centile_US</th>\n",
       "    </tr>\n",
       "  </thead>\n",
       "  <tbody>\n",
       "    <tr>\n",
       "      <th>0</th>\n",
       "      <td>F</td>\n",
       "      <td>N</td>\n",
       "      <td>N</td>\n",
       "      <td>0.0</td>\n",
       "      <td>MEMBER SELECTED</td>\n",
       "      <td>N</td>\n",
       "      <td>N</td>\n",
       "      <td>N</td>\n",
       "      <td>MAPD</td>\n",
       "      <td>LPPO</td>\n",
       "      <td>...</td>\n",
       "      <td>94.0</td>\n",
       "      <td>6.0</td>\n",
       "      <td>5.0</td>\n",
       "      <td>127.0</td>\n",
       "      <td>87500.0</td>\n",
       "      <td>87500.0</td>\n",
       "      <td>3.0</td>\n",
       "      <td>2.0</td>\n",
       "      <td>70.0</td>\n",
       "      <td>84.0</td>\n",
       "    </tr>\n",
       "    <tr>\n",
       "      <th>1</th>\n",
       "      <td>F</td>\n",
       "      <td>N</td>\n",
       "      <td>N</td>\n",
       "      <td>1.0</td>\n",
       "      <td>ATTRIBUTED</td>\n",
       "      <td>N</td>\n",
       "      <td>N</td>\n",
       "      <td>N</td>\n",
       "      <td>MAPD</td>\n",
       "      <td>PFFS</td>\n",
       "      <td>...</td>\n",
       "      <td>86.0</td>\n",
       "      <td>14.0</td>\n",
       "      <td>NaN</td>\n",
       "      <td>128.0</td>\n",
       "      <td>-2500.0</td>\n",
       "      <td>7500.0</td>\n",
       "      <td>1.0</td>\n",
       "      <td>4.0</td>\n",
       "      <td>83.0</td>\n",
       "      <td>86.0</td>\n",
       "    </tr>\n",
       "    <tr>\n",
       "      <th>2</th>\n",
       "      <td>F</td>\n",
       "      <td>N</td>\n",
       "      <td>N</td>\n",
       "      <td>0.0</td>\n",
       "      <td>MEMBER SELECTED</td>\n",
       "      <td>N</td>\n",
       "      <td>N</td>\n",
       "      <td>N</td>\n",
       "      <td>MAPD</td>\n",
       "      <td>HMO</td>\n",
       "      <td>...</td>\n",
       "      <td>95.0</td>\n",
       "      <td>5.0</td>\n",
       "      <td>5.0</td>\n",
       "      <td>359.0</td>\n",
       "      <td>625000.0</td>\n",
       "      <td>112000.0</td>\n",
       "      <td>1.0</td>\n",
       "      <td>9.0</td>\n",
       "      <td>30.0</td>\n",
       "      <td>30.0</td>\n",
       "    </tr>\n",
       "    <tr>\n",
       "      <th>3</th>\n",
       "      <td>M</td>\n",
       "      <td>N</td>\n",
       "      <td>N</td>\n",
       "      <td>0.0</td>\n",
       "      <td>MEMBER SELECTED</td>\n",
       "      <td>N</td>\n",
       "      <td>N</td>\n",
       "      <td>N</td>\n",
       "      <td>MAPD</td>\n",
       "      <td>HMO</td>\n",
       "      <td>...</td>\n",
       "      <td>90.0</td>\n",
       "      <td>10.0</td>\n",
       "      <td>7.0</td>\n",
       "      <td>280.0</td>\n",
       "      <td>-2500.0</td>\n",
       "      <td>55000.0</td>\n",
       "      <td>2.0</td>\n",
       "      <td>4.0</td>\n",
       "      <td>16.0</td>\n",
       "      <td>18.0</td>\n",
       "    </tr>\n",
       "    <tr>\n",
       "      <th>4</th>\n",
       "      <td>F</td>\n",
       "      <td>N</td>\n",
       "      <td>N</td>\n",
       "      <td>1.0</td>\n",
       "      <td>MEMBER SELECTED</td>\n",
       "      <td>Y</td>\n",
       "      <td>N</td>\n",
       "      <td>Y</td>\n",
       "      <td>MAPD</td>\n",
       "      <td>HMO</td>\n",
       "      <td>...</td>\n",
       "      <td>NaN</td>\n",
       "      <td>NaN</td>\n",
       "      <td>NaN</td>\n",
       "      <td>NaN</td>\n",
       "      <td>NaN</td>\n",
       "      <td>NaN</td>\n",
       "      <td>NaN</td>\n",
       "      <td>NaN</td>\n",
       "      <td>NaN</td>\n",
       "      <td>NaN</td>\n",
       "    </tr>\n",
       "    <tr>\n",
       "      <th>5</th>\n",
       "      <td>F</td>\n",
       "      <td>N</td>\n",
       "      <td>N</td>\n",
       "      <td>0.0</td>\n",
       "      <td>MEMBER SELECTED</td>\n",
       "      <td>N</td>\n",
       "      <td>N</td>\n",
       "      <td>N</td>\n",
       "      <td>MAPD</td>\n",
       "      <td>PFFS</td>\n",
       "      <td>...</td>\n",
       "      <td>87.0</td>\n",
       "      <td>13.0</td>\n",
       "      <td>6.0</td>\n",
       "      <td>62.0</td>\n",
       "      <td>87500.0</td>\n",
       "      <td>55000.0</td>\n",
       "      <td>0.0</td>\n",
       "      <td>0.0</td>\n",
       "      <td>28.0</td>\n",
       "      <td>38.0</td>\n",
       "    </tr>\n",
       "    <tr>\n",
       "      <th>6</th>\n",
       "      <td>F</td>\n",
       "      <td>N</td>\n",
       "      <td>N</td>\n",
       "      <td>0.0</td>\n",
       "      <td>MEMBER SELECTED</td>\n",
       "      <td>N</td>\n",
       "      <td>N</td>\n",
       "      <td>N</td>\n",
       "      <td>MAPD</td>\n",
       "      <td>HMO</td>\n",
       "      <td>...</td>\n",
       "      <td>99.0</td>\n",
       "      <td>1.0</td>\n",
       "      <td>NaN</td>\n",
       "      <td>138.0</td>\n",
       "      <td>15000.0</td>\n",
       "      <td>87500.0</td>\n",
       "      <td>6.0</td>\n",
       "      <td>2.0</td>\n",
       "      <td>14.0</td>\n",
       "      <td>33.0</td>\n",
       "    </tr>\n",
       "    <tr>\n",
       "      <th>7</th>\n",
       "      <td>M</td>\n",
       "      <td>N</td>\n",
       "      <td>N</td>\n",
       "      <td>0.0</td>\n",
       "      <td>MEMBER SELECTED</td>\n",
       "      <td>N</td>\n",
       "      <td>N</td>\n",
       "      <td>N</td>\n",
       "      <td>MAPD</td>\n",
       "      <td>HMO</td>\n",
       "      <td>...</td>\n",
       "      <td>95.0</td>\n",
       "      <td>5.0</td>\n",
       "      <td>4.0</td>\n",
       "      <td>0.0</td>\n",
       "      <td>200000.0</td>\n",
       "      <td>35000.0</td>\n",
       "      <td>4.0</td>\n",
       "      <td>4.0</td>\n",
       "      <td>87.0</td>\n",
       "      <td>76.0</td>\n",
       "    </tr>\n",
       "    <tr>\n",
       "      <th>8</th>\n",
       "      <td>M</td>\n",
       "      <td>N</td>\n",
       "      <td>N</td>\n",
       "      <td>0.0</td>\n",
       "      <td>MEMBER SELECTED</td>\n",
       "      <td>N</td>\n",
       "      <td>N</td>\n",
       "      <td>N</td>\n",
       "      <td>MAPD</td>\n",
       "      <td>LPPO</td>\n",
       "      <td>...</td>\n",
       "      <td>79.0</td>\n",
       "      <td>21.0</td>\n",
       "      <td>7.0</td>\n",
       "      <td>180.0</td>\n",
       "      <td>125000.0</td>\n",
       "      <td>55000.0</td>\n",
       "      <td>4.0</td>\n",
       "      <td>4.0</td>\n",
       "      <td>79.0</td>\n",
       "      <td>86.0</td>\n",
       "    </tr>\n",
       "    <tr>\n",
       "      <th>9</th>\n",
       "      <td>M</td>\n",
       "      <td>N</td>\n",
       "      <td>N</td>\n",
       "      <td>0.0</td>\n",
       "      <td>MEMBER SELECTED</td>\n",
       "      <td>N</td>\n",
       "      <td>N</td>\n",
       "      <td>N</td>\n",
       "      <td>MAPD</td>\n",
       "      <td>HMO</td>\n",
       "      <td>...</td>\n",
       "      <td>92.0</td>\n",
       "      <td>8.0</td>\n",
       "      <td>NaN</td>\n",
       "      <td>112.0</td>\n",
       "      <td>15000.0</td>\n",
       "      <td>67500.0</td>\n",
       "      <td>2.0</td>\n",
       "      <td>1.0</td>\n",
       "      <td>78.0</td>\n",
       "      <td>85.0</td>\n",
       "    </tr>\n",
       "    <tr>\n",
       "      <th>10</th>\n",
       "      <td>M</td>\n",
       "      <td>N</td>\n",
       "      <td>N</td>\n",
       "      <td>0.0</td>\n",
       "      <td>MEMBER SELECTED</td>\n",
       "      <td>N</td>\n",
       "      <td>N</td>\n",
       "      <td>N</td>\n",
       "      <td>MA</td>\n",
       "      <td>RPPO</td>\n",
       "      <td>...</td>\n",
       "      <td>NaN</td>\n",
       "      <td>NaN</td>\n",
       "      <td>NaN</td>\n",
       "      <td>NaN</td>\n",
       "      <td>NaN</td>\n",
       "      <td>NaN</td>\n",
       "      <td>NaN</td>\n",
       "      <td>NaN</td>\n",
       "      <td>NaN</td>\n",
       "      <td>NaN</td>\n",
       "    </tr>\n",
       "    <tr>\n",
       "      <th>11</th>\n",
       "      <td>M</td>\n",
       "      <td>N</td>\n",
       "      <td>N</td>\n",
       "      <td>1.0</td>\n",
       "      <td>MEMBER SELECTED</td>\n",
       "      <td>N</td>\n",
       "      <td>N</td>\n",
       "      <td>N</td>\n",
       "      <td>MAPD</td>\n",
       "      <td>HMO</td>\n",
       "      <td>...</td>\n",
       "      <td>62.0</td>\n",
       "      <td>38.0</td>\n",
       "      <td>NaN</td>\n",
       "      <td>59.0</td>\n",
       "      <td>-2500.0</td>\n",
       "      <td>7500.0</td>\n",
       "      <td>0.0</td>\n",
       "      <td>4.0</td>\n",
       "      <td>1.0</td>\n",
       "      <td>28.0</td>\n",
       "    </tr>\n",
       "    <tr>\n",
       "      <th>12</th>\n",
       "      <td>F</td>\n",
       "      <td>N</td>\n",
       "      <td>N</td>\n",
       "      <td>1.0</td>\n",
       "      <td>MEMBER SELECTED</td>\n",
       "      <td>N</td>\n",
       "      <td>N</td>\n",
       "      <td>N</td>\n",
       "      <td>MAPD</td>\n",
       "      <td>LPPO</td>\n",
       "      <td>...</td>\n",
       "      <td>78.0</td>\n",
       "      <td>22.0</td>\n",
       "      <td>5.0</td>\n",
       "      <td>50.0</td>\n",
       "      <td>-2500.0</td>\n",
       "      <td>7500.0</td>\n",
       "      <td>0.0</td>\n",
       "      <td>1.0</td>\n",
       "      <td>13.0</td>\n",
       "      <td>32.0</td>\n",
       "    </tr>\n",
       "    <tr>\n",
       "      <th>13</th>\n",
       "      <td>F</td>\n",
       "      <td>N</td>\n",
       "      <td>N</td>\n",
       "      <td>1.0</td>\n",
       "      <td>MEMBER SELECTED</td>\n",
       "      <td>N</td>\n",
       "      <td>N</td>\n",
       "      <td>Y</td>\n",
       "      <td>MAPD</td>\n",
       "      <td>HMO</td>\n",
       "      <td>...</td>\n",
       "      <td>78.0</td>\n",
       "      <td>22.0</td>\n",
       "      <td>8.0</td>\n",
       "      <td>0.0</td>\n",
       "      <td>-2500.0</td>\n",
       "      <td>7500.0</td>\n",
       "      <td>0.0</td>\n",
       "      <td>0.0</td>\n",
       "      <td>89.0</td>\n",
       "      <td>92.0</td>\n",
       "    </tr>\n",
       "    <tr>\n",
       "      <th>14</th>\n",
       "      <td>F</td>\n",
       "      <td>N</td>\n",
       "      <td>N</td>\n",
       "      <td>1.0</td>\n",
       "      <td>MEMBER SELECTED</td>\n",
       "      <td>Y</td>\n",
       "      <td>N</td>\n",
       "      <td>Y</td>\n",
       "      <td>MAPD</td>\n",
       "      <td>HMO</td>\n",
       "      <td>...</td>\n",
       "      <td>79.0</td>\n",
       "      <td>21.0</td>\n",
       "      <td>8.0</td>\n",
       "      <td>250.0</td>\n",
       "      <td>125000.0</td>\n",
       "      <td>35000.0</td>\n",
       "      <td>3.0</td>\n",
       "      <td>1.0</td>\n",
       "      <td>52.0</td>\n",
       "      <td>64.0</td>\n",
       "    </tr>\n",
       "    <tr>\n",
       "      <th>15</th>\n",
       "      <td>M</td>\n",
       "      <td>N</td>\n",
       "      <td>N</td>\n",
       "      <td>1.0</td>\n",
       "      <td>MEMBER SELECTED</td>\n",
       "      <td>N</td>\n",
       "      <td>N</td>\n",
       "      <td>Y</td>\n",
       "      <td>MAPD</td>\n",
       "      <td>HMO</td>\n",
       "      <td>...</td>\n",
       "      <td>95.0</td>\n",
       "      <td>5.0</td>\n",
       "      <td>8.0</td>\n",
       "      <td>129.0</td>\n",
       "      <td>312500.0</td>\n",
       "      <td>87500.0</td>\n",
       "      <td>8.0</td>\n",
       "      <td>4.0</td>\n",
       "      <td>84.0</td>\n",
       "      <td>72.0</td>\n",
       "    </tr>\n",
       "    <tr>\n",
       "      <th>16</th>\n",
       "      <td>F</td>\n",
       "      <td>N</td>\n",
       "      <td>N</td>\n",
       "      <td>0.0</td>\n",
       "      <td>ATTRIBUTED</td>\n",
       "      <td>N</td>\n",
       "      <td>N</td>\n",
       "      <td>N</td>\n",
       "      <td>MAPD</td>\n",
       "      <td>LPPO</td>\n",
       "      <td>...</td>\n",
       "      <td>70.0</td>\n",
       "      <td>30.0</td>\n",
       "      <td>7.0</td>\n",
       "      <td>94.0</td>\n",
       "      <td>15000.0</td>\n",
       "      <td>35000.0</td>\n",
       "      <td>0.0</td>\n",
       "      <td>2.0</td>\n",
       "      <td>9.0</td>\n",
       "      <td>48.0</td>\n",
       "    </tr>\n",
       "    <tr>\n",
       "      <th>17</th>\n",
       "      <td>M</td>\n",
       "      <td>N</td>\n",
       "      <td>N</td>\n",
       "      <td>0.0</td>\n",
       "      <td>MEMBER SELECTED</td>\n",
       "      <td>N</td>\n",
       "      <td>N</td>\n",
       "      <td>N</td>\n",
       "      <td>MAPD</td>\n",
       "      <td>HMO</td>\n",
       "      <td>...</td>\n",
       "      <td>48.0</td>\n",
       "      <td>52.0</td>\n",
       "      <td>8.0</td>\n",
       "      <td>0.0</td>\n",
       "      <td>-2500.0</td>\n",
       "      <td>35000.0</td>\n",
       "      <td>1.0</td>\n",
       "      <td>6.0</td>\n",
       "      <td>1.0</td>\n",
       "      <td>2.0</td>\n",
       "    </tr>\n",
       "    <tr>\n",
       "      <th>18</th>\n",
       "      <td>M</td>\n",
       "      <td>N</td>\n",
       "      <td>N</td>\n",
       "      <td>1.0</td>\n",
       "      <td>MEMBER SELECTED</td>\n",
       "      <td>N</td>\n",
       "      <td>N</td>\n",
       "      <td>N</td>\n",
       "      <td>MAPD</td>\n",
       "      <td>RPPO</td>\n",
       "      <td>...</td>\n",
       "      <td>78.0</td>\n",
       "      <td>22.0</td>\n",
       "      <td>9.0</td>\n",
       "      <td>0.0</td>\n",
       "      <td>-2500.0</td>\n",
       "      <td>35000.0</td>\n",
       "      <td>2.0</td>\n",
       "      <td>6.0</td>\n",
       "      <td>95.0</td>\n",
       "      <td>93.0</td>\n",
       "    </tr>\n",
       "    <tr>\n",
       "      <th>19</th>\n",
       "      <td>M</td>\n",
       "      <td>N</td>\n",
       "      <td>N</td>\n",
       "      <td>0.0</td>\n",
       "      <td>MEMBER SELECTED</td>\n",
       "      <td>N</td>\n",
       "      <td>N</td>\n",
       "      <td>N</td>\n",
       "      <td>MAPD</td>\n",
       "      <td>HMO</td>\n",
       "      <td>...</td>\n",
       "      <td>96.0</td>\n",
       "      <td>4.0</td>\n",
       "      <td>9.0</td>\n",
       "      <td>230.0</td>\n",
       "      <td>200000.0</td>\n",
       "      <td>55000.0</td>\n",
       "      <td>3.0</td>\n",
       "      <td>2.0</td>\n",
       "      <td>52.0</td>\n",
       "      <td>75.0</td>\n",
       "    </tr>\n",
       "    <tr>\n",
       "      <th>20</th>\n",
       "      <td>M</td>\n",
       "      <td>N</td>\n",
       "      <td>N</td>\n",
       "      <td>0.0</td>\n",
       "      <td>MEMBER SELECTED</td>\n",
       "      <td>Y</td>\n",
       "      <td>Y</td>\n",
       "      <td>Y</td>\n",
       "      <td>MAPD</td>\n",
       "      <td>RPPO</td>\n",
       "      <td>...</td>\n",
       "      <td>88.0</td>\n",
       "      <td>12.0</td>\n",
       "      <td>NaN</td>\n",
       "      <td>106.0</td>\n",
       "      <td>-2500.0</td>\n",
       "      <td>7500.0</td>\n",
       "      <td>7.0</td>\n",
       "      <td>3.0</td>\n",
       "      <td>82.0</td>\n",
       "      <td>95.0</td>\n",
       "    </tr>\n",
       "    <tr>\n",
       "      <th>21</th>\n",
       "      <td>F</td>\n",
       "      <td>N</td>\n",
       "      <td>N</td>\n",
       "      <td>0.0</td>\n",
       "      <td>ATTRIBUTED</td>\n",
       "      <td>N</td>\n",
       "      <td>N</td>\n",
       "      <td>N</td>\n",
       "      <td>MAPD</td>\n",
       "      <td>RPPO</td>\n",
       "      <td>...</td>\n",
       "      <td>93.0</td>\n",
       "      <td>7.0</td>\n",
       "      <td>1.0</td>\n",
       "      <td>206.0</td>\n",
       "      <td>625000.0</td>\n",
       "      <td>87500.0</td>\n",
       "      <td>1.0</td>\n",
       "      <td>7.0</td>\n",
       "      <td>31.0</td>\n",
       "      <td>40.0</td>\n",
       "    </tr>\n",
       "    <tr>\n",
       "      <th>22</th>\n",
       "      <td>M</td>\n",
       "      <td>N</td>\n",
       "      <td>N</td>\n",
       "      <td>0.0</td>\n",
       "      <td>MEMBER SELECTED</td>\n",
       "      <td>N</td>\n",
       "      <td>N</td>\n",
       "      <td>N</td>\n",
       "      <td>MAPD</td>\n",
       "      <td>LPPO</td>\n",
       "      <td>...</td>\n",
       "      <td>83.0</td>\n",
       "      <td>17.0</td>\n",
       "      <td>8.0</td>\n",
       "      <td>184.0</td>\n",
       "      <td>312500.0</td>\n",
       "      <td>67500.0</td>\n",
       "      <td>3.0</td>\n",
       "      <td>6.0</td>\n",
       "      <td>86.0</td>\n",
       "      <td>89.0</td>\n",
       "    </tr>\n",
       "    <tr>\n",
       "      <th>23</th>\n",
       "      <td>M</td>\n",
       "      <td>N</td>\n",
       "      <td>N</td>\n",
       "      <td>1.0</td>\n",
       "      <td>MEMBER SELECTED</td>\n",
       "      <td>N</td>\n",
       "      <td>N</td>\n",
       "      <td>Y</td>\n",
       "      <td>MAPD</td>\n",
       "      <td>HMO</td>\n",
       "      <td>...</td>\n",
       "      <td>92.0</td>\n",
       "      <td>8.0</td>\n",
       "      <td>8.0</td>\n",
       "      <td>86.0</td>\n",
       "      <td>37500.0</td>\n",
       "      <td>87500.0</td>\n",
       "      <td>2.0</td>\n",
       "      <td>3.0</td>\n",
       "      <td>80.0</td>\n",
       "      <td>89.0</td>\n",
       "    </tr>\n",
       "    <tr>\n",
       "      <th>24</th>\n",
       "      <td>M</td>\n",
       "      <td>N</td>\n",
       "      <td>N</td>\n",
       "      <td>0.0</td>\n",
       "      <td>MEMBER SELECTED</td>\n",
       "      <td>Y</td>\n",
       "      <td>N</td>\n",
       "      <td>Y</td>\n",
       "      <td>MAPD</td>\n",
       "      <td>RPPO</td>\n",
       "      <td>...</td>\n",
       "      <td>NaN</td>\n",
       "      <td>NaN</td>\n",
       "      <td>NaN</td>\n",
       "      <td>NaN</td>\n",
       "      <td>NaN</td>\n",
       "      <td>NaN</td>\n",
       "      <td>NaN</td>\n",
       "      <td>NaN</td>\n",
       "      <td>NaN</td>\n",
       "      <td>NaN</td>\n",
       "    </tr>\n",
       "    <tr>\n",
       "      <th>25</th>\n",
       "      <td>F</td>\n",
       "      <td>N</td>\n",
       "      <td>N</td>\n",
       "      <td>0.0</td>\n",
       "      <td>MEMBER SELECTED</td>\n",
       "      <td>N</td>\n",
       "      <td>N</td>\n",
       "      <td>N</td>\n",
       "      <td>MAPD</td>\n",
       "      <td>HMO</td>\n",
       "      <td>...</td>\n",
       "      <td>95.0</td>\n",
       "      <td>5.0</td>\n",
       "      <td>1.0</td>\n",
       "      <td>403.0</td>\n",
       "      <td>875000.0</td>\n",
       "      <td>112000.0</td>\n",
       "      <td>3.0</td>\n",
       "      <td>5.0</td>\n",
       "      <td>24.0</td>\n",
       "      <td>41.0</td>\n",
       "    </tr>\n",
       "    <tr>\n",
       "      <th>26</th>\n",
       "      <td>M</td>\n",
       "      <td>N</td>\n",
       "      <td>N</td>\n",
       "      <td>0.0</td>\n",
       "      <td>MEMBER SELECTED</td>\n",
       "      <td>N</td>\n",
       "      <td>N</td>\n",
       "      <td>N</td>\n",
       "      <td>MAPD</td>\n",
       "      <td>LPPO</td>\n",
       "      <td>...</td>\n",
       "      <td>95.0</td>\n",
       "      <td>5.0</td>\n",
       "      <td>3.0</td>\n",
       "      <td>112.0</td>\n",
       "      <td>312500.0</td>\n",
       "      <td>45000.0</td>\n",
       "      <td>4.0</td>\n",
       "      <td>3.0</td>\n",
       "      <td>30.0</td>\n",
       "      <td>53.0</td>\n",
       "    </tr>\n",
       "    <tr>\n",
       "      <th>27</th>\n",
       "      <td>F</td>\n",
       "      <td>N</td>\n",
       "      <td>N</td>\n",
       "      <td>0.0</td>\n",
       "      <td>ATTRIBUTED</td>\n",
       "      <td>N</td>\n",
       "      <td>N</td>\n",
       "      <td>N</td>\n",
       "      <td>MAPD</td>\n",
       "      <td>RPPO</td>\n",
       "      <td>...</td>\n",
       "      <td>85.0</td>\n",
       "      <td>15.0</td>\n",
       "      <td>NaN</td>\n",
       "      <td>136.0</td>\n",
       "      <td>-2500.0</td>\n",
       "      <td>55000.0</td>\n",
       "      <td>3.0</td>\n",
       "      <td>3.0</td>\n",
       "      <td>99.0</td>\n",
       "      <td>97.0</td>\n",
       "    </tr>\n",
       "    <tr>\n",
       "      <th>28</th>\n",
       "      <td>F</td>\n",
       "      <td>N</td>\n",
       "      <td>N</td>\n",
       "      <td>0.0</td>\n",
       "      <td>MEMBER SELECTED</td>\n",
       "      <td>N</td>\n",
       "      <td>N</td>\n",
       "      <td>N</td>\n",
       "      <td>MAPD</td>\n",
       "      <td>LPPO</td>\n",
       "      <td>...</td>\n",
       "      <td>94.0</td>\n",
       "      <td>6.0</td>\n",
       "      <td>4.0</td>\n",
       "      <td>90.0</td>\n",
       "      <td>312500.0</td>\n",
       "      <td>7500.0</td>\n",
       "      <td>4.0</td>\n",
       "      <td>1.0</td>\n",
       "      <td>5.0</td>\n",
       "      <td>23.0</td>\n",
       "    </tr>\n",
       "    <tr>\n",
       "      <th>29</th>\n",
       "      <td>F</td>\n",
       "      <td>N</td>\n",
       "      <td>N</td>\n",
       "      <td>0.0</td>\n",
       "      <td>ATTRIBUTED</td>\n",
       "      <td>N</td>\n",
       "      <td>N</td>\n",
       "      <td>N</td>\n",
       "      <td>MAPD</td>\n",
       "      <td>PFFS</td>\n",
       "      <td>...</td>\n",
       "      <td>96.0</td>\n",
       "      <td>4.0</td>\n",
       "      <td>7.0</td>\n",
       "      <td>114.0</td>\n",
       "      <td>200000.0</td>\n",
       "      <td>45000.0</td>\n",
       "      <td>5.0</td>\n",
       "      <td>0.0</td>\n",
       "      <td>35.0</td>\n",
       "      <td>49.0</td>\n",
       "    </tr>\n",
       "    <tr>\n",
       "      <th>...</th>\n",
       "      <td>...</td>\n",
       "      <td>...</td>\n",
       "      <td>...</td>\n",
       "      <td>...</td>\n",
       "      <td>...</td>\n",
       "      <td>...</td>\n",
       "      <td>...</td>\n",
       "      <td>...</td>\n",
       "      <td>...</td>\n",
       "      <td>...</td>\n",
       "      <td>...</td>\n",
       "      <td>...</td>\n",
       "      <td>...</td>\n",
       "      <td>...</td>\n",
       "      <td>...</td>\n",
       "      <td>...</td>\n",
       "      <td>...</td>\n",
       "      <td>...</td>\n",
       "      <td>...</td>\n",
       "      <td>...</td>\n",
       "      <td>...</td>\n",
       "    </tr>\n",
       "    <tr>\n",
       "      <th>99970</th>\n",
       "      <td>F</td>\n",
       "      <td>N</td>\n",
       "      <td>N</td>\n",
       "      <td>0.0</td>\n",
       "      <td>MEMBER SELECTED</td>\n",
       "      <td>N</td>\n",
       "      <td>N</td>\n",
       "      <td>N</td>\n",
       "      <td>MAPD</td>\n",
       "      <td>RPPO</td>\n",
       "      <td>...</td>\n",
       "      <td>97.0</td>\n",
       "      <td>3.0</td>\n",
       "      <td>1.0</td>\n",
       "      <td>433.0</td>\n",
       "      <td>312500.0</td>\n",
       "      <td>87500.0</td>\n",
       "      <td>5.0</td>\n",
       "      <td>1.0</td>\n",
       "      <td>88.0</td>\n",
       "      <td>85.0</td>\n",
       "    </tr>\n",
       "    <tr>\n",
       "      <th>99971</th>\n",
       "      <td>F</td>\n",
       "      <td>N</td>\n",
       "      <td>N</td>\n",
       "      <td>0.0</td>\n",
       "      <td>MEMBER SELECTED</td>\n",
       "      <td>N</td>\n",
       "      <td>N</td>\n",
       "      <td>N</td>\n",
       "      <td>MAPD</td>\n",
       "      <td>HMO</td>\n",
       "      <td>...</td>\n",
       "      <td>97.0</td>\n",
       "      <td>3.0</td>\n",
       "      <td>0.0</td>\n",
       "      <td>699.0</td>\n",
       "      <td>1000000.0</td>\n",
       "      <td>225000.0</td>\n",
       "      <td>3.0</td>\n",
       "      <td>6.0</td>\n",
       "      <td>35.0</td>\n",
       "      <td>52.0</td>\n",
       "    </tr>\n",
       "    <tr>\n",
       "      <th>99972</th>\n",
       "      <td>M</td>\n",
       "      <td>N</td>\n",
       "      <td>N</td>\n",
       "      <td>0.0</td>\n",
       "      <td>MEMBER SELECTED</td>\n",
       "      <td>N</td>\n",
       "      <td>N</td>\n",
       "      <td>N</td>\n",
       "      <td>MAPD</td>\n",
       "      <td>HMO</td>\n",
       "      <td>...</td>\n",
       "      <td>99.0</td>\n",
       "      <td>1.0</td>\n",
       "      <td>6.0</td>\n",
       "      <td>275.0</td>\n",
       "      <td>437500.0</td>\n",
       "      <td>55000.0</td>\n",
       "      <td>3.0</td>\n",
       "      <td>3.0</td>\n",
       "      <td>45.0</td>\n",
       "      <td>22.0</td>\n",
       "    </tr>\n",
       "    <tr>\n",
       "      <th>99973</th>\n",
       "      <td>F</td>\n",
       "      <td>N</td>\n",
       "      <td>N</td>\n",
       "      <td>0.0</td>\n",
       "      <td>MEMBER SELECTED</td>\n",
       "      <td>N</td>\n",
       "      <td>N</td>\n",
       "      <td>N</td>\n",
       "      <td>MAPD</td>\n",
       "      <td>LPPO</td>\n",
       "      <td>...</td>\n",
       "      <td>98.0</td>\n",
       "      <td>2.0</td>\n",
       "      <td>NaN</td>\n",
       "      <td>379.0</td>\n",
       "      <td>1000000.0</td>\n",
       "      <td>325000.0</td>\n",
       "      <td>4.0</td>\n",
       "      <td>2.0</td>\n",
       "      <td>40.0</td>\n",
       "      <td>50.0</td>\n",
       "    </tr>\n",
       "    <tr>\n",
       "      <th>99974</th>\n",
       "      <td>M</td>\n",
       "      <td>N</td>\n",
       "      <td>N</td>\n",
       "      <td>0.0</td>\n",
       "      <td>ATTRIBUTED</td>\n",
       "      <td>Y</td>\n",
       "      <td>N</td>\n",
       "      <td>N</td>\n",
       "      <td>MA</td>\n",
       "      <td>PFFS</td>\n",
       "      <td>...</td>\n",
       "      <td>66.0</td>\n",
       "      <td>34.0</td>\n",
       "      <td>NaN</td>\n",
       "      <td>72.0</td>\n",
       "      <td>125000.0</td>\n",
       "      <td>45000.0</td>\n",
       "      <td>3.0</td>\n",
       "      <td>6.0</td>\n",
       "      <td>36.0</td>\n",
       "      <td>34.0</td>\n",
       "    </tr>\n",
       "    <tr>\n",
       "      <th>99975</th>\n",
       "      <td>F</td>\n",
       "      <td>N</td>\n",
       "      <td>N</td>\n",
       "      <td>0.0</td>\n",
       "      <td>MEMBER SELECTED</td>\n",
       "      <td>N</td>\n",
       "      <td>N</td>\n",
       "      <td>N</td>\n",
       "      <td>MAPD</td>\n",
       "      <td>RPPO</td>\n",
       "      <td>...</td>\n",
       "      <td>85.0</td>\n",
       "      <td>15.0</td>\n",
       "      <td>8.0</td>\n",
       "      <td>0.0</td>\n",
       "      <td>-2500.0</td>\n",
       "      <td>7500.0</td>\n",
       "      <td>0.0</td>\n",
       "      <td>0.0</td>\n",
       "      <td>57.0</td>\n",
       "      <td>64.0</td>\n",
       "    </tr>\n",
       "    <tr>\n",
       "      <th>99976</th>\n",
       "      <td>F</td>\n",
       "      <td>N</td>\n",
       "      <td>N</td>\n",
       "      <td>0.0</td>\n",
       "      <td>MEMBER SELECTED</td>\n",
       "      <td>N</td>\n",
       "      <td>N</td>\n",
       "      <td>N</td>\n",
       "      <td>MAPD</td>\n",
       "      <td>HMO</td>\n",
       "      <td>...</td>\n",
       "      <td>93.0</td>\n",
       "      <td>7.0</td>\n",
       "      <td>4.0</td>\n",
       "      <td>170.0</td>\n",
       "      <td>125000.0</td>\n",
       "      <td>67500.0</td>\n",
       "      <td>2.0</td>\n",
       "      <td>2.0</td>\n",
       "      <td>32.0</td>\n",
       "      <td>33.0</td>\n",
       "    </tr>\n",
       "    <tr>\n",
       "      <th>99977</th>\n",
       "      <td>M</td>\n",
       "      <td>N</td>\n",
       "      <td>N</td>\n",
       "      <td>1.0</td>\n",
       "      <td>MEMBER SELECTED</td>\n",
       "      <td>N</td>\n",
       "      <td>N</td>\n",
       "      <td>N</td>\n",
       "      <td>MAPD</td>\n",
       "      <td>HMO</td>\n",
       "      <td>...</td>\n",
       "      <td>92.0</td>\n",
       "      <td>8.0</td>\n",
       "      <td>2.0</td>\n",
       "      <td>304.0</td>\n",
       "      <td>875000.0</td>\n",
       "      <td>175000.0</td>\n",
       "      <td>2.0</td>\n",
       "      <td>5.0</td>\n",
       "      <td>88.0</td>\n",
       "      <td>90.0</td>\n",
       "    </tr>\n",
       "    <tr>\n",
       "      <th>99978</th>\n",
       "      <td>F</td>\n",
       "      <td>N</td>\n",
       "      <td>N</td>\n",
       "      <td>1.0</td>\n",
       "      <td>MEMBER SELECTED</td>\n",
       "      <td>Y</td>\n",
       "      <td>N</td>\n",
       "      <td>Y</td>\n",
       "      <td>MAPD</td>\n",
       "      <td>HMO</td>\n",
       "      <td>...</td>\n",
       "      <td>72.0</td>\n",
       "      <td>28.0</td>\n",
       "      <td>NaN</td>\n",
       "      <td>0.0</td>\n",
       "      <td>-2500.0</td>\n",
       "      <td>7500.0</td>\n",
       "      <td>0.0</td>\n",
       "      <td>9.0</td>\n",
       "      <td>32.0</td>\n",
       "      <td>53.0</td>\n",
       "    </tr>\n",
       "    <tr>\n",
       "      <th>99979</th>\n",
       "      <td>M</td>\n",
       "      <td>N</td>\n",
       "      <td>N</td>\n",
       "      <td>0.0</td>\n",
       "      <td>MEMBER SELECTED</td>\n",
       "      <td>N</td>\n",
       "      <td>N</td>\n",
       "      <td>N</td>\n",
       "      <td>MAPD</td>\n",
       "      <td>HMO</td>\n",
       "      <td>...</td>\n",
       "      <td>96.0</td>\n",
       "      <td>4.0</td>\n",
       "      <td>2.0</td>\n",
       "      <td>0.0</td>\n",
       "      <td>312500.0</td>\n",
       "      <td>67500.0</td>\n",
       "      <td>1.0</td>\n",
       "      <td>9.0</td>\n",
       "      <td>96.0</td>\n",
       "      <td>95.0</td>\n",
       "    </tr>\n",
       "    <tr>\n",
       "      <th>99980</th>\n",
       "      <td>F</td>\n",
       "      <td>N</td>\n",
       "      <td>N</td>\n",
       "      <td>0.0</td>\n",
       "      <td>MEMBER SELECTED</td>\n",
       "      <td>N</td>\n",
       "      <td>N</td>\n",
       "      <td>N</td>\n",
       "      <td>MAPD</td>\n",
       "      <td>HMO</td>\n",
       "      <td>...</td>\n",
       "      <td>93.0</td>\n",
       "      <td>7.0</td>\n",
       "      <td>8.0</td>\n",
       "      <td>196.0</td>\n",
       "      <td>-2500.0</td>\n",
       "      <td>45000.0</td>\n",
       "      <td>2.0</td>\n",
       "      <td>5.0</td>\n",
       "      <td>1.0</td>\n",
       "      <td>23.0</td>\n",
       "    </tr>\n",
       "    <tr>\n",
       "      <th>99981</th>\n",
       "      <td>F</td>\n",
       "      <td>N</td>\n",
       "      <td>N</td>\n",
       "      <td>1.0</td>\n",
       "      <td>MEMBER SELECTED</td>\n",
       "      <td>N</td>\n",
       "      <td>N</td>\n",
       "      <td>N</td>\n",
       "      <td>MAPD</td>\n",
       "      <td>HMO</td>\n",
       "      <td>...</td>\n",
       "      <td>97.0</td>\n",
       "      <td>3.0</td>\n",
       "      <td>7.0</td>\n",
       "      <td>101.0</td>\n",
       "      <td>-2500.0</td>\n",
       "      <td>55000.0</td>\n",
       "      <td>3.0</td>\n",
       "      <td>0.0</td>\n",
       "      <td>80.0</td>\n",
       "      <td>84.0</td>\n",
       "    </tr>\n",
       "    <tr>\n",
       "      <th>99982</th>\n",
       "      <td>M</td>\n",
       "      <td>N</td>\n",
       "      <td>N</td>\n",
       "      <td>0.0</td>\n",
       "      <td>MEMBER SELECTED</td>\n",
       "      <td>N</td>\n",
       "      <td>N</td>\n",
       "      <td>N</td>\n",
       "      <td>MAPD</td>\n",
       "      <td>HMO</td>\n",
       "      <td>...</td>\n",
       "      <td>92.0</td>\n",
       "      <td>8.0</td>\n",
       "      <td>6.0</td>\n",
       "      <td>0.0</td>\n",
       "      <td>125000.0</td>\n",
       "      <td>45000.0</td>\n",
       "      <td>2.0</td>\n",
       "      <td>4.0</td>\n",
       "      <td>23.0</td>\n",
       "      <td>25.0</td>\n",
       "    </tr>\n",
       "    <tr>\n",
       "      <th>99983</th>\n",
       "      <td>M</td>\n",
       "      <td>N</td>\n",
       "      <td>N</td>\n",
       "      <td>0.0</td>\n",
       "      <td>MEMBER SELECTED</td>\n",
       "      <td>N</td>\n",
       "      <td>N</td>\n",
       "      <td>N</td>\n",
       "      <td>MAPD</td>\n",
       "      <td>HMO</td>\n",
       "      <td>...</td>\n",
       "      <td>95.0</td>\n",
       "      <td>5.0</td>\n",
       "      <td>6.0</td>\n",
       "      <td>759.0</td>\n",
       "      <td>1000000.0</td>\n",
       "      <td>87500.0</td>\n",
       "      <td>0.0</td>\n",
       "      <td>2.0</td>\n",
       "      <td>49.0</td>\n",
       "      <td>45.0</td>\n",
       "    </tr>\n",
       "    <tr>\n",
       "      <th>99984</th>\n",
       "      <td>F</td>\n",
       "      <td>N</td>\n",
       "      <td>N</td>\n",
       "      <td>0.0</td>\n",
       "      <td>MEMBER SELECTED</td>\n",
       "      <td>N</td>\n",
       "      <td>N</td>\n",
       "      <td>N</td>\n",
       "      <td>MAPD</td>\n",
       "      <td>LPPO</td>\n",
       "      <td>...</td>\n",
       "      <td>98.0</td>\n",
       "      <td>2.0</td>\n",
       "      <td>2.0</td>\n",
       "      <td>774.0</td>\n",
       "      <td>-2500.0</td>\n",
       "      <td>87500.0</td>\n",
       "      <td>2.0</td>\n",
       "      <td>1.0</td>\n",
       "      <td>40.0</td>\n",
       "      <td>62.0</td>\n",
       "    </tr>\n",
       "    <tr>\n",
       "      <th>99985</th>\n",
       "      <td>M</td>\n",
       "      <td>N</td>\n",
       "      <td>N</td>\n",
       "      <td>1.0</td>\n",
       "      <td>MEMBER SELECTED</td>\n",
       "      <td>N</td>\n",
       "      <td>N</td>\n",
       "      <td>N</td>\n",
       "      <td>MAPD</td>\n",
       "      <td>LPPO</td>\n",
       "      <td>...</td>\n",
       "      <td>92.0</td>\n",
       "      <td>8.0</td>\n",
       "      <td>9.0</td>\n",
       "      <td>85.0</td>\n",
       "      <td>37500.0</td>\n",
       "      <td>87500.0</td>\n",
       "      <td>5.0</td>\n",
       "      <td>6.0</td>\n",
       "      <td>77.0</td>\n",
       "      <td>84.0</td>\n",
       "    </tr>\n",
       "    <tr>\n",
       "      <th>99986</th>\n",
       "      <td>F</td>\n",
       "      <td>N</td>\n",
       "      <td>N</td>\n",
       "      <td>0.0</td>\n",
       "      <td>MEMBER SELECTED</td>\n",
       "      <td>Y</td>\n",
       "      <td>N</td>\n",
       "      <td>Y</td>\n",
       "      <td>MAPD</td>\n",
       "      <td>HMO</td>\n",
       "      <td>...</td>\n",
       "      <td>86.0</td>\n",
       "      <td>14.0</td>\n",
       "      <td>8.0</td>\n",
       "      <td>100.0</td>\n",
       "      <td>87500.0</td>\n",
       "      <td>25000.0</td>\n",
       "      <td>3.0</td>\n",
       "      <td>0.0</td>\n",
       "      <td>69.0</td>\n",
       "      <td>82.0</td>\n",
       "    </tr>\n",
       "    <tr>\n",
       "      <th>99987</th>\n",
       "      <td>F</td>\n",
       "      <td>N</td>\n",
       "      <td>N</td>\n",
       "      <td>0.0</td>\n",
       "      <td>ATTRIBUTED</td>\n",
       "      <td>N</td>\n",
       "      <td>N</td>\n",
       "      <td>N</td>\n",
       "      <td>MAPD</td>\n",
       "      <td>PFFS</td>\n",
       "      <td>...</td>\n",
       "      <td>58.0</td>\n",
       "      <td>42.0</td>\n",
       "      <td>9.0</td>\n",
       "      <td>70.0</td>\n",
       "      <td>200000.0</td>\n",
       "      <td>35000.0</td>\n",
       "      <td>0.0</td>\n",
       "      <td>1.0</td>\n",
       "      <td>70.0</td>\n",
       "      <td>76.0</td>\n",
       "    </tr>\n",
       "    <tr>\n",
       "      <th>99988</th>\n",
       "      <td>F</td>\n",
       "      <td>N</td>\n",
       "      <td>N</td>\n",
       "      <td>0.0</td>\n",
       "      <td>MEMBER SELECTED</td>\n",
       "      <td>N</td>\n",
       "      <td>N</td>\n",
       "      <td>N</td>\n",
       "      <td>MAPD</td>\n",
       "      <td>PFFS</td>\n",
       "      <td>...</td>\n",
       "      <td>NaN</td>\n",
       "      <td>NaN</td>\n",
       "      <td>NaN</td>\n",
       "      <td>NaN</td>\n",
       "      <td>NaN</td>\n",
       "      <td>NaN</td>\n",
       "      <td>NaN</td>\n",
       "      <td>NaN</td>\n",
       "      <td>NaN</td>\n",
       "      <td>NaN</td>\n",
       "    </tr>\n",
       "    <tr>\n",
       "      <th>99989</th>\n",
       "      <td>M</td>\n",
       "      <td>N</td>\n",
       "      <td>N</td>\n",
       "      <td>0.0</td>\n",
       "      <td>MEMBER SELECTED</td>\n",
       "      <td>N</td>\n",
       "      <td>N</td>\n",
       "      <td>N</td>\n",
       "      <td>MAPD</td>\n",
       "      <td>HMO</td>\n",
       "      <td>...</td>\n",
       "      <td>72.0</td>\n",
       "      <td>28.0</td>\n",
       "      <td>4.0</td>\n",
       "      <td>177.0</td>\n",
       "      <td>-2500.0</td>\n",
       "      <td>7500.0</td>\n",
       "      <td>2.0</td>\n",
       "      <td>0.0</td>\n",
       "      <td>30.0</td>\n",
       "      <td>60.0</td>\n",
       "    </tr>\n",
       "    <tr>\n",
       "      <th>99990</th>\n",
       "      <td>M</td>\n",
       "      <td>N</td>\n",
       "      <td>N</td>\n",
       "      <td>0.0</td>\n",
       "      <td>MEMBER SELECTED</td>\n",
       "      <td>N</td>\n",
       "      <td>N</td>\n",
       "      <td>N</td>\n",
       "      <td>MAPD</td>\n",
       "      <td>HMO</td>\n",
       "      <td>...</td>\n",
       "      <td>77.0</td>\n",
       "      <td>23.0</td>\n",
       "      <td>4.0</td>\n",
       "      <td>143.0</td>\n",
       "      <td>200000.0</td>\n",
       "      <td>87500.0</td>\n",
       "      <td>4.0</td>\n",
       "      <td>7.0</td>\n",
       "      <td>57.0</td>\n",
       "      <td>71.0</td>\n",
       "    </tr>\n",
       "    <tr>\n",
       "      <th>99991</th>\n",
       "      <td>M</td>\n",
       "      <td>N</td>\n",
       "      <td>N</td>\n",
       "      <td>0.0</td>\n",
       "      <td>MEMBER SELECTED</td>\n",
       "      <td>N</td>\n",
       "      <td>N</td>\n",
       "      <td>N</td>\n",
       "      <td>MAPD</td>\n",
       "      <td>HMO</td>\n",
       "      <td>...</td>\n",
       "      <td>92.0</td>\n",
       "      <td>8.0</td>\n",
       "      <td>9.0</td>\n",
       "      <td>152.0</td>\n",
       "      <td>312500.0</td>\n",
       "      <td>67500.0</td>\n",
       "      <td>4.0</td>\n",
       "      <td>4.0</td>\n",
       "      <td>55.0</td>\n",
       "      <td>73.0</td>\n",
       "    </tr>\n",
       "    <tr>\n",
       "      <th>99992</th>\n",
       "      <td>M</td>\n",
       "      <td>N</td>\n",
       "      <td>N</td>\n",
       "      <td>0.0</td>\n",
       "      <td>UNATTRIBUTED</td>\n",
       "      <td>N</td>\n",
       "      <td>N</td>\n",
       "      <td>N</td>\n",
       "      <td>MA</td>\n",
       "      <td>RPPO</td>\n",
       "      <td>...</td>\n",
       "      <td>97.0</td>\n",
       "      <td>3.0</td>\n",
       "      <td>4.0</td>\n",
       "      <td>0.0</td>\n",
       "      <td>437500.0</td>\n",
       "      <td>55000.0</td>\n",
       "      <td>0.0</td>\n",
       "      <td>4.0</td>\n",
       "      <td>46.0</td>\n",
       "      <td>51.0</td>\n",
       "    </tr>\n",
       "    <tr>\n",
       "      <th>99993</th>\n",
       "      <td>M</td>\n",
       "      <td>N</td>\n",
       "      <td>N</td>\n",
       "      <td>0.0</td>\n",
       "      <td>MEMBER SELECTED</td>\n",
       "      <td>N</td>\n",
       "      <td>N</td>\n",
       "      <td>N</td>\n",
       "      <td>MAPD</td>\n",
       "      <td>LPPO</td>\n",
       "      <td>...</td>\n",
       "      <td>85.0</td>\n",
       "      <td>15.0</td>\n",
       "      <td>8.0</td>\n",
       "      <td>0.0</td>\n",
       "      <td>312500.0</td>\n",
       "      <td>55000.0</td>\n",
       "      <td>1.0</td>\n",
       "      <td>2.0</td>\n",
       "      <td>75.0</td>\n",
       "      <td>70.0</td>\n",
       "    </tr>\n",
       "    <tr>\n",
       "      <th>99994</th>\n",
       "      <td>F</td>\n",
       "      <td>N</td>\n",
       "      <td>N</td>\n",
       "      <td>0.0</td>\n",
       "      <td>MEMBER SELECTED</td>\n",
       "      <td>Y</td>\n",
       "      <td>N</td>\n",
       "      <td>Y</td>\n",
       "      <td>MAPD</td>\n",
       "      <td>HMO</td>\n",
       "      <td>...</td>\n",
       "      <td>87.0</td>\n",
       "      <td>13.0</td>\n",
       "      <td>NaN</td>\n",
       "      <td>0.0</td>\n",
       "      <td>-2500.0</td>\n",
       "      <td>7500.0</td>\n",
       "      <td>3.0</td>\n",
       "      <td>2.0</td>\n",
       "      <td>92.0</td>\n",
       "      <td>90.0</td>\n",
       "    </tr>\n",
       "    <tr>\n",
       "      <th>99995</th>\n",
       "      <td>M</td>\n",
       "      <td>N</td>\n",
       "      <td>N</td>\n",
       "      <td>0.0</td>\n",
       "      <td>MEMBER SELECTED</td>\n",
       "      <td>N</td>\n",
       "      <td>N</td>\n",
       "      <td>N</td>\n",
       "      <td>MAPD</td>\n",
       "      <td>LPPO</td>\n",
       "      <td>...</td>\n",
       "      <td>99.0</td>\n",
       "      <td>0.0</td>\n",
       "      <td>8.0</td>\n",
       "      <td>133.0</td>\n",
       "      <td>15000.0</td>\n",
       "      <td>7500.0</td>\n",
       "      <td>0.0</td>\n",
       "      <td>0.0</td>\n",
       "      <td>81.0</td>\n",
       "      <td>95.0</td>\n",
       "    </tr>\n",
       "    <tr>\n",
       "      <th>99996</th>\n",
       "      <td>M</td>\n",
       "      <td>N</td>\n",
       "      <td>N</td>\n",
       "      <td>0.0</td>\n",
       "      <td>MEMBER SELECTED</td>\n",
       "      <td>N</td>\n",
       "      <td>N</td>\n",
       "      <td>N</td>\n",
       "      <td>MAPD</td>\n",
       "      <td>HMO</td>\n",
       "      <td>...</td>\n",
       "      <td>96.0</td>\n",
       "      <td>4.0</td>\n",
       "      <td>5.0</td>\n",
       "      <td>250.0</td>\n",
       "      <td>200000.0</td>\n",
       "      <td>112000.0</td>\n",
       "      <td>5.0</td>\n",
       "      <td>5.0</td>\n",
       "      <td>11.0</td>\n",
       "      <td>16.0</td>\n",
       "    </tr>\n",
       "    <tr>\n",
       "      <th>99997</th>\n",
       "      <td>F</td>\n",
       "      <td>N</td>\n",
       "      <td>N</td>\n",
       "      <td>1.0</td>\n",
       "      <td>MEMBER SELECTED</td>\n",
       "      <td>N</td>\n",
       "      <td>N</td>\n",
       "      <td>N</td>\n",
       "      <td>MAPD</td>\n",
       "      <td>HMO</td>\n",
       "      <td>...</td>\n",
       "      <td>97.0</td>\n",
       "      <td>3.0</td>\n",
       "      <td>7.0</td>\n",
       "      <td>207.0</td>\n",
       "      <td>312500.0</td>\n",
       "      <td>67500.0</td>\n",
       "      <td>2.0</td>\n",
       "      <td>2.0</td>\n",
       "      <td>27.0</td>\n",
       "      <td>32.0</td>\n",
       "    </tr>\n",
       "    <tr>\n",
       "      <th>99998</th>\n",
       "      <td>F</td>\n",
       "      <td>N</td>\n",
       "      <td>N</td>\n",
       "      <td>1.0</td>\n",
       "      <td>MEMBER SELECTED</td>\n",
       "      <td>N</td>\n",
       "      <td>N</td>\n",
       "      <td>Y</td>\n",
       "      <td>MAPD</td>\n",
       "      <td>RPPO</td>\n",
       "      <td>...</td>\n",
       "      <td>70.0</td>\n",
       "      <td>30.0</td>\n",
       "      <td>6.0</td>\n",
       "      <td>75.0</td>\n",
       "      <td>-2500.0</td>\n",
       "      <td>17500.0</td>\n",
       "      <td>0.0</td>\n",
       "      <td>1.0</td>\n",
       "      <td>40.0</td>\n",
       "      <td>50.0</td>\n",
       "    </tr>\n",
       "    <tr>\n",
       "      <th>99999</th>\n",
       "      <td>F</td>\n",
       "      <td>N</td>\n",
       "      <td>N</td>\n",
       "      <td>0.0</td>\n",
       "      <td>MEMBER SELECTED</td>\n",
       "      <td>N</td>\n",
       "      <td>N</td>\n",
       "      <td>N</td>\n",
       "      <td>MAPD</td>\n",
       "      <td>HMO</td>\n",
       "      <td>...</td>\n",
       "      <td>NaN</td>\n",
       "      <td>NaN</td>\n",
       "      <td>NaN</td>\n",
       "      <td>NaN</td>\n",
       "      <td>NaN</td>\n",
       "      <td>NaN</td>\n",
       "      <td>NaN</td>\n",
       "      <td>NaN</td>\n",
       "      <td>NaN</td>\n",
       "      <td>NaN</td>\n",
       "    </tr>\n",
       "  </tbody>\n",
       "</table>\n",
       "<p>100000 rows × 29 columns</p>\n",
       "</div>"
      ],
      "text/plain": [
       "      SEX_CD ESRD_IND HOSPICE_IND  ORIG_REAS_ENTITLE_CD   PCP_ASSIGNMENT DUAL  \\\n",
       "0          F        N           N                   0.0  MEMBER SELECTED    N   \n",
       "1          F        N           N                   1.0       ATTRIBUTED    N   \n",
       "2          F        N           N                   0.0  MEMBER SELECTED    N   \n",
       "3          M        N           N                   0.0  MEMBER SELECTED    N   \n",
       "4          F        N           N                   1.0  MEMBER SELECTED    Y   \n",
       "5          F        N           N                   0.0  MEMBER SELECTED    N   \n",
       "6          F        N           N                   0.0  MEMBER SELECTED    N   \n",
       "7          M        N           N                   0.0  MEMBER SELECTED    N   \n",
       "8          M        N           N                   0.0  MEMBER SELECTED    N   \n",
       "9          M        N           N                   0.0  MEMBER SELECTED    N   \n",
       "10         M        N           N                   0.0  MEMBER SELECTED    N   \n",
       "11         M        N           N                   1.0  MEMBER SELECTED    N   \n",
       "12         F        N           N                   1.0  MEMBER SELECTED    N   \n",
       "13         F        N           N                   1.0  MEMBER SELECTED    N   \n",
       "14         F        N           N                   1.0  MEMBER SELECTED    Y   \n",
       "15         M        N           N                   1.0  MEMBER SELECTED    N   \n",
       "16         F        N           N                   0.0       ATTRIBUTED    N   \n",
       "17         M        N           N                   0.0  MEMBER SELECTED    N   \n",
       "18         M        N           N                   1.0  MEMBER SELECTED    N   \n",
       "19         M        N           N                   0.0  MEMBER SELECTED    N   \n",
       "20         M        N           N                   0.0  MEMBER SELECTED    Y   \n",
       "21         F        N           N                   0.0       ATTRIBUTED    N   \n",
       "22         M        N           N                   0.0  MEMBER SELECTED    N   \n",
       "23         M        N           N                   1.0  MEMBER SELECTED    N   \n",
       "24         M        N           N                   0.0  MEMBER SELECTED    Y   \n",
       "25         F        N           N                   0.0  MEMBER SELECTED    N   \n",
       "26         M        N           N                   0.0  MEMBER SELECTED    N   \n",
       "27         F        N           N                   0.0       ATTRIBUTED    N   \n",
       "28         F        N           N                   0.0  MEMBER SELECTED    N   \n",
       "29         F        N           N                   0.0       ATTRIBUTED    N   \n",
       "...      ...      ...         ...                   ...              ...  ...   \n",
       "99970      F        N           N                   0.0  MEMBER SELECTED    N   \n",
       "99971      F        N           N                   0.0  MEMBER SELECTED    N   \n",
       "99972      M        N           N                   0.0  MEMBER SELECTED    N   \n",
       "99973      F        N           N                   0.0  MEMBER SELECTED    N   \n",
       "99974      M        N           N                   0.0       ATTRIBUTED    Y   \n",
       "99975      F        N           N                   0.0  MEMBER SELECTED    N   \n",
       "99976      F        N           N                   0.0  MEMBER SELECTED    N   \n",
       "99977      M        N           N                   1.0  MEMBER SELECTED    N   \n",
       "99978      F        N           N                   1.0  MEMBER SELECTED    Y   \n",
       "99979      M        N           N                   0.0  MEMBER SELECTED    N   \n",
       "99980      F        N           N                   0.0  MEMBER SELECTED    N   \n",
       "99981      F        N           N                   1.0  MEMBER SELECTED    N   \n",
       "99982      M        N           N                   0.0  MEMBER SELECTED    N   \n",
       "99983      M        N           N                   0.0  MEMBER SELECTED    N   \n",
       "99984      F        N           N                   0.0  MEMBER SELECTED    N   \n",
       "99985      M        N           N                   1.0  MEMBER SELECTED    N   \n",
       "99986      F        N           N                   0.0  MEMBER SELECTED    Y   \n",
       "99987      F        N           N                   0.0       ATTRIBUTED    N   \n",
       "99988      F        N           N                   0.0  MEMBER SELECTED    N   \n",
       "99989      M        N           N                   0.0  MEMBER SELECTED    N   \n",
       "99990      M        N           N                   0.0  MEMBER SELECTED    N   \n",
       "99991      M        N           N                   0.0  MEMBER SELECTED    N   \n",
       "99992      M        N           N                   0.0     UNATTRIBUTED    N   \n",
       "99993      M        N           N                   0.0  MEMBER SELECTED    N   \n",
       "99994      F        N           N                   0.0  MEMBER SELECTED    Y   \n",
       "99995      M        N           N                   0.0  MEMBER SELECTED    N   \n",
       "99996      M        N           N                   0.0  MEMBER SELECTED    N   \n",
       "99997      F        N           N                   1.0  MEMBER SELECTED    N   \n",
       "99998      F        N           N                   1.0  MEMBER SELECTED    N   \n",
       "99999      F        N           N                   0.0  MEMBER SELECTED    N   \n",
       "\n",
       "      INSTITUTIONAL LIS MCO_HLVL_PLAN_CD MCO_PROD_TYPE_CD  \\\n",
       "0                 N   N             MAPD             LPPO   \n",
       "1                 N   N             MAPD             PFFS   \n",
       "2                 N   N             MAPD              HMO   \n",
       "3                 N   N             MAPD              HMO   \n",
       "4                 N   Y             MAPD              HMO   \n",
       "5                 N   N             MAPD             PFFS   \n",
       "6                 N   N             MAPD              HMO   \n",
       "7                 N   N             MAPD              HMO   \n",
       "8                 N   N             MAPD             LPPO   \n",
       "9                 N   N             MAPD              HMO   \n",
       "10                N   N               MA             RPPO   \n",
       "11                N   N             MAPD              HMO   \n",
       "12                N   N             MAPD             LPPO   \n",
       "13                N   Y             MAPD              HMO   \n",
       "14                N   Y             MAPD              HMO   \n",
       "15                N   Y             MAPD              HMO   \n",
       "16                N   N             MAPD             LPPO   \n",
       "17                N   N             MAPD              HMO   \n",
       "18                N   N             MAPD             RPPO   \n",
       "19                N   N             MAPD              HMO   \n",
       "20                Y   Y             MAPD             RPPO   \n",
       "21                N   N             MAPD             RPPO   \n",
       "22                N   N             MAPD             LPPO   \n",
       "23                N   Y             MAPD              HMO   \n",
       "24                N   Y             MAPD             RPPO   \n",
       "25                N   N             MAPD              HMO   \n",
       "26                N   N             MAPD             LPPO   \n",
       "27                N   N             MAPD             RPPO   \n",
       "28                N   N             MAPD             LPPO   \n",
       "29                N   N             MAPD             PFFS   \n",
       "...             ...  ..              ...              ...   \n",
       "99970             N   N             MAPD             RPPO   \n",
       "99971             N   N             MAPD              HMO   \n",
       "99972             N   N             MAPD              HMO   \n",
       "99973             N   N             MAPD             LPPO   \n",
       "99974             N   N               MA             PFFS   \n",
       "99975             N   N             MAPD             RPPO   \n",
       "99976             N   N             MAPD              HMO   \n",
       "99977             N   N             MAPD              HMO   \n",
       "99978             N   Y             MAPD              HMO   \n",
       "99979             N   N             MAPD              HMO   \n",
       "99980             N   N             MAPD              HMO   \n",
       "99981             N   N             MAPD              HMO   \n",
       "99982             N   N             MAPD              HMO   \n",
       "99983             N   N             MAPD              HMO   \n",
       "99984             N   N             MAPD             LPPO   \n",
       "99985             N   N             MAPD             LPPO   \n",
       "99986             N   Y             MAPD              HMO   \n",
       "99987             N   N             MAPD             PFFS   \n",
       "99988             N   N             MAPD             PFFS   \n",
       "99989             N   N             MAPD              HMO   \n",
       "99990             N   N             MAPD              HMO   \n",
       "99991             N   N             MAPD              HMO   \n",
       "99992             N   N               MA             RPPO   \n",
       "99993             N   N             MAPD             LPPO   \n",
       "99994             N   Y             MAPD              HMO   \n",
       "99995             N   N             MAPD             LPPO   \n",
       "99996             N   N             MAPD              HMO   \n",
       "99997             N   N             MAPD              HMO   \n",
       "99998             N   Y             MAPD             RPPO   \n",
       "99999             N   N             MAPD              HMO   \n",
       "\n",
       "                   ...               Pct_above_poverty_line  \\\n",
       "0                  ...                                 94.0   \n",
       "1                  ...                                 86.0   \n",
       "2                  ...                                 95.0   \n",
       "3                  ...                                 90.0   \n",
       "4                  ...                                  NaN   \n",
       "5                  ...                                 87.0   \n",
       "6                  ...                                 99.0   \n",
       "7                  ...                                 95.0   \n",
       "8                  ...                                 79.0   \n",
       "9                  ...                                 92.0   \n",
       "10                 ...                                  NaN   \n",
       "11                 ...                                 62.0   \n",
       "12                 ...                                 78.0   \n",
       "13                 ...                                 78.0   \n",
       "14                 ...                                 79.0   \n",
       "15                 ...                                 95.0   \n",
       "16                 ...                                 70.0   \n",
       "17                 ...                                 48.0   \n",
       "18                 ...                                 78.0   \n",
       "19                 ...                                 96.0   \n",
       "20                 ...                                 88.0   \n",
       "21                 ...                                 93.0   \n",
       "22                 ...                                 83.0   \n",
       "23                 ...                                 92.0   \n",
       "24                 ...                                  NaN   \n",
       "25                 ...                                 95.0   \n",
       "26                 ...                                 95.0   \n",
       "27                 ...                                 85.0   \n",
       "28                 ...                                 94.0   \n",
       "29                 ...                                 96.0   \n",
       "...                ...                                  ...   \n",
       "99970              ...                                 97.0   \n",
       "99971              ...                                 97.0   \n",
       "99972              ...                                 99.0   \n",
       "99973              ...                                 98.0   \n",
       "99974              ...                                 66.0   \n",
       "99975              ...                                 85.0   \n",
       "99976              ...                                 93.0   \n",
       "99977              ...                                 92.0   \n",
       "99978              ...                                 72.0   \n",
       "99979              ...                                 96.0   \n",
       "99980              ...                                 93.0   \n",
       "99981              ...                                 97.0   \n",
       "99982              ...                                 92.0   \n",
       "99983              ...                                 95.0   \n",
       "99984              ...                                 98.0   \n",
       "99985              ...                                 92.0   \n",
       "99986              ...                                 86.0   \n",
       "99987              ...                                 58.0   \n",
       "99988              ...                                  NaN   \n",
       "99989              ...                                 72.0   \n",
       "99990              ...                                 77.0   \n",
       "99991              ...                                 92.0   \n",
       "99992              ...                                 97.0   \n",
       "99993              ...                                 85.0   \n",
       "99994              ...                                 87.0   \n",
       "99995              ...                                 99.0   \n",
       "99996              ...                                 96.0   \n",
       "99997              ...                                 97.0   \n",
       "99998              ...                                 70.0   \n",
       "99999              ...                                  NaN   \n",
       "\n",
       "      Pct_below_poverty_line  Decile_struggle_Med_lang  Home_value  \\\n",
       "0                        6.0                       5.0       127.0   \n",
       "1                       14.0                       NaN       128.0   \n",
       "2                        5.0                       5.0       359.0   \n",
       "3                       10.0                       7.0       280.0   \n",
       "4                        NaN                       NaN         NaN   \n",
       "5                       13.0                       6.0        62.0   \n",
       "6                        1.0                       NaN       138.0   \n",
       "7                        5.0                       4.0         0.0   \n",
       "8                       21.0                       7.0       180.0   \n",
       "9                        8.0                       NaN       112.0   \n",
       "10                       NaN                       NaN         NaN   \n",
       "11                      38.0                       NaN        59.0   \n",
       "12                      22.0                       5.0        50.0   \n",
       "13                      22.0                       8.0         0.0   \n",
       "14                      21.0                       8.0       250.0   \n",
       "15                       5.0                       8.0       129.0   \n",
       "16                      30.0                       7.0        94.0   \n",
       "17                      52.0                       8.0         0.0   \n",
       "18                      22.0                       9.0         0.0   \n",
       "19                       4.0                       9.0       230.0   \n",
       "20                      12.0                       NaN       106.0   \n",
       "21                       7.0                       1.0       206.0   \n",
       "22                      17.0                       8.0       184.0   \n",
       "23                       8.0                       8.0        86.0   \n",
       "24                       NaN                       NaN         NaN   \n",
       "25                       5.0                       1.0       403.0   \n",
       "26                       5.0                       3.0       112.0   \n",
       "27                      15.0                       NaN       136.0   \n",
       "28                       6.0                       4.0        90.0   \n",
       "29                       4.0                       7.0       114.0   \n",
       "...                      ...                       ...         ...   \n",
       "99970                    3.0                       1.0       433.0   \n",
       "99971                    3.0                       0.0       699.0   \n",
       "99972                    1.0                       6.0       275.0   \n",
       "99973                    2.0                       NaN       379.0   \n",
       "99974                   34.0                       NaN        72.0   \n",
       "99975                   15.0                       8.0         0.0   \n",
       "99976                    7.0                       4.0       170.0   \n",
       "99977                    8.0                       2.0       304.0   \n",
       "99978                   28.0                       NaN         0.0   \n",
       "99979                    4.0                       2.0         0.0   \n",
       "99980                    7.0                       8.0       196.0   \n",
       "99981                    3.0                       7.0       101.0   \n",
       "99982                    8.0                       6.0         0.0   \n",
       "99983                    5.0                       6.0       759.0   \n",
       "99984                    2.0                       2.0       774.0   \n",
       "99985                    8.0                       9.0        85.0   \n",
       "99986                   14.0                       8.0       100.0   \n",
       "99987                   42.0                       9.0        70.0   \n",
       "99988                    NaN                       NaN         NaN   \n",
       "99989                   28.0                       4.0       177.0   \n",
       "99990                   23.0                       4.0       143.0   \n",
       "99991                    8.0                       9.0       152.0   \n",
       "99992                    3.0                       4.0         0.0   \n",
       "99993                   15.0                       8.0         0.0   \n",
       "99994                   13.0                       NaN         0.0   \n",
       "99995                    0.0                       8.0       133.0   \n",
       "99996                    4.0                       5.0       250.0   \n",
       "99997                    3.0                       7.0       207.0   \n",
       "99998                   30.0                       6.0        75.0   \n",
       "99999                    NaN                       NaN         NaN   \n",
       "\n",
       "       Est_Net_worth  Est_income  Index_Health_ins_engage  \\\n",
       "0            87500.0     87500.0                      3.0   \n",
       "1            -2500.0      7500.0                      1.0   \n",
       "2           625000.0    112000.0                      1.0   \n",
       "3            -2500.0     55000.0                      2.0   \n",
       "4                NaN         NaN                      NaN   \n",
       "5            87500.0     55000.0                      0.0   \n",
       "6            15000.0     87500.0                      6.0   \n",
       "7           200000.0     35000.0                      4.0   \n",
       "8           125000.0     55000.0                      4.0   \n",
       "9            15000.0     67500.0                      2.0   \n",
       "10               NaN         NaN                      NaN   \n",
       "11           -2500.0      7500.0                      0.0   \n",
       "12           -2500.0      7500.0                      0.0   \n",
       "13           -2500.0      7500.0                      0.0   \n",
       "14          125000.0     35000.0                      3.0   \n",
       "15          312500.0     87500.0                      8.0   \n",
       "16           15000.0     35000.0                      0.0   \n",
       "17           -2500.0     35000.0                      1.0   \n",
       "18           -2500.0     35000.0                      2.0   \n",
       "19          200000.0     55000.0                      3.0   \n",
       "20           -2500.0      7500.0                      7.0   \n",
       "21          625000.0     87500.0                      1.0   \n",
       "22          312500.0     67500.0                      3.0   \n",
       "23           37500.0     87500.0                      2.0   \n",
       "24               NaN         NaN                      NaN   \n",
       "25          875000.0    112000.0                      3.0   \n",
       "26          312500.0     45000.0                      4.0   \n",
       "27           -2500.0     55000.0                      3.0   \n",
       "28          312500.0      7500.0                      4.0   \n",
       "29          200000.0     45000.0                      5.0   \n",
       "...              ...         ...                      ...   \n",
       "99970       312500.0     87500.0                      5.0   \n",
       "99971      1000000.0    225000.0                      3.0   \n",
       "99972       437500.0     55000.0                      3.0   \n",
       "99973      1000000.0    325000.0                      4.0   \n",
       "99974       125000.0     45000.0                      3.0   \n",
       "99975        -2500.0      7500.0                      0.0   \n",
       "99976       125000.0     67500.0                      2.0   \n",
       "99977       875000.0    175000.0                      2.0   \n",
       "99978        -2500.0      7500.0                      0.0   \n",
       "99979       312500.0     67500.0                      1.0   \n",
       "99980        -2500.0     45000.0                      2.0   \n",
       "99981        -2500.0     55000.0                      3.0   \n",
       "99982       125000.0     45000.0                      2.0   \n",
       "99983      1000000.0     87500.0                      0.0   \n",
       "99984        -2500.0     87500.0                      2.0   \n",
       "99985        37500.0     87500.0                      5.0   \n",
       "99986        87500.0     25000.0                      3.0   \n",
       "99987       200000.0     35000.0                      0.0   \n",
       "99988            NaN         NaN                      NaN   \n",
       "99989        -2500.0      7500.0                      2.0   \n",
       "99990       200000.0     87500.0                      4.0   \n",
       "99991       312500.0     67500.0                      4.0   \n",
       "99992       437500.0     55000.0                      0.0   \n",
       "99993       312500.0     55000.0                      1.0   \n",
       "99994        -2500.0      7500.0                      3.0   \n",
       "99995        15000.0      7500.0                      0.0   \n",
       "99996       200000.0    112000.0                      5.0   \n",
       "99997       312500.0     67500.0                      2.0   \n",
       "99998        -2500.0     17500.0                      0.0   \n",
       "99999            NaN         NaN                      NaN   \n",
       "\n",
       "       Index_Health_ins_influence  Population_density_centile_ST  \\\n",
       "0                             2.0                           70.0   \n",
       "1                             4.0                           83.0   \n",
       "2                             9.0                           30.0   \n",
       "3                             4.0                           16.0   \n",
       "4                             NaN                            NaN   \n",
       "5                             0.0                           28.0   \n",
       "6                             2.0                           14.0   \n",
       "7                             4.0                           87.0   \n",
       "8                             4.0                           79.0   \n",
       "9                             1.0                           78.0   \n",
       "10                            NaN                            NaN   \n",
       "11                            4.0                            1.0   \n",
       "12                            1.0                           13.0   \n",
       "13                            0.0                           89.0   \n",
       "14                            1.0                           52.0   \n",
       "15                            4.0                           84.0   \n",
       "16                            2.0                            9.0   \n",
       "17                            6.0                            1.0   \n",
       "18                            6.0                           95.0   \n",
       "19                            2.0                           52.0   \n",
       "20                            3.0                           82.0   \n",
       "21                            7.0                           31.0   \n",
       "22                            6.0                           86.0   \n",
       "23                            3.0                           80.0   \n",
       "24                            NaN                            NaN   \n",
       "25                            5.0                           24.0   \n",
       "26                            3.0                           30.0   \n",
       "27                            3.0                           99.0   \n",
       "28                            1.0                            5.0   \n",
       "29                            0.0                           35.0   \n",
       "...                           ...                            ...   \n",
       "99970                         1.0                           88.0   \n",
       "99971                         6.0                           35.0   \n",
       "99972                         3.0                           45.0   \n",
       "99973                         2.0                           40.0   \n",
       "99974                         6.0                           36.0   \n",
       "99975                         0.0                           57.0   \n",
       "99976                         2.0                           32.0   \n",
       "99977                         5.0                           88.0   \n",
       "99978                         9.0                           32.0   \n",
       "99979                         9.0                           96.0   \n",
       "99980                         5.0                            1.0   \n",
       "99981                         0.0                           80.0   \n",
       "99982                         4.0                           23.0   \n",
       "99983                         2.0                           49.0   \n",
       "99984                         1.0                           40.0   \n",
       "99985                         6.0                           77.0   \n",
       "99986                         0.0                           69.0   \n",
       "99987                         1.0                           70.0   \n",
       "99988                         NaN                            NaN   \n",
       "99989                         0.0                           30.0   \n",
       "99990                         7.0                           57.0   \n",
       "99991                         4.0                           55.0   \n",
       "99992                         4.0                           46.0   \n",
       "99993                         2.0                           75.0   \n",
       "99994                         2.0                           92.0   \n",
       "99995                         0.0                           81.0   \n",
       "99996                         5.0                           11.0   \n",
       "99997                         2.0                           27.0   \n",
       "99998                         1.0                           40.0   \n",
       "99999                         NaN                            NaN   \n",
       "\n",
       "       Population_density_centile_US  \n",
       "0                               84.0  \n",
       "1                               86.0  \n",
       "2                               30.0  \n",
       "3                               18.0  \n",
       "4                                NaN  \n",
       "5                               38.0  \n",
       "6                               33.0  \n",
       "7                               76.0  \n",
       "8                               86.0  \n",
       "9                               85.0  \n",
       "10                               NaN  \n",
       "11                              28.0  \n",
       "12                              32.0  \n",
       "13                              92.0  \n",
       "14                              64.0  \n",
       "15                              72.0  \n",
       "16                              48.0  \n",
       "17                               2.0  \n",
       "18                              93.0  \n",
       "19                              75.0  \n",
       "20                              95.0  \n",
       "21                              40.0  \n",
       "22                              89.0  \n",
       "23                              89.0  \n",
       "24                               NaN  \n",
       "25                              41.0  \n",
       "26                              53.0  \n",
       "27                              97.0  \n",
       "28                              23.0  \n",
       "29                              49.0  \n",
       "...                              ...  \n",
       "99970                           85.0  \n",
       "99971                           52.0  \n",
       "99972                           22.0  \n",
       "99973                           50.0  \n",
       "99974                           34.0  \n",
       "99975                           64.0  \n",
       "99976                           33.0  \n",
       "99977                           90.0  \n",
       "99978                           53.0  \n",
       "99979                           95.0  \n",
       "99980                           23.0  \n",
       "99981                           84.0  \n",
       "99982                           25.0  \n",
       "99983                           45.0  \n",
       "99984                           62.0  \n",
       "99985                           84.0  \n",
       "99986                           82.0  \n",
       "99987                           76.0  \n",
       "99988                            NaN  \n",
       "99989                           60.0  \n",
       "99990                           71.0  \n",
       "99991                           73.0  \n",
       "99992                           51.0  \n",
       "99993                           70.0  \n",
       "99994                           90.0  \n",
       "99995                           95.0  \n",
       "99996                           16.0  \n",
       "99997                           32.0  \n",
       "99998                           50.0  \n",
       "99999                            NaN  \n",
       "\n",
       "[100000 rows x 29 columns]"
      ]
     },
     "execution_count": 49,
     "metadata": {},
     "output_type": "execute_result"
    }
   ],
   "source": [
    "df.loc[:, df.isna().any()]"
   ]
  },
  {
   "cell_type": "code",
   "execution_count": 50,
   "metadata": {},
   "outputs": [],
   "source": [
    "#Treating null/missing values from the datset\n",
    "df.dropna(axis=0,subset=['SEX_CD'],inplace=True)\n",
    "\n",
    "df['DUAL'].dropna(axis=0,inplace=True)\n",
    "\n",
    "df.dropna(axis=0,subset=['ESRD_IND'],inplace=True)\n",
    "\n",
    "df.dropna(axis=0,subset=['HOSPICE_IND'],how='any',inplace=True)\n",
    "\n",
    "df.dropna(axis=0,subset=['ORIG_REAS_ENTITLE_CD'],inplace=True)\n",
    "\n",
    "df.dropna(axis=0,subset=['PCP_ASSIGNMENT'],inplace=True)\n",
    "\n",
    "df.dropna(axis=0,subset=['DUAL'],inplace=True)\n",
    "\n",
    "df.dropna(axis=0,subset=['INSTITUTIONAL'],inplace=True)\n",
    "\n",
    "df.dropna(axis=0,subset=['LIS'],inplace=True)\n",
    "\n",
    "df.dropna(axis=0,subset=['MCO_HLVL_PLAN_CD'],inplace=True)\n",
    "\n",
    "df.dropna(axis=0,subset=['MCO_PROD_TYPE_CD'],inplace=True)\n",
    "\n",
    "df.drop(axis=1,columns=['Diab_Type'],inplace=True)\n",
    "\n",
    "df.drop(axis=1,columns=['Dwelling_Type'],inplace=True)\n",
    "\n",
    "df.dropna(axis=0,subset=['Education_level'],inplace=True)\n",
    "\n",
    "df.dropna(axis=0,subset=['Length_residence'],inplace=True)\n",
    "\n",
    "df.dropna(axis=0,subset=['Est_BMI_decile'],inplace=True)\n",
    "\n",
    "df.dropna(axis=0,subset=['Num_person_household'],inplace=True)\n",
    "\n",
    "df.dropna(axis=0,subset=['College'],inplace=True)\n",
    "\n",
    "df.dropna(axis=0,subset=['Online_purchaser'],inplace=True)\n",
    "\n",
    "df.dropna(axis=0,subset=['Online_User'],inplace=True)\n",
    "\n",
    "\n",
    "df.dropna(axis=0,subset=['Pct_above_poverty_line'],inplace=True)\n",
    "\n",
    "\n",
    "df.dropna(axis=0,subset=['Pct_below_poverty_line'],inplace=True)\n",
    "\n",
    "df.dropna(axis=0,subset=['Decile_struggle_Med_lang'],inplace=True)\n",
    "\n",
    "df.dropna(axis=0,subset=['Home_value'],inplace=True)\n",
    "\n",
    "df.dropna(axis=0,subset=['Est_Net_worth'],inplace=True)\n",
    "\n",
    "df.dropna(axis=0,subset=['Est_income'],inplace=True)\n",
    "\n",
    "df.dropna(axis=0,subset=['Index_Health_ins_engage'],inplace=True)\n",
    "\n",
    "df.dropna(axis=0,subset=['Index_Health_ins_influence'],inplace=True)\n",
    "\n",
    "df.dropna(axis=0,subset=['Population_density_centile_ST'],inplace=True)\n",
    "\n",
    "df.dropna(axis=0,subset=['Population_density_centile_US'],inplace=True)"
   ]
  },
  {
   "cell_type": "code",
   "execution_count": 51,
   "metadata": {},
   "outputs": [],
   "source": [
    "#List of columns that have only one value\n",
    "singlevaluedcol=[]\n",
    "for col in df.columns:\n",
    "    if int(df[col].nunique())>1:\n",
    "        continue\n",
    "    else:\n",
    "        singlevaluedcol.append(col)\n",
    "        "
   ]
  },
  {
   "cell_type": "code",
   "execution_count": 52,
   "metadata": {},
   "outputs": [
    {
     "data": {
      "text/plain": [
       "['POT_VISIT_02_Q04',\n",
       " 'POT_VISIT_54_Q04',\n",
       " 'POT_VISIT_34_Q02',\n",
       " 'POT_VISIT_34_Q03',\n",
       " 'POT_VISIT_02_Q01',\n",
       " 'POT_VISIT_07_Q01',\n",
       " 'POT_VISIT_07_Q02',\n",
       " 'POT_VISIT_07_Q03',\n",
       " 'POT_VISIT_07_Q04',\n",
       " 'POT_VISIT_18_Q01',\n",
       " 'POT_VISIT_54_Q01',\n",
       " 'POT_VISIT_54_Q02',\n",
       " 'POT_VISIT_54_Q03']"
      ]
     },
     "execution_count": 52,
     "metadata": {},
     "output_type": "execute_result"
    }
   ],
   "source": [
    "singlevaluedcol"
   ]
  },
  {
   "cell_type": "code",
   "execution_count": null,
   "metadata": {},
   "outputs": [],
   "source": []
  },
  {
   "cell_type": "code",
   "execution_count": 53,
   "metadata": {},
   "outputs": [],
   "source": [
    "l=df.columns[df.isna().any()].tolist()"
   ]
  },
  {
   "cell_type": "code",
   "execution_count": 54,
   "metadata": {},
   "outputs": [],
   "source": [
    "#k=['POT_VISIT_02_Q04','POT_VISIT_54_Q04','POT_VISIT_34_Q02','POT_VISIT_34_Q03','POT_VISIT_02_Q01','POT_VISIT_07_Q01','POT_VISIT_07_Q02','POT_VISIT_07_Q03','POT_VISIT_07_Q04','POT_VISIT_18_Q01','POT_VISIT_54_Q01','POT_VISIT_54_Q02','POT_VISIT_54_Q03']"
   ]
  },
  {
   "cell_type": "code",
   "execution_count": 55,
   "metadata": {},
   "outputs": [],
   "source": [
    "df.drop(columns=singlevaluedcol,inplace=True)"
   ]
  },
  {
   "cell_type": "code",
   "execution_count": 56,
   "metadata": {},
   "outputs": [],
   "source": [
    "#df.select_dtypes(include='object').columns"
   ]
  },
  {
   "cell_type": "code",
   "execution_count": 57,
   "metadata": {},
   "outputs": [],
   "source": [
    "#df=pd.get_dummies(df)"
   ]
  },
  {
   "cell_type": "code",
   "execution_count": 58,
   "metadata": {},
   "outputs": [],
   "source": [
    "#Tranforming continuous columns \"CON_VISIT_0XXXX\" into categorical levels\n",
    "#for i in range(1,34):\n",
    "#    try:    \n",
    "#        if i<10:\n",
    "#            s='CON_VISIT_0' + str(i)+'_Q0'\n",
    "#            for j in range(1,5):\n",
    "#                col=s+str(j)\n",
    "#                #print(col)\n",
    "#                df.loc[df[col]>1,col]=2\n",
    "#                df[col]=df[col].astype('object')\n",
    "#        else:\n",
    "#            s='CON_VISIT_' + str(i)+'_Q0'\n",
    "#            for j in range(1,5):\n",
    "#                col=s+str(j)\n",
    "#                #print(col)\n",
    "#                df.loc[df[col]>1,col]=2\n",
    "#               df[col]=df[col].astype('object')\n",
    "#    except:\n",
    "#        continue\n"
   ]
  },
  {
   "cell_type": "code",
   "execution_count": 59,
   "metadata": {},
   "outputs": [],
   "source": [
    "#df['CON_VISIT_01']=df['CON_VISIT_01_Q01']+df['CON_VISIT_01_Q02']+df['CON_VISIT_01_Q03']+df['CON_VISIT_01_Q04']"
   ]
  },
  {
   "cell_type": "code",
   "execution_count": 60,
   "metadata": {},
   "outputs": [],
   "source": [
    "#colnames=[]\n",
    "#for i in range(1,34):\n",
    "#    if i <10:\n",
    "#        s='CON_VISIT_0' + str(i)\n",
    "#        colnames.append(s)\n",
    "#        df[s]=0\n",
    "#        t=s+'_Q0'\n",
    "#        for j in range(1,5):\n",
    "#            try:\n",
    "#                col1=t+str(j)\n",
    "#                df[s]=df[s]+df[col1]\n",
    "#                df.drop(axis=1,columns=col1,inplace=True)\n",
    "#            except:\n",
    "#                continue\n",
    "#    else:\n",
    "#        s='CON_VISIT_' + str(i)\n",
    "#        colnames.append(s)\n",
    "#        df[s]=0\n",
    "#        t=s+'_Q0'\n",
    "#        for j in range(1,5):\n",
    "#            try:\n",
    "#                col1=t+str(j)\n",
    "#                df[s]=df[s]+df[col1]\n",
    "#                df.drop(axis=1,columns=col1,inplace=True)\n",
    "#            except:\n",
    "#                continue"
   ]
  },
  {
   "cell_type": "code",
   "execution_count": 61,
   "metadata": {},
   "outputs": [],
   "source": [
    "#df.drop(axis=1,columns='CON_VISIT_29',inplace=True)"
   ]
  },
  {
   "cell_type": "code",
   "execution_count": 62,
   "metadata": {},
   "outputs": [],
   "source": [
    "#colnames=[]\n",
    "#for i in range(1,100):\n",
    "#    if i <10:\n",
    "#        s='POT_VISIT_0' + str(i)\n",
    "#        colnames.append(s)\n",
    "#        df[s]=0\n",
    "#        t=s+'_Q0'\n",
    "#        for j in range(1,5):\n",
    "#            try:\n",
    "#                col1=t+str(j)\n",
    "#                df[s]=df[s]+df[col1]\n",
    "#                df.drop(axis=1,columns=col1,inplace=True)\n",
    "#            except:\n",
    "#                continue\n",
    "#    else:\n",
    "#        s='POT_VISIT_' + str(i)\n",
    "##        colnames.append(s)\n",
    " #       df[s]=0\n",
    "#        t=s+'_Q0'\n",
    "#        for j in range(1,5):\n",
    "#            try:\n",
    "#                col1=t+str(j)\n",
    "#                df[s]=df[s]+df[col1]\n",
    "#                df.drop(axis=1,columns=col1,inplace=True)\n",
    "#            except:\n",
    "#                continue"
   ]
  },
  {
   "cell_type": "code",
   "execution_count": 63,
   "metadata": {},
   "outputs": [],
   "source": [
    "#filter_col = [col for col in df if col.startswith('POT_VISIT')]"
   ]
  },
  {
   "cell_type": "code",
   "execution_count": 64,
   "metadata": {},
   "outputs": [
    {
     "data": {
      "text/plain": [
       "int64      404\n",
       "object       9\n",
       "float64     20\n",
       "dtype: int64"
      ]
     },
     "execution_count": 64,
     "metadata": {},
     "output_type": "execute_result"
    }
   ],
   "source": [
    "df.get_dtype_counts()"
   ]
  },
  {
   "cell_type": "code",
   "execution_count": 65,
   "metadata": {},
   "outputs": [
    {
     "data": {
      "text/plain": [
       "(74670, 433)"
      ]
     },
     "execution_count": 65,
     "metadata": {},
     "output_type": "execute_result"
    }
   ],
   "source": [
    "df.shape"
   ]
  },
  {
   "cell_type": "code",
   "execution_count": 66,
   "metadata": {},
   "outputs": [],
   "source": [
    "#df=pd.get_dummies(df)"
   ]
  },
  {
   "cell_type": "code",
   "execution_count": 67,
   "metadata": {},
   "outputs": [
    {
     "data": {
      "text/html": [
       "<div>\n",
       "<style scoped>\n",
       "    .dataframe tbody tr th:only-of-type {\n",
       "        vertical-align: middle;\n",
       "    }\n",
       "\n",
       "    .dataframe tbody tr th {\n",
       "        vertical-align: top;\n",
       "    }\n",
       "\n",
       "    .dataframe thead th {\n",
       "        text-align: right;\n",
       "    }\n",
       "</style>\n",
       "<table border=\"1\" class=\"dataframe\">\n",
       "  <thead>\n",
       "    <tr style=\"text-align: right;\">\n",
       "      <th></th>\n",
       "      <th>ID</th>\n",
       "      <th>AGE</th>\n",
       "      <th>SEX_CD</th>\n",
       "      <th>AMI_FLAG</th>\n",
       "      <th>ESRD_IND</th>\n",
       "      <th>HOSPICE_IND</th>\n",
       "      <th>ORIG_REAS_ENTITLE_CD</th>\n",
       "      <th>RECON_MA_RISK_SCORE_NBR</th>\n",
       "      <th>RECON_RX_RISK_SCORE_NBR</th>\n",
       "      <th>PCP_ASSIGNMENT</th>\n",
       "      <th>...</th>\n",
       "      <th>COL</th>\n",
       "      <th>COL_GAP</th>\n",
       "      <th>AMM</th>\n",
       "      <th>AMM_GAP</th>\n",
       "      <th>DIAB_PASS</th>\n",
       "      <th>ACE_PASS</th>\n",
       "      <th>STATIN_PASS</th>\n",
       "      <th>ACE_ELIG</th>\n",
       "      <th>DIAB_ELIG</th>\n",
       "      <th>STATIN_ELIG</th>\n",
       "    </tr>\n",
       "  </thead>\n",
       "  <tbody>\n",
       "    <tr>\n",
       "      <th>0</th>\n",
       "      <td>1</td>\n",
       "      <td>77</td>\n",
       "      <td>F</td>\n",
       "      <td>0</td>\n",
       "      <td>N</td>\n",
       "      <td>N</td>\n",
       "      <td>0.0</td>\n",
       "      <td>0.424</td>\n",
       "      <td>0.402</td>\n",
       "      <td>MEMBER SELECTED</td>\n",
       "      <td>...</td>\n",
       "      <td>0</td>\n",
       "      <td>0</td>\n",
       "      <td>0</td>\n",
       "      <td>0</td>\n",
       "      <td>0</td>\n",
       "      <td>0</td>\n",
       "      <td>0</td>\n",
       "      <td>0</td>\n",
       "      <td>0</td>\n",
       "      <td>0</td>\n",
       "    </tr>\n",
       "    <tr>\n",
       "      <th>2</th>\n",
       "      <td>3</td>\n",
       "      <td>75</td>\n",
       "      <td>F</td>\n",
       "      <td>0</td>\n",
       "      <td>N</td>\n",
       "      <td>N</td>\n",
       "      <td>0.0</td>\n",
       "      <td>0.638</td>\n",
       "      <td>0.568</td>\n",
       "      <td>MEMBER SELECTED</td>\n",
       "      <td>...</td>\n",
       "      <td>1</td>\n",
       "      <td>0</td>\n",
       "      <td>0</td>\n",
       "      <td>0</td>\n",
       "      <td>0</td>\n",
       "      <td>1</td>\n",
       "      <td>1</td>\n",
       "      <td>1</td>\n",
       "      <td>0</td>\n",
       "      <td>1</td>\n",
       "    </tr>\n",
       "    <tr>\n",
       "      <th>3</th>\n",
       "      <td>4</td>\n",
       "      <td>68</td>\n",
       "      <td>M</td>\n",
       "      <td>0</td>\n",
       "      <td>N</td>\n",
       "      <td>N</td>\n",
       "      <td>0.0</td>\n",
       "      <td>0.584</td>\n",
       "      <td>0.886</td>\n",
       "      <td>MEMBER SELECTED</td>\n",
       "      <td>...</td>\n",
       "      <td>1</td>\n",
       "      <td>1</td>\n",
       "      <td>0</td>\n",
       "      <td>0</td>\n",
       "      <td>1</td>\n",
       "      <td>1</td>\n",
       "      <td>1</td>\n",
       "      <td>1</td>\n",
       "      <td>1</td>\n",
       "      <td>1</td>\n",
       "    </tr>\n",
       "    <tr>\n",
       "      <th>5</th>\n",
       "      <td>6</td>\n",
       "      <td>72</td>\n",
       "      <td>F</td>\n",
       "      <td>0</td>\n",
       "      <td>N</td>\n",
       "      <td>N</td>\n",
       "      <td>0.0</td>\n",
       "      <td>0.912</td>\n",
       "      <td>1.409</td>\n",
       "      <td>MEMBER SELECTED</td>\n",
       "      <td>...</td>\n",
       "      <td>1</td>\n",
       "      <td>0</td>\n",
       "      <td>0</td>\n",
       "      <td>0</td>\n",
       "      <td>0</td>\n",
       "      <td>1</td>\n",
       "      <td>1</td>\n",
       "      <td>1</td>\n",
       "      <td>0</td>\n",
       "      <td>1</td>\n",
       "    </tr>\n",
       "    <tr>\n",
       "      <th>7</th>\n",
       "      <td>8</td>\n",
       "      <td>69</td>\n",
       "      <td>M</td>\n",
       "      <td>0</td>\n",
       "      <td>N</td>\n",
       "      <td>N</td>\n",
       "      <td>0.0</td>\n",
       "      <td>0.284</td>\n",
       "      <td>0.336</td>\n",
       "      <td>MEMBER SELECTED</td>\n",
       "      <td>...</td>\n",
       "      <td>1</td>\n",
       "      <td>0</td>\n",
       "      <td>0</td>\n",
       "      <td>0</td>\n",
       "      <td>0</td>\n",
       "      <td>0</td>\n",
       "      <td>0</td>\n",
       "      <td>0</td>\n",
       "      <td>0</td>\n",
       "      <td>0</td>\n",
       "    </tr>\n",
       "  </tbody>\n",
       "</table>\n",
       "<p>5 rows × 433 columns</p>\n",
       "</div>"
      ],
      "text/plain": [
       "   ID  AGE SEX_CD  AMI_FLAG ESRD_IND HOSPICE_IND  ORIG_REAS_ENTITLE_CD  \\\n",
       "0   1   77      F         0        N           N                   0.0   \n",
       "2   3   75      F         0        N           N                   0.0   \n",
       "3   4   68      M         0        N           N                   0.0   \n",
       "5   6   72      F         0        N           N                   0.0   \n",
       "7   8   69      M         0        N           N                   0.0   \n",
       "\n",
       "   RECON_MA_RISK_SCORE_NBR  RECON_RX_RISK_SCORE_NBR   PCP_ASSIGNMENT  \\\n",
       "0                    0.424                    0.402  MEMBER SELECTED   \n",
       "2                    0.638                    0.568  MEMBER SELECTED   \n",
       "3                    0.584                    0.886  MEMBER SELECTED   \n",
       "5                    0.912                    1.409  MEMBER SELECTED   \n",
       "7                    0.284                    0.336  MEMBER SELECTED   \n",
       "\n",
       "      ...      COL COL_GAP AMM AMM_GAP DIAB_PASS  ACE_PASS  STATIN_PASS  \\\n",
       "0     ...        0       0   0       0         0         0            0   \n",
       "2     ...        1       0   0       0         0         1            1   \n",
       "3     ...        1       1   0       0         1         1            1   \n",
       "5     ...        1       0   0       0         0         1            1   \n",
       "7     ...        1       0   0       0         0         0            0   \n",
       "\n",
       "   ACE_ELIG  DIAB_ELIG  STATIN_ELIG  \n",
       "0         0          0            0  \n",
       "2         1          0            1  \n",
       "3         1          1            1  \n",
       "5         1          0            1  \n",
       "7         0          0            0  \n",
       "\n",
       "[5 rows x 433 columns]"
      ]
     },
     "execution_count": 67,
     "metadata": {},
     "output_type": "execute_result"
    }
   ],
   "source": [
    "df.head()"
   ]
  },
  {
   "cell_type": "code",
   "execution_count": null,
   "metadata": {},
   "outputs": [],
   "source": []
  },
  {
   "cell_type": "code",
   "execution_count": 68,
   "metadata": {},
   "outputs": [],
   "source": [
    "#df[df.select_dtypes(include='int64').columns[19]].hist(bins=50)"
   ]
  },
  {
   "cell_type": "code",
   "execution_count": null,
   "metadata": {},
   "outputs": [],
   "source": []
  },
  {
   "cell_type": "code",
   "execution_count": 69,
   "metadata": {},
   "outputs": [
    {
     "data": {
      "text/plain": [
       "Index(['ORIG_REAS_ENTITLE_CD', 'RECON_MA_RISK_SCORE_NBR',\n",
       "       'RECON_RX_RISK_SCORE_NBR', 'Education_level', 'Length_residence',\n",
       "       'Est_BMI_decile', 'Num_person_household', 'College', 'Online_purchaser',\n",
       "       'Online_User', 'Pct_above_poverty_line', 'Pct_below_poverty_line',\n",
       "       'Decile_struggle_Med_lang', 'Home_value', 'Est_Net_worth', 'Est_income',\n",
       "       'Index_Health_ins_engage', 'Index_Health_ins_influence',\n",
       "       'Population_density_centile_ST', 'Population_density_centile_US'],\n",
       "      dtype='object')"
      ]
     },
     "execution_count": 69,
     "metadata": {},
     "output_type": "execute_result"
    }
   ],
   "source": [
    "df.select_dtypes(include='float64').columns"
   ]
  },
  {
   "cell_type": "code",
   "execution_count": 70,
   "metadata": {},
   "outputs": [],
   "source": [
    "df['ORIG_REAS_ENTITLE_CD']=df['ORIG_REAS_ENTITLE_CD'].astype('object')\n",
    "df['Education_level']=df['Education_level'].astype('object')\n",
    "df['Est_BMI_decile']=df['Est_BMI_decile'].astype('object')\n",
    "df['College']=df['College'].astype('int64')\n",
    "df['Online_purchaser']=df['Online_purchaser'].astype('int64')\n",
    "df['Online_User']=df['Online_User'].astype('int64')\n",
    "df['Decile_struggle_Med_lang']=df['Decile_struggle_Med_lang'].astype('object')\n",
    "df['Index_Health_ins_engage']=df['Index_Health_ins_engage'].astype('object')\n",
    "df['Index_Health_ins_influence']=df['Index_Health_ins_influence'].astype('object')"
   ]
  },
  {
   "cell_type": "code",
   "execution_count": 71,
   "metadata": {},
   "outputs": [],
   "source": [
    "from sklearn.model_selection import train_test_split\n",
    "#X_train,X_test,y_train,y_test=train_test_split(X,y,test_size=0.2,random_state=42)\n",
    "\n",
    "from sklearn import preprocessing\n",
    "from sklearn.preprocessing import MinMaxScaler\n",
    "from sklearn.preprocessing import StandardScaler\n",
    "\n",
    "from sklearn.metrics import confusion_matrix,precision_score,recall_score,accuracy_score"
   ]
  },
  {
   "cell_type": "code",
   "execution_count": 72,
   "metadata": {},
   "outputs": [],
   "source": [
    "#Min Max Scaling\n",
    "for col in df.select_dtypes(include='int64').columns:\n",
    "    if col in ['ID','AMI_FLAG']:\n",
    "        continue\n",
    "    else:\n",
    "        min_value=np.min(df[col])\n",
    "        max_value=np.max(df[col])\n",
    "        df[col]=(df[col]-min_value)/(max_value-min_value)\n",
    "    "
   ]
  },
  {
   "cell_type": "code",
   "execution_count": null,
   "metadata": {},
   "outputs": [],
   "source": []
  },
  {
   "cell_type": "code",
   "execution_count": 73,
   "metadata": {},
   "outputs": [],
   "source": [
    "for col in df.select_dtypes(include='float64').columns:\n",
    "    min_value=np.min(df[col])\n",
    "    max_value=np.max(df[col])\n",
    "    df[col]=(df[col]-min_value)/(max_value-min_value)\n",
    "    "
   ]
  },
  {
   "cell_type": "code",
   "execution_count": 74,
   "metadata": {},
   "outputs": [],
   "source": [
    "#df4=df.copy()"
   ]
  },
  {
   "cell_type": "code",
   "execution_count": 75,
   "metadata": {},
   "outputs": [
    {
     "name": "stdout",
     "output_type": "stream",
     "text": [
      "(74670, 490) (74670,)\n"
     ]
    }
   ],
   "source": [
    "df=pd.get_dummies(df)\n",
    "t=list(df.columns)\n",
    "tmp=df.columns[df.columns.get_loc('AMI_FLAG')]\n",
    "t.append(tmp)\n",
    "del t[df.columns.get_loc('AMI_FLAG')]\n",
    "df=df[t]\n",
    "X=df.iloc[:,1:len(df.columns)-1]\n",
    "y=df.iloc[:,-1]\n",
    "print(X.shape,y.shape)\n",
    "X1,X_test,y1,y_test=train_test_split(X,y,test_size=0.2,random_state=42)"
   ]
  },
  {
   "cell_type": "code",
   "execution_count": 76,
   "metadata": {},
   "outputs": [
    {
     "data": {
      "text/plain": [
       "0.02663720369626356"
      ]
     },
     "execution_count": 76,
     "metadata": {},
     "output_type": "execute_result"
    }
   ],
   "source": [
    "df['AMI_FLAG'].value_counts()[1]/(df['AMI_FLAG'].value_counts()[0]+df['AMI_FLAG'].value_counts()[1])"
   ]
  },
  {
   "cell_type": "code",
   "execution_count": null,
   "metadata": {},
   "outputs": [],
   "source": [
    "\n"
   ]
  },
  {
   "cell_type": "code",
   "execution_count": 77,
   "metadata": {},
   "outputs": [
    {
     "data": {
      "text/plain": [
       "int64        2\n",
       "float64    416\n",
       "uint8       74\n",
       "dtype: int64"
      ]
     },
     "execution_count": 77,
     "metadata": {},
     "output_type": "execute_result"
    }
   ],
   "source": [
    "df.get_dtype_counts()"
   ]
  },
  {
   "cell_type": "code",
   "execution_count": 78,
   "metadata": {},
   "outputs": [],
   "source": [
    "from sklearn.linear_model import LogisticRegression"
   ]
  },
  {
   "cell_type": "code",
   "execution_count": 79,
   "metadata": {},
   "outputs": [
    {
     "name": "stderr",
     "output_type": "stream",
     "text": [
      "C:\\Users\\gandh\\Anaconda3\\lib\\site-packages\\sklearn\\linear_model\\stochastic_gradient.py:128: FutureWarning: max_iter and tol parameters have been added in <class 'sklearn.linear_model.stochastic_gradient.SGDClassifier'> in 0.19. If both are left unset, they default to max_iter=5 and tol=None. If tol is not None, max_iter defaults to max_iter=1000. From 0.21, default max_iter will be 1000, and default tol will be 1e-3.\n",
      "  \"and default tol will be 1e-3.\" % type(self), FutureWarning)\n"
     ]
    },
    {
     "data": {
      "text/plain": [
       "array([[14543,     0],\n",
       "       [  391,     0]], dtype=int64)"
      ]
     },
     "execution_count": 79,
     "metadata": {},
     "output_type": "execute_result"
    }
   ],
   "source": [
    "from sklearn.linear_model import SGDClassifier\n",
    "clf = SGDClassifier(penalty=\"l2\",loss='log')\n",
    "clf.fit(X1, y1)\n",
    "predictions=clf.predict(X_test)\n",
    "confusion_matrix(y_test,predictions)"
   ]
  },
  {
   "cell_type": "code",
   "execution_count": 80,
   "metadata": {},
   "outputs": [],
   "source": [
    "#maxdict={}\n",
    "#mindict={}\n",
    "#for col in df.select_dtypes(include='float64').columns:\n",
    "#    maxdict[col]=np.max(df[col])\n",
    "#    mindict[col]=np.min(df[col])"
   ]
  },
  {
   "cell_type": "code",
   "execution_count": null,
   "metadata": {},
   "outputs": [],
   "source": []
  },
  {
   "cell_type": "code",
   "execution_count": 81,
   "metadata": {},
   "outputs": [],
   "source": [
    "#maxdict"
   ]
  },
  {
   "cell_type": "code",
   "execution_count": null,
   "metadata": {},
   "outputs": [],
   "source": []
  },
  {
   "cell_type": "code",
   "execution_count": 82,
   "metadata": {},
   "outputs": [],
   "source": [
    "from sklearn.metrics import precision_score,recall_score,f1_score"
   ]
  },
  {
   "cell_type": "code",
   "execution_count": 83,
   "metadata": {},
   "outputs": [
    {
     "name": "stderr",
     "output_type": "stream",
     "text": [
      "C:\\Users\\gandh\\Anaconda3\\lib\\site-packages\\sklearn\\metrics\\classification.py:1135: UndefinedMetricWarning: Precision is ill-defined and being set to 0.0 due to no predicted samples.\n",
      "  'precision', 'predicted', average, warn_for)\n"
     ]
    },
    {
     "data": {
      "text/plain": [
       "0.0"
      ]
     },
     "execution_count": 83,
     "metadata": {},
     "output_type": "execute_result"
    }
   ],
   "source": [
    "precision_score(y_test,predictions)"
   ]
  },
  {
   "cell_type": "code",
   "execution_count": 84,
   "metadata": {},
   "outputs": [
    {
     "data": {
      "text/plain": [
       "0.0"
      ]
     },
     "execution_count": 84,
     "metadata": {},
     "output_type": "execute_result"
    }
   ],
   "source": [
    "recall_score(y_test,predictions)"
   ]
  },
  {
   "cell_type": "code",
   "execution_count": null,
   "metadata": {},
   "outputs": [],
   "source": []
  },
  {
   "cell_type": "code",
   "execution_count": 85,
   "metadata": {},
   "outputs": [],
   "source": [
    "from imblearn.over_sampling import SMOTE"
   ]
  },
  {
   "cell_type": "code",
   "execution_count": 86,
   "metadata": {},
   "outputs": [],
   "source": [
    "#from imblearn.under_sampling import RandomUnderSampler\n",
    "\n",
    "#rus = RandomUnderSampler(return_indices=True)\n",
    "#X_rus, y_rus, id_rus = rus.fit_sample(X, y)"
   ]
  },
  {
   "cell_type": "code",
   "execution_count": 87,
   "metadata": {},
   "outputs": [],
   "source": [
    "#from imblearn.over_sampling import RandomOverSampler\n",
    "\n",
    "#ros = RandomOverSampler()\n",
    "#X_ros, y_ros = ros.fit_sample(X, y)\n"
   ]
  },
  {
   "cell_type": "code",
   "execution_count": 88,
   "metadata": {},
   "outputs": [
    {
     "name": "stderr",
     "output_type": "stream",
     "text": [
      "C:\\Users\\gandh\\Anaconda3\\lib\\site-packages\\sklearn\\utils\\deprecation.py:77: DeprecationWarning: Function _ratio_float is deprecated; Use a float for 'ratio' is deprecated from version 0.2. The support will be removed in 0.4. Use a dict, str, or a callable instead.\n",
      "  warnings.warn(msg, category=DeprecationWarning)\n"
     ]
    }
   ],
   "source": [
    "#Random Over sampling using SMOTE\n",
    "sm = SMOTE(random_state=12, ratio = 1.0)\n",
    "X1, y1 = sm.fit_sample(X1, y1)"
   ]
  },
  {
   "cell_type": "code",
   "execution_count": 89,
   "metadata": {},
   "outputs": [],
   "source": [
    "X_train,X_val,y_train,y_val=train_test_split(X1,y1,test_size=0.1,random_state=42)"
   ]
  },
  {
   "cell_type": "code",
   "execution_count": 90,
   "metadata": {},
   "outputs": [
    {
     "data": {
      "text/plain": [
       "(14934, 490)"
      ]
     },
     "execution_count": 90,
     "metadata": {},
     "output_type": "execute_result"
    }
   ],
   "source": [
    "X_test.shape"
   ]
  },
  {
   "cell_type": "code",
   "execution_count": 91,
   "metadata": {},
   "outputs": [],
   "source": [
    "#df_oversample_features=pd.DataFrame(data=X_ros,columns=X.columns)"
   ]
  },
  {
   "cell_type": "code",
   "execution_count": 92,
   "metadata": {},
   "outputs": [],
   "source": [
    "#df_oversample_target=pd.DataFrame(data=y_ros,columns=['AMI_FLAG'])"
   ]
  },
  {
   "cell_type": "code",
   "execution_count": null,
   "metadata": {},
   "outputs": [],
   "source": []
  },
  {
   "cell_type": "code",
   "execution_count": 93,
   "metadata": {},
   "outputs": [],
   "source": [
    "#X_train,X_test,y_train,y_test=train_test_split(X_ros,y_ros,test_size=0.2,random_state=42)"
   ]
  },
  {
   "cell_type": "code",
   "execution_count": 94,
   "metadata": {},
   "outputs": [
    {
     "name": "stderr",
     "output_type": "stream",
     "text": [
      "C:\\Users\\gandh\\Anaconda3\\lib\\site-packages\\sklearn\\ensemble\\weight_boosting.py:29: DeprecationWarning: numpy.core.umath_tests is an internal NumPy module and should not be imported. It will be removed in a future NumPy release.\n",
      "  from numpy.core.umath_tests import inner1d\n"
     ]
    }
   ],
   "source": [
    "from sklearn.ensemble import GradientBoostingClassifier"
   ]
  },
  {
   "cell_type": "code",
   "execution_count": 95,
   "metadata": {},
   "outputs": [],
   "source": [
    "gb=GradientBoostingClassifier()"
   ]
  },
  {
   "cell_type": "code",
   "execution_count": 96,
   "metadata": {},
   "outputs": [
    {
     "data": {
      "text/plain": [
       "GradientBoostingClassifier(criterion='friedman_mse', init=None,\n",
       "              learning_rate=0.1, loss='deviance', max_depth=3,\n",
       "              max_features=None, max_leaf_nodes=None,\n",
       "              min_impurity_decrease=0.0, min_impurity_split=None,\n",
       "              min_samples_leaf=1, min_samples_split=2,\n",
       "              min_weight_fraction_leaf=0.0, n_estimators=100,\n",
       "              presort='auto', random_state=None, subsample=1.0, verbose=0,\n",
       "              warm_start=False)"
      ]
     },
     "execution_count": 96,
     "metadata": {},
     "output_type": "execute_result"
    }
   ],
   "source": [
    "gb.fit(X_train,y_train)"
   ]
  },
  {
   "cell_type": "code",
   "execution_count": 97,
   "metadata": {},
   "outputs": [],
   "source": [
    "predictions=gb.predict_proba(X_val)"
   ]
  },
  {
   "cell_type": "code",
   "execution_count": 98,
   "metadata": {},
   "outputs": [],
   "source": [
    "threshold=0.5\n",
    "preds=[]\n",
    "for i in range(0,len(predictions)):\n",
    "    if predictions[i][1]<threshold:\n",
    "        preds.append(0)\n",
    "    else:\n",
    "        preds.append(1)"
   ]
  },
  {
   "cell_type": "code",
   "execution_count": null,
   "metadata": {},
   "outputs": [],
   "source": []
  },
  {
   "cell_type": "code",
   "execution_count": null,
   "metadata": {},
   "outputs": [],
   "source": []
  },
  {
   "cell_type": "code",
   "execution_count": null,
   "metadata": {},
   "outputs": [],
   "source": []
  },
  {
   "cell_type": "code",
   "execution_count": 99,
   "metadata": {},
   "outputs": [],
   "source": [
    "#predictions=gb.predict(X_val)"
   ]
  },
  {
   "cell_type": "code",
   "execution_count": 105,
   "metadata": {},
   "outputs": [
    {
     "name": "stdout",
     "output_type": "stream",
     "text": [
      "Confusion Matrix on Validation set predictions: \n",
      " [[5975    2]\n",
      " [ 176 5475]]\n"
     ]
    }
   ],
   "source": [
    "print(\"Confusion Matrix on Validation set predictions: \"+\"\\n\",confusion_matrix(y_val,preds))"
   ]
  },
  {
   "cell_type": "code",
   "execution_count": 106,
   "metadata": {},
   "outputs": [
    {
     "name": "stdout",
     "output_type": "stream",
     "text": [
      "precision on validation set :  0.9996348365893738\n",
      "Recall on validation set:  0.968855069899133\n",
      "Accuracy on validation set :  0.9846921224630203\n",
      "precision on test set :  0.0\n",
      "Recall on test set:  0.0\n",
      "Accuracy on test :  0.9736172492299451\n",
      "Confusion Matrix on Validation set predictions: \n",
      " [[14540     3]\n",
      " [  391     0]]\n"
     ]
    }
   ],
   "source": [
    "print(\"precision on validation set : \",precision_score(y_val,gb.predict(X_val)))\n",
    "print(\"Recall on validation set: \", recall_score(y_val,gb.predict(X_val)))\n",
    "print(\"Accuracy on validation set : \",accuracy_score(y_val,gb.predict(X_val)))\n",
    "print(\"precision on test set : \",precision_score(y_test,gb.predict(X_test)))\n",
    "print(\"Recall on test set: \", recall_score(y_test,gb.predict(X_test)))\n",
    "print(\"Accuracy on test : \",accuracy_score(y_test,gb.predict(X_test)))\n",
    "print(\"Confusion Matrix on Validation set predictions: \"+\"\\n\",confusion_matrix(y_test,gb.predict(X_test)))\n"
   ]
  },
  {
   "cell_type": "code",
   "execution_count": 107,
   "metadata": {},
   "outputs": [],
   "source": [
    "predictions=gb.predict_proba(X_test)\n",
    "preds=[]\n",
    "for i in range(0,len(predictions)):\n",
    "    if predictions[i][1]<0.19:\n",
    "        preds.append(0)\n",
    "    else:\n",
    "        preds.append(1)\n"
   ]
  },
  {
   "cell_type": "code",
   "execution_count": 108,
   "metadata": {},
   "outputs": [
    {
     "name": "stdout",
     "output_type": "stream",
     "text": [
      "Confusion Matrix on test set predictions: \n",
      " [[13513  1030]\n",
      " [  291   100]]\n",
      "precision on test set :  0.08849557522123894\n",
      "Recall on test set:  0.2557544757033248\n",
      "Accuracy on test set :  0.9115441274943082\n"
     ]
    }
   ],
   "source": [
    "print(\"Confusion Matrix on test set predictions: \"+\"\\n\",confusion_matrix(y_test,preds))\n",
    "print(\"precision on test set : \",precision_score(y_test,preds))\n",
    "print(\"Recall on test set: \", recall_score(y_test,preds))\n",
    "print(\"Accuracy on test set : \",accuracy_score(y_test,preds))"
   ]
  },
  {
   "cell_type": "code",
   "execution_count": 109,
   "metadata": {},
   "outputs": [],
   "source": [
    "#X_train,X_test,y_train,y_test=train_test_split(X,y,test_size=0.2,random_state=42)"
   ]
  },
  {
   "cell_type": "code",
   "execution_count": 110,
   "metadata": {},
   "outputs": [],
   "source": [
    "#sns.set(color_codes=True)\n",
    "from sklearn.tree import DecisionTreeClassifier"
   ]
  },
  {
   "cell_type": "code",
   "execution_count": 111,
   "metadata": {},
   "outputs": [
    {
     "data": {
      "text/plain": [
       "DecisionTreeClassifier(class_weight=None, criterion='gini', max_depth=15,\n",
       "            max_features=None, max_leaf_nodes=None,\n",
       "            min_impurity_decrease=0.0, min_impurity_split=None,\n",
       "            min_samples_leaf=1, min_samples_split=2,\n",
       "            min_weight_fraction_leaf=0.0, presort=False, random_state=None,\n",
       "            splitter='best')"
      ]
     },
     "execution_count": 111,
     "metadata": {},
     "output_type": "execute_result"
    }
   ],
   "source": [
    "#X_train,X_test,y_train,y_test=train_test_split(X,y,test_size=0.2,random_state=42)\n",
    "clf_tree=DecisionTreeClassifier(max_depth=15)\n",
    "\n",
    "clf_tree.fit(X_train,y_train)\n",
    "\n",
    "#predictions=clf_tree.predict(X_val)\n",
    "\n",
    "#print(\"Confusion Matrix on Validation set predictions: \"+\"\\n\",confusion_matrix(y_val,predictions))"
   ]
  },
  {
   "cell_type": "code",
   "execution_count": 112,
   "metadata": {},
   "outputs": [],
   "source": [
    "predictions=clf_tree.predict_proba(X_test)\n",
    "\n",
    "preds=[]\n",
    "for i in range(0,len(predictions)):\n",
    "    if predictions[i][1]<0.19:\n",
    "        preds.append(0)\n",
    "    else:\n",
    "        preds.append(1)"
   ]
  },
  {
   "cell_type": "code",
   "execution_count": 113,
   "metadata": {},
   "outputs": [
    {
     "name": "stdout",
     "output_type": "stream",
     "text": [
      "Confusion Matrix on test set predictions: \n",
      " [[13842   701]\n",
      " [  357    34]]\n",
      "precision on test set :  0.04625850340136054\n",
      "Recall on test set:  0.08695652173913043\n",
      "Accuracy on test set :  0.9291549484398018\n"
     ]
    }
   ],
   "source": [
    "print(\"Confusion Matrix on test set predictions: \"+\"\\n\",confusion_matrix(y_test,preds))\n",
    "print(\"precision on test set : \",precision_score(y_test,preds))\n",
    "print(\"Recall on test set: \", recall_score(y_test,preds))\n",
    "print(\"Accuracy on test set : \",accuracy_score(y_test,preds))"
   ]
  },
  {
   "cell_type": "code",
   "execution_count": null,
   "metadata": {},
   "outputs": [],
   "source": []
  },
  {
   "cell_type": "code",
   "execution_count": null,
   "metadata": {},
   "outputs": [],
   "source": []
  },
  {
   "cell_type": "code",
   "execution_count": 114,
   "metadata": {},
   "outputs": [
    {
     "name": "stdout",
     "output_type": "stream",
     "text": [
      "Confusion Matrix on Validation set predictions: \n",
      " [[5759  218]\n",
      " [ 248 5403]]\n",
      "precision on validation set :  0.9612168653264543\n",
      "Recall on validation set:  0.9561139621305964\n",
      "Accuracy on validation set :  0.9599243206054352\n",
      "precision on test set :  0.05252918287937743\n",
      "Recall on test set:  0.06905370843989769\n",
      "Accuracy on test :  0.9430159367885362\n"
     ]
    }
   ],
   "source": [
    "print(\"Confusion Matrix on Validation set predictions: \"+\"\\n\",confusion_matrix(y_val,clf_tree.predict(X_val)))\n",
    "print(\"precision on validation set : \",precision_score(y_val,clf_tree.predict(X_val)))\n",
    "print(\"Recall on validation set: \", recall_score(y_val,clf_tree.predict(X_val)))\n",
    "print(\"Accuracy on validation set : \",accuracy_score(y_val,clf_tree.predict(X_val)))\n",
    "print(\"precision on test set : \",precision_score(y_test,clf_tree.predict(X_test)))\n",
    "print(\"Recall on test set: \", recall_score(y_test,clf_tree.predict(X_test)))\n",
    "print(\"Accuracy on test : \",accuracy_score(y_test,clf_tree.predict(X_test)))"
   ]
  },
  {
   "cell_type": "code",
   "execution_count": 115,
   "metadata": {},
   "outputs": [],
   "source": [
    "from sklearn.naive_bayes import GaussianNB\n",
    "gnb = GaussianNB()\n",
    "gnb.fit(X_train, y_train)\n",
    "predictions=gnb.predict_proba(X_test)"
   ]
  },
  {
   "cell_type": "code",
   "execution_count": 116,
   "metadata": {},
   "outputs": [],
   "source": [
    "predictions=gnb.predict_proba(X_test)\n",
    "\n",
    "preds=[]\n",
    "for i in range(0,len(predictions)):\n",
    "    if predictions[i][1]<0.9:\n",
    "        preds.append(0)\n",
    "    else:\n",
    "        preds.append(1)"
   ]
  },
  {
   "cell_type": "code",
   "execution_count": null,
   "metadata": {},
   "outputs": [],
   "source": []
  },
  {
   "cell_type": "code",
   "execution_count": 117,
   "metadata": {},
   "outputs": [
    {
     "name": "stdout",
     "output_type": "stream",
     "text": [
      "Confusion Matrix on test set predictions: \n",
      " [[  798 13745]\n",
      " [   32   359]]\n",
      "precision on test set :  0.02545377197958026\n",
      "Recall on test set:  0.9181585677749361\n",
      "Accuracy on test set :  0.07747421990089728\n"
     ]
    }
   ],
   "source": [
    "print(\"Confusion Matrix on test set predictions: \"+\"\\n\",confusion_matrix(y_test,preds))\n",
    "print(\"precision on test set : \",precision_score(y_test,preds))\n",
    "print(\"Recall on test set: \", recall_score(y_test,preds))\n",
    "print(\"Accuracy on test set : \",accuracy_score(y_test,preds))"
   ]
  },
  {
   "cell_type": "code",
   "execution_count": null,
   "metadata": {},
   "outputs": [],
   "source": []
  },
  {
   "cell_type": "code",
   "execution_count": 118,
   "metadata": {},
   "outputs": [],
   "source": [
    "logreg=LogisticRegression()"
   ]
  },
  {
   "cell_type": "code",
   "execution_count": 119,
   "metadata": {},
   "outputs": [
    {
     "data": {
      "text/plain": [
       "LogisticRegression(C=1.0, class_weight=None, dual=False, fit_intercept=True,\n",
       "          intercept_scaling=1, max_iter=100, multi_class='ovr', n_jobs=1,\n",
       "          penalty='l2', random_state=None, solver='liblinear', tol=0.0001,\n",
       "          verbose=0, warm_start=False)"
      ]
     },
     "execution_count": 119,
     "metadata": {},
     "output_type": "execute_result"
    }
   ],
   "source": [
    "logreg.fit(X_train,y_train)"
   ]
  },
  {
   "cell_type": "code",
   "execution_count": 120,
   "metadata": {},
   "outputs": [],
   "source": [
    "predictions=logreg.predict_proba(X_test)"
   ]
  },
  {
   "cell_type": "code",
   "execution_count": 121,
   "metadata": {},
   "outputs": [],
   "source": [
    "preds=[]\n",
    "for i in range(0,len(predictions)):\n",
    "    if predictions[i][1]<0.59:\n",
    "        preds.append(0)\n",
    "    else:\n",
    "        preds.append(1)"
   ]
  },
  {
   "cell_type": "code",
   "execution_count": 122,
   "metadata": {},
   "outputs": [
    {
     "name": "stdout",
     "output_type": "stream",
     "text": [
      "Confusion Matrix on test set predictions: \n",
      " [[11871  2672]\n",
      " [  195   196]]\n",
      "precision on test set :  0.06834030683403068\n",
      "Recall on test set:  0.5012787723785166\n",
      "Accuracy on test set :  0.8080219633052096\n"
     ]
    }
   ],
   "source": [
    "print(\"Confusion Matrix on test set predictions: \"+\"\\n\",confusion_matrix(y_test,preds))\n",
    "print(\"precision on test set : \",precision_score(y_test,preds))\n",
    "print(\"Recall on test set: \", recall_score(y_test,preds))\n",
    "print(\"Accuracy on test set : \",accuracy_score(y_test,preds))"
   ]
  },
  {
   "cell_type": "code",
   "execution_count": null,
   "metadata": {},
   "outputs": [],
   "source": []
  },
  {
   "cell_type": "code",
   "execution_count": null,
   "metadata": {},
   "outputs": [],
   "source": []
  },
  {
   "cell_type": "code",
   "execution_count": 123,
   "metadata": {},
   "outputs": [],
   "source": [
    "from sklearn.metrics import roc_auc_score"
   ]
  },
  {
   "cell_type": "code",
   "execution_count": null,
   "metadata": {},
   "outputs": [],
   "source": []
  },
  {
   "cell_type": "code",
   "execution_count": 124,
   "metadata": {},
   "outputs": [
    {
     "name": "stderr",
     "output_type": "stream",
     "text": [
      "C:\\Users\\gandh\\Anaconda3\\lib\\site-packages\\sklearn\\discriminant_analysis.py:388: UserWarning: Variables are collinear.\n",
      "  warnings.warn(\"Variables are collinear.\")\n"
     ]
    },
    {
     "data": {
      "text/plain": [
       "LinearDiscriminantAnalysis(n_components=None, priors=None, shrinkage=None,\n",
       "              solver='svd', store_covariance=False, tol=0.0001)"
      ]
     },
     "execution_count": 124,
     "metadata": {},
     "output_type": "execute_result"
    }
   ],
   "source": [
    "from sklearn.discriminant_analysis import LinearDiscriminantAnalysis\n",
    "lda = LinearDiscriminantAnalysis()\n",
    "lda.fit(X_train, y_train)"
   ]
  },
  {
   "cell_type": "code",
   "execution_count": 125,
   "metadata": {},
   "outputs": [],
   "source": [
    "predictions=lda.predict_proba(X_test)"
   ]
  },
  {
   "cell_type": "code",
   "execution_count": 126,
   "metadata": {},
   "outputs": [],
   "source": [
    "preds=[]\n",
    "for i in range(0,len(predictions)):\n",
    "    if predictions[i][1]<0.55:\n",
    "        preds.append(0)\n",
    "    else:\n",
    "        preds.append(1)"
   ]
  },
  {
   "cell_type": "code",
   "execution_count": 127,
   "metadata": {},
   "outputs": [
    {
     "name": "stdout",
     "output_type": "stream",
     "text": [
      "Confusion Matrix on test set predictions: \n",
      " [[11360  3183]\n",
      " [  186   205]]\n",
      "precision on test set :  0.06050767414403778\n",
      "Recall on test set:  0.5242966751918159\n",
      "Accuracy on test set :  0.7744073925271193\n"
     ]
    }
   ],
   "source": [
    "print(\"Confusion Matrix on test set predictions: \"+\"\\n\",confusion_matrix(y_test,preds))\n",
    "print(\"precision on test set : \",precision_score(y_test,preds))\n",
    "print(\"Recall on test set: \", recall_score(y_test,preds))\n",
    "print(\"Accuracy on test set : \",accuracy_score(y_test,preds))"
   ]
  },
  {
   "cell_type": "code",
   "execution_count": 128,
   "metadata": {},
   "outputs": [],
   "source": [
    "#print(\"Confusion Matrix on Validation set predictions: \"+\"\\n\",confusion_matrix(y_val,predictions))"
   ]
  },
  {
   "cell_type": "code",
   "execution_count": 129,
   "metadata": {},
   "outputs": [
    {
     "name": "stdout",
     "output_type": "stream",
     "text": [
      "precision on validation set :  0.7162090345438441\n",
      "Recall on validation set:  0.7154485931693506\n",
      "Accuracy on validation set :  0.7239422084623323\n",
      "precision on test set :  0.054504728720756596\n",
      "Recall on test set:  0.5601023017902813\n",
      "Accuracy on test :  0.7340966921119593\n"
     ]
    }
   ],
   "source": [
    "print(\"precision on validation set : \",precision_score(y_val,lda.predict(X_val)))\n",
    "print(\"Recall on validation set: \", recall_score(y_val,lda.predict(X_val)))\n",
    "print(\"Accuracy on validation set : \",accuracy_score(y_val,lda.predict(X_val)))\n",
    "print(\"precision on test set : \",precision_score(y_test,lda.predict(X_test)))\n",
    "print(\"Recall on test set: \", recall_score(y_test,lda.predict(X_test)))\n",
    "print(\"Accuracy on test : \",accuracy_score(y_test,lda.predict(X_test)))"
   ]
  },
  {
   "cell_type": "code",
   "execution_count": 130,
   "metadata": {},
   "outputs": [],
   "source": [
    "#df.select_dtypes(include='int64').columns"
   ]
  },
  {
   "cell_type": "code",
   "execution_count": 131,
   "metadata": {},
   "outputs": [],
   "source": [
    "#Work on Gaussian Naive bayes and Linear Discriminant analysis to improve precision and recall score"
   ]
  },
  {
   "cell_type": "code",
   "execution_count": 132,
   "metadata": {},
   "outputs": [],
   "source": [
    "from sklearn.ensemble import RandomForestClassifier"
   ]
  },
  {
   "cell_type": "code",
   "execution_count": 133,
   "metadata": {},
   "outputs": [],
   "source": [
    "clf_rf = RandomForestClassifier(n_estimators=100,max_depth=10,random_state=0)"
   ]
  },
  {
   "cell_type": "code",
   "execution_count": 134,
   "metadata": {},
   "outputs": [
    {
     "data": {
      "text/plain": [
       "RandomForestClassifier(bootstrap=True, class_weight=None, criterion='gini',\n",
       "            max_depth=10, max_features='auto', max_leaf_nodes=None,\n",
       "            min_impurity_decrease=0.0, min_impurity_split=None,\n",
       "            min_samples_leaf=1, min_samples_split=2,\n",
       "            min_weight_fraction_leaf=0.0, n_estimators=100, n_jobs=1,\n",
       "            oob_score=False, random_state=0, verbose=0, warm_start=False)"
      ]
     },
     "execution_count": 134,
     "metadata": {},
     "output_type": "execute_result"
    }
   ],
   "source": [
    "clf_rf.fit(X_train,y_train)"
   ]
  },
  {
   "cell_type": "code",
   "execution_count": 135,
   "metadata": {},
   "outputs": [],
   "source": [
    "predictions=clf_rf.predict_proba(X_test)"
   ]
  },
  {
   "cell_type": "code",
   "execution_count": 136,
   "metadata": {},
   "outputs": [],
   "source": [
    "preds=[]\n",
    "for i in range(0,len(predictions)):\n",
    "    if predictions[i][1]<0.35:\n",
    "        preds.append(0)\n",
    "    else:\n",
    "        preds.append(1)"
   ]
  },
  {
   "cell_type": "code",
   "execution_count": 137,
   "metadata": {},
   "outputs": [
    {
     "name": "stdout",
     "output_type": "stream",
     "text": [
      "Confusion Matrix on test set predictions: \n",
      " [[12225  2318]\n",
      " [  208   183]]\n",
      "precision on test set :  0.07317073170731707\n",
      "Recall on test set:  0.4680306905370844\n",
      "Accuracy on test set :  0.8308557653676175\n"
     ]
    }
   ],
   "source": [
    "print(\"Confusion Matrix on test set predictions: \"+\"\\n\",confusion_matrix(y_test,preds))\n",
    "print(\"precision on test set : \",precision_score(y_test,preds))\n",
    "print(\"Recall on test set: \", recall_score(y_test,preds))\n",
    "print(\"Accuracy on test set : \",accuracy_score(y_test,preds))"
   ]
  },
  {
   "cell_type": "code",
   "execution_count": null,
   "metadata": {},
   "outputs": [],
   "source": []
  },
  {
   "cell_type": "code",
   "execution_count": 138,
   "metadata": {},
   "outputs": [],
   "source": [
    "#print(\"Confusion Matrix on Validation set predictions: \"+\"\\n\",confusion_matrix(y_val,predictions))"
   ]
  },
  {
   "cell_type": "code",
   "execution_count": 139,
   "metadata": {},
   "outputs": [
    {
     "name": "stdout",
     "output_type": "stream",
     "text": [
      "precision on validation set :  0.9745670995670995\n",
      "Recall on validation set:  0.9561139621305964\n",
      "Accuracy on validation set :  0.966546267629859\n",
      "precision on test set :  0.10852713178294573\n",
      "Recall on test set:  0.10741687979539642\n",
      "Accuracy on test :  0.9535288603187357\n",
      "Confusion Matrix on Test set predictions: \n",
      " [[14198   345]\n",
      " [  349    42]]\n"
     ]
    }
   ],
   "source": [
    "print(\"precision on validation set : \",precision_score(y_val,clf_rf.predict(X_val)))\n",
    "print(\"Recall on validation set: \", recall_score(y_val,clf_rf.predict(X_val)))\n",
    "print(\"Accuracy on validation set : \",accuracy_score(y_val,clf_rf.predict(X_val)))\n",
    "print(\"precision on test set : \",precision_score(y_test,clf_rf.predict(X_test)))\n",
    "print(\"Recall on test set: \", recall_score(y_test,clf_rf.predict(X_test)))\n",
    "print(\"Accuracy on test : \",accuracy_score(y_test,clf_rf.predict(X_test)))\n",
    "print(\"Confusion Matrix on Test set predictions: \"+\"\\n\",confusion_matrix(y_test,clf_rf.predict(X_test)))"
   ]
  },
  {
   "cell_type": "code",
   "execution_count": 140,
   "metadata": {},
   "outputs": [],
   "source": [
    "estimator=clf_rf.estimators_[1]"
   ]
  },
  {
   "cell_type": "code",
   "execution_count": 141,
   "metadata": {},
   "outputs": [
    {
     "name": "stdout",
     "output_type": "stream",
     "text": [
      "dot: graph is too large for cairo-renderer bitmaps. Scaling by 0.597219 to fit\r\n",
      "\n"
     ]
    }
   ],
   "source": [
    "import pydotplus\n",
    "import six\n",
    "from sklearn import tree\n",
    "dotfile = six.StringIO()\n",
    "i_tree = 0\n",
    "for tree_in_forest in clf_rf.estimators_:\n",
    "    if (i_tree <1):        \n",
    "        tree.export_graphviz(tree_in_forest, out_file=dotfile)\n",
    "        pydotplus.graph_from_dot_data(dotfile.getvalue()).write_png('dtree'+ str(i_tree) +'.png')\n",
    "        i_tree = i_tree + 1"
   ]
  },
  {
   "cell_type": "code",
   "execution_count": 142,
   "metadata": {},
   "outputs": [],
   "source": [
    "dt=DecisionTreeClassifier(max_depth=8)"
   ]
  },
  {
   "cell_type": "code",
   "execution_count": 143,
   "metadata": {},
   "outputs": [
    {
     "data": {
      "text/plain": [
       "DecisionTreeClassifier(class_weight=None, criterion='gini', max_depth=8,\n",
       "            max_features=None, max_leaf_nodes=None,\n",
       "            min_impurity_decrease=0.0, min_impurity_split=None,\n",
       "            min_samples_leaf=1, min_samples_split=2,\n",
       "            min_weight_fraction_leaf=0.0, presort=False, random_state=None,\n",
       "            splitter='best')"
      ]
     },
     "execution_count": 143,
     "metadata": {},
     "output_type": "execute_result"
    }
   ],
   "source": [
    "dt.fit(X_train,y_train)"
   ]
  },
  {
   "cell_type": "code",
   "execution_count": 144,
   "metadata": {},
   "outputs": [],
   "source": [
    "#from sklearn.metrics import precision_recall_curve"
   ]
  },
  {
   "cell_type": "code",
   "execution_count": 145,
   "metadata": {},
   "outputs": [],
   "source": [
    "#y_scores=rf.predict_proba(X_test)[:,1]"
   ]
  },
  {
   "cell_type": "code",
   "execution_count": 146,
   "metadata": {},
   "outputs": [],
   "source": [
    "predictions=dt.predict(X_val)"
   ]
  },
  {
   "cell_type": "code",
   "execution_count": 147,
   "metadata": {},
   "outputs": [
    {
     "name": "stdout",
     "output_type": "stream",
     "text": [
      "Confusion Matrix on Validation set predictions: \n",
      " [[5526  451]\n",
      " [ 823 4828]]\n",
      "precision on validation set :  0.9145671528698617\n",
      "Recall on validation set:  0.8543620598124225\n",
      "Accuracy on validation set :  0.8904368765049879\n",
      "precision on test set :  0.06260162601626017\n",
      "Recall on test set:  0.1969309462915601\n",
      "Accuracy on test :  0.9017677782241864\n",
      "Confusion Matrix on Test set predictions: \n",
      " [[13390  1153]\n",
      " [  314    77]]\n"
     ]
    }
   ],
   "source": [
    "print(\"Confusion Matrix on Validation set predictions: \"+\"\\n\",confusion_matrix(y_val,predictions))\n",
    "print(\"precision on validation set : \",precision_score(y_val,predictions))\n",
    "print(\"Recall on validation set: \", recall_score(y_val,predictions))\n",
    "print(\"Accuracy on validation set : \",accuracy_score(y_val,predictions))\n",
    "print(\"precision on test set : \",precision_score(y_test,dt.predict(X_test)))\n",
    "print(\"Recall on test set: \", recall_score(y_test,dt.predict(X_test)))\n",
    "print(\"Accuracy on test : \",accuracy_score(y_test,dt.predict(X_test)))\n",
    "print(\"Confusion Matrix on Test set predictions: \"+\"\\n\",confusion_matrix(y_test,dt.predict(X_test)))"
   ]
  },
  {
   "cell_type": "code",
   "execution_count": 148,
   "metadata": {},
   "outputs": [],
   "source": [
    "from sklearn.ensemble import AdaBoostClassifier\n"
   ]
  },
  {
   "cell_type": "code",
   "execution_count": 149,
   "metadata": {},
   "outputs": [],
   "source": [
    "clf = AdaBoostClassifier(n_estimators=120)"
   ]
  },
  {
   "cell_type": "code",
   "execution_count": 150,
   "metadata": {},
   "outputs": [
    {
     "data": {
      "text/plain": [
       "AdaBoostClassifier(algorithm='SAMME.R', base_estimator=None,\n",
       "          learning_rate=1.0, n_estimators=120, random_state=None)"
      ]
     },
     "execution_count": 150,
     "metadata": {},
     "output_type": "execute_result"
    }
   ],
   "source": [
    "clf.fit(X_train,y_train)"
   ]
  },
  {
   "cell_type": "code",
   "execution_count": 151,
   "metadata": {},
   "outputs": [],
   "source": [
    "predictions=clf.predict_proba(X_test)"
   ]
  },
  {
   "cell_type": "code",
   "execution_count": 152,
   "metadata": {},
   "outputs": [],
   "source": [
    "preds=[]\n",
    "for i in range(0,len(predictions)):\n",
    "    if predictions[i][1]<0.51:\n",
    "        preds.append(0)\n",
    "    else:\n",
    "        preds.append(1)"
   ]
  },
  {
   "cell_type": "code",
   "execution_count": 153,
   "metadata": {},
   "outputs": [
    {
     "name": "stdout",
     "output_type": "stream",
     "text": [
      "Confusion Matrix on test set predictions: \n",
      " [[14543     0]\n",
      " [  391     0]]\n",
      "precision on test set :  0.0\n",
      "Recall on test set:  0.0\n",
      "Accuracy on test set :  0.9738181331190572\n"
     ]
    },
    {
     "name": "stderr",
     "output_type": "stream",
     "text": [
      "C:\\Users\\gandh\\Anaconda3\\lib\\site-packages\\sklearn\\metrics\\classification.py:1135: UndefinedMetricWarning: Precision is ill-defined and being set to 0.0 due to no predicted samples.\n",
      "  'precision', 'predicted', average, warn_for)\n"
     ]
    }
   ],
   "source": [
    "print(\"Confusion Matrix on test set predictions: \"+\"\\n\",confusion_matrix(y_test,preds))\n",
    "print(\"precision on test set : \",precision_score(y_test,preds))\n",
    "print(\"Recall on test set: \", recall_score(y_test,preds))\n",
    "print(\"Accuracy on test set : \",accuracy_score(y_test,preds))"
   ]
  },
  {
   "cell_type": "code",
   "execution_count": 154,
   "metadata": {},
   "outputs": [
    {
     "name": "stdout",
     "output_type": "stream",
     "text": [
      "Confusion Matrix on Validation set predictions: \n",
      " [[5956   21]\n",
      " [ 217 5434]]\n",
      "precision on validation set :  0.9961503208065995\n",
      "Recall on validation set:  0.9615997168642718\n",
      "Accuracy on validation set :  0.97953216374269\n",
      "precision on test set :  0.09859154929577464\n",
      "Recall on test set:  0.017902813299232736\n",
      "Accuracy on test :  0.9700013392259275\n",
      "Confusion Matrix on Test set predictions: \n",
      " [[14479    64]\n",
      " [  384     7]]\n"
     ]
    }
   ],
   "source": [
    "print(\"Confusion Matrix on Validation set predictions: \"+\"\\n\",confusion_matrix(y_val,clf.predict(X_val)))\n",
    "print(\"precision on validation set : \",precision_score(y_val,clf.predict(X_val)))\n",
    "print(\"Recall on validation set: \", recall_score(y_val,clf.predict(X_val)))\n",
    "print(\"Accuracy on validation set : \",accuracy_score(y_val,clf.predict(X_val)))\n",
    "print(\"precision on test set : \",precision_score(y_test,clf.predict(X_test)))\n",
    "print(\"Recall on test set: \", recall_score(y_test,clf.predict(X_test)))\n",
    "print(\"Accuracy on test : \",accuracy_score(y_test,clf.predict(X_test)))\n",
    "print(\"Confusion Matrix on Test set predictions: \"+\"\\n\",confusion_matrix(y_test,clf.predict(X_test)))"
   ]
  },
  {
   "cell_type": "code",
   "execution_count": 155,
   "metadata": {},
   "outputs": [],
   "source": [
    "from sklearn.ensemble import BaggingClassifier"
   ]
  },
  {
   "cell_type": "code",
   "execution_count": 156,
   "metadata": {},
   "outputs": [],
   "source": [
    "from sklearn.ensemble import ExtraTreesClassifier"
   ]
  },
  {
   "cell_type": "code",
   "execution_count": 157,
   "metadata": {},
   "outputs": [],
   "source": [
    "clf_extratrees=ExtraTreesClassifier(max_depth=8)"
   ]
  },
  {
   "cell_type": "code",
   "execution_count": 158,
   "metadata": {},
   "outputs": [
    {
     "data": {
      "text/plain": [
       "ExtraTreesClassifier(bootstrap=False, class_weight=None, criterion='gini',\n",
       "           max_depth=8, max_features='auto', max_leaf_nodes=None,\n",
       "           min_impurity_decrease=0.0, min_impurity_split=None,\n",
       "           min_samples_leaf=1, min_samples_split=2,\n",
       "           min_weight_fraction_leaf=0.0, n_estimators=10, n_jobs=1,\n",
       "           oob_score=False, random_state=None, verbose=0, warm_start=False)"
      ]
     },
     "execution_count": 158,
     "metadata": {},
     "output_type": "execute_result"
    }
   ],
   "source": [
    "clf_extratrees.fit(X_train,y_train)"
   ]
  },
  {
   "cell_type": "code",
   "execution_count": 159,
   "metadata": {},
   "outputs": [],
   "source": [
    "predictions=clf_extratrees.predict(X_val)"
   ]
  },
  {
   "cell_type": "code",
   "execution_count": 160,
   "metadata": {},
   "outputs": [],
   "source": [
    "#confusion_matrix(y_test,predictions)"
   ]
  },
  {
   "cell_type": "code",
   "execution_count": 161,
   "metadata": {},
   "outputs": [
    {
     "name": "stdout",
     "output_type": "stream",
     "text": [
      "Confusion Matrix on Validation set predictions: \n",
      " [[4896 1081]\n",
      " [1198 4453]]\n",
      "precision on validation set :  0.8046620889049512\n",
      "Recall on validation set:  0.7880021235179614\n",
      "Accuracy on validation set :  0.8040075679394565\n",
      "precision on test set :  0.06192170818505338\n",
      "Recall on test set:  0.44501278772378516\n",
      "Accuracy on test :  0.8089594214543994\n",
      "Confusion Matrix on Test set predictions: \n",
      " [[11907  2636]\n",
      " [  217   174]]\n"
     ]
    }
   ],
   "source": [
    "print(\"Confusion Matrix on Validation set predictions: \"+\"\\n\",confusion_matrix(y_val,predictions))\n",
    "print(\"precision on validation set : \",precision_score(y_val,predictions))\n",
    "print(\"Recall on validation set: \", recall_score(y_val,predictions))\n",
    "print(\"Accuracy on validation set : \",accuracy_score(y_val,predictions))\n",
    "print(\"precision on test set : \",precision_score(y_test,clf_extratrees.predict(X_test)))\n",
    "print(\"Recall on test set: \", recall_score(y_test,clf_extratrees.predict(X_test)))\n",
    "print(\"Accuracy on test : \",accuracy_score(y_test,clf_extratrees.predict(X_test)))\n",
    "print(\"Confusion Matrix on Test set predictions: \"+\"\\n\",confusion_matrix(y_test,clf_extratrees.predict(X_test)))"
   ]
  },
  {
   "cell_type": "code",
   "execution_count": 162,
   "metadata": {},
   "outputs": [],
   "source": [
    "from sklearn.ensemble import VotingClassifier\n",
    "from sklearn.tree import DecisionTreeClassifier"
   ]
  },
  {
   "cell_type": "code",
   "execution_count": 164,
   "metadata": {},
   "outputs": [],
   "source": [
    "# Training classifiers\n",
    "clf1 =LogisticRegression()\n",
    "#clf2 = KNeighborsClassifier(n_neighbors=7)\n",
    "clf2=RandomForestClassifier(n_estimators=50,max_depth=20)\n",
    "clf3 =DecisionTreeClassifier(max_depth=10)\n",
    "eclf = VotingClassifier(estimators=[('lr', clf1), ('rf', clf2),\n",
    "                                    ('dt', clf3)],\n",
    "                        voting='soft', weights=[1, 1, 1])"
   ]
  },
  {
   "cell_type": "code",
   "execution_count": 165,
   "metadata": {},
   "outputs": [
    {
     "data": {
      "text/plain": [
       "VotingClassifier(estimators=[('lr', LogisticRegression(C=1.0, class_weight=None, dual=False, fit_intercept=True,\n",
       "          intercept_scaling=1, max_iter=100, multi_class='ovr', n_jobs=1,\n",
       "          penalty='l2', random_state=None, solver='liblinear', tol=0.0001,\n",
       "          verbose=0, warm_start=False)), ('rf', RandomF...      min_weight_fraction_leaf=0.0, presort=False, random_state=None,\n",
       "            splitter='best'))],\n",
       "         flatten_transform=None, n_jobs=1, voting='soft',\n",
       "         weights=[1, 1, 1])"
      ]
     },
     "execution_count": 165,
     "metadata": {},
     "output_type": "execute_result"
    }
   ],
   "source": [
    "clf1.fit(X_train,y_train)\n",
    "clf2.fit(X_train,y_train)\n",
    "clf3.fit(X_train,y_train)\n",
    "eclf.fit(X_train,y_train)"
   ]
  },
  {
   "cell_type": "code",
   "execution_count": 168,
   "metadata": {},
   "outputs": [],
   "source": [
    "import warnings\n",
    "warnings.filterwarnings(\"ignore\",category=DeprecationWarning)"
   ]
  },
  {
   "cell_type": "code",
   "execution_count": 169,
   "metadata": {},
   "outputs": [],
   "source": [
    "preds1=clf1.predict(X_val)\n",
    "preds2=clf2.predict(X_val)\n",
    "preds3=clf3.predict(X_val)\n",
    "preds4=eclf.predict(X_val)"
   ]
  },
  {
   "cell_type": "code",
   "execution_count": 170,
   "metadata": {},
   "outputs": [
    {
     "name": "stdout",
     "output_type": "stream",
     "text": [
      "Confusion Matrix on Validation set predictions: \n",
      " [[5804  173]\n",
      " [ 243 5408]]\n",
      "precision on validation set :  0.9690019709729439\n",
      "Recall on validation set:  0.9569987612811892\n",
      "Accuracy on validation set :  0.9642242862057103\n",
      "precision on test set :  0.0859538784067086\n",
      "Recall on test set:  0.10485933503836317\n",
      "Accuracy on test :  0.9473684210526315\n",
      "Confusion Matrix on Test set predictions: \n",
      " [[14107   436]\n",
      " [  350    41]]\n"
     ]
    }
   ],
   "source": [
    "print(\"Confusion Matrix on Validation set predictions: \"+\"\\n\",confusion_matrix(y_val,preds4))\n",
    "print(\"precision on validation set : \",precision_score(y_val,preds4))\n",
    "print(\"Recall on validation set: \", recall_score(y_val,preds4))\n",
    "print(\"Accuracy on validation set : \",accuracy_score(y_val,preds4))\n",
    "print(\"precision on test set : \",precision_score(y_test,eclf.predict(X_test)))\n",
    "print(\"Recall on test set: \", recall_score(y_test,eclf.predict(X_test)))\n",
    "print(\"Accuracy on test : \",accuracy_score(y_test,eclf.predict(X_test)))\n",
    "print(\"Confusion Matrix on Test set predictions: \"+\"\\n\",confusion_matrix(y_test,eclf.predict(X_test)))"
   ]
  },
  {
   "cell_type": "code",
   "execution_count": 171,
   "metadata": {},
   "outputs": [
    {
     "name": "stdout",
     "output_type": "stream",
     "text": [
      "Confusion Matrix on Validation set predictions: \n",
      " [[5680  297]\n",
      " [ 590 5061]]\n",
      "precision on validation set :  0.944568868980963\n",
      "Recall on validation set:  0.8955937002300478\n",
      "Accuracy on validation set :  0.923718610251118\n",
      "precision on test set :  0.06060606060606061\n",
      "Recall on test set:  0.11764705882352941\n",
      "Accuracy on test :  0.9291549484398018\n",
      "Confusion Matrix on Test set predictions: \n",
      " [[13830   713]\n",
      " [  345    46]]\n"
     ]
    }
   ],
   "source": [
    "print(\"Confusion Matrix on Validation set predictions: \"+\"\\n\",confusion_matrix(y_val,preds3))\n",
    "print(\"precision on validation set : \",precision_score(y_val,preds3))\n",
    "print(\"Recall on validation set: \", recall_score(y_val,preds3))\n",
    "print(\"Accuracy on validation set : \",accuracy_score(y_val,preds3))\n",
    "print(\"precision on test set : \",precision_score(y_test,clf3.predict(X_test)))\n",
    "print(\"Recall on test set: \", recall_score(y_test,clf3.predict(X_test)))\n",
    "print(\"Accuracy on test : \",accuracy_score(y_test,clf3.predict(X_test)))\n",
    "print(\"Confusion Matrix on Test set predictions: \"+\"\\n\",confusion_matrix(y_test,clf3.predict(X_test)))"
   ]
  },
  {
   "cell_type": "code",
   "execution_count": 172,
   "metadata": {},
   "outputs": [
    {
     "name": "stdout",
     "output_type": "stream",
     "text": [
      "Confusion Matrix on Validation set predictions: \n",
      " [[5975    2]\n",
      " [ 138 5513]]\n",
      "precision on validation set :  0.999637352674524\n",
      "Recall on validation set:  0.9755795434436383\n",
      "Accuracy on validation set :  0.9879600963192294\n",
      "precision on test set :  0.0\n",
      "Recall on test set:  0.0\n",
      "Accuracy on test :  0.9734833266372037\n",
      "Confusion Matrix on Test set predictions: \n",
      " [[14538     5]\n",
      " [  391     0]]\n"
     ]
    }
   ],
   "source": [
    "print(\"Confusion Matrix on Validation set predictions: \"+\"\\n\",confusion_matrix(y_val,preds2))\n",
    "print(\"precision on validation set : \",precision_score(y_val,preds2))\n",
    "print(\"Recall on validation set: \", recall_score(y_val,preds2))\n",
    "print(\"Accuracy on validation set : \",accuracy_score(y_val,preds2))\n",
    "print(\"precision on test set : \",precision_score(y_test,clf2.predict(X_test)))\n",
    "print(\"Recall on test set: \", recall_score(y_test,clf2.predict(X_test)))\n",
    "print(\"Accuracy on test : \",accuracy_score(y_test,clf2.predict(X_test)))\n",
    "print(\"Confusion Matrix on Test set predictions: \"+\"\\n\",confusion_matrix(y_test,clf2.predict(X_test)))"
   ]
  },
  {
   "cell_type": "code",
   "execution_count": 173,
   "metadata": {},
   "outputs": [
    {
     "name": "stdout",
     "output_type": "stream",
     "text": [
      "Confusion Matrix on Validation set predictions: \n",
      " [[4381 1596]\n",
      " [1602 4049]]\n",
      "precision on validation set :  0.7172719220549159\n",
      "Recall on validation set:  0.716510352150062\n",
      "Accuracy on validation set :  0.7249742002063984\n",
      "precision on test set :  0.05382367267413541\n",
      "Recall on test set:  0.5652173913043478\n",
      "Accuracy on test :  0.7284719432168206\n",
      "Confusion Matrix on Test set predictions: \n",
      " [[10658  3885]\n",
      " [  170   221]]\n"
     ]
    }
   ],
   "source": [
    "print(\"Confusion Matrix on Validation set predictions: \"+\"\\n\",confusion_matrix(y_val,preds1))\n",
    "print(\"precision on validation set : \",precision_score(y_val,preds1))\n",
    "print(\"Recall on validation set: \", recall_score(y_val,preds1))\n",
    "print(\"Accuracy on validation set : \",accuracy_score(y_val,preds1))\n",
    "print(\"precision on test set : \",precision_score(y_test,clf1.predict(X_test)))\n",
    "print(\"Recall on test set: \", recall_score(y_test,clf1.predict(X_test)))\n",
    "print(\"Accuracy on test : \",accuracy_score(y_test,clf1.predict(X_test)))\n",
    "print(\"Confusion Matrix on Test set predictions: \"+\"\\n\",confusion_matrix(y_test,clf1.predict(X_test)))"
   ]
  },
  {
   "cell_type": "code",
   "execution_count": 174,
   "metadata": {},
   "outputs": [],
   "source": [
    "#Finalize LDA and  Logistic Regression"
   ]
  },
  {
   "cell_type": "code",
   "execution_count": 175,
   "metadata": {},
   "outputs": [
    {
     "name": "stdout",
     "output_type": "stream",
     "text": [
      "(74670, 490) (74670,)\n",
      "Fitting estimator with 490 features.\n",
      "Fitting estimator with 489 features.\n",
      "Fitting estimator with 488 features.\n",
      "Fitting estimator with 487 features.\n",
      "Fitting estimator with 486 features.\n",
      "Fitting estimator with 485 features.\n",
      "Fitting estimator with 484 features.\n",
      "Fitting estimator with 483 features.\n",
      "Fitting estimator with 482 features.\n",
      "Fitting estimator with 481 features.\n",
      "Fitting estimator with 480 features.\n",
      "Fitting estimator with 479 features.\n",
      "Fitting estimator with 478 features.\n",
      "Fitting estimator with 477 features.\n",
      "Fitting estimator with 476 features.\n",
      "Fitting estimator with 475 features.\n",
      "Fitting estimator with 474 features.\n",
      "Fitting estimator with 473 features.\n",
      "Fitting estimator with 472 features.\n",
      "Fitting estimator with 471 features.\n",
      "Fitting estimator with 470 features.\n",
      "Fitting estimator with 469 features.\n",
      "Fitting estimator with 468 features.\n",
      "Fitting estimator with 467 features.\n",
      "Fitting estimator with 466 features.\n",
      "Fitting estimator with 465 features.\n",
      "Fitting estimator with 464 features.\n",
      "Fitting estimator with 463 features.\n",
      "Fitting estimator with 462 features.\n",
      "Fitting estimator with 461 features.\n",
      "Fitting estimator with 460 features.\n",
      "Fitting estimator with 459 features.\n",
      "Fitting estimator with 458 features.\n",
      "Fitting estimator with 457 features.\n",
      "Fitting estimator with 456 features.\n",
      "Fitting estimator with 455 features.\n",
      "Fitting estimator with 454 features.\n",
      "Fitting estimator with 453 features.\n",
      "Fitting estimator with 452 features.\n",
      "Fitting estimator with 451 features.\n",
      "Fitting estimator with 450 features.\n",
      "Fitting estimator with 449 features.\n",
      "Fitting estimator with 448 features.\n",
      "Fitting estimator with 447 features.\n",
      "Fitting estimator with 446 features.\n",
      "Fitting estimator with 445 features.\n",
      "Fitting estimator with 444 features.\n",
      "Fitting estimator with 443 features.\n",
      "Fitting estimator with 442 features.\n",
      "Fitting estimator with 441 features.\n",
      "Fitting estimator with 440 features.\n",
      "Fitting estimator with 439 features.\n",
      "Fitting estimator with 438 features.\n",
      "Fitting estimator with 437 features.\n",
      "Fitting estimator with 436 features.\n",
      "Fitting estimator with 435 features.\n",
      "Fitting estimator with 434 features.\n",
      "Fitting estimator with 433 features.\n",
      "Fitting estimator with 432 features.\n",
      "Fitting estimator with 431 features.\n",
      "Fitting estimator with 430 features.\n",
      "Fitting estimator with 429 features.\n",
      "Fitting estimator with 428 features.\n",
      "Fitting estimator with 427 features.\n",
      "Fitting estimator with 426 features.\n",
      "Fitting estimator with 425 features.\n",
      "Fitting estimator with 424 features.\n",
      "Fitting estimator with 423 features.\n",
      "Fitting estimator with 422 features.\n",
      "Fitting estimator with 421 features.\n",
      "Fitting estimator with 420 features.\n",
      "Fitting estimator with 419 features.\n",
      "Fitting estimator with 418 features.\n",
      "Fitting estimator with 417 features.\n",
      "Fitting estimator with 416 features.\n",
      "Fitting estimator with 415 features.\n",
      "Fitting estimator with 414 features.\n",
      "Fitting estimator with 413 features.\n",
      "Fitting estimator with 412 features.\n",
      "Fitting estimator with 411 features.\n",
      "Fitting estimator with 410 features.\n",
      "Fitting estimator with 409 features.\n",
      "Fitting estimator with 408 features.\n",
      "Fitting estimator with 407 features.\n",
      "Fitting estimator with 406 features.\n",
      "Fitting estimator with 405 features.\n",
      "Fitting estimator with 404 features.\n",
      "Fitting estimator with 403 features.\n",
      "Fitting estimator with 402 features.\n",
      "Fitting estimator with 401 features.\n",
      "Fitting estimator with 400 features.\n",
      "Fitting estimator with 399 features.\n",
      "Fitting estimator with 398 features.\n",
      "Fitting estimator with 397 features.\n",
      "Fitting estimator with 396 features.\n",
      "Fitting estimator with 395 features.\n",
      "Fitting estimator with 394 features.\n",
      "Fitting estimator with 393 features.\n",
      "Fitting estimator with 392 features.\n",
      "Fitting estimator with 391 features.\n",
      "Fitting estimator with 390 features.\n",
      "Fitting estimator with 389 features.\n",
      "Fitting estimator with 388 features.\n",
      "Fitting estimator with 387 features.\n",
      "Fitting estimator with 386 features.\n",
      "Fitting estimator with 385 features.\n",
      "Fitting estimator with 384 features.\n",
      "Fitting estimator with 383 features.\n",
      "Fitting estimator with 382 features.\n",
      "Fitting estimator with 381 features.\n",
      "Fitting estimator with 380 features.\n",
      "Fitting estimator with 379 features.\n",
      "Fitting estimator with 378 features.\n",
      "Fitting estimator with 377 features.\n",
      "Fitting estimator with 376 features.\n",
      "Fitting estimator with 375 features.\n",
      "Fitting estimator with 374 features.\n",
      "Fitting estimator with 373 features.\n",
      "Fitting estimator with 372 features.\n",
      "Fitting estimator with 371 features.\n",
      "Fitting estimator with 370 features.\n",
      "Fitting estimator with 369 features.\n",
      "Fitting estimator with 368 features.\n",
      "Fitting estimator with 367 features.\n",
      "Fitting estimator with 366 features.\n",
      "Fitting estimator with 365 features.\n",
      "Fitting estimator with 364 features.\n",
      "Fitting estimator with 363 features.\n",
      "Fitting estimator with 362 features.\n",
      "Fitting estimator with 361 features.\n",
      "Fitting estimator with 360 features.\n",
      "Fitting estimator with 359 features.\n",
      "Fitting estimator with 358 features.\n",
      "Fitting estimator with 357 features.\n",
      "Fitting estimator with 356 features.\n",
      "Fitting estimator with 355 features.\n",
      "Fitting estimator with 354 features.\n",
      "Fitting estimator with 353 features.\n",
      "Fitting estimator with 352 features.\n",
      "Fitting estimator with 351 features.\n",
      "Fitting estimator with 350 features.\n",
      "Fitting estimator with 349 features.\n",
      "Fitting estimator with 348 features.\n",
      "Fitting estimator with 347 features.\n",
      "Fitting estimator with 346 features.\n",
      "Fitting estimator with 345 features.\n",
      "Fitting estimator with 344 features.\n",
      "Fitting estimator with 343 features.\n",
      "Fitting estimator with 342 features.\n",
      "Fitting estimator with 341 features.\n",
      "Fitting estimator with 340 features.\n",
      "Fitting estimator with 339 features.\n",
      "Fitting estimator with 338 features.\n",
      "Fitting estimator with 337 features.\n",
      "Fitting estimator with 336 features.\n",
      "Fitting estimator with 335 features.\n",
      "Fitting estimator with 334 features.\n",
      "Fitting estimator with 333 features.\n",
      "Fitting estimator with 332 features.\n",
      "Fitting estimator with 331 features.\n",
      "Fitting estimator with 330 features.\n",
      "Fitting estimator with 329 features.\n",
      "Fitting estimator with 328 features.\n",
      "Fitting estimator with 327 features.\n",
      "Fitting estimator with 326 features.\n",
      "Fitting estimator with 325 features.\n",
      "Fitting estimator with 324 features.\n",
      "Fitting estimator with 323 features.\n",
      "Fitting estimator with 322 features.\n",
      "Fitting estimator with 321 features.\n",
      "Fitting estimator with 320 features.\n",
      "Fitting estimator with 319 features.\n",
      "Fitting estimator with 318 features.\n",
      "Fitting estimator with 317 features.\n",
      "Fitting estimator with 316 features.\n",
      "Fitting estimator with 315 features.\n",
      "Fitting estimator with 314 features.\n",
      "Fitting estimator with 313 features.\n",
      "Fitting estimator with 312 features.\n",
      "Fitting estimator with 311 features.\n",
      "Fitting estimator with 310 features.\n",
      "Fitting estimator with 309 features.\n",
      "Fitting estimator with 308 features.\n",
      "Fitting estimator with 307 features.\n",
      "Fitting estimator with 306 features.\n",
      "Fitting estimator with 305 features.\n",
      "Fitting estimator with 304 features.\n",
      "Fitting estimator with 303 features.\n",
      "Fitting estimator with 302 features.\n",
      "Fitting estimator with 301 features.\n",
      "[ True  True  True  True  True  True  True  True  True  True False  True\n",
      "  True  True False  True  True  True  True False  True  True False  True\n",
      " False  True  True  True  True  True  True  True False False  True  True\n",
      " False False  True  True False  True  True False  True False  True False\n",
      "  True  True  True False  True  True  True False  True  True  True  True\n",
      "  True  True  True False  True  True  True  True  True  True  True  True\n",
      " False  True  True  True False  True False  True  True  True  True False\n",
      "  True False False False  True  True  True  True False  True False  True\n",
      " False  True False  True  True False  True  True  True False  True False\n",
      "  True  True  True  True  True False  True  True False False  True  True\n",
      " False  True False  True False False False False False False False  True\n",
      " False False False False  True  True  True  True False  True  True  True\n",
      " False  True False  True False  True  True  True  True False False  True\n",
      "  True False  True False  True  True  True False False  True False False\n",
      "  True False False False  True  True  True  True  True False False  True\n",
      "  True  True False  True False  True  True False False  True  True  True\n",
      "  True  True False  True False False  True  True False False  True  True\n",
      "  True  True  True False False  True  True False  True  True  True  True\n",
      "  True  True  True False  True  True False  True  True False False False\n",
      "  True  True False False False  True False False  True False  True False\n",
      "  True False  True False False False False False False False False False\n",
      " False False False False  True False False  True  True False False False\n",
      "  True False False False False False False False False  True  True False\n",
      "  True False  True  True  True  True  True  True  True  True  True  True\n",
      "  True  True  True  True  True  True  True  True  True  True  True False\n",
      "  True  True  True  True  True False  True  True  True  True  True  True\n",
      "  True  True  True False False  True  True  True  True  True  True  True\n",
      "  True  True  True  True  True False  True  True False  True  True False\n",
      "  True  True  True  True  True False False  True False  True  True  True\n",
      " False False  True  True  True  True  True  True False  True  True  True\n",
      "  True False False  True  True False False False  True False False  True\n",
      "  True False False  True  True  True  True False False False False False\n",
      " False False  True  True  True  True  True False  True  True  True  True\n",
      "  True False  True False  True False False  True False False  True  True\n",
      "  True False False  True  True  True False False  True  True  True False\n",
      " False  True  True  True False  True False  True  True  True  True False\n",
      "  True  True  True  True  True  True  True  True  True False  True  True\n",
      "  True  True  True  True False  True False  True False False False False\n",
      " False False  True False False  True  True  True False False False False\n",
      " False  True  True  True False False False False False  True  True False\n",
      " False False False False  True False False False  True  True]\n",
      "[  1   1   1   1   1   1   1   1   1   1  77   1   1   1  63   1   1   1\n",
      "   1 100   1   1  73   1 117   1   1   1   1   1   1   1 119 132   1   1\n",
      "  12   9   1   1 142   1   1 168   1 108   1  92   1   1   1  14   1   1\n",
      "   1 107   1   1   1   1   1   1   1  61   1   1   1   1   1   1   1   1\n",
      "   7   1   1   1  85   1 182   1   1   1   1 125   1 151  72 173   1   1\n",
      "   1   1  60   1  45   1 172   1  18   1   1 104   1   1   1  65   1  58\n",
      "   1   1   1   1   1 116   1   1 133  42   1   1 135   1 152   1 169 159\n",
      " 113 171 147  86 161   1 179  13 112 180   1   1   1   1 111   1   1   1\n",
      "  46   1  34   1  10   1   1   1   1  71  53   1   1   4   1 150   1   1\n",
      "   1 109  50   1  39 103   1 128  99  11   1   1   1   1   1  95 178   1\n",
      "   1   1  41   1  37   1   1 156  55   1   1   1   1   1 148   1  78  84\n",
      "   1   1  40   5   1   1   1   1   1  64 145   1   1 102   1   1   1   1\n",
      "   1   1   1   6   1   1 101   1   1 146  88  44   1   1  17  36  47   1\n",
      "  98   3   1 110   1 185   1  70   1  52  26 149 157 105 184 120 129 191\n",
      " 137 122  43 131   1 188  93   1   1 170 160  33   1 118 183 189 163 155\n",
      " 174 186 187   1   1  59   1  96   1   1   1   1   1   1   1   1   1   1\n",
      "   1   1   1   1   1   1   1   1   1   1   1 143   1   1   1   1   1  91\n",
      "   1   1   1   1   1   1   1   1   1 115 158   1   1   1   1   1   1   1\n",
      "   1   1   1   1   1  69   1   1  87   1   1 121   1   1   1   1   1  89\n",
      " 167   1  21   1   1   1  15 114   1   1   1   1   1   1  57   1   1   1\n",
      "   1 153 190   1   1 162  19  51   1  56  62   1   1  35 164   1   1   1\n",
      "   1  76 130  97  79  16 144  90   1   1   1   1   1 126   1   1   1   1\n",
      "   1 175   1  94   1  74  20   1 154 127   1   1   1  68  32   1   1   1\n",
      "  54 134   1   1   1  75  27   1   1   1  67   1 106   1   1   1   1 138\n",
      "   1   1   1   1   1   1   1   1   1  38   1   1   1   1   1   1   2   1\n",
      " 140   1 136  28  29  30 141  31   1 139  48   1   1   1 177 165 124 123\n",
      " 166   1   1   1  22  25  24  23  81   1   1 176 181  83  80  66   1  82\n",
      "  49   8   1   1]\n"
     ]
    }
   ],
   "source": [
    "from sklearn.feature_selection import RFE\n",
    "logreg = LogisticRegression()\n",
    "rfe = RFE(logreg, 300,verbose=True)\n",
    "X=df.iloc[:,1:len(df.columns)-1]\n",
    "y=df.iloc[:,-1]\n",
    "print(X.shape,y.shape)\n",
    "X1,X_test,y1,y_test=train_test_split(X,y,test_size=0.2,random_state=42)\n",
    "X_train,X_val,y_train,y_val=train_test_split(X1,y1,test_size=0.2,random_state=44)\n",
    "rfe = rfe.fit(X_train, y_train)\n",
    "print(rfe.support_)\n",
    "print(rfe.ranking_)"
   ]
  },
  {
   "cell_type": "code",
   "execution_count": 274,
   "metadata": {},
   "outputs": [],
   "source": [
    "#import statsmodels.api as sm\n",
    "#logit_model=sm.Logit(y_train,X_train)\n",
    "#result=logit_model.fit()\n",
    "#print(result.summary2())"
   ]
  },
  {
   "cell_type": "code",
   "execution_count": 176,
   "metadata": {},
   "outputs": [],
   "source": [
    "#print(rfe.support_)"
   ]
  },
  {
   "cell_type": "code",
   "execution_count": 177,
   "metadata": {},
   "outputs": [],
   "source": [
    "k=rfe.ranking_"
   ]
  },
  {
   "cell_type": "code",
   "execution_count": 178,
   "metadata": {},
   "outputs": [
    {
     "data": {
      "text/plain": [
       "300"
      ]
     },
     "execution_count": 178,
     "metadata": {},
     "output_type": "execute_result"
    }
   ],
   "source": [
    "len(k[k==1])"
   ]
  },
  {
   "cell_type": "code",
   "execution_count": 179,
   "metadata": {},
   "outputs": [],
   "source": [
    "k=list(k)"
   ]
  },
  {
   "cell_type": "code",
   "execution_count": 180,
   "metadata": {},
   "outputs": [],
   "source": [
    "count=[]\n",
    "for i in range(0,len(k)):\n",
    "    if k[i]==1:\n",
    "        count.append(i+1)\n",
    "    else:\n",
    "        continue\n",
    "    "
   ]
  },
  {
   "cell_type": "code",
   "execution_count": 181,
   "metadata": {},
   "outputs": [
    {
     "data": {
      "text/plain": [
       "Index(['AGE', 'RECON_MA_RISK_SCORE_NBR', 'RECON_RX_RISK_SCORE_NBR',\n",
       "       'CON_VISIT_04_Q01', 'CON_VISIT_04_Q02', 'CON_VISIT_04_Q03',\n",
       "       'CON_VISIT_04_Q04', 'CON_VISIT_21_Q01', 'CON_VISIT_21_Q02',\n",
       "       'CON_VISIT_21_Q03',\n",
       "       ...\n",
       "       'Decile_struggle_Med_lang_2.0', 'Decile_struggle_Med_lang_3.0',\n",
       "       'Decile_struggle_Med_lang_9.0', 'Index_Health_ins_engage_0.0',\n",
       "       'Index_Health_ins_engage_1.0', 'Index_Health_ins_engage_7.0',\n",
       "       'Index_Health_ins_engage_8.0', 'Index_Health_ins_influence_4.0',\n",
       "       'Index_Health_ins_influence_8.0', 'Index_Health_ins_influence_9.0'],\n",
       "      dtype='object', length=300)"
      ]
     },
     "execution_count": 181,
     "metadata": {},
     "output_type": "execute_result"
    }
   ],
   "source": [
    "df.iloc[:,count].columns"
   ]
  },
  {
   "cell_type": "code",
   "execution_count": 182,
   "metadata": {},
   "outputs": [],
   "source": [
    "#Over Sampling on new dataset with 300 features\n",
    "a=df.iloc[:,count]\n",
    "b=df.iloc[:,-1]\n",
    "a1,a_test,b1,b_test=train_test_split(a,b,test_size=0.1,random_state=42)\n",
    "\n",
    "sm = SMOTE(random_state=12, ratio = 1.0)\n",
    "a1,b1 = sm.fit_sample(a1, b1)\n",
    "a_train,a_val,b_train,b_val=train_test_split(a1,b1,test_size=0.1,random_state=42)\n"
   ]
  },
  {
   "cell_type": "code",
   "execution_count": 183,
   "metadata": {},
   "outputs": [],
   "source": [
    "logreg.fit(a_train,b_train)\n",
    "predictions=logreg.predict(a_val)"
   ]
  },
  {
   "cell_type": "code",
   "execution_count": null,
   "metadata": {},
   "outputs": [],
   "source": []
  },
  {
   "cell_type": "code",
   "execution_count": 184,
   "metadata": {},
   "outputs": [
    {
     "name": "stdout",
     "output_type": "stream",
     "text": [
      "Confusion Matrix on Validation set predictions: \n",
      " [[4839 1795]\n",
      " [1909 4539]]\n",
      "precision on validation set :  0.716608778023366\n",
      "Recall on validation set:  0.703939205955335\n",
      "Accuracy on validation set :  0.7168628650053509\n",
      "precision on test set :  0.055392156862745096\n",
      "Recall on test set:  0.5854922279792746\n",
      "Accuracy on test :  0.7312173563680193\n",
      "Confusion Matrix on Test set predictions: \n",
      " [[5347 1927]\n",
      " [  80  113]]\n"
     ]
    }
   ],
   "source": [
    "print(\"Confusion Matrix on Validation set predictions: \"+\"\\n\",confusion_matrix(b_val,predictions))\n",
    "print(\"precision on validation set : \",precision_score(b_val,predictions))\n",
    "print(\"Recall on validation set: \", recall_score(b_val,predictions))\n",
    "print(\"Accuracy on validation set : \",accuracy_score(b_val,predictions))\n",
    "print(\"precision on test set : \",precision_score(b_test,logreg.predict(a_test)))\n",
    "print(\"Recall on test set: \", recall_score(b_test,logreg.predict(a_test)))\n",
    "print(\"Accuracy on test : \",accuracy_score(b_test,logreg.predict(a_test)))\n",
    "print(\"Confusion Matrix on Test set predictions: \"+\"\\n\",confusion_matrix(b_test,logreg.predict(a_test)))"
   ]
  },
  {
   "cell_type": "code",
   "execution_count": 185,
   "metadata": {},
   "outputs": [],
   "source": [
    "rf=RandomForestClassifier(max_depth=7,min_samples_split=10)"
   ]
  },
  {
   "cell_type": "code",
   "execution_count": 186,
   "metadata": {},
   "outputs": [
    {
     "data": {
      "text/plain": [
       "RandomForestClassifier(bootstrap=True, class_weight=None, criterion='gini',\n",
       "            max_depth=7, max_features='auto', max_leaf_nodes=None,\n",
       "            min_impurity_decrease=0.0, min_impurity_split=None,\n",
       "            min_samples_leaf=1, min_samples_split=10,\n",
       "            min_weight_fraction_leaf=0.0, n_estimators=10, n_jobs=1,\n",
       "            oob_score=False, random_state=None, verbose=0,\n",
       "            warm_start=False)"
      ]
     },
     "execution_count": 186,
     "metadata": {},
     "output_type": "execute_result"
    }
   ],
   "source": [
    "rf.fit(a_train,b_train)"
   ]
  },
  {
   "cell_type": "code",
   "execution_count": 198,
   "metadata": {},
   "outputs": [],
   "source": [
    "predictions=rf.predict(a_val)"
   ]
  },
  {
   "cell_type": "code",
   "execution_count": 199,
   "metadata": {},
   "outputs": [
    {
     "name": "stdout",
     "output_type": "stream",
     "text": [
      "Confusion Matrix on Validation set predictions: \n",
      " [[5828  806]\n",
      " [ 919 5529]]\n",
      "precision on validation set :  0.8727703235990529\n",
      "Recall on validation set:  0.8574751861042184\n",
      "Accuracy on validation set :  0.8681394282219844\n",
      "precision on test set :  0.06907894736842106\n",
      "Recall on test set:  0.32642487046632124\n",
      "Accuracy on test :  0.8688897817061738\n",
      "Confusion Matrix on Test set predictions: \n",
      " [[6425  849]\n",
      " [ 130   63]]\n"
     ]
    }
   ],
   "source": [
    "print(\"Confusion Matrix on Validation set predictions: \"+\"\\n\",confusion_matrix(b_val,predictions))\n",
    "print(\"precision on validation set : \",precision_score(b_val,predictions))\n",
    "print(\"Recall on validation set: \", recall_score(b_val,predictions))\n",
    "print(\"Accuracy on validation set : \",accuracy_score(b_val,predictions))\n",
    "print(\"precision on test set : \",precision_score(b_test,rf.predict(a_test)))\n",
    "print(\"Recall on test set: \", recall_score(b_test,rf.predict(a_test)))\n",
    "print(\"Accuracy on test : \",accuracy_score(b_test,rf.predict(a_test)))\n",
    "print(\"Confusion Matrix on Test set predictions: \"+\"\\n\",confusion_matrix(b_test,rf.predict(a_test)))"
   ]
  },
  {
   "cell_type": "code",
   "execution_count": 189,
   "metadata": {},
   "outputs": [],
   "source": [
    "lda=LinearDiscriminantAnalysis()"
   ]
  },
  {
   "cell_type": "code",
   "execution_count": 190,
   "metadata": {},
   "outputs": [
    {
     "name": "stderr",
     "output_type": "stream",
     "text": [
      "C:\\Users\\gandh\\Anaconda3\\lib\\site-packages\\sklearn\\discriminant_analysis.py:388: UserWarning: Variables are collinear.\n",
      "  warnings.warn(\"Variables are collinear.\")\n"
     ]
    },
    {
     "data": {
      "text/plain": [
       "LinearDiscriminantAnalysis(n_components=None, priors=None, shrinkage=None,\n",
       "              solver='svd', store_covariance=False, tol=0.0001)"
      ]
     },
     "execution_count": 190,
     "metadata": {},
     "output_type": "execute_result"
    }
   ],
   "source": [
    "lda.fit(a_train,b_train)"
   ]
  },
  {
   "cell_type": "code",
   "execution_count": 200,
   "metadata": {},
   "outputs": [],
   "source": [
    "predictions=lda.predict(a_val)"
   ]
  },
  {
   "cell_type": "code",
   "execution_count": 201,
   "metadata": {},
   "outputs": [
    {
     "name": "stdout",
     "output_type": "stream",
     "text": [
      "Confusion Matrix on Validation set predictions: \n",
      " [[4871 1763]\n",
      " [1910 4538]]\n",
      "precision on validation set :  0.7202031423583558\n",
      "Recall on validation set:  0.7037841191066998\n",
      "Accuracy on validation set :  0.7192325332517964\n",
      "precision on test set :  0.0554730064388311\n",
      "Recall on test set:  0.5803108808290155\n",
      "Accuracy on test :  0.7337618856301058\n",
      "Confusion Matrix on Test set predictions: \n",
      " [[5367 1907]\n",
      " [  81  112]]\n"
     ]
    }
   ],
   "source": [
    "print(\"Confusion Matrix on Validation set predictions: \"+\"\\n\",confusion_matrix(b_val,predictions))\n",
    "print(\"precision on validation set : \",precision_score(b_val,predictions))\n",
    "print(\"Recall on validation set: \", recall_score(b_val,predictions))\n",
    "print(\"Accuracy on validation set : \",accuracy_score(b_val,predictions))\n",
    "print(\"precision on test set : \",precision_score(b_test,lda.predict(a_test)))\n",
    "print(\"Recall on test set: \", recall_score(b_test,lda.predict(a_test)))\n",
    "print(\"Accuracy on test : \",accuracy_score(b_test,lda.predict(a_test)))\n",
    "print(\"Confusion Matrix on Test set predictions: \"+\"\\n\",confusion_matrix(b_test,lda.predict(a_test)))"
   ]
  },
  {
   "cell_type": "code",
   "execution_count": 193,
   "metadata": {},
   "outputs": [],
   "source": [
    "dt=DecisionTreeClassifier(max_depth=10)"
   ]
  },
  {
   "cell_type": "code",
   "execution_count": 194,
   "metadata": {},
   "outputs": [
    {
     "data": {
      "text/plain": [
       "DecisionTreeClassifier(class_weight=None, criterion='gini', max_depth=10,\n",
       "            max_features=None, max_leaf_nodes=None,\n",
       "            min_impurity_decrease=0.0, min_impurity_split=None,\n",
       "            min_samples_leaf=1, min_samples_split=2,\n",
       "            min_weight_fraction_leaf=0.0, presort=False, random_state=None,\n",
       "            splitter='best')"
      ]
     },
     "execution_count": 194,
     "metadata": {},
     "output_type": "execute_result"
    }
   ],
   "source": [
    "dt.fit(a_train,b_train)"
   ]
  },
  {
   "cell_type": "code",
   "execution_count": 202,
   "metadata": {},
   "outputs": [],
   "source": [
    "predictions=dt.predict(a_val)"
   ]
  },
  {
   "cell_type": "code",
   "execution_count": 203,
   "metadata": {},
   "outputs": [
    {
     "name": "stdout",
     "output_type": "stream",
     "text": [
      "Confusion Matrix on Validation set predictions: \n",
      " [[6324  310]\n",
      " [ 864 5584]]\n",
      "precision on validation set :  0.9474041398031897\n",
      "Recall on validation set:  0.8660049627791563\n",
      "Accuracy on validation set :  0.9102583702797737\n",
      "precision on test set :  0.07142857142857142\n",
      "Recall on test set:  0.13471502590673576\n",
      "Accuracy on test :  0.9323690906655953\n",
      "Confusion Matrix on Test set predictions: \n",
      " [[6936  338]\n",
      " [ 167   26]]\n"
     ]
    }
   ],
   "source": [
    "print(\"Confusion Matrix on Validation set predictions: \"+\"\\n\",confusion_matrix(b_val,predictions))\n",
    "print(\"precision on validation set : \",precision_score(b_val,predictions))\n",
    "print(\"Recall on validation set: \", recall_score(b_val,predictions))\n",
    "print(\"Accuracy on validation set : \",accuracy_score(b_val,predictions))\n",
    "print(\"precision on test set : \",precision_score(b_test,dt.predict(a_test)))\n",
    "print(\"Recall on test set: \", recall_score(b_test,dt.predict(a_test)))\n",
    "print(\"Accuracy on test : \",accuracy_score(b_test,dt.predict(a_test)))\n",
    "print(\"Confusion Matrix on Test set predictions: \"+\"\\n\",confusion_matrix(b_test,dt.predict(a_test)))"
   ]
  },
  {
   "cell_type": "code",
   "execution_count": null,
   "metadata": {},
   "outputs": [],
   "source": []
  },
  {
   "cell_type": "code",
   "execution_count": 223,
   "metadata": {},
   "outputs": [],
   "source": [
    "#Hyperparameter tuning using gridsearchCV"
   ]
  },
  {
   "cell_type": "code",
   "execution_count": null,
   "metadata": {},
   "outputs": [],
   "source": []
  },
  {
   "cell_type": "code",
   "execution_count": null,
   "metadata": {},
   "outputs": [],
   "source": []
  },
  {
   "cell_type": "code",
   "execution_count": null,
   "metadata": {},
   "outputs": [],
   "source": []
  }
 ],
 "metadata": {
  "kernelspec": {
   "display_name": "Python 3",
   "language": "python",
   "name": "python3"
  },
  "language_info": {
   "codemirror_mode": {
    "name": "ipython",
    "version": 3
   },
   "file_extension": ".py",
   "mimetype": "text/x-python",
   "name": "python",
   "nbconvert_exporter": "python",
   "pygments_lexer": "ipython3",
   "version": "3.6.5"
  }
 },
 "nbformat": 4,
 "nbformat_minor": 2
}
