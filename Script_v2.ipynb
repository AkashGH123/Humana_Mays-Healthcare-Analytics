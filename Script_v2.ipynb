{
 "cells": [
  {
   "cell_type": "code",
   "execution_count": 110,
   "metadata": {},
   "outputs": [],
   "source": [
    "import pandas as pd\n",
    "import numpy as np\n",
    "import seaborn as sns\n",
    "from sklearn.metrics import precision_score,recall_score\n",
    "import xgboost as xgb"
   ]
  },
  {
   "cell_type": "code",
   "execution_count": 2,
   "metadata": {},
   "outputs": [],
   "source": [
    "df=pd.read_csv(r\"C:\\Users\\gandh\\Downloads\\Datasets\\humana\\TAMU_FINAL_DATASET_2018\\TAMU_FINAL_DATASET_2018.csv\")"
   ]
  },
  {
   "cell_type": "code",
   "execution_count": 3,
   "metadata": {},
   "outputs": [
    {
     "data": {
      "text/plain": [
       "(100000, 448)"
      ]
     },
     "execution_count": 3,
     "metadata": {},
     "output_type": "execute_result"
    }
   ],
   "source": [
    "df.shape"
   ]
  },
  {
   "cell_type": "code",
   "execution_count": 4,
   "metadata": {},
   "outputs": [
    {
     "name": "stdout",
     "output_type": "stream",
     "text": [
      "<class 'pandas.core.frame.DataFrame'>\n",
      "RangeIndex: 100000 entries, 0 to 99999\n",
      "Columns: 448 entries, ID to STATIN_ELIG\n",
      "dtypes: float64(20), int64(417), object(11)\n",
      "memory usage: 341.8+ MB\n"
     ]
    }
   ],
   "source": [
    "df.info()"
   ]
  },
  {
   "cell_type": "code",
   "execution_count": 5,
   "metadata": {},
   "outputs": [
    {
     "data": {
      "text/html": [
       "<div>\n",
       "<style scoped>\n",
       "    .dataframe tbody tr th:only-of-type {\n",
       "        vertical-align: middle;\n",
       "    }\n",
       "\n",
       "    .dataframe tbody tr th {\n",
       "        vertical-align: top;\n",
       "    }\n",
       "\n",
       "    .dataframe thead th {\n",
       "        text-align: right;\n",
       "    }\n",
       "</style>\n",
       "<table border=\"1\" class=\"dataframe\">\n",
       "  <thead>\n",
       "    <tr style=\"text-align: right;\">\n",
       "      <th></th>\n",
       "      <th>ID</th>\n",
       "      <th>AGE</th>\n",
       "      <th>SEX_CD</th>\n",
       "      <th>AMI_FLAG</th>\n",
       "      <th>ESRD_IND</th>\n",
       "      <th>HOSPICE_IND</th>\n",
       "      <th>ORIG_REAS_ENTITLE_CD</th>\n",
       "      <th>RECON_MA_RISK_SCORE_NBR</th>\n",
       "      <th>RECON_RX_RISK_SCORE_NBR</th>\n",
       "      <th>PCP_ASSIGNMENT</th>\n",
       "      <th>...</th>\n",
       "      <th>COL</th>\n",
       "      <th>COL_GAP</th>\n",
       "      <th>AMM</th>\n",
       "      <th>AMM_GAP</th>\n",
       "      <th>DIAB_PASS</th>\n",
       "      <th>ACE_PASS</th>\n",
       "      <th>STATIN_PASS</th>\n",
       "      <th>ACE_ELIG</th>\n",
       "      <th>DIAB_ELIG</th>\n",
       "      <th>STATIN_ELIG</th>\n",
       "    </tr>\n",
       "  </thead>\n",
       "  <tbody>\n",
       "    <tr>\n",
       "      <th>0</th>\n",
       "      <td>1</td>\n",
       "      <td>77</td>\n",
       "      <td>F</td>\n",
       "      <td>0</td>\n",
       "      <td>N</td>\n",
       "      <td>N</td>\n",
       "      <td>0.0</td>\n",
       "      <td>0.424</td>\n",
       "      <td>0.402</td>\n",
       "      <td>MEMBER SELECTED</td>\n",
       "      <td>...</td>\n",
       "      <td>0</td>\n",
       "      <td>0</td>\n",
       "      <td>0</td>\n",
       "      <td>0</td>\n",
       "      <td>0</td>\n",
       "      <td>0</td>\n",
       "      <td>0</td>\n",
       "      <td>0</td>\n",
       "      <td>0</td>\n",
       "      <td>0</td>\n",
       "    </tr>\n",
       "    <tr>\n",
       "      <th>1</th>\n",
       "      <td>2</td>\n",
       "      <td>49</td>\n",
       "      <td>F</td>\n",
       "      <td>0</td>\n",
       "      <td>N</td>\n",
       "      <td>N</td>\n",
       "      <td>1.0</td>\n",
       "      <td>2.879</td>\n",
       "      <td>1.159</td>\n",
       "      <td>ATTRIBUTED</td>\n",
       "      <td>...</td>\n",
       "      <td>0</td>\n",
       "      <td>0</td>\n",
       "      <td>0</td>\n",
       "      <td>0</td>\n",
       "      <td>0</td>\n",
       "      <td>0</td>\n",
       "      <td>1</td>\n",
       "      <td>0</td>\n",
       "      <td>0</td>\n",
       "      <td>1</td>\n",
       "    </tr>\n",
       "    <tr>\n",
       "      <th>2</th>\n",
       "      <td>3</td>\n",
       "      <td>75</td>\n",
       "      <td>F</td>\n",
       "      <td>0</td>\n",
       "      <td>N</td>\n",
       "      <td>N</td>\n",
       "      <td>0.0</td>\n",
       "      <td>0.638</td>\n",
       "      <td>0.568</td>\n",
       "      <td>MEMBER SELECTED</td>\n",
       "      <td>...</td>\n",
       "      <td>1</td>\n",
       "      <td>0</td>\n",
       "      <td>0</td>\n",
       "      <td>0</td>\n",
       "      <td>0</td>\n",
       "      <td>1</td>\n",
       "      <td>1</td>\n",
       "      <td>1</td>\n",
       "      <td>0</td>\n",
       "      <td>1</td>\n",
       "    </tr>\n",
       "    <tr>\n",
       "      <th>3</th>\n",
       "      <td>4</td>\n",
       "      <td>68</td>\n",
       "      <td>M</td>\n",
       "      <td>0</td>\n",
       "      <td>N</td>\n",
       "      <td>N</td>\n",
       "      <td>0.0</td>\n",
       "      <td>0.584</td>\n",
       "      <td>0.886</td>\n",
       "      <td>MEMBER SELECTED</td>\n",
       "      <td>...</td>\n",
       "      <td>1</td>\n",
       "      <td>1</td>\n",
       "      <td>0</td>\n",
       "      <td>0</td>\n",
       "      <td>1</td>\n",
       "      <td>1</td>\n",
       "      <td>1</td>\n",
       "      <td>1</td>\n",
       "      <td>1</td>\n",
       "      <td>1</td>\n",
       "    </tr>\n",
       "    <tr>\n",
       "      <th>4</th>\n",
       "      <td>5</td>\n",
       "      <td>81</td>\n",
       "      <td>F</td>\n",
       "      <td>0</td>\n",
       "      <td>N</td>\n",
       "      <td>N</td>\n",
       "      <td>1.0</td>\n",
       "      <td>1.242</td>\n",
       "      <td>1.212</td>\n",
       "      <td>MEMBER SELECTED</td>\n",
       "      <td>...</td>\n",
       "      <td>0</td>\n",
       "      <td>0</td>\n",
       "      <td>0</td>\n",
       "      <td>0</td>\n",
       "      <td>0</td>\n",
       "      <td>0</td>\n",
       "      <td>0</td>\n",
       "      <td>0</td>\n",
       "      <td>0</td>\n",
       "      <td>0</td>\n",
       "    </tr>\n",
       "  </tbody>\n",
       "</table>\n",
       "<p>5 rows × 448 columns</p>\n",
       "</div>"
      ],
      "text/plain": [
       "   ID  AGE SEX_CD  AMI_FLAG ESRD_IND HOSPICE_IND  ORIG_REAS_ENTITLE_CD  \\\n",
       "0   1   77      F         0        N           N                   0.0   \n",
       "1   2   49      F         0        N           N                   1.0   \n",
       "2   3   75      F         0        N           N                   0.0   \n",
       "3   4   68      M         0        N           N                   0.0   \n",
       "4   5   81      F         0        N           N                   1.0   \n",
       "\n",
       "   RECON_MA_RISK_SCORE_NBR  RECON_RX_RISK_SCORE_NBR   PCP_ASSIGNMENT  \\\n",
       "0                    0.424                    0.402  MEMBER SELECTED   \n",
       "1                    2.879                    1.159       ATTRIBUTED   \n",
       "2                    0.638                    0.568  MEMBER SELECTED   \n",
       "3                    0.584                    0.886  MEMBER SELECTED   \n",
       "4                    1.242                    1.212  MEMBER SELECTED   \n",
       "\n",
       "      ...      COL COL_GAP AMM AMM_GAP DIAB_PASS  ACE_PASS  STATIN_PASS  \\\n",
       "0     ...        0       0   0       0         0         0            0   \n",
       "1     ...        0       0   0       0         0         0            1   \n",
       "2     ...        1       0   0       0         0         1            1   \n",
       "3     ...        1       1   0       0         1         1            1   \n",
       "4     ...        0       0   0       0         0         0            0   \n",
       "\n",
       "   ACE_ELIG  DIAB_ELIG  STATIN_ELIG  \n",
       "0         0          0            0  \n",
       "1         0          0            1  \n",
       "2         1          0            1  \n",
       "3         1          1            1  \n",
       "4         0          0            0  \n",
       "\n",
       "[5 rows x 448 columns]"
      ]
     },
     "execution_count": 5,
     "metadata": {},
     "output_type": "execute_result"
    }
   ],
   "source": [
    "df.head()"
   ]
  },
  {
   "cell_type": "code",
   "execution_count": null,
   "metadata": {},
   "outputs": [],
   "source": []
  },
  {
   "cell_type": "code",
   "execution_count": 6,
   "metadata": {},
   "outputs": [],
   "source": [
    "#list of columns that contain null values\n",
    "l=df.columns[df.isna().any()].tolist()"
   ]
  },
  {
   "cell_type": "code",
   "execution_count": 7,
   "metadata": {},
   "outputs": [],
   "source": [
    "#List of columns that have only one value\n",
    "singlevaluedcol=[]\n",
    "for i in df.columns:\n",
    "    if df[i].nunique==1:\n",
    "        singlevaluedcol.append(i)\n",
    "        "
   ]
  },
  {
   "cell_type": "code",
   "execution_count": 8,
   "metadata": {},
   "outputs": [
    {
     "data": {
      "text/plain": [
       "[]"
      ]
     },
     "execution_count": 8,
     "metadata": {},
     "output_type": "execute_result"
    }
   ],
   "source": [
    "singlevaluedcol"
   ]
  },
  {
   "cell_type": "code",
   "execution_count": 9,
   "metadata": {},
   "outputs": [],
   "source": [
    "#Creating a dictionary to identify Column names as keys and number of null values in the column as the corresponding value\n",
    "d={}\n",
    "for i in l:\n",
    "    d[i]=len(df[df[i].isnull()])"
   ]
  },
  {
   "cell_type": "code",
   "execution_count": 10,
   "metadata": {},
   "outputs": [],
   "source": [
    "#d"
   ]
  },
  {
   "cell_type": "code",
   "execution_count": 11,
   "metadata": {},
   "outputs": [
    {
     "data": {
      "text/plain": [
       "<matplotlib.axes._subplots.AxesSubplot at 0x1c789853a90>"
      ]
     },
     "execution_count": 11,
     "metadata": {},
     "output_type": "execute_result"
    },
    {
     "data": {
      "image/png": "[encoded data removed]",
      "text/plain": [
       "<Figure size 432x288 with 1 Axes>"
      ]
     },
     "metadata": {},
     "output_type": "display_data"
    }
   ],
   "source": [
    "import matplotlib.pyplot as plt\n",
    "plt.subplot(1,2,1)"
   ]
  },
  {
   "cell_type": "code",
   "execution_count": 12,
   "metadata": {},
   "outputs": [
    {
     "data": {
      "text/plain": [
       "Text(0.5,1,'Number of Patients males or females who did not suffer heart attacks')"
      ]
     },
     "execution_count": 12,
     "metadata": {},
     "output_type": "execute_result"
    },
    {
     "data": {
      "image/png": "[encoded data removed]",
      "text/plain": [
       "<Figure size 432x288 with 1 Axes>"
      ]
     },
     "metadata": {},
     "output_type": "display_data"
    }
   ],
   "source": [
    "#Plot for Male and female count for heart attack patients\n",
    "df.groupby('SEX_CD').count()['ID'].plot.bar()\n",
    "plt.xlabel(\"SEX\")\n",
    "plt.ylabel(\"Count\")\n",
    "plt.xticks(rotation=0)\n",
    "plt.title(\"Number of Patients males or females who did not suffer heart attacks\")\n",
    "#df.groupby(['SEX_CD','AMI_FLAG']).count()['ID'].plot.bar()"
   ]
  },
  {
   "cell_type": "code",
   "execution_count": 13,
   "metadata": {},
   "outputs": [
    {
     "data": {
      "image/png": "[encoded data removed]",
      "text/plain": [
       "<Figure size 432x288 with 1 Axes>"
      ]
     },
     "metadata": {},
     "output_type": "display_data"
    }
   ],
   "source": [
    "plt.subplot(1,2,2)\n",
    "df[df['AMI_FLAG']==1].groupby('SEX_CD').count()['ID'].plot.bar(legend=True)\n",
    "plt.xlabel(\"SEX\")\n",
    "plt.ylabel(\"count\")\n",
    "plt.title(\"Number of males or females who suffered from heart attacks\")\n",
    "plt.xticks(rotation=0)\n",
    "plt.show()"
   ]
  },
  {
   "cell_type": "code",
   "execution_count": 15,
   "metadata": {},
   "outputs": [
    {
     "data": {
      "image/png": "[encoded data removed]",
      "text/plain": [
       "<Figure size 432x288 with 1 Axes>"
      ]
     },
     "metadata": {},
     "output_type": "display_data"
    }
   ],
   "source": [
    "df.groupby('Education_level').count()['ID'].plot.bar()\n",
    "plt.xlabel(\"Education Level\")\n",
    "plt.ylabel(\"Number of customers\")\n",
    "plt.title(\"Count of customers with different educational background\")\n",
    "plt.xticks(rotation=0)\n",
    "plt.show()"
   ]
  },
  {
   "cell_type": "code",
   "execution_count": 16,
   "metadata": {},
   "outputs": [
    {
     "data": {
      "image/png": "[encoded data removed]",
      "text/plain": [
       "<Figure size 432x288 with 1 Axes>"
      ]
     },
     "metadata": {},
     "output_type": "display_data"
    }
   ],
   "source": [
    "df[df['AMI_FLAG']==1].groupby('Education_level').count()['ID'].plot.bar(legend=True)\n",
    "plt.xlabel(\"Level of Education\")\n",
    "plt.xticks(rotation=0)\n",
    "plt.ylabel(\"Count\")\n",
    "plt.title(\"Count of patients within every education level with heart attacks\")\n",
    "plt.show()"
   ]
  },
  {
   "cell_type": "code",
   "execution_count": 17,
   "metadata": {},
   "outputs": [
    {
     "data": {
      "text/plain": [
       "<matplotlib.axes._subplots.AxesSubplot at 0x1c789e03a90>"
      ]
     },
     "execution_count": 17,
     "metadata": {},
     "output_type": "execute_result"
    },
    {
     "data": {
      "image/png": "[encoded data removed]",
      "text/plain": [
       "<Figure size 432x288 with 1 Axes>"
      ]
     },
     "metadata": {},
     "output_type": "display_data"
    }
   ],
   "source": [
    "pd.pivot_table(df,index=['Education_level','SEX_CD'],values='AMI_FLAG',aggfunc=np.sum).plot.bar(stacked=True)\n",
    "\n"
   ]
  },
  {
   "cell_type": "code",
   "execution_count": 18,
   "metadata": {},
   "outputs": [
    {
     "data": {
      "text/plain": [
       "<matplotlib.axes._subplots.AxesSubplot at 0x1c789f3f278>"
      ]
     },
     "execution_count": 18,
     "metadata": {},
     "output_type": "execute_result"
    },
    {
     "data": {
      "image/png": "[encoded data removed]",
      "text/plain": [
       "<Figure size 432x288 with 1 Axes>"
      ]
     },
     "metadata": {},
     "output_type": "display_data"
    }
   ],
   "source": [
    "pd.pivot_table(df[df['AMI_FLAG']==1],index=['Education_level','SEX_CD'],values='AMI_FLAG',aggfunc=np.sum).plot.bar(stacked=True)\n"
   ]
  },
  {
   "cell_type": "code",
   "execution_count": 19,
   "metadata": {},
   "outputs": [
    {
     "data": {
      "image/png": "[encoded data removed]",
      "text/plain": [
       "<Figure size 432x288 with 1 Axes>"
      ]
     },
     "metadata": {},
     "output_type": "display_data"
    }
   ],
   "source": [
    "df[df['AMI_FLAG']==1].groupby(['SEX_CD','Education_level']).count()['AMI_FLAG'].plot.bar(stacked=True,legend=True)\n",
    "plt.xlabel(\"Level of Education for males and females\")\n",
    "plt.xticks(rotation=45)\n",
    "plt.ylabel(\"Count\")\n",
    "plt.title(\"Count of patients in each education level within both genders with heart attacks\")\n",
    "plt.show()"
   ]
  },
  {
   "cell_type": "code",
   "execution_count": 20,
   "metadata": {},
   "outputs": [],
   "source": [
    "l=list(d.keys())"
   ]
  },
  {
   "cell_type": "code",
   "execution_count": 21,
   "metadata": {},
   "outputs": [
    {
     "data": {
      "text/plain": [
       "{'SEX_CD': 30,\n",
       " 'ESRD_IND': 32,\n",
       " 'HOSPICE_IND': 32,\n",
       " 'ORIG_REAS_ENTITLE_CD': 30,\n",
       " 'PCP_ASSIGNMENT': 157,\n",
       " 'DUAL': 30,\n",
       " 'INSTITUTIONAL': 30,\n",
       " 'LIS': 30,\n",
       " 'MCO_HLVL_PLAN_CD': 33,\n",
       " 'MCO_PROD_TYPE_CD': 33,\n",
       " 'Diab_Type': 64693,\n",
       " 'Dwelling_Type': 12179,\n",
       " 'Education_level': 12179,\n",
       " 'Length_residence': 12179,\n",
       " 'Est_BMI_decile': 12179,\n",
       " 'Num_person_household': 12179,\n",
       " 'College': 12179,\n",
       " 'Online_purchaser': 12179,\n",
       " 'Online_User': 12179,\n",
       " 'Pct_above_poverty_line': 12179,\n",
       " 'Pct_below_poverty_line': 12179,\n",
       " 'Decile_struggle_Med_lang': 25215,\n",
       " 'Home_value': 12179,\n",
       " 'Est_Net_worth': 12179,\n",
       " 'Est_income': 12179,\n",
       " 'Index_Health_ins_engage': 12179,\n",
       " 'Index_Health_ins_influence': 12179,\n",
       " 'Population_density_centile_ST': 12179,\n",
       " 'Population_density_centile_US': 12179}"
      ]
     },
     "execution_count": 21,
     "metadata": {},
     "output_type": "execute_result"
    }
   ],
   "source": [
    "d"
   ]
  },
  {
   "cell_type": "code",
   "execution_count": null,
   "metadata": {},
   "outputs": [],
   "source": []
  },
  {
   "cell_type": "code",
   "execution_count": 22,
   "metadata": {},
   "outputs": [
    {
     "data": {
      "text/plain": [
       "(100000, 448)"
      ]
     },
     "execution_count": 22,
     "metadata": {},
     "output_type": "execute_result"
    }
   ],
   "source": [
    "df.shape"
   ]
  },
  {
   "cell_type": "code",
   "execution_count": 23,
   "metadata": {},
   "outputs": [
    {
     "name": "stdout",
     "output_type": "stream",
     "text": [
      "<class 'pandas.core.frame.DataFrame'>\n",
      "RangeIndex: 100000 entries, 0 to 99999\n",
      "Columns: 448 entries, ID to STATIN_ELIG\n",
      "dtypes: float64(20), int64(417), object(11)\n",
      "memory usage: 341.8+ MB\n"
     ]
    }
   ],
   "source": [
    "df.info()"
   ]
  },
  {
   "cell_type": "code",
   "execution_count": 24,
   "metadata": {},
   "outputs": [
    {
     "data": {
      "text/html": [
       "<div>\n",
       "<style scoped>\n",
       "    .dataframe tbody tr th:only-of-type {\n",
       "        vertical-align: middle;\n",
       "    }\n",
       "\n",
       "    .dataframe tbody tr th {\n",
       "        vertical-align: top;\n",
       "    }\n",
       "\n",
       "    .dataframe thead th {\n",
       "        text-align: right;\n",
       "    }\n",
       "</style>\n",
       "<table border=\"1\" class=\"dataframe\">\n",
       "  <thead>\n",
       "    <tr style=\"text-align: right;\">\n",
       "      <th></th>\n",
       "      <th>ID</th>\n",
       "      <th>AGE</th>\n",
       "      <th>SEX_CD</th>\n",
       "      <th>AMI_FLAG</th>\n",
       "      <th>ESRD_IND</th>\n",
       "      <th>HOSPICE_IND</th>\n",
       "      <th>ORIG_REAS_ENTITLE_CD</th>\n",
       "      <th>RECON_MA_RISK_SCORE_NBR</th>\n",
       "      <th>RECON_RX_RISK_SCORE_NBR</th>\n",
       "      <th>PCP_ASSIGNMENT</th>\n",
       "      <th>...</th>\n",
       "      <th>COL</th>\n",
       "      <th>COL_GAP</th>\n",
       "      <th>AMM</th>\n",
       "      <th>AMM_GAP</th>\n",
       "      <th>DIAB_PASS</th>\n",
       "      <th>ACE_PASS</th>\n",
       "      <th>STATIN_PASS</th>\n",
       "      <th>ACE_ELIG</th>\n",
       "      <th>DIAB_ELIG</th>\n",
       "      <th>STATIN_ELIG</th>\n",
       "    </tr>\n",
       "  </thead>\n",
       "  <tbody>\n",
       "    <tr>\n",
       "      <th>0</th>\n",
       "      <td>1</td>\n",
       "      <td>77</td>\n",
       "      <td>F</td>\n",
       "      <td>0</td>\n",
       "      <td>N</td>\n",
       "      <td>N</td>\n",
       "      <td>0.0</td>\n",
       "      <td>0.424</td>\n",
       "      <td>0.402</td>\n",
       "      <td>MEMBER SELECTED</td>\n",
       "      <td>...</td>\n",
       "      <td>0</td>\n",
       "      <td>0</td>\n",
       "      <td>0</td>\n",
       "      <td>0</td>\n",
       "      <td>0</td>\n",
       "      <td>0</td>\n",
       "      <td>0</td>\n",
       "      <td>0</td>\n",
       "      <td>0</td>\n",
       "      <td>0</td>\n",
       "    </tr>\n",
       "    <tr>\n",
       "      <th>1</th>\n",
       "      <td>2</td>\n",
       "      <td>49</td>\n",
       "      <td>F</td>\n",
       "      <td>0</td>\n",
       "      <td>N</td>\n",
       "      <td>N</td>\n",
       "      <td>1.0</td>\n",
       "      <td>2.879</td>\n",
       "      <td>1.159</td>\n",
       "      <td>ATTRIBUTED</td>\n",
       "      <td>...</td>\n",
       "      <td>0</td>\n",
       "      <td>0</td>\n",
       "      <td>0</td>\n",
       "      <td>0</td>\n",
       "      <td>0</td>\n",
       "      <td>0</td>\n",
       "      <td>1</td>\n",
       "      <td>0</td>\n",
       "      <td>0</td>\n",
       "      <td>1</td>\n",
       "    </tr>\n",
       "    <tr>\n",
       "      <th>2</th>\n",
       "      <td>3</td>\n",
       "      <td>75</td>\n",
       "      <td>F</td>\n",
       "      <td>0</td>\n",
       "      <td>N</td>\n",
       "      <td>N</td>\n",
       "      <td>0.0</td>\n",
       "      <td>0.638</td>\n",
       "      <td>0.568</td>\n",
       "      <td>MEMBER SELECTED</td>\n",
       "      <td>...</td>\n",
       "      <td>1</td>\n",
       "      <td>0</td>\n",
       "      <td>0</td>\n",
       "      <td>0</td>\n",
       "      <td>0</td>\n",
       "      <td>1</td>\n",
       "      <td>1</td>\n",
       "      <td>1</td>\n",
       "      <td>0</td>\n",
       "      <td>1</td>\n",
       "    </tr>\n",
       "    <tr>\n",
       "      <th>3</th>\n",
       "      <td>4</td>\n",
       "      <td>68</td>\n",
       "      <td>M</td>\n",
       "      <td>0</td>\n",
       "      <td>N</td>\n",
       "      <td>N</td>\n",
       "      <td>0.0</td>\n",
       "      <td>0.584</td>\n",
       "      <td>0.886</td>\n",
       "      <td>MEMBER SELECTED</td>\n",
       "      <td>...</td>\n",
       "      <td>1</td>\n",
       "      <td>1</td>\n",
       "      <td>0</td>\n",
       "      <td>0</td>\n",
       "      <td>1</td>\n",
       "      <td>1</td>\n",
       "      <td>1</td>\n",
       "      <td>1</td>\n",
       "      <td>1</td>\n",
       "      <td>1</td>\n",
       "    </tr>\n",
       "    <tr>\n",
       "      <th>4</th>\n",
       "      <td>5</td>\n",
       "      <td>81</td>\n",
       "      <td>F</td>\n",
       "      <td>0</td>\n",
       "      <td>N</td>\n",
       "      <td>N</td>\n",
       "      <td>1.0</td>\n",
       "      <td>1.242</td>\n",
       "      <td>1.212</td>\n",
       "      <td>MEMBER SELECTED</td>\n",
       "      <td>...</td>\n",
       "      <td>0</td>\n",
       "      <td>0</td>\n",
       "      <td>0</td>\n",
       "      <td>0</td>\n",
       "      <td>0</td>\n",
       "      <td>0</td>\n",
       "      <td>0</td>\n",
       "      <td>0</td>\n",
       "      <td>0</td>\n",
       "      <td>0</td>\n",
       "    </tr>\n",
       "  </tbody>\n",
       "</table>\n",
       "<p>5 rows × 448 columns</p>\n",
       "</div>"
      ],
      "text/plain": [
       "   ID  AGE SEX_CD  AMI_FLAG ESRD_IND HOSPICE_IND  ORIG_REAS_ENTITLE_CD  \\\n",
       "0   1   77      F         0        N           N                   0.0   \n",
       "1   2   49      F         0        N           N                   1.0   \n",
       "2   3   75      F         0        N           N                   0.0   \n",
       "3   4   68      M         0        N           N                   0.0   \n",
       "4   5   81      F         0        N           N                   1.0   \n",
       "\n",
       "   RECON_MA_RISK_SCORE_NBR  RECON_RX_RISK_SCORE_NBR   PCP_ASSIGNMENT  \\\n",
       "0                    0.424                    0.402  MEMBER SELECTED   \n",
       "1                    2.879                    1.159       ATTRIBUTED   \n",
       "2                    0.638                    0.568  MEMBER SELECTED   \n",
       "3                    0.584                    0.886  MEMBER SELECTED   \n",
       "4                    1.242                    1.212  MEMBER SELECTED   \n",
       "\n",
       "      ...      COL COL_GAP AMM AMM_GAP DIAB_PASS  ACE_PASS  STATIN_PASS  \\\n",
       "0     ...        0       0   0       0         0         0            0   \n",
       "1     ...        0       0   0       0         0         0            1   \n",
       "2     ...        1       0   0       0         0         1            1   \n",
       "3     ...        1       1   0       0         1         1            1   \n",
       "4     ...        0       0   0       0         0         0            0   \n",
       "\n",
       "   ACE_ELIG  DIAB_ELIG  STATIN_ELIG  \n",
       "0         0          0            0  \n",
       "1         0          0            1  \n",
       "2         1          0            1  \n",
       "3         1          1            1  \n",
       "4         0          0            0  \n",
       "\n",
       "[5 rows x 448 columns]"
      ]
     },
     "execution_count": 24,
     "metadata": {},
     "output_type": "execute_result"
    }
   ],
   "source": [
    "df.head()"
   ]
  },
  {
   "cell_type": "code",
   "execution_count": 25,
   "metadata": {},
   "outputs": [],
   "source": [
    "#Identifying number of unique values in each columns\n",
    "k={}\n",
    "for i in df.columns:\n",
    "    k[i]=df[i].nunique()"
   ]
  },
  {
   "cell_type": "code",
   "execution_count": 26,
   "metadata": {},
   "outputs": [
    {
     "data": {
      "text/plain": [
       "{'ID': 100000,\n",
       " 'AGE': 56,\n",
       " 'SEX_CD': 2,\n",
       " 'AMI_FLAG': 2,\n",
       " 'ESRD_IND': 2,\n",
       " 'HOSPICE_IND': 2,\n",
       " 'ORIG_REAS_ENTITLE_CD': 4,\n",
       " 'RECON_MA_RISK_SCORE_NBR': 4932,\n",
       " 'RECON_RX_RISK_SCORE_NBR': 4147,\n",
       " 'PCP_ASSIGNMENT': 3,\n",
       " 'DUAL': 2,\n",
       " 'INSTITUTIONAL': 2,\n",
       " 'LIS': 2,\n",
       " 'MCO_HLVL_PLAN_CD': 2,\n",
       " 'MCO_PROD_TYPE_CD': 4,\n",
       " 'CON_VISIT_04_Q01': 40,\n",
       " 'CON_VISIT_04_Q02': 38,\n",
       " 'CON_VISIT_04_Q03': 43,\n",
       " 'CON_VISIT_04_Q04': 41,\n",
       " 'CON_VISIT_21_Q01': 46,\n",
       " 'CON_VISIT_21_Q02': 57,\n",
       " 'CON_VISIT_21_Q03': 48,\n",
       " 'CON_VISIT_03_Q02': 40,\n",
       " 'CON_VISIT_03_Q04': 42,\n",
       " 'CON_VISIT_05_Q02': 30,\n",
       " 'CON_VISIT_05_Q04': 30,\n",
       " 'CON_VISIT_09_Q02': 25,\n",
       " 'CON_VISIT_10_Q02': 47,\n",
       " 'CON_VISIT_18_Q02': 29,\n",
       " 'CON_VISIT_19_Q04': 19,\n",
       " 'CON_VISIT_23_Q02': 37,\n",
       " 'CON_VISIT_24_Q02': 61,\n",
       " 'CON_VISIT_30_Q01': 41,\n",
       " 'CON_VISIT_30_Q02': 40,\n",
       " 'CON_VISIT_30_Q04': 41,\n",
       " 'CON_VISIT_32_Q02': 55,\n",
       " 'CON_VISIT_33_Q04': 39,\n",
       " 'CON_VISIT_06_Q01': 73,\n",
       " 'CON_VISIT_06_Q02': 76,\n",
       " 'CON_VISIT_06_Q03': 83,\n",
       " 'CON_VISIT_10_Q01': 44,\n",
       " 'CON_VISIT_19_Q03': 19,\n",
       " 'CON_VISIT_33_Q02': 40,\n",
       " 'CON_VISIT_08_Q02': 34,\n",
       " 'CON_VISIT_10_Q03': 43,\n",
       " 'CON_VISIT_10_Q04': 49,\n",
       " 'CON_VISIT_24_Q04': 74,\n",
       " 'CON_VISIT_08_Q01': 42,\n",
       " 'CON_VISIT_08_Q03': 36,\n",
       " 'CON_VISIT_08_Q04': 41,\n",
       " 'CON_VISIT_11_Q04': 76,\n",
       " 'CON_VISIT_21_Q04': 55,\n",
       " 'CON_VISIT_25_Q01': 47,\n",
       " 'CON_VISIT_27_Q02': 47,\n",
       " 'CON_VISIT_27_Q03': 47,\n",
       " 'CON_VISIT_31_Q02': 16,\n",
       " 'CON_VISIT_31_Q04': 15,\n",
       " 'CON_VISIT_32_Q01': 51,\n",
       " 'CON_VISIT_09_Q03': 25,\n",
       " 'CON_VISIT_31_Q01': 16,\n",
       " 'CON_VISIT_33_Q01': 40,\n",
       " 'CON_VISIT_24_Q03': 70,\n",
       " 'CON_VISIT_06_Q04': 81,\n",
       " 'CON_VISIT_33_Q03': 41,\n",
       " 'CON_VISIT_23_Q01': 32,\n",
       " 'CON_VISIT_25_Q04': 55,\n",
       " 'CON_VISIT_27_Q01': 43,\n",
       " 'CON_VISIT_32_Q04': 58,\n",
       " 'CON_VISIT_24_Q01': 54,\n",
       " 'CON_VISIT_07_Q04': 22,\n",
       " 'CON_VISIT_19_Q01': 18,\n",
       " 'CON_VISIT_01_Q01': 33,\n",
       " 'CON_VISIT_01_Q02': 38,\n",
       " 'CON_VISIT_01_Q03': 35,\n",
       " 'CON_VISIT_01_Q04': 30,\n",
       " 'CON_VISIT_02_Q01': 36,\n",
       " 'CON_VISIT_03_Q01': 37,\n",
       " 'CON_VISIT_11_Q01': 69,\n",
       " 'CON_VISIT_11_Q03': 77,\n",
       " 'CON_VISIT_17_Q03': 48,\n",
       " 'CON_VISIT_18_Q01': 33,\n",
       " 'CON_VISIT_26_Q02': 48,\n",
       " 'CON_VISIT_05_Q01': 26,\n",
       " 'CON_VISIT_09_Q01': 27,\n",
       " 'CON_VISIT_15_Q04': 28,\n",
       " 'CON_VISIT_25_Q03': 48,\n",
       " 'CON_VISIT_32_Q03': 63,\n",
       " 'CON_VISIT_17_Q04': 52,\n",
       " 'CON_VISIT_31_Q03': 18,\n",
       " 'CON_VISIT_02_Q04': 39,\n",
       " 'CON_VISIT_17_Q01': 49,\n",
       " 'CON_VISIT_17_Q02': 47,\n",
       " 'CON_VISIT_18_Q04': 33,\n",
       " 'CON_VISIT_20_Q04': 35,\n",
       " 'CON_VISIT_26_Q01': 46,\n",
       " 'CON_VISIT_26_Q03': 52,\n",
       " 'CON_VISIT_27_Q04': 47,\n",
       " 'CON_VISIT_30_Q03': 46,\n",
       " 'CON_VISIT_23_Q04': 38,\n",
       " 'CON_VISIT_19_Q02': 20,\n",
       " 'CON_VISIT_07_Q03': 19,\n",
       " 'CON_VISIT_09_Q04': 27,\n",
       " 'CON_VISIT_23_Q03': 31,\n",
       " 'CON_VISIT_15_Q01': 29,\n",
       " 'CON_VISIT_15_Q02': 31,\n",
       " 'CON_VISIT_15_Q03': 33,\n",
       " 'CON_VISIT_26_Q04': 46,\n",
       " 'CON_VISIT_02_Q02': 37,\n",
       " 'CON_VISIT_03_Q03': 37,\n",
       " 'CON_VISIT_18_Q03': 31,\n",
       " 'CON_VISIT_05_Q03': 27,\n",
       " 'CON_VISIT_22_Q01': 7,\n",
       " 'CON_VISIT_22_Q02': 10,\n",
       " 'CON_VISIT_22_Q03': 9,\n",
       " 'CON_VISIT_02_Q03': 39,\n",
       " 'CON_VISIT_11_Q02': 75,\n",
       " 'CON_VISIT_20_Q02': 38,\n",
       " 'CON_VISIT_20_Q03': 37,\n",
       " 'CON_VISIT_25_Q02': 42,\n",
       " 'CON_VISIT_07_Q01': 22,\n",
       " 'CON_VISIT_28_Q02': 13,\n",
       " 'CON_VISIT_07_Q02': 22,\n",
       " 'CON_VISIT_20_Q01': 35,\n",
       " 'CON_VISIT_22_Q04': 10,\n",
       " 'CON_VISIT_28_Q03': 13,\n",
       " 'CON_VISIT_14_Q03': 15,\n",
       " 'CON_VISIT_14_Q02': 11,\n",
       " 'CON_VISIT_16_Q01': 14,\n",
       " 'CON_VISIT_16_Q02': 18,\n",
       " 'CON_VISIT_16_Q03': 19,\n",
       " 'CON_VISIT_16_Q04': 15,\n",
       " 'CON_VISIT_28_Q01': 14,\n",
       " 'CON_VISIT_14_Q01': 11,\n",
       " 'CON_VISIT_14_Q04': 11,\n",
       " 'CON_VISIT_12_Q04': 9,\n",
       " 'CON_VISIT_28_Q04': 12,\n",
       " 'CON_VISIT_12_Q03': 8,\n",
       " 'CON_VISIT_12_Q01': 10,\n",
       " 'CON_VISIT_13_Q01': 2,\n",
       " 'CON_VISIT_13_Q04': 4,\n",
       " 'CON_VISIT_12_Q02': 9,\n",
       " 'CON_VISIT_13_Q02': 3,\n",
       " 'CON_VISIT_13_Q03': 2,\n",
       " 'POT_VISIT_11_Q01': 58,\n",
       " 'POT_VISIT_11_Q02': 60,\n",
       " 'POT_VISIT_11_Q03': 60,\n",
       " 'POT_VISIT_11_Q04': 56,\n",
       " 'POT_VISIT_81_Q01': 22,\n",
       " 'POT_VISIT_21_Q02': 111,\n",
       " 'POT_VISIT_23_Q02': 35,\n",
       " 'POT_VISIT_81_Q02': 25,\n",
       " 'POT_VISIT_81_Q04': 25,\n",
       " 'POT_VISIT_22_Q02': 76,\n",
       " 'POT_VISIT_12_Q02': 60,\n",
       " 'POT_VISIT_19_Q02': 17,\n",
       " 'POT_VISIT_22_Q03': 88,\n",
       " 'POT_VISIT_22_Q04': 79,\n",
       " 'POT_VISIT_12_Q01': 56,\n",
       " 'POT_VISIT_12_Q03': 76,\n",
       " 'POT_VISIT_12_Q04': 76,\n",
       " 'POT_VISIT_22_Q01': 78,\n",
       " 'POT_VISIT_23_Q01': 34,\n",
       " 'POT_VISIT_23_Q03': 38,\n",
       " 'POT_VISIT_81_Q03': 29,\n",
       " 'POT_VISIT_23_Q04': 37,\n",
       " 'POT_VISIT_19_Q01': 17,\n",
       " 'POT_VISIT_19_Q04': 16,\n",
       " 'POT_VISIT_20_Q01': 8,\n",
       " 'POT_VISIT_21_Q04': 131,\n",
       " 'POT_VISIT_41_Q04': 27,\n",
       " 'POT_VISIT_19_Q03': 18,\n",
       " 'POT_VISIT_21_Q01': 103,\n",
       " 'POT_VISIT_31_Q01': 28,\n",
       " 'POT_VISIT_31_Q02': 32,\n",
       " 'POT_VISIT_31_Q03': 31,\n",
       " 'POT_VISIT_31_Q04': 37,\n",
       " 'POT_VISIT_32_Q01': 33,\n",
       " 'POT_VISIT_32_Q02': 33,\n",
       " 'POT_VISIT_32_Q03': 37,\n",
       " 'POT_VISIT_32_Q04': 37,\n",
       " 'POT_VISIT_41_Q01': 19,\n",
       " 'POT_VISIT_51_Q01': 20,\n",
       " 'POT_VISIT_51_Q02': 21,\n",
       " 'POT_VISIT_24_Q02': 14,\n",
       " 'POT_VISIT_21_Q03': 114,\n",
       " 'POT_VISIT_41_Q02': 24,\n",
       " 'POT_VISIT_41_Q03': 24,\n",
       " 'POT_VISIT_53_Q01': 11,\n",
       " 'POT_VISIT_53_Q02': 13,\n",
       " 'POT_VISIT_53_Q03': 15,\n",
       " 'POT_VISIT_53_Q04': 11,\n",
       " 'POT_VISIT_20_Q02': 8,\n",
       " 'POT_VISIT_20_Q04': 7,\n",
       " 'POT_VISIT_01_Q03': 3,\n",
       " 'POT_VISIT_17_Q04': 3,\n",
       " 'POT_VISIT_20_Q03': 7,\n",
       " 'POT_VISIT_24_Q03': 12,\n",
       " 'POT_VISIT_24_Q04': 15,\n",
       " 'POT_VISIT_24_Q01': 15,\n",
       " 'POT_VISIT_50_Q01': 8,\n",
       " 'POT_VISIT_50_Q02': 7,\n",
       " 'POT_VISIT_50_Q03': 7,\n",
       " 'POT_VISIT_50_Q04': 7,\n",
       " 'POT_VISIT_72_Q01': 11,\n",
       " 'POT_VISIT_72_Q02': 9,\n",
       " 'POT_VISIT_72_Q03': 10,\n",
       " 'POT_VISIT_17_Q01': 3,\n",
       " 'POT_VISIT_15_Q04': 3,\n",
       " 'POT_VISIT_99_Q03': 19,\n",
       " 'POT_VISIT_99_Q04': 12,\n",
       " 'POT_VISIT_34_Q01': 3,\n",
       " 'POT_VISIT_42_Q02': 2,\n",
       " 'POT_VISIT_61_Q03': 16,\n",
       " 'POT_VISIT_51_Q04': 23,\n",
       " 'POT_VISIT_72_Q04': 10,\n",
       " 'POT_VISIT_49_Q03': 12,\n",
       " 'POT_VISIT_02_Q04': 2,\n",
       " 'POT_VISIT_99_Q01': 22,\n",
       " 'POT_VISIT_99_Q02': 28,\n",
       " 'POT_VISIT_49_Q01': 8,\n",
       " 'POT_VISIT_49_Q02': 14,\n",
       " 'POT_VISIT_15_Q01': 4,\n",
       " 'POT_VISIT_60_Q04': 2,\n",
       " 'POT_VISIT_33_Q03': 10,\n",
       " 'POT_VISIT_33_Q01': 9,\n",
       " 'POT_VISIT_13_Q01': 16,\n",
       " 'POT_VISIT_13_Q02': 14,\n",
       " 'POT_VISIT_13_Q03': 14,\n",
       " 'POT_VISIT_13_Q04': 15,\n",
       " 'POT_VISIT_65_Q02': 23,\n",
       " 'POT_VISIT_65_Q03': 23,\n",
       " 'POT_VISIT_65_Q04': 20,\n",
       " 'POT_VISIT_49_Q04': 12,\n",
       " 'POT_VISIT_65_Q01': 20,\n",
       " 'POT_VISIT_33_Q04': 10,\n",
       " 'POT_VISIT_15_Q03': 4,\n",
       " 'POT_VISIT_61_Q02': 17,\n",
       " 'POT_VISIT_17_Q03': 3,\n",
       " 'POT_VISIT_33_Q02': 9,\n",
       " 'POT_VISIT_71_Q03': 5,\n",
       " 'POT_VISIT_16_Q02': 2,\n",
       " 'POT_VISIT_61_Q04': 25,\n",
       " 'POT_VISIT_15_Q02': 4,\n",
       " 'POT_VISIT_51_Q03': 17,\n",
       " 'POT_VISIT_14_Q03': 5,\n",
       " 'POT_VISIT_71_Q01': 5,\n",
       " 'POT_VISIT_60_Q03': 2,\n",
       " 'POT_VISIT_14_Q01': 4,\n",
       " 'POT_VISIT_14_Q02': 5,\n",
       " 'POT_VISIT_71_Q04': 4,\n",
       " 'POT_VISIT_52_Q01': 8,\n",
       " 'POT_VISIT_17_Q02': 3,\n",
       " 'POT_VISIT_60_Q01': 2,\n",
       " 'POT_VISIT_16_Q03': 2,\n",
       " 'POT_VISIT_54_Q04': 2,\n",
       " 'POT_VISIT_01_Q01': 2,\n",
       " 'POT_VISIT_42_Q04': 2,\n",
       " 'POT_VISIT_16_Q04': 2,\n",
       " 'POT_VISIT_16_Q01': 2,\n",
       " 'POT_VISIT_61_Q01': 21,\n",
       " 'POT_VISIT_52_Q04': 4,\n",
       " 'POT_VISIT_71_Q02': 4,\n",
       " 'POT_VISIT_34_Q02': 2,\n",
       " 'POT_VISIT_34_Q03': 2,\n",
       " 'POT_VISIT_34_Q04': 4,\n",
       " 'POT_VISIT_52_Q02': 8,\n",
       " 'POT_VISIT_04_Q02': 2,\n",
       " 'POT_VISIT_60_Q02': 2,\n",
       " 'POT_VISIT_62_Q02': 7,\n",
       " 'POT_VISIT_62_Q03': 3,\n",
       " 'POT_VISIT_02_Q01': 1,\n",
       " 'POT_VISIT_62_Q04': 4,\n",
       " 'POT_VISIT_52_Q03': 4,\n",
       " 'POT_VISIT_42_Q01': 2,\n",
       " 'POT_VISIT_01_Q04': 2,\n",
       " 'POT_VISIT_62_Q01': 2,\n",
       " 'POT_VISIT_42_Q03': 2,\n",
       " 'POT_VISIT_09_Q01': 2,\n",
       " 'POT_VISIT_04_Q01': 2,\n",
       " 'POT_VISIT_05_Q01': 2,\n",
       " 'POT_VISIT_01_Q02': 2,\n",
       " 'POT_VISIT_14_Q04': 4,\n",
       " 'POT_VISIT_07_Q01': 2,\n",
       " 'POT_VISIT_07_Q02': 2,\n",
       " 'POT_VISIT_07_Q03': 2,\n",
       " 'POT_VISIT_07_Q04': 2,\n",
       " 'POT_VISIT_26_Q04': 2,\n",
       " 'POT_VISIT_55_Q02': 2,\n",
       " 'POT_VISIT_26_Q02': 2,\n",
       " 'POT_VISIT_03_Q04': 2,\n",
       " 'POT_VISIT_57_Q04': 2,\n",
       " 'POT_VISIT_56_Q03': 2,\n",
       " 'POT_VISIT_18_Q01': 1,\n",
       " 'POT_VISIT_54_Q01': 2,\n",
       " 'POT_VISIT_54_Q02': 2,\n",
       " 'POT_VISIT_54_Q03': 2,\n",
       " 'POT_VISIT_03_Q01': 2,\n",
       " 'POT_VISIT_25_Q01': 2,\n",
       " 'RX_THER_17_YR2016': 7,\n",
       " 'RX_THER_36_YR2016': 50,\n",
       " 'RX_THER_42_YR2016': 21,\n",
       " 'RX_THER_44_YR2016': 67,\n",
       " 'RX_THER_58_YR2016': 57,\n",
       " 'RX_THER_65_YR2016': 61,\n",
       " 'RX_THER_90_YR2016': 44,\n",
       " 'RX_THER_01_YR2016': 19,\n",
       " 'RX_THER_05_YR2016': 19,\n",
       " 'RX_THER_22_YR2016': 30,\n",
       " 'RX_THER_37_YR2016': 47,\n",
       " 'RX_THER_39_YR2016': 53,\n",
       " 'RX_THER_43_YR2016': 20,\n",
       " 'RX_THER_49_YR2016': 46,\n",
       " 'RX_THER_57_YR2016': 40,\n",
       " 'RX_THER_60_YR2016': 26,\n",
       " 'RX_THER_28_YR2016': 37,\n",
       " 'RX_THER_27_YR2016': 67,\n",
       " 'RX_THER_34_YR2016': 31,\n",
       " 'RX_THER_16_YR2016': 27,\n",
       " 'RX_THER_41_YR2016': 27,\n",
       " 'RX_THER_02_YR2016': 20,\n",
       " 'RX_THER_18_YR2016': 3,\n",
       " 'RX_THER_50_YR2016': 26,\n",
       " 'RX_THER_97_YR2016': 36,\n",
       " 'RX_THER_61_YR2016': 28,\n",
       " 'RX_THER_66_YR2016': 31,\n",
       " 'RX_THER_56_YR2016': 35,\n",
       " 'RX_THER_03_YR2016': 18,\n",
       " 'RX_THER_75_YR2016': 34,\n",
       " 'RX_THER_72_YR2016': 59,\n",
       " 'RX_THER_79_YR2016': 36,\n",
       " 'RX_THER_12_YR2016': 60,\n",
       " 'RX_THER_86_YR2016': 49,\n",
       " 'RX_THER_32_YR2016': 32,\n",
       " 'RX_THER_33_YR2016': 35,\n",
       " 'RX_THER_21_YR2016': 30,\n",
       " 'RX_THER_46_YR2016': 26,\n",
       " 'RX_THER_62_YR2016': 50,\n",
       " 'RX_THER_68_YR2016': 29,\n",
       " 'RX_THER_94_YR2016': 20,\n",
       " 'RX_THER_04_YR2016': 16,\n",
       " 'RX_THER_59_YR2016': 50,\n",
       " 'RX_THER_69_YR2016': 7,\n",
       " 'RX_THER_85_YR2016': 28,\n",
       " 'RX_THER_11_YR2016': 20,\n",
       " 'RX_THER_30_YR2016': 28,\n",
       " 'RX_THER_54_YR2016': 27,\n",
       " 'RX_THER_31_YR2016': 27,\n",
       " 'RX_THER_83_YR2016': 50,\n",
       " 'RX_THER_13_YR2016': 18,\n",
       " 'RX_THER_35_YR2016': 23,\n",
       " 'RX_THER_89_YR2016': 14,\n",
       " 'RX_THER_78_YR2016': 13,\n",
       " 'RX_THER_53_YR2016': 20,\n",
       " 'RX_THER_77_YR2016': 16,\n",
       " 'RX_THER_88_YR2016': 20,\n",
       " 'RX_THER_23_YR2016': 20,\n",
       " 'RX_THER_52_YR2016': 28,\n",
       " 'RX_THER_73_YR2016': 39,\n",
       " 'RX_THER_99_YR2016': 31,\n",
       " 'RX_THER_82_YR2016': 23,\n",
       " 'RX_THER_07_YR2016': 11,\n",
       " 'RX_THER_93_YR2016': 11,\n",
       " 'RX_THER_74_YR2016': 8,\n",
       " 'RX_THER_55_YR2016': 15,\n",
       " 'RX_THER_24_YR2016': 19,\n",
       " 'RX_THER_67_YR2016': 25,\n",
       " 'RX_THER_64_YR2016': 23,\n",
       " 'RX_THER_87_YR2016': 10,\n",
       " 'RX_THER_47_YR2016': 19,\n",
       " 'RX_THER_38_YR2016': 16,\n",
       " 'RX_THER_40_YR2016': 29,\n",
       " 'RX_THER_09_YR2016': 16,\n",
       " 'RX_THER_51_YR2016': 15,\n",
       " 'RX_THER_26_YR2016': 17,\n",
       " 'RX_THER_25_YR2016': 15,\n",
       " 'RX_THER_81_YR2016': 14,\n",
       " 'RX_THER_48_YR2016': 14,\n",
       " 'RX_THER_95_YR2016': 9,\n",
       " 'RX_THER_45_YR2016': 13,\n",
       " 'RX_THER_76_YR2016': 15,\n",
       " 'RX_THER_80_YR2016': 17,\n",
       " 'RX_THER_15_YR2016': 6,\n",
       " 'RX_THER_19_YR2016': 16,\n",
       " 'RX_THER_96_YR2016': 5,\n",
       " 'RX_THER_92_YR2016': 3,\n",
       " 'RX_THER_98_YR2016': 3,\n",
       " 'RX_THER_84_YR2016': 5,\n",
       " 'RX_THER_08_YR2016': 3,\n",
       " 'CV_CAD': 2,\n",
       " 'CV_CHF': 2,\n",
       " 'CV_CIR': 2,\n",
       " 'CV_CER': 2,\n",
       " 'CV_HDZ': 2,\n",
       " 'CV_SNS': 2,\n",
       " 'CV_PVD': 2,\n",
       " 'RES_ALG': 2,\n",
       " 'RES_AST': 2,\n",
       " 'RES_COPD': 2,\n",
       " 'RES_FAIL': 2,\n",
       " 'RES_INF': 2,\n",
       " 'DIABETES': 2,\n",
       " 'Diab_Type': 3,\n",
       " 'Diab_Complications': 2,\n",
       " 'PREDIABETES': 2,\n",
       " 'HYPERTENSION': 2,\n",
       " 'HYPERLIPID': 2,\n",
       " 'RENAL': 2,\n",
       " 'CKD': 2,\n",
       " 'ESRD': 2,\n",
       " 'MUSCUL_OTH': 2,\n",
       " 'MUSCUL_BN': 2,\n",
       " 'OSTEO': 2,\n",
       " 'ARTH': 2,\n",
       " 'Dwelling_Type': 8,\n",
       " 'Education_level': 9,\n",
       " 'Length_residence': 77,\n",
       " 'Est_BMI_decile': 10,\n",
       " 'Num_person_household': 16,\n",
       " 'College': 2,\n",
       " 'Online_purchaser': 2,\n",
       " 'Online_User': 2,\n",
       " 'Pct_above_poverty_line': 81,\n",
       " 'Pct_below_poverty_line': 81,\n",
       " 'Decile_struggle_Med_lang': 10,\n",
       " 'Home_value': 1261,\n",
       " 'Est_Net_worth': 13,\n",
       " 'Est_income': 15,\n",
       " 'Index_Health_ins_engage': 10,\n",
       " 'Index_Health_ins_influence': 10,\n",
       " 'Population_density_centile_ST': 100,\n",
       " 'Population_density_centile_US': 100,\n",
       " 'CDC': 2,\n",
       " 'CDC_HBATEST_GAP': 2,\n",
       " 'CDC_HBAPOOR_GAP': 2,\n",
       " 'CDC_NPH_GAP': 2,\n",
       " 'CDC_EYE_GAP': 2,\n",
       " 'BCS': 2,\n",
       " 'BCS_GAP': 2,\n",
       " 'COL': 2,\n",
       " 'COL_GAP': 2,\n",
       " 'AMM': 2,\n",
       " 'AMM_GAP': 2,\n",
       " 'DIAB_PASS': 2,\n",
       " 'ACE_PASS': 2,\n",
       " 'STATIN_PASS': 2,\n",
       " 'ACE_ELIG': 2,\n",
       " 'DIAB_ELIG': 2,\n",
       " 'STATIN_ELIG': 2}"
      ]
     },
     "execution_count": 26,
     "metadata": {},
     "output_type": "execute_result"
    }
   ],
   "source": [
    "k"
   ]
  },
  {
   "cell_type": "code",
   "execution_count": 32,
   "metadata": {},
   "outputs": [
    {
     "data": {
      "text/html": [
       "<div>\n",
       "<style scoped>\n",
       "    .dataframe tbody tr th:only-of-type {\n",
       "        vertical-align: middle;\n",
       "    }\n",
       "\n",
       "    .dataframe tbody tr th {\n",
       "        vertical-align: top;\n",
       "    }\n",
       "\n",
       "    .dataframe thead th {\n",
       "        text-align: right;\n",
       "    }\n",
       "</style>\n",
       "<table border=\"1\" class=\"dataframe\">\n",
       "  <thead>\n",
       "    <tr style=\"text-align: right;\">\n",
       "      <th></th>\n",
       "      <th>ID</th>\n",
       "      <th>AGE</th>\n",
       "      <th>SEX_CD</th>\n",
       "      <th>AMI_FLAG</th>\n",
       "      <th>ESRD_IND</th>\n",
       "      <th>HOSPICE_IND</th>\n",
       "      <th>RECON_MA_RISK_SCORE_NBR</th>\n",
       "      <th>RECON_RX_RISK_SCORE_NBR</th>\n",
       "      <th>PCP_ASSIGNMENT</th>\n",
       "      <th>DUAL</th>\n",
       "      <th>...</th>\n",
       "      <th>COL</th>\n",
       "      <th>COL_GAP</th>\n",
       "      <th>AMM</th>\n",
       "      <th>AMM_GAP</th>\n",
       "      <th>DIAB_PASS</th>\n",
       "      <th>ACE_PASS</th>\n",
       "      <th>STATIN_PASS</th>\n",
       "      <th>ACE_ELIG</th>\n",
       "      <th>DIAB_ELIG</th>\n",
       "      <th>STATIN_ELIG</th>\n",
       "    </tr>\n",
       "    <tr>\n",
       "      <th>ORIG_REAS_ENTITLE_CD</th>\n",
       "      <th></th>\n",
       "      <th></th>\n",
       "      <th></th>\n",
       "      <th></th>\n",
       "      <th></th>\n",
       "      <th></th>\n",
       "      <th></th>\n",
       "      <th></th>\n",
       "      <th></th>\n",
       "      <th></th>\n",
       "      <th></th>\n",
       "      <th></th>\n",
       "      <th></th>\n",
       "      <th></th>\n",
       "      <th></th>\n",
       "      <th></th>\n",
       "      <th></th>\n",
       "      <th></th>\n",
       "      <th></th>\n",
       "      <th></th>\n",
       "      <th></th>\n",
       "    </tr>\n",
       "  </thead>\n",
       "  <tbody>\n",
       "    <tr>\n",
       "      <th>0.0</th>\n",
       "      <td>71114</td>\n",
       "      <td>71114</td>\n",
       "      <td>71114</td>\n",
       "      <td>71114</td>\n",
       "      <td>71112</td>\n",
       "      <td>71112</td>\n",
       "      <td>71114</td>\n",
       "      <td>71114</td>\n",
       "      <td>71031</td>\n",
       "      <td>71114</td>\n",
       "      <td>...</td>\n",
       "      <td>71114</td>\n",
       "      <td>71114</td>\n",
       "      <td>71114</td>\n",
       "      <td>71114</td>\n",
       "      <td>71114</td>\n",
       "      <td>71114</td>\n",
       "      <td>71114</td>\n",
       "      <td>71114</td>\n",
       "      <td>71114</td>\n",
       "      <td>71114</td>\n",
       "    </tr>\n",
       "    <tr>\n",
       "      <th>1.0</th>\n",
       "      <td>28790</td>\n",
       "      <td>28790</td>\n",
       "      <td>28790</td>\n",
       "      <td>28790</td>\n",
       "      <td>28790</td>\n",
       "      <td>28790</td>\n",
       "      <td>28790</td>\n",
       "      <td>28790</td>\n",
       "      <td>28747</td>\n",
       "      <td>28790</td>\n",
       "      <td>...</td>\n",
       "      <td>28790</td>\n",
       "      <td>28790</td>\n",
       "      <td>28790</td>\n",
       "      <td>28790</td>\n",
       "      <td>28790</td>\n",
       "      <td>28790</td>\n",
       "      <td>28790</td>\n",
       "      <td>28790</td>\n",
       "      <td>28790</td>\n",
       "      <td>28790</td>\n",
       "    </tr>\n",
       "    <tr>\n",
       "      <th>2.0</th>\n",
       "      <td>60</td>\n",
       "      <td>60</td>\n",
       "      <td>60</td>\n",
       "      <td>60</td>\n",
       "      <td>60</td>\n",
       "      <td>60</td>\n",
       "      <td>60</td>\n",
       "      <td>60</td>\n",
       "      <td>59</td>\n",
       "      <td>60</td>\n",
       "      <td>...</td>\n",
       "      <td>60</td>\n",
       "      <td>60</td>\n",
       "      <td>60</td>\n",
       "      <td>60</td>\n",
       "      <td>60</td>\n",
       "      <td>60</td>\n",
       "      <td>60</td>\n",
       "      <td>60</td>\n",
       "      <td>60</td>\n",
       "      <td>60</td>\n",
       "    </tr>\n",
       "    <tr>\n",
       "      <th>3.0</th>\n",
       "      <td>6</td>\n",
       "      <td>6</td>\n",
       "      <td>6</td>\n",
       "      <td>6</td>\n",
       "      <td>6</td>\n",
       "      <td>6</td>\n",
       "      <td>6</td>\n",
       "      <td>6</td>\n",
       "      <td>6</td>\n",
       "      <td>6</td>\n",
       "      <td>...</td>\n",
       "      <td>6</td>\n",
       "      <td>6</td>\n",
       "      <td>6</td>\n",
       "      <td>6</td>\n",
       "      <td>6</td>\n",
       "      <td>6</td>\n",
       "      <td>6</td>\n",
       "      <td>6</td>\n",
       "      <td>6</td>\n",
       "      <td>6</td>\n",
       "    </tr>\n",
       "  </tbody>\n",
       "</table>\n",
       "<p>4 rows × 447 columns</p>\n",
       "</div>"
      ],
      "text/plain": [
       "                         ID    AGE  SEX_CD  AMI_FLAG  ESRD_IND  HOSPICE_IND  \\\n",
       "ORIG_REAS_ENTITLE_CD                                                          \n",
       "0.0                   71114  71114   71114     71114     71112        71112   \n",
       "1.0                   28790  28790   28790     28790     28790        28790   \n",
       "2.0                      60     60      60        60        60           60   \n",
       "3.0                       6      6       6         6         6            6   \n",
       "\n",
       "                      RECON_MA_RISK_SCORE_NBR  RECON_RX_RISK_SCORE_NBR  \\\n",
       "ORIG_REAS_ENTITLE_CD                                                     \n",
       "0.0                                     71114                    71114   \n",
       "1.0                                     28790                    28790   \n",
       "2.0                                        60                       60   \n",
       "3.0                                         6                        6   \n",
       "\n",
       "                      PCP_ASSIGNMENT   DUAL     ...         COL  COL_GAP  \\\n",
       "ORIG_REAS_ENTITLE_CD                            ...                        \n",
       "0.0                            71031  71114     ...       71114    71114   \n",
       "1.0                            28747  28790     ...       28790    28790   \n",
       "2.0                               59     60     ...          60       60   \n",
       "3.0                                6      6     ...           6        6   \n",
       "\n",
       "                        AMM  AMM_GAP  DIAB_PASS  ACE_PASS  STATIN_PASS  \\\n",
       "ORIG_REAS_ENTITLE_CD                                                     \n",
       "0.0                   71114    71114      71114     71114        71114   \n",
       "1.0                   28790    28790      28790     28790        28790   \n",
       "2.0                      60       60         60        60           60   \n",
       "3.0                       6        6          6         6            6   \n",
       "\n",
       "                      ACE_ELIG  DIAB_ELIG  STATIN_ELIG  \n",
       "ORIG_REAS_ENTITLE_CD                                    \n",
       "0.0                      71114      71114        71114  \n",
       "1.0                      28790      28790        28790  \n",
       "2.0                         60         60           60  \n",
       "3.0                          6          6            6  \n",
       "\n",
       "[4 rows x 447 columns]"
      ]
     },
     "execution_count": 32,
     "metadata": {},
     "output_type": "execute_result"
    }
   ],
   "source": [
    "df.groupby('ORIG_REAS_ENTITLE_CD').count()"
   ]
  },
  {
   "cell_type": "code",
   "execution_count": 33,
   "metadata": {},
   "outputs": [
    {
     "data": {
      "text/plain": [
       "Text(0.5,1,'Age dependency on heart attacks')"
      ]
     },
     "execution_count": 33,
     "metadata": {},
     "output_type": "execute_result"
    },
    {
     "data": {
      "image/png": "[encoded data removed]",
      "text/plain": [
       "<Figure size 1152x576 with 1 Axes>"
      ]
     },
     "metadata": {},
     "output_type": "display_data"
    }
   ],
   "source": [
    "#Age Vs Heart attacks relationships\n",
    "df[df['AMI_FLAG']==1].groupby('AGE').count()['ID'].plot(figsize=(16,8))\n",
    "plt.xlabel(\"Age of Customer\")\n",
    "plt.ylabel(\"Count of Customers facing heart attacks\")\n",
    "plt.title(\"Age dependency on heart attacks\")"
   ]
  },
  {
   "cell_type": "code",
   "execution_count": 34,
   "metadata": {},
   "outputs": [
    {
     "data": {
      "text/plain": [
       "(array([0, 1]), <a list of 2 Text xticklabel objects>)"
      ]
     },
     "execution_count": 34,
     "metadata": {},
     "output_type": "execute_result"
    },
    {
     "data": {
      "image/png": "[encoded data removed]",
      "text/plain": [
       "<Figure size 432x288 with 1 Axes>"
      ]
     },
     "metadata": {},
     "output_type": "display_data"
    }
   ],
   "source": [
    "df[df['AMI_FLAG']==1].groupby('DIABETES').count()['ID'].plot.bar()\n",
    "plt.ylabel(\"Count\")\n",
    "plt.title(\"Count of heart attacks for diabetic and non diabetic patients\")\n",
    "plt.xticks(rotation=0)"
   ]
  },
  {
   "cell_type": "code",
   "execution_count": null,
   "metadata": {},
   "outputs": [],
   "source": []
  },
  {
   "cell_type": "code",
   "execution_count": 35,
   "metadata": {},
   "outputs": [
    {
     "data": {
      "text/plain": [
       "(array([0, 1, 2, 3]), <a list of 4 Text xticklabel objects>)"
      ]
     },
     "execution_count": 35,
     "metadata": {},
     "output_type": "execute_result"
    },
    {
     "data": {
      "image/png": "[encoded data removed]",
      "text/plain": [
       "<Figure size 432x288 with 1 Axes>"
      ]
     },
     "metadata": {},
     "output_type": "display_data"
    }
   ],
   "source": [
    "df.groupby(['HYPERTENSION','SEX_CD']).count()['ID'].plot.bar()\n",
    "plt.xticks(rotation=0)"
   ]
  },
  {
   "cell_type": "code",
   "execution_count": 36,
   "metadata": {},
   "outputs": [
    {
     "data": {
      "text/plain": [
       "(array([0, 1, 2, 3]), <a list of 4 Text xticklabel objects>)"
      ]
     },
     "execution_count": 36,
     "metadata": {},
     "output_type": "execute_result"
    },
    {
     "data": {
      "image/png": "[encoded data removed]",
      "text/plain": [
       "<Figure size 432x288 with 1 Axes>"
      ]
     },
     "metadata": {},
     "output_type": "display_data"
    }
   ],
   "source": [
    "df[df['AMI_FLAG']==1].groupby(['HYPERTENSION','SEX_CD']).count()['ID'].plot.bar()\n",
    "plt.xticks(rotation=0)"
   ]
  },
  {
   "cell_type": "code",
   "execution_count": null,
   "metadata": {},
   "outputs": [],
   "source": []
  },
  {
   "cell_type": "code",
   "execution_count": 37,
   "metadata": {},
   "outputs": [
    {
     "data": {
      "text/html": [
       "<div>\n",
       "<style scoped>\n",
       "    .dataframe tbody tr th:only-of-type {\n",
       "        vertical-align: middle;\n",
       "    }\n",
       "\n",
       "    .dataframe tbody tr th {\n",
       "        vertical-align: top;\n",
       "    }\n",
       "\n",
       "    .dataframe thead th {\n",
       "        text-align: right;\n",
       "    }\n",
       "</style>\n",
       "<table border=\"1\" class=\"dataframe\">\n",
       "  <thead>\n",
       "    <tr style=\"text-align: right;\">\n",
       "      <th></th>\n",
       "      <th>RECON_MA_RISK_SCORE_NBR</th>\n",
       "      <th>RECON_RX_RISK_SCORE_NBR</th>\n",
       "    </tr>\n",
       "  </thead>\n",
       "  <tbody>\n",
       "    <tr>\n",
       "      <th>RECON_MA_RISK_SCORE_NBR</th>\n",
       "      <td>1.00000</td>\n",
       "      <td>0.52947</td>\n",
       "    </tr>\n",
       "    <tr>\n",
       "      <th>RECON_RX_RISK_SCORE_NBR</th>\n",
       "      <td>0.52947</td>\n",
       "      <td>1.00000</td>\n",
       "    </tr>\n",
       "  </tbody>\n",
       "</table>\n",
       "</div>"
      ],
      "text/plain": [
       "                         RECON_MA_RISK_SCORE_NBR  RECON_RX_RISK_SCORE_NBR\n",
       "RECON_MA_RISK_SCORE_NBR                  1.00000                  0.52947\n",
       "RECON_RX_RISK_SCORE_NBR                  0.52947                  1.00000"
      ]
     },
     "execution_count": 37,
     "metadata": {},
     "output_type": "execute_result"
    }
   ],
   "source": [
    "df[['RECON_MA_RISK_SCORE_NBR','RECON_RX_RISK_SCORE_NBR']].corr()"
   ]
  },
  {
   "cell_type": "code",
   "execution_count": 38,
   "metadata": {},
   "outputs": [
    {
     "data": {
      "text/html": [
       "<div>\n",
       "<style scoped>\n",
       "    .dataframe tbody tr th:only-of-type {\n",
       "        vertical-align: middle;\n",
       "    }\n",
       "\n",
       "    .dataframe tbody tr th {\n",
       "        vertical-align: top;\n",
       "    }\n",
       "\n",
       "    .dataframe thead th {\n",
       "        text-align: right;\n",
       "    }\n",
       "</style>\n",
       "<table border=\"1\" class=\"dataframe\">\n",
       "  <thead>\n",
       "    <tr style=\"text-align: right;\">\n",
       "      <th></th>\n",
       "      <th>CON_VISIT_01_Q01</th>\n",
       "      <th>CON_VISIT_01_Q02</th>\n",
       "      <th>CON_VISIT_01_Q03</th>\n",
       "      <th>CON_VISIT_01_Q04</th>\n",
       "    </tr>\n",
       "  </thead>\n",
       "  <tbody>\n",
       "    <tr>\n",
       "      <th>CON_VISIT_01_Q01</th>\n",
       "      <td>1.000000</td>\n",
       "      <td>0.249303</td>\n",
       "      <td>0.126962</td>\n",
       "      <td>0.113894</td>\n",
       "    </tr>\n",
       "    <tr>\n",
       "      <th>CON_VISIT_01_Q02</th>\n",
       "      <td>0.249303</td>\n",
       "      <td>1.000000</td>\n",
       "      <td>0.320167</td>\n",
       "      <td>0.143733</td>\n",
       "    </tr>\n",
       "    <tr>\n",
       "      <th>CON_VISIT_01_Q03</th>\n",
       "      <td>0.126962</td>\n",
       "      <td>0.320167</td>\n",
       "      <td>1.000000</td>\n",
       "      <td>0.264533</td>\n",
       "    </tr>\n",
       "    <tr>\n",
       "      <th>CON_VISIT_01_Q04</th>\n",
       "      <td>0.113894</td>\n",
       "      <td>0.143733</td>\n",
       "      <td>0.264533</td>\n",
       "      <td>1.000000</td>\n",
       "    </tr>\n",
       "  </tbody>\n",
       "</table>\n",
       "</div>"
      ],
      "text/plain": [
       "                  CON_VISIT_01_Q01  CON_VISIT_01_Q02  CON_VISIT_01_Q03  \\\n",
       "CON_VISIT_01_Q01          1.000000          0.249303          0.126962   \n",
       "CON_VISIT_01_Q02          0.249303          1.000000          0.320167   \n",
       "CON_VISIT_01_Q03          0.126962          0.320167          1.000000   \n",
       "CON_VISIT_01_Q04          0.113894          0.143733          0.264533   \n",
       "\n",
       "                  CON_VISIT_01_Q04  \n",
       "CON_VISIT_01_Q01          0.113894  \n",
       "CON_VISIT_01_Q02          0.143733  \n",
       "CON_VISIT_01_Q03          0.264533  \n",
       "CON_VISIT_01_Q04          1.000000  "
      ]
     },
     "execution_count": 38,
     "metadata": {},
     "output_type": "execute_result"
    }
   ],
   "source": [
    "df[['CON_VISIT_01_Q01','CON_VISIT_01_Q02','CON_VISIT_01_Q03','CON_VISIT_01_Q04']].corr()"
   ]
  },
  {
   "cell_type": "code",
   "execution_count": 39,
   "metadata": {},
   "outputs": [
    {
     "data": {
      "text/plain": [
       "Index(['ID', 'AGE', 'SEX_CD', 'AMI_FLAG', 'ESRD_IND', 'HOSPICE_IND',\n",
       "       'ORIG_REAS_ENTITLE_CD', 'RECON_MA_RISK_SCORE_NBR',\n",
       "       'RECON_RX_RISK_SCORE_NBR', 'PCP_ASSIGNMENT',\n",
       "       ...\n",
       "       'COL', 'COL_GAP', 'AMM', 'AMM_GAP', 'DIAB_PASS', 'ACE_PASS',\n",
       "       'STATIN_PASS', 'ACE_ELIG', 'DIAB_ELIG', 'STATIN_ELIG'],\n",
       "      dtype='object', length=448)"
      ]
     },
     "execution_count": 39,
     "metadata": {},
     "output_type": "execute_result"
    }
   ],
   "source": [
    "df.columns"
   ]
  },
  {
   "cell_type": "code",
   "execution_count": 40,
   "metadata": {},
   "outputs": [],
   "source": [
    "df['AMI_FLAG'].fillna(0,inplace=True)"
   ]
  },
  {
   "cell_type": "code",
   "execution_count": 41,
   "metadata": {},
   "outputs": [
    {
     "data": {
      "text/plain": [
       "<matplotlib.axes._subplots.AxesSubplot at 0x1c789d894e0>"
      ]
     },
     "execution_count": 41,
     "metadata": {},
     "output_type": "execute_result"
    },
    {
     "data": {
      "image/png": "[encoded data removed]",
      "text/plain": [
       "<Figure size 432x288 with 1 Axes>"
      ]
     },
     "metadata": {},
     "output_type": "display_data"
    }
   ],
   "source": [
    "df['AMI_FLAG'].hist(bins=50)"
   ]
  },
  {
   "cell_type": "code",
   "execution_count": null,
   "metadata": {},
   "outputs": [],
   "source": []
  },
  {
   "cell_type": "code",
   "execution_count": null,
   "metadata": {},
   "outputs": [],
   "source": []
  },
  {
   "cell_type": "code",
   "execution_count": 42,
   "metadata": {},
   "outputs": [],
   "source": [
    "#Replacing nan values with mean,median,mode\n",
    "df['SEX_CD'].fillna('F',inplace=True)\n",
    "\n",
    "df['ESRD_IND'].fillna('N',inplace=True)\n",
    "\n",
    "df['HOSPICE_IND'].fillna('N',inplace=True)\n",
    "\n",
    "df['ORIG_REAS_ENTITLE_CD'].fillna(0,inplace=True)\n",
    "\n",
    "df['PCP_ASSIGNMENT'].fillna('MEMBER SELECTED',inplace=True)\n",
    "\n",
    "df['DUAL'].fillna('N',inplace=True)\n",
    "\n",
    "df['INSTITUTIONAL'].fillna('N',inplace=True)\n",
    "\n",
    "df['LIS'].fillna('N',inplace=True)\n",
    "\n",
    "df['MCO_HLVL_PLAN_CD'].fillna('MAPD',inplace=True)\n",
    "\n",
    "df['MCO_PROD_TYPE_CD'].fillna('HMO',inplace=True)\n",
    "\n",
    "df['Diab_Type'].fillna('Diabetes Type II',inplace=True)\n",
    "\n",
    "df['Dwelling_Type'].fillna('S',inplace=True)\n",
    "\n",
    "df['Education_level'].fillna(np.nanmedian(df['Education_level']),inplace=True)\n",
    "\n",
    "#df['Length_residence'].describe()\n",
    "\n",
    "df['Length_residence'].fillna(np.nanmedian(df['Length_residence']),inplace=True)\n",
    "\n",
    "df['Est_BMI_decile'].fillna(np.nanmean(df['Est_BMI_decile']),inplace=True)\n",
    "\n",
    "df['Num_person_household'].fillna(np.nanmedian(df['Num_person_household']),inplace=True)\n",
    "\n",
    "df['College'].fillna(0,inplace=True)\n",
    "\n",
    "df['Online_purchaser'].fillna(0,inplace=True)\n",
    "\n",
    "df['Online_User'].fillna(1,inplace=True)\n",
    "\n",
    "df['Pct_above_poverty_line'].fillna(np.nanmedian(df['Pct_above_poverty_line']),inplace=True)\n",
    "\n",
    "df['Pct_below_poverty_line'].fillna(np.nanmedian(df['Pct_below_poverty_line']),inplace=True)\n",
    "\n",
    "df['Decile_struggle_Med_lang'].fillna(round(np.nanmean(df['Decile_struggle_Med_lang'])),inplace=True)\n",
    "\n",
    "df['Home_value'].fillna(round(np.nanmedian(df['Home_value'])),inplace=True)\n",
    "\n",
    "df['Est_Net_worth'].fillna(np.nanmedian(df['Est_Net_worth']),inplace=True)\n",
    "\n",
    "#df['Est_income'].describe()\n",
    "\n",
    "df['Est_income'].fillna(55000,inplace=True)\n",
    "\n",
    "df['Index_Health_ins_engage'].fillna(np.nanmedian(df['Index_Health_ins_engage']),inplace=True)\n",
    "\n",
    "df['Index_Health_ins_influence'].fillna(np.nanmedian(df['Index_Health_ins_influence']),inplace=True)\n",
    "\n",
    "df['Population_density_centile_ST'].fillna(round(np.nanmean(df['Population_density_centile_ST'])),inplace=True)\n",
    "\n",
    "df['Population_density_centile_US'].fillna(np.nanmedian(df['Population_density_centile_US']),inplace=True)"
   ]
  },
  {
   "cell_type": "code",
   "execution_count": 43,
   "metadata": {},
   "outputs": [],
   "source": [
    "l=df.columns[df.isna().any()].tolist()"
   ]
  },
  {
   "cell_type": "code",
   "execution_count": null,
   "metadata": {},
   "outputs": [],
   "source": []
  },
  {
   "cell_type": "code",
   "execution_count": 45,
   "metadata": {},
   "outputs": [],
   "source": [
    "#df.select_dtypes(include='object').columns"
   ]
  },
  {
   "cell_type": "code",
   "execution_count": 46,
   "metadata": {},
   "outputs": [],
   "source": [
    "#df=pd.get_dummies(df)"
   ]
  },
  {
   "cell_type": "code",
   "execution_count": 47,
   "metadata": {},
   "outputs": [
    {
     "data": {
      "text/plain": [
       "(100000, 448)"
      ]
     },
     "execution_count": 47,
     "metadata": {},
     "output_type": "execute_result"
    }
   ],
   "source": [
    "df.shape"
   ]
  },
  {
   "cell_type": "code",
   "execution_count": 48,
   "metadata": {},
   "outputs": [],
   "source": [
    "#Tranforming continuous columns \"CON_VISIT_0XXXX\" into categorical levels\n",
    "for i in range(1,34):\n",
    "    try:    \n",
    "        if i<10:\n",
    "            s='CON_VISIT_0' + str(i)+'_Q0'\n",
    "            for j in range(1,5):\n",
    "                col=s+str(j)\n",
    "                #print(col)\n",
    "                df.loc[df[col]>1,col]=2\n",
    "                df[col]=df[col].astype('object')\n",
    "        else:\n",
    "            s='CON_VISIT_' + str(i)+'_Q0'\n",
    "            for j in range(1,5):\n",
    "                col=s+str(j)\n",
    "                #print(col)\n",
    "                df.loc[df[col]>1,col]=2\n",
    "                df[col]=df[col].astype('object')\n",
    "    except:\n",
    "        continue\n"
   ]
  },
  {
   "cell_type": "code",
   "execution_count": 54,
   "metadata": {},
   "outputs": [
    {
     "data": {
      "text/html": [
       "<div>\n",
       "<style scoped>\n",
       "    .dataframe tbody tr th:only-of-type {\n",
       "        vertical-align: middle;\n",
       "    }\n",
       "\n",
       "    .dataframe tbody tr th {\n",
       "        vertical-align: top;\n",
       "    }\n",
       "\n",
       "    .dataframe thead th {\n",
       "        text-align: right;\n",
       "    }\n",
       "</style>\n",
       "<table border=\"1\" class=\"dataframe\">\n",
       "  <thead>\n",
       "    <tr style=\"text-align: right;\">\n",
       "      <th></th>\n",
       "      <th>ID</th>\n",
       "      <th>AGE</th>\n",
       "      <th>SEX_CD</th>\n",
       "      <th>AMI_FLAG</th>\n",
       "      <th>ESRD_IND</th>\n",
       "      <th>HOSPICE_IND</th>\n",
       "      <th>ORIG_REAS_ENTITLE_CD</th>\n",
       "      <th>RECON_MA_RISK_SCORE_NBR</th>\n",
       "      <th>RECON_RX_RISK_SCORE_NBR</th>\n",
       "      <th>PCP_ASSIGNMENT</th>\n",
       "      <th>...</th>\n",
       "      <th>COL</th>\n",
       "      <th>COL_GAP</th>\n",
       "      <th>AMM</th>\n",
       "      <th>AMM_GAP</th>\n",
       "      <th>DIAB_PASS</th>\n",
       "      <th>ACE_PASS</th>\n",
       "      <th>STATIN_PASS</th>\n",
       "      <th>ACE_ELIG</th>\n",
       "      <th>DIAB_ELIG</th>\n",
       "      <th>STATIN_ELIG</th>\n",
       "    </tr>\n",
       "    <tr>\n",
       "      <th>POT_VISIT_11_Q01</th>\n",
       "      <th></th>\n",
       "      <th></th>\n",
       "      <th></th>\n",
       "      <th></th>\n",
       "      <th></th>\n",
       "      <th></th>\n",
       "      <th></th>\n",
       "      <th></th>\n",
       "      <th></th>\n",
       "      <th></th>\n",
       "      <th></th>\n",
       "      <th></th>\n",
       "      <th></th>\n",
       "      <th></th>\n",
       "      <th></th>\n",
       "      <th></th>\n",
       "      <th></th>\n",
       "      <th></th>\n",
       "      <th></th>\n",
       "      <th></th>\n",
       "      <th></th>\n",
       "    </tr>\n",
       "  </thead>\n",
       "  <tbody>\n",
       "    <tr>\n",
       "      <th>0</th>\n",
       "      <td>699</td>\n",
       "      <td>699</td>\n",
       "      <td>699</td>\n",
       "      <td>699</td>\n",
       "      <td>699</td>\n",
       "      <td>699</td>\n",
       "      <td>699</td>\n",
       "      <td>699</td>\n",
       "      <td>699</td>\n",
       "      <td>699</td>\n",
       "      <td>...</td>\n",
       "      <td>699</td>\n",
       "      <td>699</td>\n",
       "      <td>699</td>\n",
       "      <td>699</td>\n",
       "      <td>699</td>\n",
       "      <td>699</td>\n",
       "      <td>699</td>\n",
       "      <td>699</td>\n",
       "      <td>699</td>\n",
       "      <td>699</td>\n",
       "    </tr>\n",
       "    <tr>\n",
       "      <th>1</th>\n",
       "      <td>531</td>\n",
       "      <td>531</td>\n",
       "      <td>531</td>\n",
       "      <td>531</td>\n",
       "      <td>531</td>\n",
       "      <td>531</td>\n",
       "      <td>531</td>\n",
       "      <td>531</td>\n",
       "      <td>531</td>\n",
       "      <td>531</td>\n",
       "      <td>...</td>\n",
       "      <td>531</td>\n",
       "      <td>531</td>\n",
       "      <td>531</td>\n",
       "      <td>531</td>\n",
       "      <td>531</td>\n",
       "      <td>531</td>\n",
       "      <td>531</td>\n",
       "      <td>531</td>\n",
       "      <td>531</td>\n",
       "      <td>531</td>\n",
       "    </tr>\n",
       "    <tr>\n",
       "      <th>2</th>\n",
       "      <td>426</td>\n",
       "      <td>426</td>\n",
       "      <td>426</td>\n",
       "      <td>426</td>\n",
       "      <td>426</td>\n",
       "      <td>426</td>\n",
       "      <td>426</td>\n",
       "      <td>426</td>\n",
       "      <td>426</td>\n",
       "      <td>426</td>\n",
       "      <td>...</td>\n",
       "      <td>426</td>\n",
       "      <td>426</td>\n",
       "      <td>426</td>\n",
       "      <td>426</td>\n",
       "      <td>426</td>\n",
       "      <td>426</td>\n",
       "      <td>426</td>\n",
       "      <td>426</td>\n",
       "      <td>426</td>\n",
       "      <td>426</td>\n",
       "    </tr>\n",
       "    <tr>\n",
       "      <th>3</th>\n",
       "      <td>299</td>\n",
       "      <td>299</td>\n",
       "      <td>299</td>\n",
       "      <td>299</td>\n",
       "      <td>299</td>\n",
       "      <td>299</td>\n",
       "      <td>299</td>\n",
       "      <td>299</td>\n",
       "      <td>299</td>\n",
       "      <td>299</td>\n",
       "      <td>...</td>\n",
       "      <td>299</td>\n",
       "      <td>299</td>\n",
       "      <td>299</td>\n",
       "      <td>299</td>\n",
       "      <td>299</td>\n",
       "      <td>299</td>\n",
       "      <td>299</td>\n",
       "      <td>299</td>\n",
       "      <td>299</td>\n",
       "      <td>299</td>\n",
       "    </tr>\n",
       "    <tr>\n",
       "      <th>4</th>\n",
       "      <td>222</td>\n",
       "      <td>222</td>\n",
       "      <td>222</td>\n",
       "      <td>222</td>\n",
       "      <td>222</td>\n",
       "      <td>222</td>\n",
       "      <td>222</td>\n",
       "      <td>222</td>\n",
       "      <td>222</td>\n",
       "      <td>222</td>\n",
       "      <td>...</td>\n",
       "      <td>222</td>\n",
       "      <td>222</td>\n",
       "      <td>222</td>\n",
       "      <td>222</td>\n",
       "      <td>222</td>\n",
       "      <td>222</td>\n",
       "      <td>222</td>\n",
       "      <td>222</td>\n",
       "      <td>222</td>\n",
       "      <td>222</td>\n",
       "    </tr>\n",
       "    <tr>\n",
       "      <th>5</th>\n",
       "      <td>152</td>\n",
       "      <td>152</td>\n",
       "      <td>152</td>\n",
       "      <td>152</td>\n",
       "      <td>152</td>\n",
       "      <td>152</td>\n",
       "      <td>152</td>\n",
       "      <td>152</td>\n",
       "      <td>152</td>\n",
       "      <td>152</td>\n",
       "      <td>...</td>\n",
       "      <td>152</td>\n",
       "      <td>152</td>\n",
       "      <td>152</td>\n",
       "      <td>152</td>\n",
       "      <td>152</td>\n",
       "      <td>152</td>\n",
       "      <td>152</td>\n",
       "      <td>152</td>\n",
       "      <td>152</td>\n",
       "      <td>152</td>\n",
       "    </tr>\n",
       "    <tr>\n",
       "      <th>6</th>\n",
       "      <td>108</td>\n",
       "      <td>108</td>\n",
       "      <td>108</td>\n",
       "      <td>108</td>\n",
       "      <td>108</td>\n",
       "      <td>108</td>\n",
       "      <td>108</td>\n",
       "      <td>108</td>\n",
       "      <td>108</td>\n",
       "      <td>108</td>\n",
       "      <td>...</td>\n",
       "      <td>108</td>\n",
       "      <td>108</td>\n",
       "      <td>108</td>\n",
       "      <td>108</td>\n",
       "      <td>108</td>\n",
       "      <td>108</td>\n",
       "      <td>108</td>\n",
       "      <td>108</td>\n",
       "      <td>108</td>\n",
       "      <td>108</td>\n",
       "    </tr>\n",
       "    <tr>\n",
       "      <th>7</th>\n",
       "      <td>79</td>\n",
       "      <td>79</td>\n",
       "      <td>79</td>\n",
       "      <td>79</td>\n",
       "      <td>79</td>\n",
       "      <td>79</td>\n",
       "      <td>79</td>\n",
       "      <td>79</td>\n",
       "      <td>79</td>\n",
       "      <td>79</td>\n",
       "      <td>...</td>\n",
       "      <td>79</td>\n",
       "      <td>79</td>\n",
       "      <td>79</td>\n",
       "      <td>79</td>\n",
       "      <td>79</td>\n",
       "      <td>79</td>\n",
       "      <td>79</td>\n",
       "      <td>79</td>\n",
       "      <td>79</td>\n",
       "      <td>79</td>\n",
       "    </tr>\n",
       "    <tr>\n",
       "      <th>8</th>\n",
       "      <td>46</td>\n",
       "      <td>46</td>\n",
       "      <td>46</td>\n",
       "      <td>46</td>\n",
       "      <td>46</td>\n",
       "      <td>46</td>\n",
       "      <td>46</td>\n",
       "      <td>46</td>\n",
       "      <td>46</td>\n",
       "      <td>46</td>\n",
       "      <td>...</td>\n",
       "      <td>46</td>\n",
       "      <td>46</td>\n",
       "      <td>46</td>\n",
       "      <td>46</td>\n",
       "      <td>46</td>\n",
       "      <td>46</td>\n",
       "      <td>46</td>\n",
       "      <td>46</td>\n",
       "      <td>46</td>\n",
       "      <td>46</td>\n",
       "    </tr>\n",
       "    <tr>\n",
       "      <th>9</th>\n",
       "      <td>37</td>\n",
       "      <td>37</td>\n",
       "      <td>37</td>\n",
       "      <td>37</td>\n",
       "      <td>37</td>\n",
       "      <td>37</td>\n",
       "      <td>37</td>\n",
       "      <td>37</td>\n",
       "      <td>37</td>\n",
       "      <td>37</td>\n",
       "      <td>...</td>\n",
       "      <td>37</td>\n",
       "      <td>37</td>\n",
       "      <td>37</td>\n",
       "      <td>37</td>\n",
       "      <td>37</td>\n",
       "      <td>37</td>\n",
       "      <td>37</td>\n",
       "      <td>37</td>\n",
       "      <td>37</td>\n",
       "      <td>37</td>\n",
       "    </tr>\n",
       "    <tr>\n",
       "      <th>10</th>\n",
       "      <td>35</td>\n",
       "      <td>35</td>\n",
       "      <td>35</td>\n",
       "      <td>35</td>\n",
       "      <td>35</td>\n",
       "      <td>35</td>\n",
       "      <td>35</td>\n",
       "      <td>35</td>\n",
       "      <td>35</td>\n",
       "      <td>35</td>\n",
       "      <td>...</td>\n",
       "      <td>35</td>\n",
       "      <td>35</td>\n",
       "      <td>35</td>\n",
       "      <td>35</td>\n",
       "      <td>35</td>\n",
       "      <td>35</td>\n",
       "      <td>35</td>\n",
       "      <td>35</td>\n",
       "      <td>35</td>\n",
       "      <td>35</td>\n",
       "    </tr>\n",
       "    <tr>\n",
       "      <th>11</th>\n",
       "      <td>24</td>\n",
       "      <td>24</td>\n",
       "      <td>24</td>\n",
       "      <td>24</td>\n",
       "      <td>24</td>\n",
       "      <td>24</td>\n",
       "      <td>24</td>\n",
       "      <td>24</td>\n",
       "      <td>24</td>\n",
       "      <td>24</td>\n",
       "      <td>...</td>\n",
       "      <td>24</td>\n",
       "      <td>24</td>\n",
       "      <td>24</td>\n",
       "      <td>24</td>\n",
       "      <td>24</td>\n",
       "      <td>24</td>\n",
       "      <td>24</td>\n",
       "      <td>24</td>\n",
       "      <td>24</td>\n",
       "      <td>24</td>\n",
       "    </tr>\n",
       "    <tr>\n",
       "      <th>12</th>\n",
       "      <td>21</td>\n",
       "      <td>21</td>\n",
       "      <td>21</td>\n",
       "      <td>21</td>\n",
       "      <td>21</td>\n",
       "      <td>21</td>\n",
       "      <td>21</td>\n",
       "      <td>21</td>\n",
       "      <td>21</td>\n",
       "      <td>21</td>\n",
       "      <td>...</td>\n",
       "      <td>21</td>\n",
       "      <td>21</td>\n",
       "      <td>21</td>\n",
       "      <td>21</td>\n",
       "      <td>21</td>\n",
       "      <td>21</td>\n",
       "      <td>21</td>\n",
       "      <td>21</td>\n",
       "      <td>21</td>\n",
       "      <td>21</td>\n",
       "    </tr>\n",
       "    <tr>\n",
       "      <th>13</th>\n",
       "      <td>10</td>\n",
       "      <td>10</td>\n",
       "      <td>10</td>\n",
       "      <td>10</td>\n",
       "      <td>10</td>\n",
       "      <td>10</td>\n",
       "      <td>10</td>\n",
       "      <td>10</td>\n",
       "      <td>10</td>\n",
       "      <td>10</td>\n",
       "      <td>...</td>\n",
       "      <td>10</td>\n",
       "      <td>10</td>\n",
       "      <td>10</td>\n",
       "      <td>10</td>\n",
       "      <td>10</td>\n",
       "      <td>10</td>\n",
       "      <td>10</td>\n",
       "      <td>10</td>\n",
       "      <td>10</td>\n",
       "      <td>10</td>\n",
       "    </tr>\n",
       "    <tr>\n",
       "      <th>14</th>\n",
       "      <td>8</td>\n",
       "      <td>8</td>\n",
       "      <td>8</td>\n",
       "      <td>8</td>\n",
       "      <td>8</td>\n",
       "      <td>8</td>\n",
       "      <td>8</td>\n",
       "      <td>8</td>\n",
       "      <td>8</td>\n",
       "      <td>8</td>\n",
       "      <td>...</td>\n",
       "      <td>8</td>\n",
       "      <td>8</td>\n",
       "      <td>8</td>\n",
       "      <td>8</td>\n",
       "      <td>8</td>\n",
       "      <td>8</td>\n",
       "      <td>8</td>\n",
       "      <td>8</td>\n",
       "      <td>8</td>\n",
       "      <td>8</td>\n",
       "    </tr>\n",
       "    <tr>\n",
       "      <th>15</th>\n",
       "      <td>1</td>\n",
       "      <td>1</td>\n",
       "      <td>1</td>\n",
       "      <td>1</td>\n",
       "      <td>1</td>\n",
       "      <td>1</td>\n",
       "      <td>1</td>\n",
       "      <td>1</td>\n",
       "      <td>1</td>\n",
       "      <td>1</td>\n",
       "      <td>...</td>\n",
       "      <td>1</td>\n",
       "      <td>1</td>\n",
       "      <td>1</td>\n",
       "      <td>1</td>\n",
       "      <td>1</td>\n",
       "      <td>1</td>\n",
       "      <td>1</td>\n",
       "      <td>1</td>\n",
       "      <td>1</td>\n",
       "      <td>1</td>\n",
       "    </tr>\n",
       "    <tr>\n",
       "      <th>16</th>\n",
       "      <td>2</td>\n",
       "      <td>2</td>\n",
       "      <td>2</td>\n",
       "      <td>2</td>\n",
       "      <td>2</td>\n",
       "      <td>2</td>\n",
       "      <td>2</td>\n",
       "      <td>2</td>\n",
       "      <td>2</td>\n",
       "      <td>2</td>\n",
       "      <td>...</td>\n",
       "      <td>2</td>\n",
       "      <td>2</td>\n",
       "      <td>2</td>\n",
       "      <td>2</td>\n",
       "      <td>2</td>\n",
       "      <td>2</td>\n",
       "      <td>2</td>\n",
       "      <td>2</td>\n",
       "      <td>2</td>\n",
       "      <td>2</td>\n",
       "    </tr>\n",
       "    <tr>\n",
       "      <th>17</th>\n",
       "      <td>6</td>\n",
       "      <td>6</td>\n",
       "      <td>6</td>\n",
       "      <td>6</td>\n",
       "      <td>6</td>\n",
       "      <td>6</td>\n",
       "      <td>6</td>\n",
       "      <td>6</td>\n",
       "      <td>6</td>\n",
       "      <td>6</td>\n",
       "      <td>...</td>\n",
       "      <td>6</td>\n",
       "      <td>6</td>\n",
       "      <td>6</td>\n",
       "      <td>6</td>\n",
       "      <td>6</td>\n",
       "      <td>6</td>\n",
       "      <td>6</td>\n",
       "      <td>6</td>\n",
       "      <td>6</td>\n",
       "      <td>6</td>\n",
       "    </tr>\n",
       "    <tr>\n",
       "      <th>18</th>\n",
       "      <td>3</td>\n",
       "      <td>3</td>\n",
       "      <td>3</td>\n",
       "      <td>3</td>\n",
       "      <td>3</td>\n",
       "      <td>3</td>\n",
       "      <td>3</td>\n",
       "      <td>3</td>\n",
       "      <td>3</td>\n",
       "      <td>3</td>\n",
       "      <td>...</td>\n",
       "      <td>3</td>\n",
       "      <td>3</td>\n",
       "      <td>3</td>\n",
       "      <td>3</td>\n",
       "      <td>3</td>\n",
       "      <td>3</td>\n",
       "      <td>3</td>\n",
       "      <td>3</td>\n",
       "      <td>3</td>\n",
       "      <td>3</td>\n",
       "    </tr>\n",
       "    <tr>\n",
       "      <th>19</th>\n",
       "      <td>1</td>\n",
       "      <td>1</td>\n",
       "      <td>1</td>\n",
       "      <td>1</td>\n",
       "      <td>1</td>\n",
       "      <td>1</td>\n",
       "      <td>1</td>\n",
       "      <td>1</td>\n",
       "      <td>1</td>\n",
       "      <td>1</td>\n",
       "      <td>...</td>\n",
       "      <td>1</td>\n",
       "      <td>1</td>\n",
       "      <td>1</td>\n",
       "      <td>1</td>\n",
       "      <td>1</td>\n",
       "      <td>1</td>\n",
       "      <td>1</td>\n",
       "      <td>1</td>\n",
       "      <td>1</td>\n",
       "      <td>1</td>\n",
       "    </tr>\n",
       "    <tr>\n",
       "      <th>20</th>\n",
       "      <td>3</td>\n",
       "      <td>3</td>\n",
       "      <td>3</td>\n",
       "      <td>3</td>\n",
       "      <td>3</td>\n",
       "      <td>3</td>\n",
       "      <td>3</td>\n",
       "      <td>3</td>\n",
       "      <td>3</td>\n",
       "      <td>3</td>\n",
       "      <td>...</td>\n",
       "      <td>3</td>\n",
       "      <td>3</td>\n",
       "      <td>3</td>\n",
       "      <td>3</td>\n",
       "      <td>3</td>\n",
       "      <td>3</td>\n",
       "      <td>3</td>\n",
       "      <td>3</td>\n",
       "      <td>3</td>\n",
       "      <td>3</td>\n",
       "    </tr>\n",
       "    <tr>\n",
       "      <th>21</th>\n",
       "      <td>1</td>\n",
       "      <td>1</td>\n",
       "      <td>1</td>\n",
       "      <td>1</td>\n",
       "      <td>1</td>\n",
       "      <td>1</td>\n",
       "      <td>1</td>\n",
       "      <td>1</td>\n",
       "      <td>1</td>\n",
       "      <td>1</td>\n",
       "      <td>...</td>\n",
       "      <td>1</td>\n",
       "      <td>1</td>\n",
       "      <td>1</td>\n",
       "      <td>1</td>\n",
       "      <td>1</td>\n",
       "      <td>1</td>\n",
       "      <td>1</td>\n",
       "      <td>1</td>\n",
       "      <td>1</td>\n",
       "      <td>1</td>\n",
       "    </tr>\n",
       "    <tr>\n",
       "      <th>22</th>\n",
       "      <td>2</td>\n",
       "      <td>2</td>\n",
       "      <td>2</td>\n",
       "      <td>2</td>\n",
       "      <td>2</td>\n",
       "      <td>2</td>\n",
       "      <td>2</td>\n",
       "      <td>2</td>\n",
       "      <td>2</td>\n",
       "      <td>2</td>\n",
       "      <td>...</td>\n",
       "      <td>2</td>\n",
       "      <td>2</td>\n",
       "      <td>2</td>\n",
       "      <td>2</td>\n",
       "      <td>2</td>\n",
       "      <td>2</td>\n",
       "      <td>2</td>\n",
       "      <td>2</td>\n",
       "      <td>2</td>\n",
       "      <td>2</td>\n",
       "    </tr>\n",
       "    <tr>\n",
       "      <th>23</th>\n",
       "      <td>1</td>\n",
       "      <td>1</td>\n",
       "      <td>1</td>\n",
       "      <td>1</td>\n",
       "      <td>1</td>\n",
       "      <td>1</td>\n",
       "      <td>1</td>\n",
       "      <td>1</td>\n",
       "      <td>1</td>\n",
       "      <td>1</td>\n",
       "      <td>...</td>\n",
       "      <td>1</td>\n",
       "      <td>1</td>\n",
       "      <td>1</td>\n",
       "      <td>1</td>\n",
       "      <td>1</td>\n",
       "      <td>1</td>\n",
       "      <td>1</td>\n",
       "      <td>1</td>\n",
       "      <td>1</td>\n",
       "      <td>1</td>\n",
       "    </tr>\n",
       "    <tr>\n",
       "      <th>24</th>\n",
       "      <td>1</td>\n",
       "      <td>1</td>\n",
       "      <td>1</td>\n",
       "      <td>1</td>\n",
       "      <td>1</td>\n",
       "      <td>1</td>\n",
       "      <td>1</td>\n",
       "      <td>1</td>\n",
       "      <td>1</td>\n",
       "      <td>1</td>\n",
       "      <td>...</td>\n",
       "      <td>1</td>\n",
       "      <td>1</td>\n",
       "      <td>1</td>\n",
       "      <td>1</td>\n",
       "      <td>1</td>\n",
       "      <td>1</td>\n",
       "      <td>1</td>\n",
       "      <td>1</td>\n",
       "      <td>1</td>\n",
       "      <td>1</td>\n",
       "    </tr>\n",
       "    <tr>\n",
       "      <th>25</th>\n",
       "      <td>1</td>\n",
       "      <td>1</td>\n",
       "      <td>1</td>\n",
       "      <td>1</td>\n",
       "      <td>1</td>\n",
       "      <td>1</td>\n",
       "      <td>1</td>\n",
       "      <td>1</td>\n",
       "      <td>1</td>\n",
       "      <td>1</td>\n",
       "      <td>...</td>\n",
       "      <td>1</td>\n",
       "      <td>1</td>\n",
       "      <td>1</td>\n",
       "      <td>1</td>\n",
       "      <td>1</td>\n",
       "      <td>1</td>\n",
       "      <td>1</td>\n",
       "      <td>1</td>\n",
       "      <td>1</td>\n",
       "      <td>1</td>\n",
       "    </tr>\n",
       "    <tr>\n",
       "      <th>26</th>\n",
       "      <td>1</td>\n",
       "      <td>1</td>\n",
       "      <td>1</td>\n",
       "      <td>1</td>\n",
       "      <td>1</td>\n",
       "      <td>1</td>\n",
       "      <td>1</td>\n",
       "      <td>1</td>\n",
       "      <td>1</td>\n",
       "      <td>1</td>\n",
       "      <td>...</td>\n",
       "      <td>1</td>\n",
       "      <td>1</td>\n",
       "      <td>1</td>\n",
       "      <td>1</td>\n",
       "      <td>1</td>\n",
       "      <td>1</td>\n",
       "      <td>1</td>\n",
       "      <td>1</td>\n",
       "      <td>1</td>\n",
       "      <td>1</td>\n",
       "    </tr>\n",
       "    <tr>\n",
       "      <th>28</th>\n",
       "      <td>1</td>\n",
       "      <td>1</td>\n",
       "      <td>1</td>\n",
       "      <td>1</td>\n",
       "      <td>1</td>\n",
       "      <td>1</td>\n",
       "      <td>1</td>\n",
       "      <td>1</td>\n",
       "      <td>1</td>\n",
       "      <td>1</td>\n",
       "      <td>...</td>\n",
       "      <td>1</td>\n",
       "      <td>1</td>\n",
       "      <td>1</td>\n",
       "      <td>1</td>\n",
       "      <td>1</td>\n",
       "      <td>1</td>\n",
       "      <td>1</td>\n",
       "      <td>1</td>\n",
       "      <td>1</td>\n",
       "      <td>1</td>\n",
       "    </tr>\n",
       "    <tr>\n",
       "      <th>31</th>\n",
       "      <td>1</td>\n",
       "      <td>1</td>\n",
       "      <td>1</td>\n",
       "      <td>1</td>\n",
       "      <td>1</td>\n",
       "      <td>1</td>\n",
       "      <td>1</td>\n",
       "      <td>1</td>\n",
       "      <td>1</td>\n",
       "      <td>1</td>\n",
       "      <td>...</td>\n",
       "      <td>1</td>\n",
       "      <td>1</td>\n",
       "      <td>1</td>\n",
       "      <td>1</td>\n",
       "      <td>1</td>\n",
       "      <td>1</td>\n",
       "      <td>1</td>\n",
       "      <td>1</td>\n",
       "      <td>1</td>\n",
       "      <td>1</td>\n",
       "    </tr>\n",
       "    <tr>\n",
       "      <th>37</th>\n",
       "      <td>1</td>\n",
       "      <td>1</td>\n",
       "      <td>1</td>\n",
       "      <td>1</td>\n",
       "      <td>1</td>\n",
       "      <td>1</td>\n",
       "      <td>1</td>\n",
       "      <td>1</td>\n",
       "      <td>1</td>\n",
       "      <td>1</td>\n",
       "      <td>...</td>\n",
       "      <td>1</td>\n",
       "      <td>1</td>\n",
       "      <td>1</td>\n",
       "      <td>1</td>\n",
       "      <td>1</td>\n",
       "      <td>1</td>\n",
       "      <td>1</td>\n",
       "      <td>1</td>\n",
       "      <td>1</td>\n",
       "      <td>1</td>\n",
       "    </tr>\n",
       "    <tr>\n",
       "      <th>38</th>\n",
       "      <td>1</td>\n",
       "      <td>1</td>\n",
       "      <td>1</td>\n",
       "      <td>1</td>\n",
       "      <td>1</td>\n",
       "      <td>1</td>\n",
       "      <td>1</td>\n",
       "      <td>1</td>\n",
       "      <td>1</td>\n",
       "      <td>1</td>\n",
       "      <td>...</td>\n",
       "      <td>1</td>\n",
       "      <td>1</td>\n",
       "      <td>1</td>\n",
       "      <td>1</td>\n",
       "      <td>1</td>\n",
       "      <td>1</td>\n",
       "      <td>1</td>\n",
       "      <td>1</td>\n",
       "      <td>1</td>\n",
       "      <td>1</td>\n",
       "    </tr>\n",
       "    <tr>\n",
       "      <th>39</th>\n",
       "      <td>1</td>\n",
       "      <td>1</td>\n",
       "      <td>1</td>\n",
       "      <td>1</td>\n",
       "      <td>1</td>\n",
       "      <td>1</td>\n",
       "      <td>1</td>\n",
       "      <td>1</td>\n",
       "      <td>1</td>\n",
       "      <td>1</td>\n",
       "      <td>...</td>\n",
       "      <td>1</td>\n",
       "      <td>1</td>\n",
       "      <td>1</td>\n",
       "      <td>1</td>\n",
       "      <td>1</td>\n",
       "      <td>1</td>\n",
       "      <td>1</td>\n",
       "      <td>1</td>\n",
       "      <td>1</td>\n",
       "      <td>1</td>\n",
       "    </tr>\n",
       "    <tr>\n",
       "      <th>47</th>\n",
       "      <td>1</td>\n",
       "      <td>1</td>\n",
       "      <td>1</td>\n",
       "      <td>1</td>\n",
       "      <td>1</td>\n",
       "      <td>1</td>\n",
       "      <td>1</td>\n",
       "      <td>1</td>\n",
       "      <td>1</td>\n",
       "      <td>1</td>\n",
       "      <td>...</td>\n",
       "      <td>1</td>\n",
       "      <td>1</td>\n",
       "      <td>1</td>\n",
       "      <td>1</td>\n",
       "      <td>1</td>\n",
       "      <td>1</td>\n",
       "      <td>1</td>\n",
       "      <td>1</td>\n",
       "      <td>1</td>\n",
       "      <td>1</td>\n",
       "    </tr>\n",
       "  </tbody>\n",
       "</table>\n",
       "<p>33 rows × 384 columns</p>\n",
       "</div>"
      ],
      "text/plain": [
       "                   ID  AGE  SEX_CD  AMI_FLAG  ESRD_IND  HOSPICE_IND  \\\n",
       "POT_VISIT_11_Q01                                                      \n",
       "0                 699  699     699       699       699          699   \n",
       "1                 531  531     531       531       531          531   \n",
       "2                 426  426     426       426       426          426   \n",
       "3                 299  299     299       299       299          299   \n",
       "4                 222  222     222       222       222          222   \n",
       "5                 152  152     152       152       152          152   \n",
       "6                 108  108     108       108       108          108   \n",
       "7                  79   79      79        79        79           79   \n",
       "8                  46   46      46        46        46           46   \n",
       "9                  37   37      37        37        37           37   \n",
       "10                 35   35      35        35        35           35   \n",
       "11                 24   24      24        24        24           24   \n",
       "12                 21   21      21        21        21           21   \n",
       "13                 10   10      10        10        10           10   \n",
       "14                  8    8       8         8         8            8   \n",
       "15                  1    1       1         1         1            1   \n",
       "16                  2    2       2         2         2            2   \n",
       "17                  6    6       6         6         6            6   \n",
       "18                  3    3       3         3         3            3   \n",
       "19                  1    1       1         1         1            1   \n",
       "20                  3    3       3         3         3            3   \n",
       "21                  1    1       1         1         1            1   \n",
       "22                  2    2       2         2         2            2   \n",
       "23                  1    1       1         1         1            1   \n",
       "24                  1    1       1         1         1            1   \n",
       "25                  1    1       1         1         1            1   \n",
       "26                  1    1       1         1         1            1   \n",
       "28                  1    1       1         1         1            1   \n",
       "31                  1    1       1         1         1            1   \n",
       "37                  1    1       1         1         1            1   \n",
       "38                  1    1       1         1         1            1   \n",
       "39                  1    1       1         1         1            1   \n",
       "47                  1    1       1         1         1            1   \n",
       "\n",
       "                  ORIG_REAS_ENTITLE_CD  RECON_MA_RISK_SCORE_NBR  \\\n",
       "POT_VISIT_11_Q01                                                  \n",
       "0                                  699                      699   \n",
       "1                                  531                      531   \n",
       "2                                  426                      426   \n",
       "3                                  299                      299   \n",
       "4                                  222                      222   \n",
       "5                                  152                      152   \n",
       "6                                  108                      108   \n",
       "7                                   79                       79   \n",
       "8                                   46                       46   \n",
       "9                                   37                       37   \n",
       "10                                  35                       35   \n",
       "11                                  24                       24   \n",
       "12                                  21                       21   \n",
       "13                                  10                       10   \n",
       "14                                   8                        8   \n",
       "15                                   1                        1   \n",
       "16                                   2                        2   \n",
       "17                                   6                        6   \n",
       "18                                   3                        3   \n",
       "19                                   1                        1   \n",
       "20                                   3                        3   \n",
       "21                                   1                        1   \n",
       "22                                   2                        2   \n",
       "23                                   1                        1   \n",
       "24                                   1                        1   \n",
       "25                                   1                        1   \n",
       "26                                   1                        1   \n",
       "28                                   1                        1   \n",
       "31                                   1                        1   \n",
       "37                                   1                        1   \n",
       "38                                   1                        1   \n",
       "39                                   1                        1   \n",
       "47                                   1                        1   \n",
       "\n",
       "                  RECON_RX_RISK_SCORE_NBR  PCP_ASSIGNMENT     ...       COL  \\\n",
       "POT_VISIT_11_Q01                                              ...             \n",
       "0                                     699             699     ...       699   \n",
       "1                                     531             531     ...       531   \n",
       "2                                     426             426     ...       426   \n",
       "3                                     299             299     ...       299   \n",
       "4                                     222             222     ...       222   \n",
       "5                                     152             152     ...       152   \n",
       "6                                     108             108     ...       108   \n",
       "7                                      79              79     ...        79   \n",
       "8                                      46              46     ...        46   \n",
       "9                                      37              37     ...        37   \n",
       "10                                     35              35     ...        35   \n",
       "11                                     24              24     ...        24   \n",
       "12                                     21              21     ...        21   \n",
       "13                                     10              10     ...        10   \n",
       "14                                      8               8     ...         8   \n",
       "15                                      1               1     ...         1   \n",
       "16                                      2               2     ...         2   \n",
       "17                                      6               6     ...         6   \n",
       "18                                      3               3     ...         3   \n",
       "19                                      1               1     ...         1   \n",
       "20                                      3               3     ...         3   \n",
       "21                                      1               1     ...         1   \n",
       "22                                      2               2     ...         2   \n",
       "23                                      1               1     ...         1   \n",
       "24                                      1               1     ...         1   \n",
       "25                                      1               1     ...         1   \n",
       "26                                      1               1     ...         1   \n",
       "28                                      1               1     ...         1   \n",
       "31                                      1               1     ...         1   \n",
       "37                                      1               1     ...         1   \n",
       "38                                      1               1     ...         1   \n",
       "39                                      1               1     ...         1   \n",
       "47                                      1               1     ...         1   \n",
       "\n",
       "                  COL_GAP  AMM  AMM_GAP  DIAB_PASS  ACE_PASS  STATIN_PASS  \\\n",
       "POT_VISIT_11_Q01                                                            \n",
       "0                     699  699      699        699       699          699   \n",
       "1                     531  531      531        531       531          531   \n",
       "2                     426  426      426        426       426          426   \n",
       "3                     299  299      299        299       299          299   \n",
       "4                     222  222      222        222       222          222   \n",
       "5                     152  152      152        152       152          152   \n",
       "6                     108  108      108        108       108          108   \n",
       "7                      79   79       79         79        79           79   \n",
       "8                      46   46       46         46        46           46   \n",
       "9                      37   37       37         37        37           37   \n",
       "10                     35   35       35         35        35           35   \n",
       "11                     24   24       24         24        24           24   \n",
       "12                     21   21       21         21        21           21   \n",
       "13                     10   10       10         10        10           10   \n",
       "14                      8    8        8          8         8            8   \n",
       "15                      1    1        1          1         1            1   \n",
       "16                      2    2        2          2         2            2   \n",
       "17                      6    6        6          6         6            6   \n",
       "18                      3    3        3          3         3            3   \n",
       "19                      1    1        1          1         1            1   \n",
       "20                      3    3        3          3         3            3   \n",
       "21                      1    1        1          1         1            1   \n",
       "22                      2    2        2          2         2            2   \n",
       "23                      1    1        1          1         1            1   \n",
       "24                      1    1        1          1         1            1   \n",
       "25                      1    1        1          1         1            1   \n",
       "26                      1    1        1          1         1            1   \n",
       "28                      1    1        1          1         1            1   \n",
       "31                      1    1        1          1         1            1   \n",
       "37                      1    1        1          1         1            1   \n",
       "38                      1    1        1          1         1            1   \n",
       "39                      1    1        1          1         1            1   \n",
       "47                      1    1        1          1         1            1   \n",
       "\n",
       "                  ACE_ELIG  DIAB_ELIG  STATIN_ELIG  \n",
       "POT_VISIT_11_Q01                                    \n",
       "0                      699        699          699  \n",
       "1                      531        531          531  \n",
       "2                      426        426          426  \n",
       "3                      299        299          299  \n",
       "4                      222        222          222  \n",
       "5                      152        152          152  \n",
       "6                      108        108          108  \n",
       "7                       79         79           79  \n",
       "8                       46         46           46  \n",
       "9                       37         37           37  \n",
       "10                      35         35           35  \n",
       "11                      24         24           24  \n",
       "12                      21         21           21  \n",
       "13                      10         10           10  \n",
       "14                       8          8            8  \n",
       "15                       1          1            1  \n",
       "16                       2          2            2  \n",
       "17                       6          6            6  \n",
       "18                       3          3            3  \n",
       "19                       1          1            1  \n",
       "20                       3          3            3  \n",
       "21                       1          1            1  \n",
       "22                       2          2            2  \n",
       "23                       1          1            1  \n",
       "24                       1          1            1  \n",
       "25                       1          1            1  \n",
       "26                       1          1            1  \n",
       "28                       1          1            1  \n",
       "31                       1          1            1  \n",
       "37                       1          1            1  \n",
       "38                       1          1            1  \n",
       "39                       1          1            1  \n",
       "47                       1          1            1  \n",
       "\n",
       "[33 rows x 384 columns]"
      ]
     },
     "execution_count": 54,
     "metadata": {},
     "output_type": "execute_result"
    }
   ],
   "source": [
    "df[df['AMI_FLAG']==1].groupby('POT_VISIT_11_Q01').count()['']"
   ]
  },
  {
   "cell_type": "code",
   "execution_count": 62,
   "metadata": {},
   "outputs": [],
   "source": [
    "#Dropping columns \"POT_VISIT_0XXXX\" into categorical levels\n",
    "filter_col = [col for col in df if col.startswith('POT_VISIT')]\n",
    "df[filter_col].astype('object')\n",
    "filter_col\n",
    "delcol=[]\n",
    "l=[11,12,13,15,19,20,21,22,23,24,31,32,33,41,50,51,53,61,65,71,72,81,99]\n",
    "for col in filter_col:\n",
    "    templist=col.split('_')\n",
    "    if int(templist[2]) in l:\n",
    "        continue\n",
    "    else:\n",
    "        delcol.append(col)\n",
    "df.drop(axis=1,columns=delcol,inplace=True)"
   ]
  },
  {
   "cell_type": "code",
   "execution_count": 61,
   "metadata": {},
   "outputs": [],
   "source": [
    "#pd.get_dummies(df,columns=df.select_dtypes(include='object').columns)\n",
    "#df.dtypes"
   ]
  },
  {
   "cell_type": "code",
   "execution_count": 63,
   "metadata": {},
   "outputs": [],
   "source": [
    "df=pd.get_dummies(df)"
   ]
  },
  {
   "cell_type": "code",
   "execution_count": 64,
   "metadata": {},
   "outputs": [],
   "source": [
    "t=list(df.columns)\n",
    "tmp=df.columns[df.columns.get_loc('AMI_FLAG')]\n",
    "\n",
    "t.append(tmp)\n",
    "\n",
    "\n",
    "del t[df.columns.get_loc('AMI_FLAG')]\n",
    "\n",
    "df=df[t]"
   ]
  },
  {
   "cell_type": "code",
   "execution_count": null,
   "metadata": {},
   "outputs": [],
   "source": []
  },
  {
   "cell_type": "code",
   "execution_count": 65,
   "metadata": {},
   "outputs": [],
   "source": [
    "X=df.iloc[:,1:len(df.columns)-1]\n",
    "y=df.iloc[:,-1]"
   ]
  },
  {
   "cell_type": "code",
   "execution_count": 66,
   "metadata": {},
   "outputs": [
    {
     "data": {
      "text/plain": [
       "(100000, 658)"
      ]
     },
     "execution_count": 66,
     "metadata": {},
     "output_type": "execute_result"
    }
   ],
   "source": [
    "X.shape"
   ]
  },
  {
   "cell_type": "code",
   "execution_count": 67,
   "metadata": {},
   "outputs": [
    {
     "data": {
      "text/plain": [
       "(100000,)"
      ]
     },
     "execution_count": 67,
     "metadata": {},
     "output_type": "execute_result"
    }
   ],
   "source": [
    "y.shape"
   ]
  },
  {
   "cell_type": "code",
   "execution_count": 68,
   "metadata": {},
   "outputs": [
    {
     "data": {
      "text/plain": [
       "array([[19462,     0],\n",
       "       [  538,     0]], dtype=int64)"
      ]
     },
     "execution_count": 68,
     "metadata": {},
     "output_type": "execute_result"
    }
   ],
   "source": [
    "from sklearn.model_selection import train_test_split\n",
    "#X_train,X_test,y_train,y_test=train_test_split(X,y,test_size=0.2,random_state=42)\n",
    "\n",
    "from sklearn import preprocessing\n",
    "from sklearn.preprocessing import MinMaxScaler\n",
    "X_train,X_test,y_train,y_test=train_test_split(X,y,test_size=0.2,random_state=42)\n",
    "scaler = MinMaxScaler()\n",
    "X_train = scaler.fit_transform(X_train)\n",
    "X_test = scaler.transform(X_test)\n",
    "\n",
    "from sklearn.ensemble import RandomForestClassifier\n",
    "rf=RandomForestClassifier(random_state=42,n_estimators=25)\n",
    "\n",
    "rf.fit(X_train,y_train)\n",
    "\n",
    "predictions=rf.predict(X_test)\n",
    "\n",
    "from sklearn.metrics import confusion_matrix\n",
    "confusion_matrix(y_test,predictions)"
   ]
  },
  {
   "cell_type": "code",
   "execution_count": 69,
   "metadata": {},
   "outputs": [],
   "source": [
    "from sklearn.linear_model import LogisticRegression"
   ]
  },
  {
   "cell_type": "code",
   "execution_count": 70,
   "metadata": {},
   "outputs": [],
   "source": [
    "lr=LogisticRegression()"
   ]
  },
  {
   "cell_type": "code",
   "execution_count": 71,
   "metadata": {},
   "outputs": [
    {
     "data": {
      "text/plain": [
       "LogisticRegression(C=1.0, class_weight=None, dual=False, fit_intercept=True,\n",
       "          intercept_scaling=1, max_iter=100, multi_class='ovr', n_jobs=1,\n",
       "          penalty='l2', random_state=None, solver='liblinear', tol=0.0001,\n",
       "          verbose=0, warm_start=False)"
      ]
     },
     "execution_count": 71,
     "metadata": {},
     "output_type": "execute_result"
    }
   ],
   "source": [
    "lr.fit(X_train,y_train)"
   ]
  },
  {
   "cell_type": "code",
   "execution_count": 72,
   "metadata": {},
   "outputs": [],
   "source": [
    "predictions=lr.predict(X_test)"
   ]
  },
  {
   "cell_type": "code",
   "execution_count": 73,
   "metadata": {},
   "outputs": [
    {
     "data": {
      "text/plain": [
       "array([[19458,     4],\n",
       "       [  538,     0]], dtype=int64)"
      ]
     },
     "execution_count": 73,
     "metadata": {},
     "output_type": "execute_result"
    }
   ],
   "source": [
    "confusion_matrix(y_test,predictions)"
   ]
  },
  {
   "cell_type": "code",
   "execution_count": 74,
   "metadata": {},
   "outputs": [
    {
     "data": {
      "text/plain": [
       "0    19462\n",
       "1      538\n",
       "Name: AMI_FLAG, dtype: int64"
      ]
     },
     "execution_count": 74,
     "metadata": {},
     "output_type": "execute_result"
    }
   ],
   "source": [
    "y_test.value_counts()"
   ]
  },
  {
   "cell_type": "code",
   "execution_count": 75,
   "metadata": {},
   "outputs": [],
   "source": [
    "from sklearn import tree"
   ]
  },
  {
   "cell_type": "code",
   "execution_count": 76,
   "metadata": {},
   "outputs": [],
   "source": [
    "clf_tree=tree.DecisionTreeClassifier(random_state=42)"
   ]
  },
  {
   "cell_type": "code",
   "execution_count": 77,
   "metadata": {},
   "outputs": [
    {
     "data": {
      "text/plain": [
       "DecisionTreeClassifier(class_weight=None, criterion='gini', max_depth=None,\n",
       "            max_features=None, max_leaf_nodes=None,\n",
       "            min_impurity_decrease=0.0, min_impurity_split=None,\n",
       "            min_samples_leaf=1, min_samples_split=2,\n",
       "            min_weight_fraction_leaf=0.0, presort=False, random_state=42,\n",
       "            splitter='best')"
      ]
     },
     "execution_count": 77,
     "metadata": {},
     "output_type": "execute_result"
    }
   ],
   "source": [
    "clf_tree.fit(X_train,y_train)"
   ]
  },
  {
   "cell_type": "code",
   "execution_count": 78,
   "metadata": {},
   "outputs": [],
   "source": [
    "predictions=clf_tree.predict(X_test)"
   ]
  },
  {
   "cell_type": "code",
   "execution_count": 79,
   "metadata": {},
   "outputs": [
    {
     "data": {
      "text/plain": [
       "array([[18828,   634],\n",
       "       [  491,    47]], dtype=int64)"
      ]
     },
     "execution_count": 79,
     "metadata": {},
     "output_type": "execute_result"
    }
   ],
   "source": [
    "confusion_matrix(y_test,predictions)"
   ]
  },
  {
   "cell_type": "code",
   "execution_count": 80,
   "metadata": {},
   "outputs": [],
   "source": [
    "from sklearn.ensemble import GradientBoostingClassifier"
   ]
  },
  {
   "cell_type": "code",
   "execution_count": 81,
   "metadata": {},
   "outputs": [],
   "source": [
    "gb=GradientBoostingClassifier()"
   ]
  },
  {
   "cell_type": "code",
   "execution_count": 82,
   "metadata": {},
   "outputs": [
    {
     "data": {
      "text/plain": [
       "GradientBoostingClassifier(criterion='friedman_mse', init=None,\n",
       "              learning_rate=0.1, loss='deviance', max_depth=3,\n",
       "              max_features=None, max_leaf_nodes=None,\n",
       "              min_impurity_decrease=0.0, min_impurity_split=None,\n",
       "              min_samples_leaf=1, min_samples_split=2,\n",
       "              min_weight_fraction_leaf=0.0, n_estimators=100,\n",
       "              presort='auto', random_state=None, subsample=1.0, verbose=0,\n",
       "              warm_start=False)"
      ]
     },
     "execution_count": 82,
     "metadata": {},
     "output_type": "execute_result"
    }
   ],
   "source": [
    "gb.fit(X_train,y_train)"
   ]
  },
  {
   "cell_type": "code",
   "execution_count": 83,
   "metadata": {},
   "outputs": [],
   "source": [
    "predictions=gb.predict(X_test)"
   ]
  },
  {
   "cell_type": "code",
   "execution_count": 84,
   "metadata": {},
   "outputs": [
    {
     "data": {
      "text/plain": [
       "array([[19440,    22],\n",
       "       [  537,     1]], dtype=int64)"
      ]
     },
     "execution_count": 84,
     "metadata": {},
     "output_type": "execute_result"
    }
   ],
   "source": [
    "confusion_matrix(y_test,predictions)"
   ]
  },
  {
   "cell_type": "code",
   "execution_count": 85,
   "metadata": {},
   "outputs": [
    {
     "data": {
      "text/html": [
       "<div>\n",
       "<style scoped>\n",
       "    .dataframe tbody tr th:only-of-type {\n",
       "        vertical-align: middle;\n",
       "    }\n",
       "\n",
       "    .dataframe tbody tr th {\n",
       "        vertical-align: top;\n",
       "    }\n",
       "\n",
       "    .dataframe thead th {\n",
       "        text-align: right;\n",
       "    }\n",
       "</style>\n",
       "<table border=\"1\" class=\"dataframe\">\n",
       "  <thead>\n",
       "    <tr style=\"text-align: right;\">\n",
       "      <th></th>\n",
       "      <th>RECON_MA_RISK_SCORE_NBR</th>\n",
       "      <th>RECON_RX_RISK_SCORE_NBR</th>\n",
       "    </tr>\n",
       "  </thead>\n",
       "  <tbody>\n",
       "    <tr>\n",
       "      <th>RECON_MA_RISK_SCORE_NBR</th>\n",
       "      <td>1.00000</td>\n",
       "      <td>0.52947</td>\n",
       "    </tr>\n",
       "    <tr>\n",
       "      <th>RECON_RX_RISK_SCORE_NBR</th>\n",
       "      <td>0.52947</td>\n",
       "      <td>1.00000</td>\n",
       "    </tr>\n",
       "  </tbody>\n",
       "</table>\n",
       "</div>"
      ],
      "text/plain": [
       "                         RECON_MA_RISK_SCORE_NBR  RECON_RX_RISK_SCORE_NBR\n",
       "RECON_MA_RISK_SCORE_NBR                  1.00000                  0.52947\n",
       "RECON_RX_RISK_SCORE_NBR                  0.52947                  1.00000"
      ]
     },
     "execution_count": 85,
     "metadata": {},
     "output_type": "execute_result"
    }
   ],
   "source": [
    "df[['RECON_MA_RISK_SCORE_NBR','RECON_RX_RISK_SCORE_NBR']].corr()"
   ]
  },
  {
   "cell_type": "code",
   "execution_count": 86,
   "metadata": {},
   "outputs": [
    {
     "data": {
      "image/png": "[encoded data removed]",
      "text/plain": [
       "<Figure size 432x288 with 1 Axes>"
      ]
     },
     "metadata": {},
     "output_type": "display_data"
    }
   ],
   "source": [
    "feature_importance=rf.feature_importances_\n",
    "\n",
    "feature_importance = 100.0 * (feature_importance / feature_importance.max())\n",
    "\n",
    "sorted_idx = np.argsort(feature_importance)\n",
    "\n",
    "pos = np.arange(sorted_idx.shape[0]) + .5\n",
    "plt.subplot(1, 2, 2)\n",
    "plt.barh(pos, feature_importance[sorted_idx], align='center')\n",
    "#plt.yticks(pos, np.array(train_x.columns))\n",
    "plt.xlabel('Relative Importance')\n",
    "plt.title('Variable Importance')\n",
    "plt.show()"
   ]
  },
  {
   "cell_type": "code",
   "execution_count": 87,
   "metadata": {},
   "outputs": [],
   "source": [
    "#X.iloc[:,sorted_idx[0:200]].columns"
   ]
  },
  {
   "cell_type": "code",
   "execution_count": null,
   "metadata": {},
   "outputs": [],
   "source": []
  },
  {
   "cell_type": "code",
   "execution_count": 88,
   "metadata": {},
   "outputs": [],
   "source": [
    "#X=X.iloc[:,sorted_idx[0:300]]"
   ]
  },
  {
   "cell_type": "code",
   "execution_count": 91,
   "metadata": {},
   "outputs": [],
   "source": [
    "sns.set(color_codes=True)\n"
   ]
  },
  {
   "cell_type": "code",
   "execution_count": 92,
   "metadata": {},
   "outputs": [
    {
     "name": "stderr",
     "output_type": "stream",
     "text": [
      "C:\\Users\\gandh\\Anaconda3\\lib\\site-packages\\matplotlib\\axes\\_axes.py:6462: UserWarning: The 'normed' kwarg is deprecated, and has been replaced by the 'density' kwarg.\n",
      "  warnings.warn(\"The 'normed' kwarg is deprecated, and has been \"\n"
     ]
    },
    {
     "data": {
      "text/plain": [
       "<matplotlib.axes._subplots.AxesSubplot at 0x1c78c97ef28>"
      ]
     },
     "execution_count": 92,
     "metadata": {},
     "output_type": "execute_result"
    },
    {
     "data": {
      "image/png": "[encoded data removed]",
      "text/plain": [
       "<Figure size 432x288 with 1 Axes>"
      ]
     },
     "metadata": {},
     "output_type": "display_data"
    }
   ],
   "source": [
    "sns.distplot(X['AGE'])"
   ]
  },
  {
   "cell_type": "code",
   "execution_count": 93,
   "metadata": {},
   "outputs": [],
   "source": [
    "X['RECON_MA_RISK_SCORE_NBR']=X['RECON_MA_RISK_SCORE_NBR']+np.mean(X['RECON_MA_RISK_SCORE_NBR'])"
   ]
  },
  {
   "cell_type": "code",
   "execution_count": 94,
   "metadata": {},
   "outputs": [
    {
     "name": "stderr",
     "output_type": "stream",
     "text": [
      "C:\\Users\\gandh\\Anaconda3\\lib\\site-packages\\matplotlib\\axes\\_axes.py:6462: UserWarning: The 'normed' kwarg is deprecated, and has been replaced by the 'density' kwarg.\n",
      "  warnings.warn(\"The 'normed' kwarg is deprecated, and has been \"\n"
     ]
    },
    {
     "data": {
      "text/plain": [
       "<matplotlib.axes._subplots.AxesSubplot at 0x1c7ccfff9b0>"
      ]
     },
     "execution_count": 94,
     "metadata": {},
     "output_type": "execute_result"
    },
    {
     "data": {
      "image/png": "[encoded data removed]",
      "text/plain": [
       "<Figure size 432x288 with 1 Axes>"
      ]
     },
     "metadata": {},
     "output_type": "display_data"
    }
   ],
   "source": [
    "sns.distplot(np.sqrt(np.log(X['RECON_MA_RISK_SCORE_NBR'])))"
   ]
  },
  {
   "cell_type": "code",
   "execution_count": 95,
   "metadata": {},
   "outputs": [
    {
     "data": {
      "text/plain": [
       "Index(['AGE', 'ORIG_REAS_ENTITLE_CD', 'RECON_MA_RISK_SCORE_NBR',\n",
       "       'RECON_RX_RISK_SCORE_NBR', 'POT_VISIT_11_Q01', 'POT_VISIT_11_Q02',\n",
       "       'POT_VISIT_11_Q03', 'POT_VISIT_11_Q04', 'POT_VISIT_81_Q01',\n",
       "       'POT_VISIT_21_Q02',\n",
       "       ...\n",
       "       'Diab_Type_Diabetes Type II', 'Diab_Type_Diabetes Unspeci',\n",
       "       'Dwelling_Type_A', 'Dwelling_Type_B', 'Dwelling_Type_C',\n",
       "       'Dwelling_Type_M', 'Dwelling_Type_N', 'Dwelling_Type_P',\n",
       "       'Dwelling_Type_S', 'Dwelling_Type_T'],\n",
       "      dtype='object', length=658)"
      ]
     },
     "execution_count": 95,
     "metadata": {},
     "output_type": "execute_result"
    }
   ],
   "source": [
    "X.columns"
   ]
  },
  {
   "cell_type": "code",
   "execution_count": 96,
   "metadata": {},
   "outputs": [
    {
     "name": "stderr",
     "output_type": "stream",
     "text": [
      "C:\\Users\\gandh\\Anaconda3\\lib\\site-packages\\matplotlib\\axes\\_axes.py:6462: UserWarning: The 'normed' kwarg is deprecated, and has been replaced by the 'density' kwarg.\n",
      "  warnings.warn(\"The 'normed' kwarg is deprecated, and has been \"\n"
     ]
    },
    {
     "data": {
      "text/plain": [
       "<matplotlib.axes._subplots.AxesSubplot at 0x1c7cd0e3be0>"
      ]
     },
     "execution_count": 96,
     "metadata": {},
     "output_type": "execute_result"
    },
    {
     "data": {
      "image/png": "[encoded data removed]",
      "text/plain": [
       "<Figure size 432x288 with 1 Axes>"
      ]
     },
     "metadata": {},
     "output_type": "display_data"
    }
   ],
   "source": [
    "sns.distplot(np.sqrt(np.log(X['RECON_RX_RISK_SCORE_NBR']+np.mean(X['RECON_RX_RISK_SCORE_NBR']))))"
   ]
  },
  {
   "cell_type": "code",
   "execution_count": 97,
   "metadata": {},
   "outputs": [],
   "source": [
    "# Drop CON_VISIT_01_Q01"
   ]
  },
  {
   "cell_type": "code",
   "execution_count": 98,
   "metadata": {},
   "outputs": [
    {
     "data": {
      "text/plain": [
       "0     99797\n",
       "1       143\n",
       "3        23\n",
       "2        23\n",
       "4         5\n",
       "5         3\n",
       "18        1\n",
       "12        1\n",
       "73        1\n",
       "8         1\n",
       "7         1\n",
       "6         1\n",
       "Name: POT_VISIT_99_Q04, dtype: int64"
      ]
     },
     "execution_count": 98,
     "metadata": {},
     "output_type": "execute_result"
    }
   ],
   "source": [
    "df['POT_VISIT_99_Q04'].value_counts()# delete 'POT_VISIT_02_QXX','POT_VISIT_03_QXX','POT_VISIT_04_QXX'\n",
    "#retain 11,12,13,15,19,20,21,22,23,24,31,32,33,41,50,51,53,61,65,71,72,81,99"
   ]
  },
  {
   "cell_type": "code",
   "execution_count": 99,
   "metadata": {},
   "outputs": [
    {
     "data": {
      "text/plain": [
       "(100000, 660)"
      ]
     },
     "execution_count": 99,
     "metadata": {},
     "output_type": "execute_result"
    }
   ],
   "source": [
    "df.shape"
   ]
  },
  {
   "cell_type": "code",
   "execution_count": null,
   "metadata": {},
   "outputs": [],
   "source": []
  },
  {
   "cell_type": "code",
   "execution_count": null,
   "metadata": {},
   "outputs": [],
   "source": []
  },
  {
   "cell_type": "code",
   "execution_count": null,
   "metadata": {},
   "outputs": [],
   "source": []
  },
  {
   "cell_type": "code",
   "execution_count": null,
   "metadata": {},
   "outputs": [],
   "source": []
  },
  {
   "cell_type": "code",
   "execution_count": 100,
   "metadata": {},
   "outputs": [],
   "source": [
    "#X=df.iloc[:,1:len(df.columns)-1]\n",
    "#y=df.iloc[:,-1]"
   ]
  },
  {
   "cell_type": "code",
   "execution_count": 101,
   "metadata": {},
   "outputs": [
    {
     "data": {
      "text/plain": [
       "array([[18820,   642],\n",
       "       [  487,    51]], dtype=int64)"
      ]
     },
     "execution_count": 101,
     "metadata": {},
     "output_type": "execute_result"
    }
   ],
   "source": [
    "#X_train,X_test,y_train,y_test=train_test_split(X,y,test_size=0.2,random_state=42)\n",
    "clf_tree=tree.DecisionTreeClassifier()\n",
    "\n",
    "clf_tree.fit(X_train,y_train)\n",
    "\n",
    "predictions=clf_tree.predict(X_test)\n",
    "\n",
    "confusion_matrix(y_test,predictions)\n",
    "precision_score(y_test,predictions)\n",
    "recall_score(y_test,predictions)"
   ]
  },
  {
   "cell_type": "code",
   "execution_count": 102,
   "metadata": {},
   "outputs": [],
   "source": [
    "lr=LogisticRegression()"
   ]
  },
  {
   "cell_type": "code",
   "execution_count": 103,
   "metadata": {},
   "outputs": [
    {
     "data": {
      "text/plain": [
       "LogisticRegression(C=1.0, class_weight=None, dual=False, fit_intercept=True,\n",
       "          intercept_scaling=1, max_iter=100, multi_class='ovr', n_jobs=1,\n",
       "          penalty='l2', random_state=None, solver='liblinear', tol=0.0001,\n",
       "          verbose=0, warm_start=False)"
      ]
     },
     "execution_count": 103,
     "metadata": {},
     "output_type": "execute_result"
    }
   ],
   "source": [
    "lr.fit(X_train,y_train)"
   ]
  },
  {
   "cell_type": "code",
   "execution_count": 104,
   "metadata": {},
   "outputs": [],
   "source": [
    "predictions=lr.predict(X_test)"
   ]
  },
  {
   "cell_type": "code",
   "execution_count": 105,
   "metadata": {},
   "outputs": [
    {
     "data": {
      "text/plain": [
       "array([[19458,     4],\n",
       "       [  538,     0]], dtype=int64)"
      ]
     },
     "execution_count": 105,
     "metadata": {},
     "output_type": "execute_result"
    }
   ],
   "source": [
    "confusion_matrix(y_test,predictions)\n",
    "precision_score(y_test,predictions)\n",
    "recall_score(y_test,predictions)"
   ]
  },
  {
   "cell_type": "code",
   "execution_count": 106,
   "metadata": {},
   "outputs": [],
   "source": [
    "rf=RandomForestClassifier(random_state=42,n_estimators=100)\n",
    "rf.fit(X_train,y_train)\n",
    "predictions=rf.predict(X_test)"
   ]
  },
  {
   "cell_type": "code",
   "execution_count": 111,
   "metadata": {},
   "outputs": [
    {
     "name": "stderr",
     "output_type": "stream",
     "text": [
      "C:\\Users\\gandh\\Anaconda3\\lib\\site-packages\\sklearn\\metrics\\classification.py:1135: UndefinedMetricWarning: Precision is ill-defined and being set to 0.0 due to no predicted samples.\n",
      "  'precision', 'predicted', average, warn_for)\n"
     ]
    },
    {
     "data": {
      "text/plain": [
       "0.0"
      ]
     },
     "execution_count": 111,
     "metadata": {},
     "output_type": "execute_result"
    }
   ],
   "source": [
    "confusion_matrix(y_test,predictions)\n",
    "precision_score(y_test,predictions)\n",
    "recall_score(y_test,predictions)"
   ]
  },
  {
   "cell_type": "code",
   "execution_count": null,
   "metadata": {},
   "outputs": [],
   "source": []
  },
  {
   "cell_type": "code",
   "execution_count": 112,
   "metadata": {},
   "outputs": [],
   "source": [
    "#y_normalize=preprocessing.normalize(y)"
   ]
  },
  {
   "cell_type": "code",
   "execution_count": 114,
   "metadata": {},
   "outputs": [],
   "source": [
    "from sklearn.naive_bayes import GaussianNB\n",
    "gnb = GaussianNB()\n",
    "gnb.fit(X_train, y_train)\n",
    "predictions=gnb.predict(X_test)"
   ]
  },
  {
   "cell_type": "code",
   "execution_count": 115,
   "metadata": {},
   "outputs": [
    {
     "data": {
      "text/plain": [
       "array([[  744, 18718],\n",
       "       [   19,   519]], dtype=int64)"
      ]
     },
     "execution_count": 115,
     "metadata": {},
     "output_type": "execute_result"
    }
   ],
   "source": [
    "confusion_matrix(y_test,predictions)"
   ]
  },
  {
   "cell_type": "code",
   "execution_count": 116,
   "metadata": {},
   "outputs": [
    {
     "data": {
      "text/plain": [
       "0.026979258720174662"
      ]
     },
     "execution_count": 116,
     "metadata": {},
     "output_type": "execute_result"
    }
   ],
   "source": [
    "precision_score(y_test,predictions)"
   ]
  },
  {
   "cell_type": "code",
   "execution_count": 117,
   "metadata": {},
   "outputs": [
    {
     "data": {
      "text/plain": [
       "0.9646840148698885"
      ]
     },
     "execution_count": 117,
     "metadata": {},
     "output_type": "execute_result"
    }
   ],
   "source": [
    "recall_score(y_test,predictions)"
   ]
  },
  {
   "cell_type": "code",
   "execution_count": 118,
   "metadata": {},
   "outputs": [
    {
     "name": "stderr",
     "output_type": "stream",
     "text": [
      "C:\\Users\\gandh\\Anaconda3\\lib\\site-packages\\sklearn\\discriminant_analysis.py:388: UserWarning: Variables are collinear.\n",
      "  warnings.warn(\"Variables are collinear.\")\n"
     ]
    },
    {
     "data": {
      "text/plain": [
       "LinearDiscriminantAnalysis(n_components=None, priors=None, shrinkage=None,\n",
       "              solver='svd', store_covariance=False, tol=0.0001)"
      ]
     },
     "execution_count": 118,
     "metadata": {},
     "output_type": "execute_result"
    }
   ],
   "source": [
    "from sklearn.discriminant_analysis import LinearDiscriminantAnalysis\n",
    "lda = LinearDiscriminantAnalysis()\n",
    "lda.fit(X_train, y_train)"
   ]
  },
  {
   "cell_type": "code",
   "execution_count": 119,
   "metadata": {},
   "outputs": [],
   "source": [
    "predictions=lda.predict(X_test)"
   ]
  },
  {
   "cell_type": "code",
   "execution_count": 120,
   "metadata": {},
   "outputs": [
    {
     "name": "stdout",
     "output_type": "stream",
     "text": [
      "[[19312   150]\n",
      " [  508    30]]\n",
      "0.16666666666666666\n",
      "0.055762081784386616\n"
     ]
    }
   ],
   "source": [
    "print(confusion_matrix(y_test,predictions))\n",
    "print(precision_score(y_test,predictions))\n",
    "print(recall_score(y_test,predictions))"
   ]
  },
  {
   "cell_type": "code",
   "execution_count": null,
   "metadata": {},
   "outputs": [],
   "source": []
  },
  {
   "cell_type": "code",
   "execution_count": null,
   "metadata": {},
   "outputs": [],
   "source": []
  },
  {
   "cell_type": "code",
   "execution_count": null,
   "metadata": {},
   "outputs": [],
   "source": []
  }
 ],
 "metadata": {
  "kernelspec": {
   "display_name": "Python 3",
   "language": "python",
   "name": "python3"
  },
  "language_info": {
   "codemirror_mode": {
    "name": "ipython",
    "version": 3
   },
   "file_extension": ".py",
   "mimetype": "text/x-python",
   "name": "python",
   "nbconvert_exporter": "python",
   "pygments_lexer": "ipython3",
   "version": "3.6.5"
  }
 },
 "nbformat": 4,
 "nbformat_minor": 2
}
