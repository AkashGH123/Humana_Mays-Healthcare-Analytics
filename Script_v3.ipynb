{
 "cells": [
  {
   "cell_type": "code",
   "execution_count": 1,
   "metadata": {},
   "outputs": [],
   "source": [
    "import pandas as pd\n",
    "import numpy as np\n",
    "import seaborn as sns\n",
    "import xgboost as xgb"
   ]
  },
  {
   "cell_type": "code",
   "execution_count": 2,
   "metadata": {},
   "outputs": [],
   "source": [
    "df=pd.read_csv(r\"C:\\Users\\gandh\\Downloads\\Datasets\\humana\\TAMU_FINAL_DATASET_2018\\TAMU_FINAL_DATASET_2018.csv\")"
   ]
  },
  {
   "cell_type": "code",
   "execution_count": 3,
   "metadata": {},
   "outputs": [
    {
     "data": {
      "text/plain": [
       "(100000, 448)"
      ]
     },
     "execution_count": 3,
     "metadata": {},
     "output_type": "execute_result"
    }
   ],
   "source": [
    "df.shape"
   ]
  },
  {
   "cell_type": "code",
   "execution_count": 4,
   "metadata": {},
   "outputs": [
    {
     "name": "stdout",
     "output_type": "stream",
     "text": [
      "<class 'pandas.core.frame.DataFrame'>\n",
      "RangeIndex: 100000 entries, 0 to 99999\n",
      "Columns: 448 entries, ID to STATIN_ELIG\n",
      "dtypes: float64(20), int64(417), object(11)\n",
      "memory usage: 341.8+ MB\n"
     ]
    }
   ],
   "source": [
    "df.info()"
   ]
  },
  {
   "cell_type": "code",
   "execution_count": 5,
   "metadata": {},
   "outputs": [
    {
     "data": {
      "text/html": [
       "<div>\n",
       "<style scoped>\n",
       "    .dataframe tbody tr th:only-of-type {\n",
       "        vertical-align: middle;\n",
       "    }\n",
       "\n",
       "    .dataframe tbody tr th {\n",
       "        vertical-align: top;\n",
       "    }\n",
       "\n",
       "    .dataframe thead th {\n",
       "        text-align: right;\n",
       "    }\n",
       "</style>\n",
       "<table border=\"1\" class=\"dataframe\">\n",
       "  <thead>\n",
       "    <tr style=\"text-align: right;\">\n",
       "      <th></th>\n",
       "      <th>ID</th>\n",
       "      <th>AGE</th>\n",
       "      <th>SEX_CD</th>\n",
       "      <th>AMI_FLAG</th>\n",
       "      <th>ESRD_IND</th>\n",
       "      <th>HOSPICE_IND</th>\n",
       "      <th>ORIG_REAS_ENTITLE_CD</th>\n",
       "      <th>RECON_MA_RISK_SCORE_NBR</th>\n",
       "      <th>RECON_RX_RISK_SCORE_NBR</th>\n",
       "      <th>PCP_ASSIGNMENT</th>\n",
       "      <th>...</th>\n",
       "      <th>COL</th>\n",
       "      <th>COL_GAP</th>\n",
       "      <th>AMM</th>\n",
       "      <th>AMM_GAP</th>\n",
       "      <th>DIAB_PASS</th>\n",
       "      <th>ACE_PASS</th>\n",
       "      <th>STATIN_PASS</th>\n",
       "      <th>ACE_ELIG</th>\n",
       "      <th>DIAB_ELIG</th>\n",
       "      <th>STATIN_ELIG</th>\n",
       "    </tr>\n",
       "  </thead>\n",
       "  <tbody>\n",
       "    <tr>\n",
       "      <th>0</th>\n",
       "      <td>1</td>\n",
       "      <td>77</td>\n",
       "      <td>F</td>\n",
       "      <td>0</td>\n",
       "      <td>N</td>\n",
       "      <td>N</td>\n",
       "      <td>0.0</td>\n",
       "      <td>0.424</td>\n",
       "      <td>0.402</td>\n",
       "      <td>MEMBER SELECTED</td>\n",
       "      <td>...</td>\n",
       "      <td>0</td>\n",
       "      <td>0</td>\n",
       "      <td>0</td>\n",
       "      <td>0</td>\n",
       "      <td>0</td>\n",
       "      <td>0</td>\n",
       "      <td>0</td>\n",
       "      <td>0</td>\n",
       "      <td>0</td>\n",
       "      <td>0</td>\n",
       "    </tr>\n",
       "  </tbody>\n",
       "</table>\n",
       "<p>1 rows × 448 columns</p>\n",
       "</div>"
      ],
      "text/plain": [
       "   ID  AGE SEX_CD  AMI_FLAG ESRD_IND HOSPICE_IND  ORIG_REAS_ENTITLE_CD  \\\n",
       "0   1   77      F         0        N           N                   0.0   \n",
       "\n",
       "   RECON_MA_RISK_SCORE_NBR  RECON_RX_RISK_SCORE_NBR   PCP_ASSIGNMENT  \\\n",
       "0                    0.424                    0.402  MEMBER SELECTED   \n",
       "\n",
       "      ...      COL COL_GAP AMM AMM_GAP DIAB_PASS  ACE_PASS  STATIN_PASS  \\\n",
       "0     ...        0       0   0       0         0         0            0   \n",
       "\n",
       "   ACE_ELIG  DIAB_ELIG  STATIN_ELIG  \n",
       "0         0          0            0  \n",
       "\n",
       "[1 rows x 448 columns]"
      ]
     },
     "execution_count": 5,
     "metadata": {},
     "output_type": "execute_result"
    }
   ],
   "source": [
    "df.head(1)"
   ]
  },
  {
   "cell_type": "code",
   "execution_count": null,
   "metadata": {},
   "outputs": [],
   "source": []
  },
  {
   "cell_type": "code",
   "execution_count": 6,
   "metadata": {},
   "outputs": [],
   "source": [
    "#list of columns that contain null values\n",
    "l=df.columns[df.isna().any()].tolist()"
   ]
  },
  {
   "cell_type": "code",
   "execution_count": 7,
   "metadata": {},
   "outputs": [],
   "source": [
    "#List of columns that have only one value\n",
    "singlevaluedcol=[]\n",
    "for i in df.columns:\n",
    "    if df[i].nunique==1:\n",
    "        singlevaluedcol.append(i)\n",
    "        "
   ]
  },
  {
   "cell_type": "code",
   "execution_count": 8,
   "metadata": {},
   "outputs": [
    {
     "data": {
      "text/plain": [
       "[]"
      ]
     },
     "execution_count": 8,
     "metadata": {},
     "output_type": "execute_result"
    }
   ],
   "source": [
    "singlevaluedcol"
   ]
  },
  {
   "cell_type": "code",
   "execution_count": 9,
   "metadata": {},
   "outputs": [],
   "source": [
    "#Creating a dictionary to identify Column names as keys and number of null values in the column as the corresponding value\n",
    "d={}\n",
    "for i in l:\n",
    "    d[i]=len(df[df[i].isnull()])"
   ]
  },
  {
   "cell_type": "code",
   "execution_count": 10,
   "metadata": {},
   "outputs": [],
   "source": [
    "#d"
   ]
  },
  {
   "cell_type": "code",
   "execution_count": 11,
   "metadata": {},
   "outputs": [
    {
     "data": {
      "text/plain": [
       "<matplotlib.axes._subplots.AxesSubplot at 0x23fd8ca6c88>"
      ]
     },
     "execution_count": 11,
     "metadata": {},
     "output_type": "execute_result"
    },
    {
     "data": {
      "image/png": "[encoded data removed]",
      "text/plain": [
       "<Figure size 432x288 with 1 Axes>"
      ]
     },
     "metadata": {},
     "output_type": "display_data"
    }
   ],
   "source": [
    "import matplotlib.pyplot as plt\n",
    "plt.subplot(1,2,1)"
   ]
  },
  {
   "cell_type": "code",
   "execution_count": 12,
   "metadata": {},
   "outputs": [
    {
     "data": {
      "text/plain": [
       "Text(0.5,1,'Number of Patients males or females who did not suffer heart attacks')"
      ]
     },
     "execution_count": 12,
     "metadata": {},
     "output_type": "execute_result"
    },
    {
     "data": {
      "image/png": "[encoded data removed]",
      "text/plain": [
       "<Figure size 432x288 with 1 Axes>"
      ]
     },
     "metadata": {},
     "output_type": "display_data"
    }
   ],
   "source": [
    "#Plot for Male and female count for heart attack patients\n",
    "df.groupby('SEX_CD').count()['ID'].plot.bar()\n",
    "plt.xlabel(\"SEX\")\n",
    "plt.ylabel(\"Count\")\n",
    "plt.xticks(rotation=0)\n",
    "plt.title(\"Number of Patients males or females who did not suffer heart attacks\")\n",
    "#df.groupby(['SEX_CD','AMI_FLAG']).count()['ID'].plot.bar()"
   ]
  },
  {
   "cell_type": "code",
   "execution_count": 13,
   "metadata": {},
   "outputs": [
    {
     "data": {
      "image/png": "[encoded data removed]",
      "text/plain": [
       "<Figure size 432x288 with 1 Axes>"
      ]
     },
     "metadata": {},
     "output_type": "display_data"
    }
   ],
   "source": [
    "plt.subplot(1,2,2)\n",
    "df[df['AMI_FLAG']==1].groupby('SEX_CD').count()['ID'].plot.bar(legend=True)\n",
    "plt.xlabel(\"SEX\")\n",
    "plt.ylabel(\"count\")\n",
    "plt.title(\"Number of males or females who suffered from heart attacks\")\n",
    "plt.xticks(rotation=0)\n",
    "plt.show()"
   ]
  },
  {
   "cell_type": "code",
   "execution_count": 14,
   "metadata": {},
   "outputs": [
    {
     "data": {
      "image/png": "[encoded data removed]",
      "text/plain": [
       "<Figure size 432x288 with 1 Axes>"
      ]
     },
     "metadata": {},
     "output_type": "display_data"
    }
   ],
   "source": [
    "df.groupby('Education_level').count()['ID'].plot.bar()\n",
    "plt.xlabel(\"Education Level\")\n",
    "plt.ylabel(\"Number of customers\")\n",
    "plt.title(\"Count of customers with different educational background\")\n",
    "plt.xticks(rotation=0)\n",
    "plt.show()"
   ]
  },
  {
   "cell_type": "code",
   "execution_count": 15,
   "metadata": {},
   "outputs": [
    {
     "data": {
      "image/png": "[encoded data removed]",
      "text/plain": [
       "<Figure size 432x288 with 1 Axes>"
      ]
     },
     "metadata": {},
     "output_type": "display_data"
    }
   ],
   "source": [
    "df[df['AMI_FLAG']==1].groupby('Education_level').count()['ID'].plot.bar(legend=True)\n",
    "plt.xlabel(\"Level of Education\")\n",
    "plt.xticks(rotation=0)\n",
    "plt.ylabel(\"Count\")\n",
    "plt.title(\"Count of patients within every education level with heart attacks\")\n",
    "plt.show()"
   ]
  },
  {
   "cell_type": "code",
   "execution_count": 16,
   "metadata": {},
   "outputs": [
    {
     "data": {
      "text/plain": [
       "<matplotlib.axes._subplots.AxesSubplot at 0x23f94191438>"
      ]
     },
     "execution_count": 16,
     "metadata": {},
     "output_type": "execute_result"
    },
    {
     "data": {
      "image/png": "[encoded data removed]",
      "text/plain": [
       "<Figure size 432x288 with 1 Axes>"
      ]
     },
     "metadata": {},
     "output_type": "display_data"
    }
   ],
   "source": [
    "pd.pivot_table(df,index=['Education_level','SEX_CD'],values='AMI_FLAG',aggfunc=np.sum).plot.bar(stacked=True)\n",
    "\n"
   ]
  },
  {
   "cell_type": "code",
   "execution_count": 17,
   "metadata": {},
   "outputs": [
    {
     "data": {
      "text/plain": [
       "<matplotlib.axes._subplots.AxesSubplot at 0x23f9411d978>"
      ]
     },
     "execution_count": 17,
     "metadata": {},
     "output_type": "execute_result"
    },
    {
     "data": {
      "image/png": "[encoded data removed]",
      "text/plain": [
       "<Figure size 432x288 with 1 Axes>"
      ]
     },
     "metadata": {},
     "output_type": "display_data"
    }
   ],
   "source": [
    "pd.pivot_table(df[df['AMI_FLAG']==1],index=['Education_level','SEX_CD'],values='AMI_FLAG',aggfunc=np.sum).plot.bar(stacked=True)\n"
   ]
  },
  {
   "cell_type": "code",
   "execution_count": 18,
   "metadata": {},
   "outputs": [
    {
     "data": {
      "image/png": "[encoded data removed]",
      "text/plain": [
       "<Figure size 432x288 with 1 Axes>"
      ]
     },
     "metadata": {},
     "output_type": "display_data"
    }
   ],
   "source": [
    "df[df['AMI_FLAG']==1].groupby(['SEX_CD','Education_level']).count()['AMI_FLAG'].plot.bar(stacked=True,legend=True)\n",
    "plt.xlabel(\"Level of Education for males and females\")\n",
    "plt.xticks(rotation=45)\n",
    "plt.ylabel(\"Count\")\n",
    "plt.title(\"Count of patients in each education level within both genders with heart attacks\")\n",
    "plt.show()"
   ]
  },
  {
   "cell_type": "code",
   "execution_count": 19,
   "metadata": {},
   "outputs": [],
   "source": [
    "l=list(d.keys())"
   ]
  },
  {
   "cell_type": "code",
   "execution_count": 20,
   "metadata": {},
   "outputs": [
    {
     "data": {
      "text/plain": [
       "{'SEX_CD': 30,\n",
       " 'ESRD_IND': 32,\n",
       " 'HOSPICE_IND': 32,\n",
       " 'ORIG_REAS_ENTITLE_CD': 30,\n",
       " 'PCP_ASSIGNMENT': 157,\n",
       " 'DUAL': 30,\n",
       " 'INSTITUTIONAL': 30,\n",
       " 'LIS': 30,\n",
       " 'MCO_HLVL_PLAN_CD': 33,\n",
       " 'MCO_PROD_TYPE_CD': 33,\n",
       " 'Diab_Type': 64693,\n",
       " 'Dwelling_Type': 12179,\n",
       " 'Education_level': 12179,\n",
       " 'Length_residence': 12179,\n",
       " 'Est_BMI_decile': 12179,\n",
       " 'Num_person_household': 12179,\n",
       " 'College': 12179,\n",
       " 'Online_purchaser': 12179,\n",
       " 'Online_User': 12179,\n",
       " 'Pct_above_poverty_line': 12179,\n",
       " 'Pct_below_poverty_line': 12179,\n",
       " 'Decile_struggle_Med_lang': 25215,\n",
       " 'Home_value': 12179,\n",
       " 'Est_Net_worth': 12179,\n",
       " 'Est_income': 12179,\n",
       " 'Index_Health_ins_engage': 12179,\n",
       " 'Index_Health_ins_influence': 12179,\n",
       " 'Population_density_centile_ST': 12179,\n",
       " 'Population_density_centile_US': 12179}"
      ]
     },
     "execution_count": 20,
     "metadata": {},
     "output_type": "execute_result"
    }
   ],
   "source": [
    "d"
   ]
  },
  {
   "cell_type": "code",
   "execution_count": null,
   "metadata": {},
   "outputs": [],
   "source": []
  },
  {
   "cell_type": "code",
   "execution_count": 21,
   "metadata": {},
   "outputs": [
    {
     "data": {
      "text/plain": [
       "(100000, 448)"
      ]
     },
     "execution_count": 21,
     "metadata": {},
     "output_type": "execute_result"
    }
   ],
   "source": [
    "df.shape"
   ]
  },
  {
   "cell_type": "code",
   "execution_count": 22,
   "metadata": {},
   "outputs": [
    {
     "name": "stdout",
     "output_type": "stream",
     "text": [
      "<class 'pandas.core.frame.DataFrame'>\n",
      "RangeIndex: 100000 entries, 0 to 99999\n",
      "Columns: 448 entries, ID to STATIN_ELIG\n",
      "dtypes: float64(20), int64(417), object(11)\n",
      "memory usage: 341.8+ MB\n"
     ]
    }
   ],
   "source": [
    "df.info()"
   ]
  },
  {
   "cell_type": "code",
   "execution_count": 23,
   "metadata": {},
   "outputs": [
    {
     "data": {
      "text/html": [
       "<div>\n",
       "<style scoped>\n",
       "    .dataframe tbody tr th:only-of-type {\n",
       "        vertical-align: middle;\n",
       "    }\n",
       "\n",
       "    .dataframe tbody tr th {\n",
       "        vertical-align: top;\n",
       "    }\n",
       "\n",
       "    .dataframe thead th {\n",
       "        text-align: right;\n",
       "    }\n",
       "</style>\n",
       "<table border=\"1\" class=\"dataframe\">\n",
       "  <thead>\n",
       "    <tr style=\"text-align: right;\">\n",
       "      <th></th>\n",
       "      <th>ID</th>\n",
       "      <th>AGE</th>\n",
       "      <th>SEX_CD</th>\n",
       "      <th>AMI_FLAG</th>\n",
       "      <th>ESRD_IND</th>\n",
       "      <th>HOSPICE_IND</th>\n",
       "      <th>ORIG_REAS_ENTITLE_CD</th>\n",
       "      <th>RECON_MA_RISK_SCORE_NBR</th>\n",
       "      <th>RECON_RX_RISK_SCORE_NBR</th>\n",
       "      <th>PCP_ASSIGNMENT</th>\n",
       "      <th>...</th>\n",
       "      <th>COL</th>\n",
       "      <th>COL_GAP</th>\n",
       "      <th>AMM</th>\n",
       "      <th>AMM_GAP</th>\n",
       "      <th>DIAB_PASS</th>\n",
       "      <th>ACE_PASS</th>\n",
       "      <th>STATIN_PASS</th>\n",
       "      <th>ACE_ELIG</th>\n",
       "      <th>DIAB_ELIG</th>\n",
       "      <th>STATIN_ELIG</th>\n",
       "    </tr>\n",
       "  </thead>\n",
       "  <tbody>\n",
       "    <tr>\n",
       "      <th>0</th>\n",
       "      <td>1</td>\n",
       "      <td>77</td>\n",
       "      <td>F</td>\n",
       "      <td>0</td>\n",
       "      <td>N</td>\n",
       "      <td>N</td>\n",
       "      <td>0.0</td>\n",
       "      <td>0.424</td>\n",
       "      <td>0.402</td>\n",
       "      <td>MEMBER SELECTED</td>\n",
       "      <td>...</td>\n",
       "      <td>0</td>\n",
       "      <td>0</td>\n",
       "      <td>0</td>\n",
       "      <td>0</td>\n",
       "      <td>0</td>\n",
       "      <td>0</td>\n",
       "      <td>0</td>\n",
       "      <td>0</td>\n",
       "      <td>0</td>\n",
       "      <td>0</td>\n",
       "    </tr>\n",
       "    <tr>\n",
       "      <th>1</th>\n",
       "      <td>2</td>\n",
       "      <td>49</td>\n",
       "      <td>F</td>\n",
       "      <td>0</td>\n",
       "      <td>N</td>\n",
       "      <td>N</td>\n",
       "      <td>1.0</td>\n",
       "      <td>2.879</td>\n",
       "      <td>1.159</td>\n",
       "      <td>ATTRIBUTED</td>\n",
       "      <td>...</td>\n",
       "      <td>0</td>\n",
       "      <td>0</td>\n",
       "      <td>0</td>\n",
       "      <td>0</td>\n",
       "      <td>0</td>\n",
       "      <td>0</td>\n",
       "      <td>1</td>\n",
       "      <td>0</td>\n",
       "      <td>0</td>\n",
       "      <td>1</td>\n",
       "    </tr>\n",
       "    <tr>\n",
       "      <th>2</th>\n",
       "      <td>3</td>\n",
       "      <td>75</td>\n",
       "      <td>F</td>\n",
       "      <td>0</td>\n",
       "      <td>N</td>\n",
       "      <td>N</td>\n",
       "      <td>0.0</td>\n",
       "      <td>0.638</td>\n",
       "      <td>0.568</td>\n",
       "      <td>MEMBER SELECTED</td>\n",
       "      <td>...</td>\n",
       "      <td>1</td>\n",
       "      <td>0</td>\n",
       "      <td>0</td>\n",
       "      <td>0</td>\n",
       "      <td>0</td>\n",
       "      <td>1</td>\n",
       "      <td>1</td>\n",
       "      <td>1</td>\n",
       "      <td>0</td>\n",
       "      <td>1</td>\n",
       "    </tr>\n",
       "    <tr>\n",
       "      <th>3</th>\n",
       "      <td>4</td>\n",
       "      <td>68</td>\n",
       "      <td>M</td>\n",
       "      <td>0</td>\n",
       "      <td>N</td>\n",
       "      <td>N</td>\n",
       "      <td>0.0</td>\n",
       "      <td>0.584</td>\n",
       "      <td>0.886</td>\n",
       "      <td>MEMBER SELECTED</td>\n",
       "      <td>...</td>\n",
       "      <td>1</td>\n",
       "      <td>1</td>\n",
       "      <td>0</td>\n",
       "      <td>0</td>\n",
       "      <td>1</td>\n",
       "      <td>1</td>\n",
       "      <td>1</td>\n",
       "      <td>1</td>\n",
       "      <td>1</td>\n",
       "      <td>1</td>\n",
       "    </tr>\n",
       "    <tr>\n",
       "      <th>4</th>\n",
       "      <td>5</td>\n",
       "      <td>81</td>\n",
       "      <td>F</td>\n",
       "      <td>0</td>\n",
       "      <td>N</td>\n",
       "      <td>N</td>\n",
       "      <td>1.0</td>\n",
       "      <td>1.242</td>\n",
       "      <td>1.212</td>\n",
       "      <td>MEMBER SELECTED</td>\n",
       "      <td>...</td>\n",
       "      <td>0</td>\n",
       "      <td>0</td>\n",
       "      <td>0</td>\n",
       "      <td>0</td>\n",
       "      <td>0</td>\n",
       "      <td>0</td>\n",
       "      <td>0</td>\n",
       "      <td>0</td>\n",
       "      <td>0</td>\n",
       "      <td>0</td>\n",
       "    </tr>\n",
       "  </tbody>\n",
       "</table>\n",
       "<p>5 rows × 448 columns</p>\n",
       "</div>"
      ],
      "text/plain": [
       "   ID  AGE SEX_CD  AMI_FLAG ESRD_IND HOSPICE_IND  ORIG_REAS_ENTITLE_CD  \\\n",
       "0   1   77      F         0        N           N                   0.0   \n",
       "1   2   49      F         0        N           N                   1.0   \n",
       "2   3   75      F         0        N           N                   0.0   \n",
       "3   4   68      M         0        N           N                   0.0   \n",
       "4   5   81      F         0        N           N                   1.0   \n",
       "\n",
       "   RECON_MA_RISK_SCORE_NBR  RECON_RX_RISK_SCORE_NBR   PCP_ASSIGNMENT  \\\n",
       "0                    0.424                    0.402  MEMBER SELECTED   \n",
       "1                    2.879                    1.159       ATTRIBUTED   \n",
       "2                    0.638                    0.568  MEMBER SELECTED   \n",
       "3                    0.584                    0.886  MEMBER SELECTED   \n",
       "4                    1.242                    1.212  MEMBER SELECTED   \n",
       "\n",
       "      ...      COL COL_GAP AMM AMM_GAP DIAB_PASS  ACE_PASS  STATIN_PASS  \\\n",
       "0     ...        0       0   0       0         0         0            0   \n",
       "1     ...        0       0   0       0         0         0            1   \n",
       "2     ...        1       0   0       0         0         1            1   \n",
       "3     ...        1       1   0       0         1         1            1   \n",
       "4     ...        0       0   0       0         0         0            0   \n",
       "\n",
       "   ACE_ELIG  DIAB_ELIG  STATIN_ELIG  \n",
       "0         0          0            0  \n",
       "1         0          0            1  \n",
       "2         1          0            1  \n",
       "3         1          1            1  \n",
       "4         0          0            0  \n",
       "\n",
       "[5 rows x 448 columns]"
      ]
     },
     "execution_count": 23,
     "metadata": {},
     "output_type": "execute_result"
    }
   ],
   "source": [
    "df.head()"
   ]
  },
  {
   "cell_type": "code",
   "execution_count": 24,
   "metadata": {},
   "outputs": [],
   "source": [
    "#Identifying number of unique values in each columns\n",
    "k={}\n",
    "for i in df.columns:\n",
    "    k[i]=df[i].nunique()"
   ]
  },
  {
   "cell_type": "code",
   "execution_count": 25,
   "metadata": {},
   "outputs": [
    {
     "data": {
      "text/plain": [
       "RX_THER_01_YR2016\n",
       "0     81575\n",
       "1     12727\n",
       "2      3770\n",
       "3      1150\n",
       "4       410\n",
       "5       185\n",
       "6        79\n",
       "7        35\n",
       "8        25\n",
       "9        15\n",
       "10        9\n",
       "11        6\n",
       "12        4\n",
       "13        4\n",
       "14        1\n",
       "15        1\n",
       "16        2\n",
       "20        1\n",
       "22        1\n",
       "Name: ID, dtype: int64"
      ]
     },
     "execution_count": 25,
     "metadata": {},
     "output_type": "execute_result"
    }
   ],
   "source": [
    "df.groupby('RX_THER_01_YR2016').count()['ID']"
   ]
  },
  {
   "cell_type": "code",
   "execution_count": 26,
   "metadata": {},
   "outputs": [
    {
     "data": {
      "text/html": [
       "<div>\n",
       "<style scoped>\n",
       "    .dataframe tbody tr th:only-of-type {\n",
       "        vertical-align: middle;\n",
       "    }\n",
       "\n",
       "    .dataframe tbody tr th {\n",
       "        vertical-align: top;\n",
       "    }\n",
       "\n",
       "    .dataframe thead th {\n",
       "        text-align: right;\n",
       "    }\n",
       "</style>\n",
       "<table border=\"1\" class=\"dataframe\">\n",
       "  <thead>\n",
       "    <tr style=\"text-align: right;\">\n",
       "      <th></th>\n",
       "      <th>ID</th>\n",
       "      <th>AGE</th>\n",
       "      <th>SEX_CD</th>\n",
       "      <th>AMI_FLAG</th>\n",
       "      <th>ESRD_IND</th>\n",
       "      <th>HOSPICE_IND</th>\n",
       "      <th>RECON_MA_RISK_SCORE_NBR</th>\n",
       "      <th>RECON_RX_RISK_SCORE_NBR</th>\n",
       "      <th>PCP_ASSIGNMENT</th>\n",
       "      <th>DUAL</th>\n",
       "      <th>...</th>\n",
       "      <th>COL</th>\n",
       "      <th>COL_GAP</th>\n",
       "      <th>AMM</th>\n",
       "      <th>AMM_GAP</th>\n",
       "      <th>DIAB_PASS</th>\n",
       "      <th>ACE_PASS</th>\n",
       "      <th>STATIN_PASS</th>\n",
       "      <th>ACE_ELIG</th>\n",
       "      <th>DIAB_ELIG</th>\n",
       "      <th>STATIN_ELIG</th>\n",
       "    </tr>\n",
       "    <tr>\n",
       "      <th>ORIG_REAS_ENTITLE_CD</th>\n",
       "      <th></th>\n",
       "      <th></th>\n",
       "      <th></th>\n",
       "      <th></th>\n",
       "      <th></th>\n",
       "      <th></th>\n",
       "      <th></th>\n",
       "      <th></th>\n",
       "      <th></th>\n",
       "      <th></th>\n",
       "      <th></th>\n",
       "      <th></th>\n",
       "      <th></th>\n",
       "      <th></th>\n",
       "      <th></th>\n",
       "      <th></th>\n",
       "      <th></th>\n",
       "      <th></th>\n",
       "      <th></th>\n",
       "      <th></th>\n",
       "      <th></th>\n",
       "    </tr>\n",
       "  </thead>\n",
       "  <tbody>\n",
       "    <tr>\n",
       "      <th>0.0</th>\n",
       "      <td>71114</td>\n",
       "      <td>71114</td>\n",
       "      <td>71114</td>\n",
       "      <td>71114</td>\n",
       "      <td>71112</td>\n",
       "      <td>71112</td>\n",
       "      <td>71114</td>\n",
       "      <td>71114</td>\n",
       "      <td>71031</td>\n",
       "      <td>71114</td>\n",
       "      <td>...</td>\n",
       "      <td>71114</td>\n",
       "      <td>71114</td>\n",
       "      <td>71114</td>\n",
       "      <td>71114</td>\n",
       "      <td>71114</td>\n",
       "      <td>71114</td>\n",
       "      <td>71114</td>\n",
       "      <td>71114</td>\n",
       "      <td>71114</td>\n",
       "      <td>71114</td>\n",
       "    </tr>\n",
       "    <tr>\n",
       "      <th>1.0</th>\n",
       "      <td>28790</td>\n",
       "      <td>28790</td>\n",
       "      <td>28790</td>\n",
       "      <td>28790</td>\n",
       "      <td>28790</td>\n",
       "      <td>28790</td>\n",
       "      <td>28790</td>\n",
       "      <td>28790</td>\n",
       "      <td>28747</td>\n",
       "      <td>28790</td>\n",
       "      <td>...</td>\n",
       "      <td>28790</td>\n",
       "      <td>28790</td>\n",
       "      <td>28790</td>\n",
       "      <td>28790</td>\n",
       "      <td>28790</td>\n",
       "      <td>28790</td>\n",
       "      <td>28790</td>\n",
       "      <td>28790</td>\n",
       "      <td>28790</td>\n",
       "      <td>28790</td>\n",
       "    </tr>\n",
       "    <tr>\n",
       "      <th>2.0</th>\n",
       "      <td>60</td>\n",
       "      <td>60</td>\n",
       "      <td>60</td>\n",
       "      <td>60</td>\n",
       "      <td>60</td>\n",
       "      <td>60</td>\n",
       "      <td>60</td>\n",
       "      <td>60</td>\n",
       "      <td>59</td>\n",
       "      <td>60</td>\n",
       "      <td>...</td>\n",
       "      <td>60</td>\n",
       "      <td>60</td>\n",
       "      <td>60</td>\n",
       "      <td>60</td>\n",
       "      <td>60</td>\n",
       "      <td>60</td>\n",
       "      <td>60</td>\n",
       "      <td>60</td>\n",
       "      <td>60</td>\n",
       "      <td>60</td>\n",
       "    </tr>\n",
       "    <tr>\n",
       "      <th>3.0</th>\n",
       "      <td>6</td>\n",
       "      <td>6</td>\n",
       "      <td>6</td>\n",
       "      <td>6</td>\n",
       "      <td>6</td>\n",
       "      <td>6</td>\n",
       "      <td>6</td>\n",
       "      <td>6</td>\n",
       "      <td>6</td>\n",
       "      <td>6</td>\n",
       "      <td>...</td>\n",
       "      <td>6</td>\n",
       "      <td>6</td>\n",
       "      <td>6</td>\n",
       "      <td>6</td>\n",
       "      <td>6</td>\n",
       "      <td>6</td>\n",
       "      <td>6</td>\n",
       "      <td>6</td>\n",
       "      <td>6</td>\n",
       "      <td>6</td>\n",
       "    </tr>\n",
       "  </tbody>\n",
       "</table>\n",
       "<p>4 rows × 447 columns</p>\n",
       "</div>"
      ],
      "text/plain": [
       "                         ID    AGE  SEX_CD  AMI_FLAG  ESRD_IND  HOSPICE_IND  \\\n",
       "ORIG_REAS_ENTITLE_CD                                                          \n",
       "0.0                   71114  71114   71114     71114     71112        71112   \n",
       "1.0                   28790  28790   28790     28790     28790        28790   \n",
       "2.0                      60     60      60        60        60           60   \n",
       "3.0                       6      6       6         6         6            6   \n",
       "\n",
       "                      RECON_MA_RISK_SCORE_NBR  RECON_RX_RISK_SCORE_NBR  \\\n",
       "ORIG_REAS_ENTITLE_CD                                                     \n",
       "0.0                                     71114                    71114   \n",
       "1.0                                     28790                    28790   \n",
       "2.0                                        60                       60   \n",
       "3.0                                         6                        6   \n",
       "\n",
       "                      PCP_ASSIGNMENT   DUAL     ...         COL  COL_GAP  \\\n",
       "ORIG_REAS_ENTITLE_CD                            ...                        \n",
       "0.0                            71031  71114     ...       71114    71114   \n",
       "1.0                            28747  28790     ...       28790    28790   \n",
       "2.0                               59     60     ...          60       60   \n",
       "3.0                                6      6     ...           6        6   \n",
       "\n",
       "                        AMM  AMM_GAP  DIAB_PASS  ACE_PASS  STATIN_PASS  \\\n",
       "ORIG_REAS_ENTITLE_CD                                                     \n",
       "0.0                   71114    71114      71114     71114        71114   \n",
       "1.0                   28790    28790      28790     28790        28790   \n",
       "2.0                      60       60         60        60           60   \n",
       "3.0                       6        6          6         6            6   \n",
       "\n",
       "                      ACE_ELIG  DIAB_ELIG  STATIN_ELIG  \n",
       "ORIG_REAS_ENTITLE_CD                                    \n",
       "0.0                      71114      71114        71114  \n",
       "1.0                      28790      28790        28790  \n",
       "2.0                         60         60           60  \n",
       "3.0                          6          6            6  \n",
       "\n",
       "[4 rows x 447 columns]"
      ]
     },
     "execution_count": 26,
     "metadata": {},
     "output_type": "execute_result"
    }
   ],
   "source": [
    "df.groupby('ORIG_REAS_ENTITLE_CD').count()"
   ]
  },
  {
   "cell_type": "code",
   "execution_count": 27,
   "metadata": {},
   "outputs": [
    {
     "data": {
      "text/plain": [
       "Text(0.5,1,'Age dependency on heart attacks')"
      ]
     },
     "execution_count": 27,
     "metadata": {},
     "output_type": "execute_result"
    },
    {
     "data": {
      "image/png": "[encoded data removed]",
      "text/plain": [
       "<Figure size 1152x576 with 1 Axes>"
      ]
     },
     "metadata": {},
     "output_type": "display_data"
    }
   ],
   "source": [
    "#Age Vs Heart attacks relationships\n",
    "df[df['AMI_FLAG']==1].groupby('AGE').count()['ID'].plot(figsize=(16,8))\n",
    "plt.xlabel(\"Age of Customer\")\n",
    "plt.ylabel(\"Count of Customers facing heart attacks\")\n",
    "plt.title(\"Age dependency on heart attacks\")"
   ]
  },
  {
   "cell_type": "code",
   "execution_count": 28,
   "metadata": {},
   "outputs": [
    {
     "data": {
      "text/plain": [
       "(array([0, 1]), <a list of 2 Text xticklabel objects>)"
      ]
     },
     "execution_count": 28,
     "metadata": {},
     "output_type": "execute_result"
    },
    {
     "data": {
      "image/png": "[encoded data removed]",
      "text/plain": [
       "<Figure size 432x288 with 1 Axes>"
      ]
     },
     "metadata": {},
     "output_type": "display_data"
    }
   ],
   "source": [
    "df[df['AMI_FLAG']==1].groupby('DIABETES').count()['ID'].plot.bar()\n",
    "plt.ylabel(\"Count\")\n",
    "plt.title(\"Count of heart attacks for diabetic and non diabetic patients\")\n",
    "plt.xticks(rotation=0)"
   ]
  },
  {
   "cell_type": "code",
   "execution_count": null,
   "metadata": {},
   "outputs": [],
   "source": []
  },
  {
   "cell_type": "code",
   "execution_count": 29,
   "metadata": {},
   "outputs": [
    {
     "data": {
      "text/plain": [
       "(array([0, 1, 2, 3]), <a list of 4 Text xticklabel objects>)"
      ]
     },
     "execution_count": 29,
     "metadata": {},
     "output_type": "execute_result"
    },
    {
     "data": {
      "image/png": "[encoded data removed]",
      "text/plain": [
       "<Figure size 432x288 with 1 Axes>"
      ]
     },
     "metadata": {},
     "output_type": "display_data"
    }
   ],
   "source": [
    "df.groupby(['HYPERTENSION','SEX_CD']).count()['ID'].plot.bar()\n",
    "plt.xticks(rotation=0)"
   ]
  },
  {
   "cell_type": "code",
   "execution_count": 30,
   "metadata": {},
   "outputs": [
    {
     "data": {
      "text/plain": [
       "(array([0, 1, 2, 3]), <a list of 4 Text xticklabel objects>)"
      ]
     },
     "execution_count": 30,
     "metadata": {},
     "output_type": "execute_result"
    },
    {
     "data": {
      "image/png": "[encoded data removed]",
      "text/plain": [
       "<Figure size 432x288 with 1 Axes>"
      ]
     },
     "metadata": {},
     "output_type": "display_data"
    }
   ],
   "source": [
    "df[df['AMI_FLAG']==1].groupby(['HYPERTENSION','SEX_CD']).count()['ID'].plot.bar()\n",
    "plt.xticks(rotation=0)"
   ]
  },
  {
   "cell_type": "code",
   "execution_count": null,
   "metadata": {},
   "outputs": [],
   "source": []
  },
  {
   "cell_type": "code",
   "execution_count": 31,
   "metadata": {},
   "outputs": [
    {
     "data": {
      "text/html": [
       "<div>\n",
       "<style scoped>\n",
       "    .dataframe tbody tr th:only-of-type {\n",
       "        vertical-align: middle;\n",
       "    }\n",
       "\n",
       "    .dataframe tbody tr th {\n",
       "        vertical-align: top;\n",
       "    }\n",
       "\n",
       "    .dataframe thead th {\n",
       "        text-align: right;\n",
       "    }\n",
       "</style>\n",
       "<table border=\"1\" class=\"dataframe\">\n",
       "  <thead>\n",
       "    <tr style=\"text-align: right;\">\n",
       "      <th></th>\n",
       "      <th>RECON_MA_RISK_SCORE_NBR</th>\n",
       "      <th>RECON_RX_RISK_SCORE_NBR</th>\n",
       "    </tr>\n",
       "  </thead>\n",
       "  <tbody>\n",
       "    <tr>\n",
       "      <th>RECON_MA_RISK_SCORE_NBR</th>\n",
       "      <td>1.00000</td>\n",
       "      <td>0.52947</td>\n",
       "    </tr>\n",
       "    <tr>\n",
       "      <th>RECON_RX_RISK_SCORE_NBR</th>\n",
       "      <td>0.52947</td>\n",
       "      <td>1.00000</td>\n",
       "    </tr>\n",
       "  </tbody>\n",
       "</table>\n",
       "</div>"
      ],
      "text/plain": [
       "                         RECON_MA_RISK_SCORE_NBR  RECON_RX_RISK_SCORE_NBR\n",
       "RECON_MA_RISK_SCORE_NBR                  1.00000                  0.52947\n",
       "RECON_RX_RISK_SCORE_NBR                  0.52947                  1.00000"
      ]
     },
     "execution_count": 31,
     "metadata": {},
     "output_type": "execute_result"
    }
   ],
   "source": [
    "df[['RECON_MA_RISK_SCORE_NBR','RECON_RX_RISK_SCORE_NBR']].corr()"
   ]
  },
  {
   "cell_type": "code",
   "execution_count": 32,
   "metadata": {},
   "outputs": [
    {
     "data": {
      "text/html": [
       "<div>\n",
       "<style scoped>\n",
       "    .dataframe tbody tr th:only-of-type {\n",
       "        vertical-align: middle;\n",
       "    }\n",
       "\n",
       "    .dataframe tbody tr th {\n",
       "        vertical-align: top;\n",
       "    }\n",
       "\n",
       "    .dataframe thead th {\n",
       "        text-align: right;\n",
       "    }\n",
       "</style>\n",
       "<table border=\"1\" class=\"dataframe\">\n",
       "  <thead>\n",
       "    <tr style=\"text-align: right;\">\n",
       "      <th></th>\n",
       "      <th>CON_VISIT_01_Q01</th>\n",
       "      <th>CON_VISIT_01_Q02</th>\n",
       "      <th>CON_VISIT_01_Q03</th>\n",
       "      <th>CON_VISIT_01_Q04</th>\n",
       "    </tr>\n",
       "  </thead>\n",
       "  <tbody>\n",
       "    <tr>\n",
       "      <th>CON_VISIT_01_Q01</th>\n",
       "      <td>1.000000</td>\n",
       "      <td>0.249303</td>\n",
       "      <td>0.126962</td>\n",
       "      <td>0.113894</td>\n",
       "    </tr>\n",
       "    <tr>\n",
       "      <th>CON_VISIT_01_Q02</th>\n",
       "      <td>0.249303</td>\n",
       "      <td>1.000000</td>\n",
       "      <td>0.320167</td>\n",
       "      <td>0.143733</td>\n",
       "    </tr>\n",
       "    <tr>\n",
       "      <th>CON_VISIT_01_Q03</th>\n",
       "      <td>0.126962</td>\n",
       "      <td>0.320167</td>\n",
       "      <td>1.000000</td>\n",
       "      <td>0.264533</td>\n",
       "    </tr>\n",
       "    <tr>\n",
       "      <th>CON_VISIT_01_Q04</th>\n",
       "      <td>0.113894</td>\n",
       "      <td>0.143733</td>\n",
       "      <td>0.264533</td>\n",
       "      <td>1.000000</td>\n",
       "    </tr>\n",
       "  </tbody>\n",
       "</table>\n",
       "</div>"
      ],
      "text/plain": [
       "                  CON_VISIT_01_Q01  CON_VISIT_01_Q02  CON_VISIT_01_Q03  \\\n",
       "CON_VISIT_01_Q01          1.000000          0.249303          0.126962   \n",
       "CON_VISIT_01_Q02          0.249303          1.000000          0.320167   \n",
       "CON_VISIT_01_Q03          0.126962          0.320167          1.000000   \n",
       "CON_VISIT_01_Q04          0.113894          0.143733          0.264533   \n",
       "\n",
       "                  CON_VISIT_01_Q04  \n",
       "CON_VISIT_01_Q01          0.113894  \n",
       "CON_VISIT_01_Q02          0.143733  \n",
       "CON_VISIT_01_Q03          0.264533  \n",
       "CON_VISIT_01_Q04          1.000000  "
      ]
     },
     "execution_count": 32,
     "metadata": {},
     "output_type": "execute_result"
    }
   ],
   "source": [
    "df[['CON_VISIT_01_Q01','CON_VISIT_01_Q02','CON_VISIT_01_Q03','CON_VISIT_01_Q04']].corr()"
   ]
  },
  {
   "cell_type": "code",
   "execution_count": 33,
   "metadata": {},
   "outputs": [
    {
     "data": {
      "text/plain": [
       "Index(['ID', 'AGE', 'SEX_CD', 'AMI_FLAG', 'ESRD_IND', 'HOSPICE_IND',\n",
       "       'ORIG_REAS_ENTITLE_CD', 'RECON_MA_RISK_SCORE_NBR',\n",
       "       'RECON_RX_RISK_SCORE_NBR', 'PCP_ASSIGNMENT',\n",
       "       ...\n",
       "       'COL', 'COL_GAP', 'AMM', 'AMM_GAP', 'DIAB_PASS', 'ACE_PASS',\n",
       "       'STATIN_PASS', 'ACE_ELIG', 'DIAB_ELIG', 'STATIN_ELIG'],\n",
       "      dtype='object', length=448)"
      ]
     },
     "execution_count": 33,
     "metadata": {},
     "output_type": "execute_result"
    }
   ],
   "source": [
    "df.columns"
   ]
  },
  {
   "cell_type": "code",
   "execution_count": 34,
   "metadata": {},
   "outputs": [],
   "source": [
    "df['AMI_FLAG'].fillna(0,inplace=True)"
   ]
  },
  {
   "cell_type": "code",
   "execution_count": 35,
   "metadata": {},
   "outputs": [
    {
     "data": {
      "text/plain": [
       "<matplotlib.axes._subplots.AxesSubplot at 0x28e000c05f8>"
      ]
     },
     "execution_count": 35,
     "metadata": {},
     "output_type": "execute_result"
    },
    {
     "data": {
      "image/png": "[encoded data removed]",
      "text/plain": [
       "<Figure size 432x288 with 1 Axes>"
      ]
     },
     "metadata": {},
     "output_type": "display_data"
    }
   ],
   "source": [
    "df['AMI_FLAG'].hist(bins=50)"
   ]
  },
  {
   "cell_type": "code",
   "execution_count": 36,
   "metadata": {},
   "outputs": [],
   "source": [
    "df.dropna(axis=0,subset=['SEX_CD'],how='any',inplace=True)"
   ]
  },
  {
   "cell_type": "code",
   "execution_count": 37,
   "metadata": {},
   "outputs": [],
   "source": [
    "df.dropna(axis=0,subset=['ESRD_IND'],how='any',inplace=True)"
   ]
  },
  {
   "cell_type": "code",
   "execution_count": 38,
   "metadata": {},
   "outputs": [],
   "source": [
    "df.dropna(axis=0,subset=['HOSPICE_IND'],how='any',inplace=True)"
   ]
  },
  {
   "cell_type": "code",
   "execution_count": 39,
   "metadata": {},
   "outputs": [],
   "source": [
    "df.dropna(axis=0,subset=['ORIG_REAS_ENTITLE_CD'],how='any',inplace=True)"
   ]
  },
  {
   "cell_type": "code",
   "execution_count": 40,
   "metadata": {},
   "outputs": [],
   "source": [
    "df.dropna(axis=0,subset=['PCP_ASSIGNMENT'],how='any',inplace=True)"
   ]
  },
  {
   "cell_type": "code",
   "execution_count": 41,
   "metadata": {},
   "outputs": [],
   "source": [
    "df.dropna(axis=0,subset=['DUAL'],how='any',inplace=True)"
   ]
  },
  {
   "cell_type": "code",
   "execution_count": 42,
   "metadata": {},
   "outputs": [],
   "source": [
    "df.dropna(axis=0,subset=['INSTITUTIONAL'],how='any',inplace=True)"
   ]
  },
  {
   "cell_type": "code",
   "execution_count": 43,
   "metadata": {},
   "outputs": [],
   "source": [
    "df.dropna(axis=0,subset=['LIS'],how='any',inplace=True)"
   ]
  },
  {
   "cell_type": "code",
   "execution_count": 44,
   "metadata": {},
   "outputs": [],
   "source": [
    "df.dropna(axis=0,subset=['MCO_HLVL_PLAN_CD'],how='any',inplace=True)"
   ]
  },
  {
   "cell_type": "code",
   "execution_count": 45,
   "metadata": {},
   "outputs": [],
   "source": [
    "df.dropna(axis=0,subset=['MCO_PROD_TYPE_CD'],how='any',inplace=True)"
   ]
  },
  {
   "cell_type": "code",
   "execution_count": 46,
   "metadata": {},
   "outputs": [],
   "source": [
    "df.drop(axis=1,columns=['Diab_Type'],inplace=True)"
   ]
  },
  {
   "cell_type": "code",
   "execution_count": 47,
   "metadata": {},
   "outputs": [],
   "source": [
    "df.drop(axis=1,columns=['Dwelling_Type'],inplace=True)"
   ]
  },
  {
   "cell_type": "code",
   "execution_count": 48,
   "metadata": {},
   "outputs": [],
   "source": [
    "df.dropna(axis=0,subset=['Education_level'],how='any',inplace=True)"
   ]
  },
  {
   "cell_type": "code",
   "execution_count": 49,
   "metadata": {},
   "outputs": [],
   "source": [
    "df.dropna(axis=0,subset=['Length_residence'],how='any',inplace=True)"
   ]
  },
  {
   "cell_type": "code",
   "execution_count": 50,
   "metadata": {},
   "outputs": [],
   "source": [
    "df.dropna(axis=0,subset=['Est_BMI_decile'],how='any',inplace=True)"
   ]
  },
  {
   "cell_type": "code",
   "execution_count": 51,
   "metadata": {},
   "outputs": [],
   "source": [
    "df.dropna(axis=0,subset=['Num_person_household'],how='any',inplace=True)"
   ]
  },
  {
   "cell_type": "code",
   "execution_count": 52,
   "metadata": {},
   "outputs": [],
   "source": [
    "df.dropna(axis=0,subset=['College'],how='any',inplace=True)"
   ]
  },
  {
   "cell_type": "code",
   "execution_count": 53,
   "metadata": {},
   "outputs": [],
   "source": [
    "df.dropna(axis=0,subset=['Online_purchaser'],how='any',inplace=True)"
   ]
  },
  {
   "cell_type": "code",
   "execution_count": 54,
   "metadata": {},
   "outputs": [],
   "source": [
    "df.dropna(axis=0,subset=['Online_User'],how='any',inplace=True)\n"
   ]
  },
  {
   "cell_type": "code",
   "execution_count": 55,
   "metadata": {},
   "outputs": [],
   "source": [
    "df.dropna(axis=0,subset=['Pct_above_poverty_line'],how='any',inplace=True)\n"
   ]
  },
  {
   "cell_type": "code",
   "execution_count": 56,
   "metadata": {},
   "outputs": [],
   "source": [
    "df.dropna(axis=0,subset=['Pct_below_poverty_line'],how='any',inplace=True)"
   ]
  },
  {
   "cell_type": "code",
   "execution_count": 57,
   "metadata": {},
   "outputs": [],
   "source": [
    "df.dropna(axis=0,subset=['Decile_struggle_Med_lang'],how='any',inplace=True)"
   ]
  },
  {
   "cell_type": "code",
   "execution_count": 58,
   "metadata": {},
   "outputs": [],
   "source": [
    "df.dropna(axis=0,subset=['Home_value'],how='any',inplace=True)"
   ]
  },
  {
   "cell_type": "code",
   "execution_count": 59,
   "metadata": {},
   "outputs": [],
   "source": [
    "df.dropna(axis=0,subset=['Est_Net_worth'],how='any',inplace=True)"
   ]
  },
  {
   "cell_type": "code",
   "execution_count": 60,
   "metadata": {},
   "outputs": [],
   "source": [
    "df.dropna(axis=0,subset=['Est_income'],how='any',inplace=True)"
   ]
  },
  {
   "cell_type": "code",
   "execution_count": 61,
   "metadata": {},
   "outputs": [],
   "source": [
    "df.dropna(axis=0,subset=['Index_Health_ins_engage'],how='any',inplace=True)"
   ]
  },
  {
   "cell_type": "code",
   "execution_count": 62,
   "metadata": {},
   "outputs": [],
   "source": [
    "df.dropna(axis=0,subset=['Index_Health_ins_influence'],how='any',inplace=True)"
   ]
  },
  {
   "cell_type": "code",
   "execution_count": 63,
   "metadata": {},
   "outputs": [],
   "source": [
    "df.dropna(axis=0,subset=['Population_density_centile_ST'],how='any',inplace=True)"
   ]
  },
  {
   "cell_type": "code",
   "execution_count": 64,
   "metadata": {},
   "outputs": [],
   "source": [
    "df.dropna(axis=0,subset=['Population_density_centile_US'],how='any',inplace=True)"
   ]
  },
  {
   "cell_type": "code",
   "execution_count": 65,
   "metadata": {},
   "outputs": [],
   "source": [
    "l=df.columns[df.isna().any()].tolist()"
   ]
  },
  {
   "cell_type": "code",
   "execution_count": 66,
   "metadata": {},
   "outputs": [
    {
     "data": {
      "text/plain": [
       "[]"
      ]
     },
     "execution_count": 66,
     "metadata": {},
     "output_type": "execute_result"
    }
   ],
   "source": [
    "l"
   ]
  },
  {
   "cell_type": "code",
   "execution_count": 67,
   "metadata": {},
   "outputs": [],
   "source": [
    "#df.select_dtypes(include='object').columns"
   ]
  },
  {
   "cell_type": "code",
   "execution_count": 68,
   "metadata": {},
   "outputs": [],
   "source": [
    "#df=pd.get_dummies(df)"
   ]
  },
  {
   "cell_type": "code",
   "execution_count": 69,
   "metadata": {},
   "outputs": [
    {
     "data": {
      "text/plain": [
       "Index(['SEX_CD', 'ESRD_IND', 'HOSPICE_IND', 'PCP_ASSIGNMENT', 'DUAL',\n",
       "       'INSTITUTIONAL', 'LIS', 'MCO_HLVL_PLAN_CD', 'MCO_PROD_TYPE_CD'],\n",
       "      dtype='object')"
      ]
     },
     "execution_count": 69,
     "metadata": {},
     "output_type": "execute_result"
    }
   ],
   "source": [
    "df.select_dtypes(include='object').columns"
   ]
  },
  {
   "cell_type": "code",
   "execution_count": 70,
   "metadata": {},
   "outputs": [],
   "source": [
    "#Tranforming continuous columns \"CON_VISIT_0XXXX\" into categorical levels\n",
    "#for i in range(1,34):\n",
    "#    try:    \n",
    "#        if i<10:\n",
    "#            s='CON_VISIT_0' + str(i)+'_Q0'\n",
    "#            for j in range(1,5):\n",
    "#                col=s+str(j)\n",
    "#                #print(col)\n",
    "#                df.loc[df[col]>1,col]=2\n",
    "#                df[col]=df[col].astype('object')\n",
    "#        else:\n",
    "#            s='CON_VISIT_' + str(i)+'_Q0'\n",
    "#            for j in range(1,5):\n",
    "#                col=s+str(j)\n",
    "#                #print(col)\n",
    "#                df.loc[df[col]>1,col]=2\n",
    "#               df[col]=df[col].astype('object')\n",
    "#    except:\n",
    "#        continue\n"
   ]
  },
  {
   "cell_type": "code",
   "execution_count": 71,
   "metadata": {},
   "outputs": [],
   "source": [
    "#df['CON_VISIT_01']=df['CON_VISIT_01_Q01']+df['CON_VISIT_01_Q02']+df['CON_VISIT_01_Q03']+df['CON_VISIT_01_Q04']"
   ]
  },
  {
   "cell_type": "code",
   "execution_count": 72,
   "metadata": {},
   "outputs": [],
   "source": [
    "colnames=[]\n",
    "for i in range(1,34):\n",
    "    if i <10:\n",
    "        s='CON_VISIT_0' + str(i)\n",
    "        colnames.append(s)\n",
    "        df[s]=0\n",
    "        t=s+'_Q0'\n",
    "        for j in range(1,5):\n",
    "            try:\n",
    "                col1=t+str(j)\n",
    "                df[s]=df[s]+df[col1]\n",
    "                df.drop(axis=1,columns=col1,inplace=True)\n",
    "            except:\n",
    "                continue\n",
    "    else:\n",
    "        s='CON_VISIT_' + str(i)\n",
    "        colnames.append(s)\n",
    "        df[s]=0\n",
    "        t=s+'_Q0'\n",
    "        for j in range(1,5):\n",
    "            try:\n",
    "                col1=t+str(j)\n",
    "                df[s]=df[s]+df[col1]\n",
    "                df.drop(axis=1,columns=col1,inplace=True)\n",
    "            except:\n",
    "                continue"
   ]
  },
  {
   "cell_type": "code",
   "execution_count": 73,
   "metadata": {},
   "outputs": [],
   "source": [
    "df.drop(axis=1,columns='CON_VISIT_29',inplace=True)"
   ]
  },
  {
   "cell_type": "code",
   "execution_count": null,
   "metadata": {},
   "outputs": [],
   "source": []
  },
  {
   "cell_type": "code",
   "execution_count": 74,
   "metadata": {},
   "outputs": [],
   "source": [
    "colnames=[]\n",
    "for i in range(1,100):\n",
    "    if i <10:\n",
    "        s='POT_VISIT_0' + str(i)\n",
    "        colnames.append(s)\n",
    "        df[s]=0\n",
    "        t=s+'_Q0'\n",
    "        for j in range(1,5):\n",
    "            try:\n",
    "                col1=t+str(j)\n",
    "                df[s]=df[s]+df[col1]\n",
    "                df.drop(axis=1,columns=col1,inplace=True)\n",
    "            except:\n",
    "                continue\n",
    "    else:\n",
    "        s='POT_VISIT_' + str(i)\n",
    "        colnames.append(s)\n",
    "        df[s]=0\n",
    "        t=s+'_Q0'\n",
    "        for j in range(1,5):\n",
    "            try:\n",
    "                col1=t+str(j)\n",
    "                df[s]=df[s]+df[col1]\n",
    "                df.drop(axis=1,columns=col1,inplace=True)\n",
    "            except:\n",
    "                continue"
   ]
  },
  {
   "cell_type": "code",
   "execution_count": 75,
   "metadata": {},
   "outputs": [],
   "source": [
    "filter_col = [col for col in df if col.startswith('POT_VISIT')]\n",
    "for col in filter_col:\n",
    "    if df[col].nunique()==1:\n",
    "        df.drop(axis=1,columns=col,inplace=True)\n",
    "    else:\n",
    "        continue"
   ]
  },
  {
   "cell_type": "code",
   "execution_count": 76,
   "metadata": {},
   "outputs": [],
   "source": [
    "df['CV_CAD']=df['CV_CAD'].astype('object')"
   ]
  },
  {
   "cell_type": "code",
   "execution_count": 77,
   "metadata": {},
   "outputs": [],
   "source": [
    "df['CV_CER']=df['CV_CER'].astype('object')"
   ]
  },
  {
   "cell_type": "code",
   "execution_count": 78,
   "metadata": {},
   "outputs": [],
   "source": [
    "df['CV_CHF']=df['CV_CHF'].astype('object')"
   ]
  },
  {
   "cell_type": "code",
   "execution_count": 79,
   "metadata": {},
   "outputs": [],
   "source": [
    "df['CV_CIR']=df['CV_CIR'].astype('object')"
   ]
  },
  {
   "cell_type": "code",
   "execution_count": 80,
   "metadata": {},
   "outputs": [],
   "source": [
    "df['CV_HDZ']=df['CV_HDZ'].astype('object')"
   ]
  },
  {
   "cell_type": "code",
   "execution_count": 81,
   "metadata": {},
   "outputs": [],
   "source": [
    "df['CV_PVD']=df['CV_PVD'].astype('object')"
   ]
  },
  {
   "cell_type": "code",
   "execution_count": 82,
   "metadata": {},
   "outputs": [],
   "source": [
    "df['CV_SNS']=df['CV_SNS'].astype('object')"
   ]
  },
  {
   "cell_type": "code",
   "execution_count": 83,
   "metadata": {},
   "outputs": [
    {
     "data": {
      "text/plain": [
       "Index(['PREDIABETES', 'HYPERTENSION', 'HYPERLIPID', 'RENAL', 'CKD', 'ESRD',\n",
       "       'MUSCUL_OTH', 'MUSCUL_BN', 'OSTEO', 'ARTH', 'CDC', 'CDC_HBATEST_GAP',\n",
       "       'CDC_HBAPOOR_GAP', 'CDC_NPH_GAP', 'CDC_EYE_GAP', 'BCS', 'BCS_GAP',\n",
       "       'COL', 'COL_GAP', 'AMM', 'AMM_GAP', 'DIAB_PASS', 'ACE_PASS',\n",
       "       'STATIN_PASS', 'ACE_ELIG', 'DIAB_ELIG', 'STATIN_ELIG', 'CON_VISIT_01',\n",
       "       'CON_VISIT_02', 'CON_VISIT_03', 'CON_VISIT_04', 'CON_VISIT_05',\n",
       "       'CON_VISIT_06', 'CON_VISIT_07', 'CON_VISIT_08', 'CON_VISIT_09',\n",
       "       'CON_VISIT_10', 'CON_VISIT_11', 'CON_VISIT_12', 'CON_VISIT_13',\n",
       "       'CON_VISIT_14', 'CON_VISIT_15', 'CON_VISIT_16', 'CON_VISIT_17',\n",
       "       'CON_VISIT_18', 'CON_VISIT_19', 'CON_VISIT_20', 'CON_VISIT_21',\n",
       "       'CON_VISIT_22', 'CON_VISIT_23'],\n",
       "      dtype='object')"
      ]
     },
     "execution_count": 83,
     "metadata": {},
     "output_type": "execute_result"
    }
   ],
   "source": [
    "df.select_dtypes(include='int64').columns[100:150]"
   ]
  },
  {
   "cell_type": "code",
   "execution_count": 84,
   "metadata": {},
   "outputs": [],
   "source": [
    "df['RES_ALG']=df['RES_ALG'].astype('object')"
   ]
  },
  {
   "cell_type": "code",
   "execution_count": 85,
   "metadata": {},
   "outputs": [],
   "source": [
    "df['RES_AST']=df['RES_AST'].astype('object')"
   ]
  },
  {
   "cell_type": "code",
   "execution_count": 86,
   "metadata": {},
   "outputs": [],
   "source": [
    "df['RES_COPD']=df['RES_COPD'].astype('object')"
   ]
  },
  {
   "cell_type": "code",
   "execution_count": 87,
   "metadata": {},
   "outputs": [],
   "source": [
    "df['RES_FAIL']=df['RES_FAIL'].astype('object')"
   ]
  },
  {
   "cell_type": "code",
   "execution_count": 88,
   "metadata": {},
   "outputs": [],
   "source": [
    "df['RES_INF']=df['RES_INF'].astype('object')"
   ]
  },
  {
   "cell_type": "code",
   "execution_count": 89,
   "metadata": {},
   "outputs": [],
   "source": [
    "df['DIABETES']=df['DIABETES'].astype('object')"
   ]
  },
  {
   "cell_type": "code",
   "execution_count": 90,
   "metadata": {},
   "outputs": [],
   "source": [
    "df['Diab_Complications']=df['Diab_Complications'].astype('object')"
   ]
  },
  {
   "cell_type": "code",
   "execution_count": 91,
   "metadata": {},
   "outputs": [],
   "source": [
    "df['MUSCUL_BN']=df['MUSCUL_BN'].astype('object')"
   ]
  },
  {
   "cell_type": "code",
   "execution_count": 92,
   "metadata": {},
   "outputs": [],
   "source": [
    "df['MUSCUL_OTH']=df['MUSCUL_OTH'].astype('object')"
   ]
  },
  {
   "cell_type": "code",
   "execution_count": 93,
   "metadata": {},
   "outputs": [],
   "source": [
    "#df.select_dtypes(include='int64').columns[50:100]"
   ]
  },
  {
   "cell_type": "code",
   "execution_count": 94,
   "metadata": {},
   "outputs": [],
   "source": [
    "df['PREDIABETES']=df['PREDIABETES'].astype('object')"
   ]
  },
  {
   "cell_type": "code",
   "execution_count": 95,
   "metadata": {},
   "outputs": [],
   "source": [
    "df['HYPERTENSION']=df['HYPERTENSION'].astype('object')"
   ]
  },
  {
   "cell_type": "code",
   "execution_count": 96,
   "metadata": {},
   "outputs": [],
   "source": [
    "df['HYPERLIPID']=df['HYPERLIPID'].astype('object')"
   ]
  },
  {
   "cell_type": "code",
   "execution_count": 97,
   "metadata": {},
   "outputs": [],
   "source": [
    "df['RENAL']=df['RENAL'].astype('object')"
   ]
  },
  {
   "cell_type": "code",
   "execution_count": 98,
   "metadata": {},
   "outputs": [],
   "source": [
    "df['CKD']=df['CKD'].astype('object')"
   ]
  },
  {
   "cell_type": "code",
   "execution_count": 99,
   "metadata": {},
   "outputs": [],
   "source": [
    "df['OSTEO']=df['OSTEO'].astype('object')"
   ]
  },
  {
   "cell_type": "code",
   "execution_count": 100,
   "metadata": {},
   "outputs": [
    {
     "data": {
      "text/plain": [
       "Index(['RX_THER_54_YR2016', 'RX_THER_31_YR2016', 'RX_THER_83_YR2016',\n",
       "       'RX_THER_13_YR2016', 'RX_THER_35_YR2016', 'RX_THER_89_YR2016',\n",
       "       'RX_THER_78_YR2016', 'RX_THER_53_YR2016', 'RX_THER_77_YR2016',\n",
       "       'RX_THER_88_YR2016', 'RX_THER_23_YR2016', 'RX_THER_52_YR2016',\n",
       "       'RX_THER_73_YR2016', 'RX_THER_99_YR2016', 'RX_THER_82_YR2016',\n",
       "       'RX_THER_07_YR2016', 'RX_THER_93_YR2016', 'RX_THER_74_YR2016',\n",
       "       'RX_THER_55_YR2016', 'RX_THER_24_YR2016', 'RX_THER_67_YR2016',\n",
       "       'RX_THER_64_YR2016', 'RX_THER_87_YR2016', 'RX_THER_47_YR2016',\n",
       "       'RX_THER_38_YR2016', 'RX_THER_40_YR2016', 'RX_THER_09_YR2016',\n",
       "       'RX_THER_51_YR2016', 'RX_THER_26_YR2016', 'RX_THER_25_YR2016',\n",
       "       'RX_THER_81_YR2016', 'RX_THER_48_YR2016', 'RX_THER_95_YR2016',\n",
       "       'RX_THER_45_YR2016', 'RX_THER_76_YR2016', 'RX_THER_80_YR2016',\n",
       "       'RX_THER_15_YR2016', 'RX_THER_19_YR2016', 'RX_THER_96_YR2016',\n",
       "       'RX_THER_92_YR2016', 'RX_THER_98_YR2016', 'RX_THER_84_YR2016',\n",
       "       'RX_THER_08_YR2016', 'ESRD', 'ARTH', 'CDC', 'CDC_HBATEST_GAP',\n",
       "       'CDC_HBAPOOR_GAP', 'CDC_NPH_GAP', 'CDC_EYE_GAP'],\n",
       "      dtype='object')"
      ]
     },
     "execution_count": 100,
     "metadata": {},
     "output_type": "execute_result"
    }
   ],
   "source": [
    "df.select_dtypes(include='int64').columns[50:100]"
   ]
  },
  {
   "cell_type": "code",
   "execution_count": 101,
   "metadata": {},
   "outputs": [],
   "source": [
    "df['ESRD']=df['ESRD'].astype('object')\n",
    "df['ARTH']=df['ARTH'].astype('object')\n",
    "df['CDC']=df['CDC'].astype('object')\n",
    "df['CDC_EYE_GAP']=df['CDC_EYE_GAP'].astype('object')\n",
    "df['CDC_HBAPOOR_GAP']=df['CDC_HBAPOOR_GAP'].astype('object')\n",
    "df['CDC_HBATEST_GAP']=df['CDC_HBATEST_GAP'].astype('object')\n",
    "df['CDC_NPH_GAP']=df['CDC_NPH_GAP'].astype('object')"
   ]
  },
  {
   "cell_type": "code",
   "execution_count": 102,
   "metadata": {},
   "outputs": [],
   "source": [
    "df['BCS']=df['BCS'].astype('object')\n",
    "df['BCS_GAP']=df['BCS_GAP'].astype('object')\n",
    "df['COL']=df['COL'].astype('object')\n",
    "df['COL_GAP']=df['COL_GAP'].astype('object')\n",
    "df['AMM']=df['AMM'].astype('object')\n",
    "df['AMM_GAP']=df['AMM_GAP'].astype('object')\n",
    "df['DIAB_PASS']=df['DIAB_PASS'].astype('object')\n",
    "df['DIAB_ELIG']=df['DIAB_ELIG'].astype('object')\n"
   ]
  },
  {
   "cell_type": "code",
   "execution_count": 103,
   "metadata": {},
   "outputs": [],
   "source": [
    "df['ACE_PASS']=df['ACE_PASS'].astype('object')\n",
    "df['ACE_ELIG']=df['ACE_ELIG'].astype('object')\n",
    "df['STATIN_ELIG']=df['STATIN_ELIG'].astype('object')\n",
    "df['STATIN_PASS']=df['STATIN_PASS'].astype('object')\n"
   ]
  },
  {
   "cell_type": "code",
   "execution_count": 104,
   "metadata": {},
   "outputs": [
    {
     "data": {
      "text/plain": [
       "Index(['ID', 'AGE', 'AMI_FLAG', 'RX_THER_17_YR2016', 'RX_THER_36_YR2016',\n",
       "       'RX_THER_42_YR2016', 'RX_THER_44_YR2016', 'RX_THER_58_YR2016',\n",
       "       'RX_THER_65_YR2016', 'RX_THER_90_YR2016',\n",
       "       ...\n",
       "       'POT_VISIT_56', 'POT_VISIT_57', 'POT_VISIT_60', 'POT_VISIT_61',\n",
       "       'POT_VISIT_62', 'POT_VISIT_65', 'POT_VISIT_71', 'POT_VISIT_72',\n",
       "       'POT_VISIT_81', 'POT_VISIT_99'],\n",
       "      dtype='object', length=167)"
      ]
     },
     "execution_count": 104,
     "metadata": {},
     "output_type": "execute_result"
    }
   ],
   "source": [
    "df.select_dtypes(include='int64').columns"
   ]
  },
  {
   "cell_type": "code",
   "execution_count": 105,
   "metadata": {},
   "outputs": [],
   "source": [
    "#pd.get_dummies(df,columns=df.select_dtypes(include='object').columns)\n",
    "#df.dtypes"
   ]
  },
  {
   "cell_type": "code",
   "execution_count": 106,
   "metadata": {},
   "outputs": [],
   "source": [
    "df=pd.get_dummies(df)"
   ]
  },
  {
   "cell_type": "code",
   "execution_count": 107,
   "metadata": {},
   "outputs": [],
   "source": [
    "t=list(df.columns)\n",
    "tmp=df.columns[df.columns.get_loc('AMI_FLAG')]\n",
    "\n",
    "t.append(tmp)\n",
    "\n",
    "\n",
    "del t[df.columns.get_loc('AMI_FLAG')]\n",
    "\n",
    "df=df[t]"
   ]
  },
  {
   "cell_type": "code",
   "execution_count": null,
   "metadata": {},
   "outputs": [],
   "source": []
  },
  {
   "cell_type": "code",
   "execution_count": 108,
   "metadata": {},
   "outputs": [],
   "source": [
    "X=df.iloc[:,1:len(df.columns)-1]\n",
    "y=df.iloc[:,-1]"
   ]
  },
  {
   "cell_type": "code",
   "execution_count": 109,
   "metadata": {},
   "outputs": [
    {
     "data": {
      "text/plain": [
       "(74670, 288)"
      ]
     },
     "execution_count": 109,
     "metadata": {},
     "output_type": "execute_result"
    }
   ],
   "source": [
    "X.shape"
   ]
  },
  {
   "cell_type": "code",
   "execution_count": 110,
   "metadata": {},
   "outputs": [
    {
     "data": {
      "text/plain": [
       "(74670,)"
      ]
     },
     "execution_count": 110,
     "metadata": {},
     "output_type": "execute_result"
    }
   ],
   "source": [
    "y.shape"
   ]
  },
  {
   "cell_type": "code",
   "execution_count": 111,
   "metadata": {},
   "outputs": [
    {
     "data": {
      "text/plain": [
       "array([[14542,     1],\n",
       "       [  391,     0]], dtype=int64)"
      ]
     },
     "execution_count": 111,
     "metadata": {},
     "output_type": "execute_result"
    }
   ],
   "source": [
    "from sklearn.model_selection import train_test_split\n",
    "#X_train,X_test,y_train,y_test=train_test_split(X,y,test_size=0.2,random_state=42)\n",
    "\n",
    "from sklearn import preprocessing\n",
    "from sklearn.preprocessing import MinMaxScaler\n",
    "X_train,X_test,y_train,y_test=train_test_split(X,y,test_size=0.2,random_state=42)\n",
    "#scaler = MinMaxScaler()\n",
    "#X_train = scaler.fit_transform(X_train)\n",
    "#X_test = scaler.transform(X_test)\n",
    "X_train=preprocessing.scale(X_train)\n",
    "X_test=preprocessing.scale(X_test)\n",
    "from sklearn.ensemble import RandomForestClassifier\n",
    "rf=RandomForestClassifier(random_state=42,n_estimators=25)\n",
    "\n",
    "rf.fit(X_train,y_train)\n",
    "\n",
    "predictions=rf.predict(X_test)\n",
    "\n",
    "from sklearn.metrics import confusion_matrix\n",
    "confusion_matrix(y_test,predictions)"
   ]
  },
  {
   "cell_type": "code",
   "execution_count": 112,
   "metadata": {},
   "outputs": [],
   "source": [
    "from sklearn.linear_model import LogisticRegression"
   ]
  },
  {
   "cell_type": "code",
   "execution_count": 113,
   "metadata": {},
   "outputs": [],
   "source": [
    "lr=LogisticRegression()"
   ]
  },
  {
   "cell_type": "code",
   "execution_count": 114,
   "metadata": {},
   "outputs": [
    {
     "data": {
      "text/plain": [
       "LogisticRegression(C=1.0, class_weight=None, dual=False, fit_intercept=True,\n",
       "          intercept_scaling=1, max_iter=100, multi_class='ovr', n_jobs=1,\n",
       "          penalty='l2', random_state=None, solver='liblinear', tol=0.0001,\n",
       "          verbose=0, warm_start=False)"
      ]
     },
     "execution_count": 114,
     "metadata": {},
     "output_type": "execute_result"
    }
   ],
   "source": [
    "lr.fit(X_train,y_train)"
   ]
  },
  {
   "cell_type": "code",
   "execution_count": 115,
   "metadata": {},
   "outputs": [],
   "source": [
    "predictions=lr.predict(X_test)"
   ]
  },
  {
   "cell_type": "code",
   "execution_count": 116,
   "metadata": {},
   "outputs": [
    {
     "data": {
      "text/plain": [
       "array([[14537,     6],\n",
       "       [  391,     0]], dtype=int64)"
      ]
     },
     "execution_count": 116,
     "metadata": {},
     "output_type": "execute_result"
    }
   ],
   "source": [
    "confusion_matrix(y_test,predictions)"
   ]
  },
  {
   "cell_type": "code",
   "execution_count": 117,
   "metadata": {},
   "outputs": [
    {
     "data": {
      "text/plain": [
       "0    14543\n",
       "1      391\n",
       "Name: AMI_FLAG, dtype: int64"
      ]
     },
     "execution_count": 117,
     "metadata": {},
     "output_type": "execute_result"
    }
   ],
   "source": [
    "y_test.value_counts()"
   ]
  },
  {
   "cell_type": "code",
   "execution_count": 118,
   "metadata": {},
   "outputs": [],
   "source": [
    "from sklearn import tree"
   ]
  },
  {
   "cell_type": "code",
   "execution_count": 119,
   "metadata": {},
   "outputs": [],
   "source": [
    "clf_tree=tree.DecisionTreeClassifier(random_state=42)"
   ]
  },
  {
   "cell_type": "code",
   "execution_count": 120,
   "metadata": {},
   "outputs": [
    {
     "data": {
      "text/plain": [
       "DecisionTreeClassifier(class_weight=None, criterion='gini', max_depth=None,\n",
       "            max_features=None, max_leaf_nodes=None,\n",
       "            min_impurity_decrease=0.0, min_impurity_split=None,\n",
       "            min_samples_leaf=1, min_samples_split=2,\n",
       "            min_weight_fraction_leaf=0.0, presort=False, random_state=42,\n",
       "            splitter='best')"
      ]
     },
     "execution_count": 120,
     "metadata": {},
     "output_type": "execute_result"
    }
   ],
   "source": [
    "clf_tree.fit(X_train,y_train)"
   ]
  },
  {
   "cell_type": "code",
   "execution_count": 121,
   "metadata": {},
   "outputs": [],
   "source": [
    "predictions=clf_tree.predict(X_test)"
   ]
  },
  {
   "cell_type": "code",
   "execution_count": 122,
   "metadata": {},
   "outputs": [
    {
     "data": {
      "text/plain": [
       "array([[14063,   480],\n",
       "       [  365,    26]], dtype=int64)"
      ]
     },
     "execution_count": 122,
     "metadata": {},
     "output_type": "execute_result"
    }
   ],
   "source": [
    "confusion_matrix(y_test,predictions)"
   ]
  },
  {
   "cell_type": "code",
   "execution_count": 123,
   "metadata": {},
   "outputs": [],
   "source": [
    "from sklearn.ensemble import GradientBoostingClassifier"
   ]
  },
  {
   "cell_type": "code",
   "execution_count": 124,
   "metadata": {},
   "outputs": [],
   "source": [
    "gb=GradientBoostingClassifier()"
   ]
  },
  {
   "cell_type": "code",
   "execution_count": 125,
   "metadata": {},
   "outputs": [
    {
     "data": {
      "text/plain": [
       "GradientBoostingClassifier(criterion='friedman_mse', init=None,\n",
       "              learning_rate=0.1, loss='deviance', max_depth=3,\n",
       "              max_features=None, max_leaf_nodes=None,\n",
       "              min_impurity_decrease=0.0, min_impurity_split=None,\n",
       "              min_samples_leaf=1, min_samples_split=2,\n",
       "              min_weight_fraction_leaf=0.0, n_estimators=100,\n",
       "              presort='auto', random_state=None, subsample=1.0, verbose=0,\n",
       "              warm_start=False)"
      ]
     },
     "execution_count": 125,
     "metadata": {},
     "output_type": "execute_result"
    }
   ],
   "source": [
    "gb.fit(X_train,y_train)"
   ]
  },
  {
   "cell_type": "code",
   "execution_count": 126,
   "metadata": {},
   "outputs": [],
   "source": [
    "predictions=gb.predict(X_test)"
   ]
  },
  {
   "cell_type": "code",
   "execution_count": 127,
   "metadata": {},
   "outputs": [
    {
     "data": {
      "text/plain": [
       "array([[14531,    12],\n",
       "       [  390,     1]], dtype=int64)"
      ]
     },
     "execution_count": 127,
     "metadata": {},
     "output_type": "execute_result"
    }
   ],
   "source": [
    "confusion_matrix(y_test,predictions)"
   ]
  },
  {
   "cell_type": "code",
   "execution_count": 128,
   "metadata": {},
   "outputs": [
    {
     "data": {
      "text/html": [
       "<div>\n",
       "<style scoped>\n",
       "    .dataframe tbody tr th:only-of-type {\n",
       "        vertical-align: middle;\n",
       "    }\n",
       "\n",
       "    .dataframe tbody tr th {\n",
       "        vertical-align: top;\n",
       "    }\n",
       "\n",
       "    .dataframe thead th {\n",
       "        text-align: right;\n",
       "    }\n",
       "</style>\n",
       "<table border=\"1\" class=\"dataframe\">\n",
       "  <thead>\n",
       "    <tr style=\"text-align: right;\">\n",
       "      <th></th>\n",
       "      <th>RECON_MA_RISK_SCORE_NBR</th>\n",
       "      <th>RECON_RX_RISK_SCORE_NBR</th>\n",
       "    </tr>\n",
       "  </thead>\n",
       "  <tbody>\n",
       "    <tr>\n",
       "      <th>RECON_MA_RISK_SCORE_NBR</th>\n",
       "      <td>1.000000</td>\n",
       "      <td>0.534363</td>\n",
       "    </tr>\n",
       "    <tr>\n",
       "      <th>RECON_RX_RISK_SCORE_NBR</th>\n",
       "      <td>0.534363</td>\n",
       "      <td>1.000000</td>\n",
       "    </tr>\n",
       "  </tbody>\n",
       "</table>\n",
       "</div>"
      ],
      "text/plain": [
       "                         RECON_MA_RISK_SCORE_NBR  RECON_RX_RISK_SCORE_NBR\n",
       "RECON_MA_RISK_SCORE_NBR                 1.000000                 0.534363\n",
       "RECON_RX_RISK_SCORE_NBR                 0.534363                 1.000000"
      ]
     },
     "execution_count": 128,
     "metadata": {},
     "output_type": "execute_result"
    }
   ],
   "source": [
    "df[['RECON_MA_RISK_SCORE_NBR','RECON_RX_RISK_SCORE_NBR']].corr()"
   ]
  },
  {
   "cell_type": "code",
   "execution_count": 129,
   "metadata": {},
   "outputs": [
    {
     "data": {
      "image/png": "[encoded data removed]",
      "text/plain": [
       "<Figure size 432x288 with 1 Axes>"
      ]
     },
     "metadata": {},
     "output_type": "display_data"
    }
   ],
   "source": [
    "feature_importance=rf.feature_importances_\n",
    "\n",
    "feature_importance = 100.0 * (feature_importance / feature_importance.max())\n",
    "\n",
    "sorted_idx = np.argsort(feature_importance)\n",
    "\n",
    "pos = np.arange(sorted_idx.shape[0]) + .5\n",
    "plt.subplot(1, 2, 2)\n",
    "plt.barh(pos, feature_importance[sorted_idx], align='center')\n",
    "#plt.yticks(pos, np.array(train_x.columns))\n",
    "plt.xlabel('Relative Importance')\n",
    "plt.title('Variable Importance')\n",
    "plt.show()"
   ]
  },
  {
   "cell_type": "code",
   "execution_count": 130,
   "metadata": {},
   "outputs": [],
   "source": [
    "#X.iloc[:,sorted_idx[0:200]].columns"
   ]
  },
  {
   "cell_type": "code",
   "execution_count": null,
   "metadata": {},
   "outputs": [],
   "source": []
  },
  {
   "cell_type": "code",
   "execution_count": 131,
   "metadata": {},
   "outputs": [],
   "source": [
    "#X=X.iloc[:,sorted_idx[0:300]]"
   ]
  },
  {
   "cell_type": "code",
   "execution_count": 132,
   "metadata": {},
   "outputs": [],
   "source": [
    "#X_train,X_test,y_train,y_test=train_test_split(X,y,test_size=0.2,random_state=42)"
   ]
  },
  {
   "cell_type": "code",
   "execution_count": 133,
   "metadata": {},
   "outputs": [],
   "source": [
    "sns.set(color_codes=True)\n"
   ]
  },
  {
   "cell_type": "code",
   "execution_count": 134,
   "metadata": {},
   "outputs": [
    {
     "name": "stderr",
     "output_type": "stream",
     "text": [
      "C:\\Users\\gandh\\Anaconda3\\lib\\site-packages\\matplotlib\\axes\\_axes.py:6462: UserWarning: The 'normed' kwarg is deprecated, and has been replaced by the 'density' kwarg.\n",
      "  warnings.warn(\"The 'normed' kwarg is deprecated, and has been \"\n"
     ]
    },
    {
     "data": {
      "text/plain": [
       "<matplotlib.axes._subplots.AxesSubplot at 0x28e0eb40fd0>"
      ]
     },
     "execution_count": 134,
     "metadata": {},
     "output_type": "execute_result"
    },
    {
     "data": {
      "image/png": "[encoded data removed]",
      "text/plain": [
       "<Figure size 432x288 with 1 Axes>"
      ]
     },
     "metadata": {},
     "output_type": "display_data"
    }
   ],
   "source": [
    "sns.distplot(X['AGE'])"
   ]
  },
  {
   "cell_type": "code",
   "execution_count": 135,
   "metadata": {},
   "outputs": [],
   "source": [
    "X['RECON_MA_RISK_SCORE_NBR']=X['RECON_MA_RISK_SCORE_NBR']+np.mean(X['RECON_MA_RISK_SCORE_NBR'])"
   ]
  },
  {
   "cell_type": "code",
   "execution_count": 136,
   "metadata": {},
   "outputs": [
    {
     "name": "stderr",
     "output_type": "stream",
     "text": [
      "C:\\Users\\gandh\\Anaconda3\\lib\\site-packages\\matplotlib\\axes\\_axes.py:6462: UserWarning: The 'normed' kwarg is deprecated, and has been replaced by the 'density' kwarg.\n",
      "  warnings.warn(\"The 'normed' kwarg is deprecated, and has been \"\n"
     ]
    },
    {
     "data": {
      "text/plain": [
       "<matplotlib.axes._subplots.AxesSubplot at 0x28e0ef56780>"
      ]
     },
     "execution_count": 136,
     "metadata": {},
     "output_type": "execute_result"
    },
    {
     "data": {
      "image/png": "[encoded data removed]",
      "text/plain": [
       "<Figure size 432x288 with 1 Axes>"
      ]
     },
     "metadata": {},
     "output_type": "display_data"
    }
   ],
   "source": [
    "sns.distplot(np.sqrt(np.log(X['RECON_MA_RISK_SCORE_NBR'])))"
   ]
  },
  {
   "cell_type": "code",
   "execution_count": 137,
   "metadata": {},
   "outputs": [
    {
     "data": {
      "text/plain": [
       "Index(['AGE', 'ORIG_REAS_ENTITLE_CD', 'RECON_MA_RISK_SCORE_NBR',\n",
       "       'RECON_RX_RISK_SCORE_NBR', 'RX_THER_17_YR2016', 'RX_THER_36_YR2016',\n",
       "       'RX_THER_42_YR2016', 'RX_THER_44_YR2016', 'RX_THER_58_YR2016',\n",
       "       'RX_THER_65_YR2016',\n",
       "       ...\n",
       "       'ACE_PASS_0', 'ACE_PASS_1', 'STATIN_PASS_0', 'STATIN_PASS_1',\n",
       "       'ACE_ELIG_0', 'ACE_ELIG_1', 'DIAB_ELIG_0', 'DIAB_ELIG_1',\n",
       "       'STATIN_ELIG_0', 'STATIN_ELIG_1'],\n",
       "      dtype='object', length=288)"
      ]
     },
     "execution_count": 137,
     "metadata": {},
     "output_type": "execute_result"
    }
   ],
   "source": [
    "X.columns"
   ]
  },
  {
   "cell_type": "code",
   "execution_count": 138,
   "metadata": {},
   "outputs": [
    {
     "name": "stderr",
     "output_type": "stream",
     "text": [
      "C:\\Users\\gandh\\Anaconda3\\lib\\site-packages\\matplotlib\\axes\\_axes.py:6462: UserWarning: The 'normed' kwarg is deprecated, and has been replaced by the 'density' kwarg.\n",
      "  warnings.warn(\"The 'normed' kwarg is deprecated, and has been \"\n"
     ]
    },
    {
     "data": {
      "text/plain": [
       "<matplotlib.axes._subplots.AxesSubplot at 0x28e0f0258d0>"
      ]
     },
     "execution_count": 138,
     "metadata": {},
     "output_type": "execute_result"
    },
    {
     "data": {
      "image/png": "[encoded data removed]",
      "text/plain": [
       "<Figure size 432x288 with 1 Axes>"
      ]
     },
     "metadata": {},
     "output_type": "display_data"
    }
   ],
   "source": [
    "sns.distplot(np.sqrt(np.log(df['RECON_RX_RISK_SCORE_NBR']+np.nanmean(df['RECON_RX_RISK_SCORE_NBR']))))"
   ]
  },
  {
   "cell_type": "code",
   "execution_count": 139,
   "metadata": {},
   "outputs": [
    {
     "name": "stderr",
     "output_type": "stream",
     "text": [
      "C:\\Users\\gandh\\Anaconda3\\lib\\site-packages\\matplotlib\\axes\\_axes.py:6462: UserWarning: The 'normed' kwarg is deprecated, and has been replaced by the 'density' kwarg.\n",
      "  warnings.warn(\"The 'normed' kwarg is deprecated, and has been \"\n"
     ]
    },
    {
     "data": {
      "text/plain": [
       "<matplotlib.axes._subplots.AxesSubplot at 0x28e0f104be0>"
      ]
     },
     "execution_count": 139,
     "metadata": {},
     "output_type": "execute_result"
    },
    {
     "data": {
      "image/png": "[encoded data removed]",
      "text/plain": [
       "<Figure size 432x288 with 1 Axes>"
      ]
     },
     "metadata": {},
     "output_type": "display_data"
    }
   ],
   "source": [
    "sns.distplot(np.log(np.log(df['RECON_MA_RISK_SCORE_NBR']+np.nanmean(df['RECON_MA_RISK_SCORE_NBR']))))"
   ]
  },
  {
   "cell_type": "code",
   "execution_count": null,
   "metadata": {},
   "outputs": [],
   "source": []
  },
  {
   "cell_type": "code",
   "execution_count": 140,
   "metadata": {},
   "outputs": [
    {
     "name": "stderr",
     "output_type": "stream",
     "text": [
      "C:\\Users\\gandh\\Anaconda3\\lib\\site-packages\\matplotlib\\axes\\_axes.py:6462: UserWarning: The 'normed' kwarg is deprecated, and has been replaced by the 'density' kwarg.\n",
      "  warnings.warn(\"The 'normed' kwarg is deprecated, and has been \"\n"
     ]
    },
    {
     "data": {
      "text/plain": [
       "<matplotlib.axes._subplots.AxesSubplot at 0x28e0ebe78d0>"
      ]
     },
     "execution_count": 140,
     "metadata": {},
     "output_type": "execute_result"
    },
    {
     "data": {
      "image/png": "[encoded data removed]",
      "text/plain": [
       "<Figure size 432x288 with 1 Axes>"
      ]
     },
     "metadata": {},
     "output_type": "display_data"
    }
   ],
   "source": [
    "sns.distplot(np.sqrt(df['RX_THER_01_YR2016']))"
   ]
  },
  {
   "cell_type": "code",
   "execution_count": null,
   "metadata": {},
   "outputs": [],
   "source": []
  },
  {
   "cell_type": "code",
   "execution_count": null,
   "metadata": {},
   "outputs": [],
   "source": []
  },
  {
   "cell_type": "code",
   "execution_count": null,
   "metadata": {},
   "outputs": [],
   "source": []
  },
  {
   "cell_type": "code",
   "execution_count": null,
   "metadata": {},
   "outputs": [],
   "source": []
  },
  {
   "cell_type": "code",
   "execution_count": 141,
   "metadata": {},
   "outputs": [],
   "source": [
    "#X=df.iloc[:,1:len(df.columns)-1]\n",
    "#y=df.iloc[:,-1]"
   ]
  },
  {
   "cell_type": "code",
   "execution_count": 142,
   "metadata": {},
   "outputs": [
    {
     "data": {
      "text/plain": [
       "array([[14044,   499],\n",
       "       [  362,    29]], dtype=int64)"
      ]
     },
     "execution_count": 142,
     "metadata": {},
     "output_type": "execute_result"
    }
   ],
   "source": [
    "#X_train,X_test,y_train,y_test=train_test_split(X,y,test_size=0.2,random_state=42)\n",
    "clf_tree=tree.DecisionTreeClassifier()\n",
    "\n",
    "clf_tree.fit(X_train,y_train)\n",
    "\n",
    "predictions=clf_tree.predict(X_test)\n",
    "\n",
    "confusion_matrix(y_test,predictions)"
   ]
  },
  {
   "cell_type": "code",
   "execution_count": 143,
   "metadata": {},
   "outputs": [],
   "source": [
    "from sklearn.metrics import precision_score,recall_score"
   ]
  },
  {
   "cell_type": "code",
   "execution_count": 144,
   "metadata": {},
   "outputs": [
    {
     "data": {
      "text/plain": [
       "0.054924242424242424"
      ]
     },
     "execution_count": 144,
     "metadata": {},
     "output_type": "execute_result"
    }
   ],
   "source": [
    "precision_score(y_test,predictions)"
   ]
  },
  {
   "cell_type": "code",
   "execution_count": 145,
   "metadata": {},
   "outputs": [
    {
     "data": {
      "text/plain": [
       "0.0741687979539642"
      ]
     },
     "execution_count": 145,
     "metadata": {},
     "output_type": "execute_result"
    }
   ],
   "source": [
    "recall_score(y_test,predictions)"
   ]
  },
  {
   "cell_type": "code",
   "execution_count": 180,
   "metadata": {},
   "outputs": [],
   "source": [
    "from sklearn.naive_bayes import GaussianNB\n",
    "gnb = GaussianNB()\n",
    "gnb.fit(X_train, y_train)\n",
    "predictions=gnb.predict(X_test)"
   ]
  },
  {
   "cell_type": "code",
   "execution_count": 181,
   "metadata": {},
   "outputs": [
    {
     "data": {
      "text/plain": [
       "array([[14542,     1],\n",
       "       [  391,     0]], dtype=int64)"
      ]
     },
     "execution_count": 181,
     "metadata": {},
     "output_type": "execute_result"
    }
   ],
   "source": [
    "confusion_matrix(y_test,predictions)"
   ]
  },
  {
   "cell_type": "code",
   "execution_count": 182,
   "metadata": {},
   "outputs": [
    {
     "data": {
      "text/plain": [
       "0.0"
      ]
     },
     "execution_count": 182,
     "metadata": {},
     "output_type": "execute_result"
    }
   ],
   "source": [
    "precision_score(y_test,predictions)"
   ]
  },
  {
   "cell_type": "code",
   "execution_count": 183,
   "metadata": {},
   "outputs": [
    {
     "data": {
      "text/plain": [
       "0.0"
      ]
     },
     "execution_count": 183,
     "metadata": {},
     "output_type": "execute_result"
    }
   ],
   "source": [
    "recall_score(y_test,predictions)"
   ]
  },
  {
   "cell_type": "code",
   "execution_count": 152,
   "metadata": {},
   "outputs": [],
   "source": [
    "from sklearn.metrics import roc_auc_score"
   ]
  },
  {
   "cell_type": "code",
   "execution_count": null,
   "metadata": {},
   "outputs": [],
   "source": []
  },
  {
   "cell_type": "code",
   "execution_count": 153,
   "metadata": {},
   "outputs": [
    {
     "name": "stderr",
     "output_type": "stream",
     "text": [
      "C:\\Users\\gandh\\Anaconda3\\lib\\site-packages\\sklearn\\discriminant_analysis.py:388: UserWarning: Variables are collinear.\n",
      "  warnings.warn(\"Variables are collinear.\")\n"
     ]
    },
    {
     "data": {
      "text/plain": [
       "LinearDiscriminantAnalysis(n_components=None, priors=None, shrinkage=None,\n",
       "              solver='svd', store_covariance=False, tol=0.0001)"
      ]
     },
     "execution_count": 153,
     "metadata": {},
     "output_type": "execute_result"
    }
   ],
   "source": [
    "from sklearn.discriminant_analysis import LinearDiscriminantAnalysis\n",
    "lda = LinearDiscriminantAnalysis()\n",
    "lda.fit(X_train, y_train)"
   ]
  },
  {
   "cell_type": "code",
   "execution_count": 154,
   "metadata": {},
   "outputs": [],
   "source": [
    "predictions=lda.predict(X_test)"
   ]
  },
  {
   "cell_type": "code",
   "execution_count": 155,
   "metadata": {},
   "outputs": [
    {
     "data": {
      "text/plain": [
       "array([[14453,    90],\n",
       "       [  380,    11]], dtype=int64)"
      ]
     },
     "execution_count": 155,
     "metadata": {},
     "output_type": "execute_result"
    }
   ],
   "source": [
    "confusion_matrix(y_test,predictions)"
   ]
  },
  {
   "cell_type": "code",
   "execution_count": 156,
   "metadata": {},
   "outputs": [
    {
     "data": {
      "text/plain": [
       "0.10891089108910891"
      ]
     },
     "execution_count": 156,
     "metadata": {},
     "output_type": "execute_result"
    }
   ],
   "source": [
    "precision_score(y_test,predictions)"
   ]
  },
  {
   "cell_type": "code",
   "execution_count": 163,
   "metadata": {},
   "outputs": [
    {
     "data": {
      "text/plain": [
       "Index(['ID', 'AGE', 'RX_THER_17_YR2016', 'RX_THER_36_YR2016',\n",
       "       'RX_THER_42_YR2016', 'RX_THER_44_YR2016', 'RX_THER_58_YR2016',\n",
       "       'RX_THER_65_YR2016', 'RX_THER_90_YR2016', 'RX_THER_01_YR2016',\n",
       "       ...\n",
       "       'POT_VISIT_57', 'POT_VISIT_60', 'POT_VISIT_61', 'POT_VISIT_62',\n",
       "       'POT_VISIT_65', 'POT_VISIT_71', 'POT_VISIT_72', 'POT_VISIT_81',\n",
       "       'POT_VISIT_99', 'AMI_FLAG'],\n",
       "      dtype='object', length=167)"
      ]
     },
     "execution_count": 163,
     "metadata": {},
     "output_type": "execute_result"
    }
   ],
   "source": [
    "df.select_dtypes(include='int64').columns"
   ]
  },
  {
   "cell_type": "code",
   "execution_count": 391,
   "metadata": {},
   "outputs": [],
   "source": [
    "#Work on Gaussian Naive bayes and Linear Discriminant analysis to improve precision and recall score"
   ]
  },
  {
   "cell_type": "code",
   "execution_count": null,
   "metadata": {},
   "outputs": [],
   "source": []
  },
  {
   "cell_type": "code",
   "execution_count": null,
   "metadata": {},
   "outputs": [],
   "source": []
  }
 ],
 "metadata": {
  "kernelspec": {
   "display_name": "Python 3",
   "language": "python",
   "name": "python3"
  },
  "language_info": {
   "codemirror_mode": {
    "name": "ipython",
    "version": 3
   },
   "file_extension": ".py",
   "mimetype": "text/x-python",
   "name": "python",
   "nbconvert_exporter": "python",
   "pygments_lexer": "ipython3",
   "version": "3.6.5"
  }
 },
 "nbformat": 4,
 "nbformat_minor": 2
}
